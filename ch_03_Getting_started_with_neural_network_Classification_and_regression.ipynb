{
  "nbformat": 4,
  "nbformat_minor": 0,
  "metadata": {
    "colab": {
      "provenance": [],
      "authorship_tag": "ABX9TyM8E2mQtDhP/5S+rkuU7Uzk",
      "include_colab_link": true
    },
    "kernelspec": {
      "name": "python3",
      "display_name": "Python 3"
    },
    "language_info": {
      "name": "python"
    },
    "gpuClass": "standard"
  },
  "cells": [
    {
      "cell_type": "markdown",
      "metadata": {
        "id": "view-in-github",
        "colab_type": "text"
      },
      "source": [
        "<a href=\"https://colab.research.google.com/github/radhika3131/Deep_Learning_with_Python/blob/main/ch_03_Getting_started_with_neural_network_Classification_and_regression.ipynb\" target=\"_parent\"><img src=\"https://colab.research.google.com/assets/colab-badge.svg\" alt=\"Open In Colab\"/></a>"
      ]
    },
    {
      "cell_type": "markdown",
      "source": [
        "# Classification and Regression glossary\n",
        "\n",
        "classification and regression involves mnay specialized terms .\n",
        "\n",
        "1. Sample or input- one data point that goes into your model\n",
        "2. Prediction or output - what comes out of you model .\n",
        "3. Target - The truth. what your model should ideally have predicted , according to an external source of data.\n",
        "4. classes - A set of possible labels to chose from in a classification problem .For example , when  classifying cat and dog pictures , \"dog\" and \"cat\" are the two classes.\n",
        "5. Label - A specific instance of class annotation in aclassification problem . For instance , if picture # 1234 is annotated as containing the class \"dog\" the \"dog\" is label of picture #1234\n",
        "6. Griund-Truth or annotations - All targets for a dataset, typically collected by humans.\n",
        "7. Binary Classification - A classification task where each input sample should be categorized into two exclusive categories.\n",
        "8. Multilabel Classification - A classification task where each input samples can be asssigned multiple labels , For instance , a given image may contain both a cat and dog and should be annnotated both with the \"cat\" label and the \"dog\" label .**The number of labels per image is usually varible**.\n",
        "9. Multiclass classification - A classification task where each input sample should be categorized into more than two categories:for instance , classifying handwritten digit.\n",
        "10. Scalar Regression - A task where the target is a  continuous scalar value .Predicting house price is agood example: the different target price from continuous space.\n",
        "11. Vector regression - a task where the target is a set of continuous values .for example , a continuous vector. if you are doing regression against  multiple values(such as coordinates of bounding box in a images.\n",
        "12. Mini- batch or Batch - a small set of samples(typically betwenn 8 and 128)\n",
        "that are processed simultaneously by the model . The number of samples is often a power of 2 , to facilitate the memory allocation of GPU . when training a mini-batch is used to ompute a single gradient descent update applied to the weights of the model\n"
      ],
      "metadata": {
        "id": "mhJDDLVqBgRJ"
      }
    },
    {
      "cell_type": "markdown",
      "source": [
        "#Classifying movie reviews: a binary classification\n",
        "\n",
        "you will learn to classify movie reviews as positive or negative ,based on the content of the movie"
      ],
      "metadata": {
        "id": "iTXaLE7uNlGo"
      }
    },
    {
      "cell_type": "markdown",
      "source": [
        "The IMDB dataset\n",
        " you will work work with the IMDB dataset : a set of 50,000 highly polarized reviews from the Internet Movie Database. They are split into 25,000 reviews for training and 25,000 reviews for testing , each set consisting of 50% negative and 50% positive reviews"
      ],
      "metadata": {
        "id": "2j6xPHm6OM3I"
      }
    },
    {
      "cell_type": "markdown",
      "source": [
        "Loading the dataset"
      ],
      "metadata": {
        "id": "tEyj6A-aO-j4"
      }
    },
    {
      "cell_type": "code",
      "execution_count": 12,
      "metadata": {
        "id": "nYBqqnYg_WID",
        "colab": {
          "base_uri": "https://localhost:8080/"
        },
        "outputId": "fb77fa62-c008-4387-e02e-9470705b6d8a"
      },
      "outputs": [
        {
          "output_type": "stream",
          "name": "stdout",
          "text": [
            "Downloading data from https://storage.googleapis.com/tensorflow/tf-keras-datasets/imdb.npz\n",
            "17464789/17464789 [==============================] - 0s 0us/step\n"
          ]
        }
      ],
      "source": [
        "from tensorflow.keras.datasets import imdb\n",
        "(train_data , train_labels) , (test_data , test_labels) = imdb.load_data(num_words = 10000)\n",
        "# the argument num_words = 100000 means you will only keep the top 10,000 most frequently occuring words in the training data, this allow us to work work with manageble size"
      ]
    },
    {
      "cell_type": "markdown",
      "source": [
        "The variable train__data and test_data are list of reviews ;each review is a list of word indices.train_labels and test_labels are list of 0's and 1's , 0 stand for negatibe and 1 stand for positive"
      ],
      "metadata": {
        "id": "dEu5ci1pRCIS"
      }
    },
    {
      "cell_type": "code",
      "source": [
        "train_data[0]"
      ],
      "metadata": {
        "colab": {
          "base_uri": "https://localhost:8080/"
        },
        "id": "vpcj6XUgQ_kP",
        "outputId": "f4c1eb8b-155d-4be9-c91b-e9c35821a36f"
      },
      "execution_count": 13,
      "outputs": [
        {
          "output_type": "execute_result",
          "data": {
            "text/plain": [
              "[1,\n",
              " 14,\n",
              " 22,\n",
              " 16,\n",
              " 43,\n",
              " 530,\n",
              " 973,\n",
              " 1622,\n",
              " 1385,\n",
              " 65,\n",
              " 458,\n",
              " 4468,\n",
              " 66,\n",
              " 3941,\n",
              " 4,\n",
              " 173,\n",
              " 36,\n",
              " 256,\n",
              " 5,\n",
              " 25,\n",
              " 100,\n",
              " 43,\n",
              " 838,\n",
              " 112,\n",
              " 50,\n",
              " 670,\n",
              " 2,\n",
              " 9,\n",
              " 35,\n",
              " 480,\n",
              " 284,\n",
              " 5,\n",
              " 150,\n",
              " 4,\n",
              " 172,\n",
              " 112,\n",
              " 167,\n",
              " 2,\n",
              " 336,\n",
              " 385,\n",
              " 39,\n",
              " 4,\n",
              " 172,\n",
              " 4536,\n",
              " 1111,\n",
              " 17,\n",
              " 546,\n",
              " 38,\n",
              " 13,\n",
              " 447,\n",
              " 4,\n",
              " 192,\n",
              " 50,\n",
              " 16,\n",
              " 6,\n",
              " 147,\n",
              " 2025,\n",
              " 19,\n",
              " 14,\n",
              " 22,\n",
              " 4,\n",
              " 1920,\n",
              " 4613,\n",
              " 469,\n",
              " 4,\n",
              " 22,\n",
              " 71,\n",
              " 87,\n",
              " 12,\n",
              " 16,\n",
              " 43,\n",
              " 530,\n",
              " 38,\n",
              " 76,\n",
              " 15,\n",
              " 13,\n",
              " 1247,\n",
              " 4,\n",
              " 22,\n",
              " 17,\n",
              " 515,\n",
              " 17,\n",
              " 12,\n",
              " 16,\n",
              " 626,\n",
              " 18,\n",
              " 2,\n",
              " 5,\n",
              " 62,\n",
              " 386,\n",
              " 12,\n",
              " 8,\n",
              " 316,\n",
              " 8,\n",
              " 106,\n",
              " 5,\n",
              " 4,\n",
              " 2223,\n",
              " 5244,\n",
              " 16,\n",
              " 480,\n",
              " 66,\n",
              " 3785,\n",
              " 33,\n",
              " 4,\n",
              " 130,\n",
              " 12,\n",
              " 16,\n",
              " 38,\n",
              " 619,\n",
              " 5,\n",
              " 25,\n",
              " 124,\n",
              " 51,\n",
              " 36,\n",
              " 135,\n",
              " 48,\n",
              " 25,\n",
              " 1415,\n",
              " 33,\n",
              " 6,\n",
              " 22,\n",
              " 12,\n",
              " 215,\n",
              " 28,\n",
              " 77,\n",
              " 52,\n",
              " 5,\n",
              " 14,\n",
              " 407,\n",
              " 16,\n",
              " 82,\n",
              " 2,\n",
              " 8,\n",
              " 4,\n",
              " 107,\n",
              " 117,\n",
              " 5952,\n",
              " 15,\n",
              " 256,\n",
              " 4,\n",
              " 2,\n",
              " 7,\n",
              " 3766,\n",
              " 5,\n",
              " 723,\n",
              " 36,\n",
              " 71,\n",
              " 43,\n",
              " 530,\n",
              " 476,\n",
              " 26,\n",
              " 400,\n",
              " 317,\n",
              " 46,\n",
              " 7,\n",
              " 4,\n",
              " 2,\n",
              " 1029,\n",
              " 13,\n",
              " 104,\n",
              " 88,\n",
              " 4,\n",
              " 381,\n",
              " 15,\n",
              " 297,\n",
              " 98,\n",
              " 32,\n",
              " 2071,\n",
              " 56,\n",
              " 26,\n",
              " 141,\n",
              " 6,\n",
              " 194,\n",
              " 7486,\n",
              " 18,\n",
              " 4,\n",
              " 226,\n",
              " 22,\n",
              " 21,\n",
              " 134,\n",
              " 476,\n",
              " 26,\n",
              " 480,\n",
              " 5,\n",
              " 144,\n",
              " 30,\n",
              " 5535,\n",
              " 18,\n",
              " 51,\n",
              " 36,\n",
              " 28,\n",
              " 224,\n",
              " 92,\n",
              " 25,\n",
              " 104,\n",
              " 4,\n",
              " 226,\n",
              " 65,\n",
              " 16,\n",
              " 38,\n",
              " 1334,\n",
              " 88,\n",
              " 12,\n",
              " 16,\n",
              " 283,\n",
              " 5,\n",
              " 16,\n",
              " 4472,\n",
              " 113,\n",
              " 103,\n",
              " 32,\n",
              " 15,\n",
              " 16,\n",
              " 5345,\n",
              " 19,\n",
              " 178,\n",
              " 32]"
            ]
          },
          "metadata": {},
          "execution_count": 13
        }
      ]
    },
    {
      "cell_type": "code",
      "source": [
        "train_labels[0]"
      ],
      "metadata": {
        "colab": {
          "base_uri": "https://localhost:8080/"
        },
        "id": "k2Y-3rrfRZtW",
        "outputId": "3a797e03-2971-4bf4-8362-da367091b056"
      },
      "execution_count": 14,
      "outputs": [
        {
          "output_type": "execute_result",
          "data": {
            "text/plain": [
              "1"
            ]
          },
          "metadata": {},
          "execution_count": 14
        }
      ]
    },
    {
      "cell_type": "code",
      "source": [
        "# as we are restricting ourselves on the top 10,000 nost frequent words , no word index will exceed 10,000\n",
        "max([max(sequence) for sequence in train_data]) "
      ],
      "metadata": {
        "colab": {
          "base_uri": "https://localhost:8080/"
        },
        "id": "srF6gkXrRe8N",
        "outputId": "4f4f73dc-c315-415f-99df-606a1e73220b"
      },
      "execution_count": 15,
      "outputs": [
        {
          "output_type": "execute_result",
          "data": {
            "text/plain": [
              "9999"
            ]
          },
          "metadata": {},
          "execution_count": 15
        }
      ]
    },
    {
      "cell_type": "markdown",
      "source": [
        "Decoding reviews back to english word(text)"
      ],
      "metadata": {
        "id": "ws6bhcwCSFIV"
      }
    },
    {
      "cell_type": "code",
      "source": [
        "word_index = imdb.get_word_index() # word_index is a dictionary mapping words to an integer index\n",
        "reverse_word_index = dict(\n",
        "    [(value, key) for (key , value ) in word_index.items()]# reverse it map integer indexes to a word \n",
        ")\n",
        "\n",
        "decode_review = \" \".join(\n",
        "    [reverse_word_index.get(i - 3 , \"?\") for i in train_data[0]]\n",
        ")\n",
        "# decode the review ,Note that the indices are offset by 3 becz 0 and 1 and 2 are reserved indices for \"padding\" , \"start of sequence \" and \"unknown\""
      ],
      "metadata": {
        "colab": {
          "base_uri": "https://localhost:8080/"
        },
        "id": "yltaSgeuR1fa",
        "outputId": "295a352c-55f7-4ff4-845c-b9dd83dc7efc"
      },
      "execution_count": 16,
      "outputs": [
        {
          "output_type": "stream",
          "name": "stdout",
          "text": [
            "Downloading data from https://storage.googleapis.com/tensorflow/tf-keras-datasets/imdb_word_index.json\n",
            "1641221/1641221 [==============================] - 0s 0us/step\n"
          ]
        }
      ]
    },
    {
      "cell_type": "markdown",
      "source": [
        "#Preparing the data\n",
        "\n",
        "you can directly feed the list into the neural network. they all have different length , but neural network expects to process contiguous batches of data, you have to turn your list into tensors\n",
        "\n",
        "1. pad your list so that they all have the same length , turn them into a integer tensor of shaoe(samples, max_length )\n",
        "2. Multi-hot encode your lists to turn them into vector of 0s and 1s"
      ],
      "metadata": {
        "id": "dYyFFRuxWD8l"
      }
    },
    {
      "cell_type": "markdown",
      "source": [
        "Encoding the integer sequence via multi-hot encoding"
      ],
      "metadata": {
        "id": "A4vQ5SHFXwyE"
      }
    },
    {
      "cell_type": "code",
      "source": [
        "import numpy as np\n",
        "def vectorize_sequences(sequences , dimension = 10000):\n",
        "  results = np.zeros((len(sequences) , dimension)) # create an all -zeros matrix of shape(lrn(sequences), dimension)\n",
        "  for i , sequence in enumerate(sequences):\n",
        "    for j in sequence:\n",
        "      results[i,j] = 1  # sets specific indices of results[i] to 1s\n",
        "    return results\n",
        "\n",
        "x_train = vectorize_sequences(train_data) # vectorized train data\n",
        "x_test = vectorize_sequences(test_data) # vectorized test data"
      ],
      "metadata": {
        "id": "-OLYZWRqV6pv"
      },
      "execution_count": 17,
      "outputs": []
    },
    {
      "cell_type": "code",
      "source": [
        "x_train[0]"
      ],
      "metadata": {
        "colab": {
          "base_uri": "https://localhost:8080/"
        },
        "id": "ejo9JR9gZKwk",
        "outputId": "39d0c338-dd25-4059-9333-d42a444230e1"
      },
      "execution_count": 18,
      "outputs": [
        {
          "output_type": "execute_result",
          "data": {
            "text/plain": [
              "array([0., 1., 1., ..., 0., 0., 0.])"
            ]
          },
          "metadata": {},
          "execution_count": 18
        }
      ]
    },
    {
      "cell_type": "code",
      "source": [
        "# you should also vectorized you labels\n",
        "y_train = np.array(train_labels).astype(\"float32\")\n",
        "y_test = np.array(test_labels).astype(\"float32\")\n",
        "\n",
        "# now data is ready to fed into neural network"
      ],
      "metadata": {
        "id": "ovijr_aUZTSn"
      },
      "execution_count": 19,
      "outputs": []
    },
    {
      "cell_type": "markdown",
      "source": [
        "Building your model\n",
        "\n",
        "A type of model that performs on such type of problem is a simple stack of densly connected(Dense) layer with relu activation function.\n",
        "There are two key architecture decisions to be made about such a stack of Dense layers.\n",
        "1. how many layers to chose\n",
        "2. How many units to chose for each layer"
      ],
      "metadata": {
        "id": "DfmlL-ayaKho"
      }
    },
    {
      "cell_type": "markdown",
      "source": [
        "Model definition"
      ],
      "metadata": {
        "id": "GTKYG1WKbAqW"
      }
    },
    {
      "cell_type": "code",
      "source": [
        "from tensorflow import keras \n",
        "from tensorflow.keras import layers\n",
        "\n",
        "model = keras.Sequential([\n",
        "    layers.Dense(16, activation = \"relu\"),\n",
        "    layers.Dense(16, activation = \"relu\"),\n",
        "    layers.Dense(1 , activation = \"sigmoid\")\n",
        "])"
      ],
      "metadata": {
        "id": "x-ZWhNgpZnIU"
      },
      "execution_count": 20,
      "outputs": []
    },
    {
      "cell_type": "markdown",
      "source": [
        "Compiling the model"
      ],
      "metadata": {
        "id": "uKBsmf7Ce8jv"
      }
    },
    {
      "cell_type": "code",
      "source": [
        "model.compile(\n",
        "    optimizer = \"rmsprop\",\n",
        "    loss = \"binary_crossentropy\",\n",
        "    metrics = [\"accuracy\"]\n",
        ")"
      ],
      "metadata": {
        "id": "PgjVp9XxbrkB"
      },
      "execution_count": 21,
      "outputs": []
    },
    {
      "cell_type": "markdown",
      "source": [
        "# Validating your approach\n",
        "its a standard practice to monitor the accuracy of the model during training ."
      ],
      "metadata": {
        "id": "KHKN-Zh5fXJc"
      }
    },
    {
      "cell_type": "markdown",
      "source": [
        "Setting aside a validating set"
      ],
      "metadata": {
        "id": "svq98DZcfokf"
      }
    },
    {
      "cell_type": "code",
      "source": [
        "x_val = x_train[:10000]\n",
        "partial_x_train = x_train[10000:]\n",
        "y_val = y_train[:10000]\n",
        "partial_y_train = y_train[10000:]"
      ],
      "metadata": {
        "id": "PqzYT3lAfOvr"
      },
      "execution_count": 22,
      "outputs": []
    },
    {
      "cell_type": "markdown",
      "source": [
        "Training the model"
      ],
      "metadata": {
        "id": "OWuLMKRNgID-"
      }
    },
    {
      "cell_type": "code",
      "source": [
        "x_val = x_train[:10000]\n",
        "partial_x_train = x_train[10000:]\n",
        "y_val = y_train[:10000]\n",
        "partial_y_train = y_train[10000:]\n",
        "history = model.fit(partial_x_train,\n",
        "                    partial_y_train,\n",
        "                    epochs=20,\n",
        "                    batch_size=512,\n",
        "                    validation_data=(x_val, y_val))"
      ],
      "metadata": {
        "colab": {
          "base_uri": "https://localhost:8080/"
        },
        "id": "5dvAHAj0f8qd",
        "outputId": "e80785b2-9e4c-4eda-f962-41765046d511"
      },
      "execution_count": 23,
      "outputs": [
        {
          "output_type": "stream",
          "name": "stdout",
          "text": [
            "Epoch 1/20\n",
            "30/30 [==============================] - 4s 77ms/step - loss: 0.6931 - accuracy: 0.5035 - val_loss: 0.6932 - val_accuracy: 0.4947\n",
            "Epoch 2/20\n",
            "30/30 [==============================] - 1s 39ms/step - loss: 0.6931 - accuracy: 0.5035 - val_loss: 0.6933 - val_accuracy: 0.4947\n",
            "Epoch 3/20\n",
            "30/30 [==============================] - 1s 38ms/step - loss: 0.6931 - accuracy: 0.5035 - val_loss: 0.6933 - val_accuracy: 0.4947\n",
            "Epoch 4/20\n",
            "30/30 [==============================] - 1s 39ms/step - loss: 0.6931 - accuracy: 0.5035 - val_loss: 0.6933 - val_accuracy: 0.4947\n",
            "Epoch 5/20\n",
            "30/30 [==============================] - 2s 56ms/step - loss: 0.6931 - accuracy: 0.5035 - val_loss: 0.6933 - val_accuracy: 0.4947\n",
            "Epoch 6/20\n",
            "30/30 [==============================] - 2s 53ms/step - loss: 0.6931 - accuracy: 0.5035 - val_loss: 0.6933 - val_accuracy: 0.4947\n",
            "Epoch 7/20\n",
            "30/30 [==============================] - 1s 38ms/step - loss: 0.6931 - accuracy: 0.5035 - val_loss: 0.6933 - val_accuracy: 0.4947\n",
            "Epoch 8/20\n",
            "30/30 [==============================] - 1s 39ms/step - loss: 0.6931 - accuracy: 0.5035 - val_loss: 0.6933 - val_accuracy: 0.4947\n",
            "Epoch 9/20\n",
            "30/30 [==============================] - 1s 37ms/step - loss: 0.6931 - accuracy: 0.5035 - val_loss: 0.6933 - val_accuracy: 0.4947\n",
            "Epoch 10/20\n",
            "30/30 [==============================] - 1s 39ms/step - loss: 0.6931 - accuracy: 0.5035 - val_loss: 0.6933 - val_accuracy: 0.4947\n",
            "Epoch 11/20\n",
            "30/30 [==============================] - 1s 37ms/step - loss: 0.6931 - accuracy: 0.5035 - val_loss: 0.6933 - val_accuracy: 0.4947\n",
            "Epoch 12/20\n",
            "30/30 [==============================] - 1s 40ms/step - loss: 0.6931 - accuracy: 0.5035 - val_loss: 0.6932 - val_accuracy: 0.4947\n",
            "Epoch 13/20\n",
            "30/30 [==============================] - 1s 37ms/step - loss: 0.6931 - accuracy: 0.5035 - val_loss: 0.6932 - val_accuracy: 0.4947\n",
            "Epoch 14/20\n",
            "30/30 [==============================] - 1s 37ms/step - loss: 0.6931 - accuracy: 0.5035 - val_loss: 0.6932 - val_accuracy: 0.4947\n",
            "Epoch 15/20\n",
            "30/30 [==============================] - 2s 52ms/step - loss: 0.6931 - accuracy: 0.5035 - val_loss: 0.6932 - val_accuracy: 0.4947\n",
            "Epoch 16/20\n",
            "30/30 [==============================] - 2s 55ms/step - loss: 0.6931 - accuracy: 0.5035 - val_loss: 0.6932 - val_accuracy: 0.4947\n",
            "Epoch 17/20\n",
            "30/30 [==============================] - 1s 43ms/step - loss: 0.6931 - accuracy: 0.5035 - val_loss: 0.6932 - val_accuracy: 0.4947\n",
            "Epoch 18/20\n",
            "30/30 [==============================] - 1s 37ms/step - loss: 0.6931 - accuracy: 0.5035 - val_loss: 0.6933 - val_accuracy: 0.4947\n",
            "Epoch 19/20\n",
            "30/30 [==============================] - 1s 39ms/step - loss: 0.6931 - accuracy: 0.5035 - val_loss: 0.6933 - val_accuracy: 0.4947\n",
            "Epoch 20/20\n",
            "30/30 [==============================] - 1s 41ms/step - loss: 0.6931 - accuracy: 0.5035 - val_loss: 0.6932 - val_accuracy: 0.4947\n"
          ]
        }
      ]
    },
    {
      "cell_type": "markdown",
      "source": [
        "call to model.fit() returns a history object , This object has a member history, which is dictionary containing data about every things happen during training."
      ],
      "metadata": {
        "id": "fuugROciJfG2"
      }
    },
    {
      "cell_type": "code",
      "source": [
        "history_dict = history.history\n",
        "history_dict.keys()"
      ],
      "metadata": {
        "colab": {
          "base_uri": "https://localhost:8080/"
        },
        "id": "e-1abPqGgtRz",
        "outputId": "acf1433f-8e36-4d34-fada-d3141630670d"
      },
      "execution_count": 24,
      "outputs": [
        {
          "output_type": "execute_result",
          "data": {
            "text/plain": [
              "dict_keys(['loss', 'accuracy', 'val_loss', 'val_accuracy'])"
            ]
          },
          "metadata": {},
          "execution_count": 24
        }
      ]
    },
    {
      "cell_type": "markdown",
      "source": [
        "Plotting the training and validation loss"
      ],
      "metadata": {
        "id": "rZILHytMKa7z"
      }
    },
    {
      "cell_type": "code",
      "source": [
        "import matplotlib.pyplot as plt\n",
        "history_dict = history.history\n",
        "loss_values = history_dict[\"loss\"]\n",
        "val_loss_values = history_dict[\"val_loss\"]\n",
        "epochs = range(1, len(loss_values) + 1)\n",
        "plt.plot(epochs , loss_values , \"bo\" , label = \"Training loss\") # \" bo\" is for blue dot\n",
        "plt.plot(epochs , val_loss_values , \"b\" , label = \"Validation loss\") # b is for \"solid blue line\"\n",
        "plt.xlabel(\"Epochs\")\n",
        "plt.ylabel(\"Loss\")\n",
        "plt.legend()\n",
        "plt.show()\n"
      ],
      "metadata": {
        "colab": {
          "base_uri": "https://localhost:8080/",
          "height": 449
        },
        "id": "Lheq7ERXJ6pG",
        "outputId": "b65b6d26-bac9-46a7-ad6b-9bee57086538"
      },
      "execution_count": 25,
      "outputs": [
        {
          "output_type": "display_data",
          "data": {
            "text/plain": [
              "<Figure size 640x480 with 1 Axes>"
            ],
            "image/png": "[encoded data removed]"
          },
          "metadata": {}
        }
      ]
    },
    {
      "cell_type": "markdown",
      "source": [
        "plotting the training and validation accuracy"
      ],
      "metadata": {
        "id": "rMBsdSvwMDEQ"
      }
    },
    {
      "cell_type": "code",
      "source": [
        "plt.clf()\n",
        "acc = history_dict[\"accuracy\"]\n",
        "val_acc = history_dict[\"val_accuracy\"]\n",
        "epochs = range(1, len(loss_values) + 1)\n",
        "plt.plot(epochs , acc , \"bo\" , label = \"Training acc\") # \" bo\" is for blue dot\n",
        "plt.plot(epochs , val_acc , \"b\" , label = \"Validation acc\") # b is for \"solid blue line\"\n",
        "plt.title(\"Training and validation accuracy\")\n",
        "plt.xlabel(\"Epochs\")\n",
        "plt.ylabel(\"Accuracy\")\n",
        "plt.legend()\n",
        "plt.show()\n"
      ],
      "metadata": {
        "colab": {
          "base_uri": "https://localhost:8080/",
          "height": 472
        },
        "id": "xvdc5ijUL2zu",
        "outputId": "d2b5b88e-21e5-4503-bf7e-e015bca1c29b"
      },
      "execution_count": 26,
      "outputs": [
        {
          "output_type": "display_data",
          "data": {
            "text/plain": [
              "<Figure size 640x480 with 1 Axes>"
            ],
            "image/png": "[encoded data removed]"
          },
          "metadata": {}
        }
      ]
    },
    {
      "cell_type": "markdown",
      "source": [
        "As you can see , the training loss decreases with evert epoch , the training accuracy increases with every epochs. But this is not the case for the validaton loss and accuracy : they seem to peak at the fourth epoch .\n",
        "\n",
        "Basically a model that performs better on trainimg data  is not neccesarily a model that will do better on the data it has never seen before . In precise term what you are seeing is **Overfitting**.,after the fouth epoch , you are overoptimizing on the training data , and you end up learning representation that are specific to the trainig data and do'nt generate to data outside of the trainin set."
      ],
      "metadata": {
        "id": "sqLoyUEVNo3c"
      }
    },
    {
      "cell_type": "markdown",
      "source": [
        "Lets train a new model from scrach for four epochs and then evaluate it on the test data"
      ],
      "metadata": {
        "id": "lplL3iyuO8Ir"
      }
    },
    {
      "cell_type": "code",
      "source": [
        "model = keras.Sequential([\n",
        "    layers.Dense(16 , activation = \"relu\"),\n",
        "    layers.Dense(16 , activation = \"relu\"),\n",
        "    layers.Dense(1 , activation = \"sigmoid\")\n",
        "\n",
        "])"
      ],
      "metadata": {
        "id": "d7a-sRlVMl0y"
      },
      "execution_count": 27,
      "outputs": []
    },
    {
      "cell_type": "code",
      "source": [
        "model.compile(\n",
        "    optimizer = \"rmsprop\",\n",
        "    loss = \"binary_crossentropy\",\n",
        "    metrics = [\"accuracy\"]\n",
        ")"
      ],
      "metadata": {
        "id": "FjG4U-apPhs_"
      },
      "execution_count": 28,
      "outputs": []
    },
    {
      "cell_type": "code",
      "source": [
        "model.fit(x_train , y_train , epochs = 4 , batch_size = 512 \n",
        ")"
      ],
      "metadata": {
        "colab": {
          "base_uri": "https://localhost:8080/"
        },
        "id": "i5KsWKTTQN9f",
        "outputId": "0f6d756d-b0f6-46af-cffe-9c55b3c77ff8"
      },
      "execution_count": 29,
      "outputs": [
        {
          "output_type": "stream",
          "name": "stdout",
          "text": [
            "Epoch 1/4\n",
            "49/49 [==============================] - 2s 28ms/step - loss: 0.6932 - accuracy: 0.4939\n",
            "Epoch 2/4\n",
            "49/49 [==============================] - 1s 28ms/step - loss: 0.6932 - accuracy: 0.4973\n",
            "Epoch 3/4\n",
            "49/49 [==============================] - 2s 33ms/step - loss: 0.6932 - accuracy: 0.4925\n",
            "Epoch 4/4\n",
            "49/49 [==============================] - 2s 40ms/step - loss: 0.6932 - accuracy: 0.4956\n"
          ]
        },
        {
          "output_type": "execute_result",
          "data": {
            "text/plain": [
              "<keras.callbacks.History at 0x7fe9af2e3580>"
            ]
          },
          "metadata": {},
          "execution_count": 29
        }
      ]
    },
    {
      "cell_type": "code",
      "source": [
        "result = model.evaluate(x_test , y_test)"
      ],
      "metadata": {
        "colab": {
          "base_uri": "https://localhost:8080/"
        },
        "id": "SQUitmF_QvsV",
        "outputId": "b1e2f54f-5f29-4008-d39e-7d028d43e456"
      },
      "execution_count": 30,
      "outputs": [
        {
          "output_type": "stream",
          "name": "stdout",
          "text": [
            "782/782 [==============================] - 3s 3ms/step - loss: 0.6931 - accuracy: 0.5000\n"
          ]
        }
      ]
    },
    {
      "cell_type": "code",
      "source": [
        "result"
      ],
      "metadata": {
        "colab": {
          "base_uri": "https://localhost:8080/"
        },
        "id": "D7koEv7rQ4Yl",
        "outputId": "27c39f7b-957d-47c3-f79f-e509413d3588"
      },
      "execution_count": 31,
      "outputs": [
        {
          "output_type": "execute_result",
          "data": {
            "text/plain": [
              "[0.6931476593017578, 0.5]"
            ]
          },
          "metadata": {},
          "execution_count": 31
        }
      ]
    },
    {
      "cell_type": "markdown",
      "source": [
        "Using a trained model to generate prediction on new data"
      ],
      "metadata": {
        "id": "RQTELKv3ReSq"
      }
    },
    {
      "cell_type": "code",
      "source": [
        "model.predict(x_test)"
      ],
      "metadata": {
        "colab": {
          "base_uri": "https://localhost:8080/"
        },
        "id": "WoNwoAkeRlnO",
        "outputId": "822440ff-6d8d-4a5b-de61-f5557a20b1b4"
      },
      "execution_count": 32,
      "outputs": [
        {
          "output_type": "stream",
          "name": "stdout",
          "text": [
            "782/782 [==============================] - 2s 3ms/step\n"
          ]
        },
        {
          "output_type": "execute_result",
          "data": {
            "text/plain": [
              "array([[0.49861678],\n",
              "       [0.49971718],\n",
              "       [0.49971718],\n",
              "       ...,\n",
              "       [0.49971718],\n",
              "       [0.49971718],\n",
              "       [0.49971718]], dtype=float32)"
            ]
          },
          "metadata": {},
          "execution_count": 32
        }
      ]
    },
    {
      "cell_type": "markdown",
      "source": [
        "# Classifying newswires : A multiclass classification example\n",
        "\n",
        "In this section , we will build a model to classify Reuters newswires into 46 mutually exclusive topics. Becz we have many classes , this problem is an instance of the multiclass classification , and because each data point should be classified inbto only one category , the problem is more specifically an instance of single label multiclass classification "
      ],
      "metadata": {
        "id": "1GiHVFTYsIbJ"
      }
    },
    {
      "cell_type": "markdown",
      "source": [
        "Reuters dataset , a set of short newswires and their topics"
      ],
      "metadata": {
        "id": "B9c4UoxbttXa"
      }
    },
    {
      "cell_type": "markdown",
      "source": [
        "Loading the Reuters dataset"
      ],
      "metadata": {
        "id": "BJ-iG66at2J5"
      }
    },
    {
      "cell_type": "code",
      "source": [
        "from tensorflow.keras.datasets import reuters\n",
        "(train_data , train_labels) , (test_data , test_labels) = reuters.load_data(num_words = 10000)"
      ],
      "metadata": {
        "colab": {
          "base_uri": "https://localhost:8080/"
        },
        "id": "RQ4qAlxdt1In",
        "outputId": "af3f1498-260a-4d43-eef8-72d284fbf92e"
      },
      "execution_count": 33,
      "outputs": [
        {
          "output_type": "stream",
          "name": "stdout",
          "text": [
            "Downloading data from https://storage.googleapis.com/tensorflow/tf-keras-datasets/reuters.npz\n",
            "2110848/2110848 [==============================] - 0s 0us/step\n"
          ]
        }
      ]
    },
    {
      "cell_type": "code",
      "source": [
        "len(train_data)"
      ],
      "metadata": {
        "id": "980npq-XRllI",
        "colab": {
          "base_uri": "https://localhost:8080/"
        },
        "outputId": "c028a7ff-cf2c-4cca-9771-701f0813cab7"
      },
      "execution_count": 34,
      "outputs": [
        {
          "output_type": "execute_result",
          "data": {
            "text/plain": [
              "8982"
            ]
          },
          "metadata": {},
          "execution_count": 34
        }
      ]
    },
    {
      "cell_type": "code",
      "source": [
        "len(test_data)"
      ],
      "metadata": {
        "colab": {
          "base_uri": "https://localhost:8080/"
        },
        "id": "9iPzmSY4u-24",
        "outputId": "f8013fd5-3d58-4d9f-86ed-aeac3c9d4827"
      },
      "execution_count": 35,
      "outputs": [
        {
          "output_type": "execute_result",
          "data": {
            "text/plain": [
              "2246"
            ]
          },
          "metadata": {},
          "execution_count": 35
        }
      ]
    },
    {
      "cell_type": "code",
      "source": [
        "train_data[10]"
      ],
      "metadata": {
        "colab": {
          "base_uri": "https://localhost:8080/"
        },
        "id": "KuPaapv9vAiL",
        "outputId": "d5af7286-d168-4183-95bb-4bbdb46cf0fd"
      },
      "execution_count": 36,
      "outputs": [
        {
          "output_type": "execute_result",
          "data": {
            "text/plain": [
              "[1,\n",
              " 245,\n",
              " 273,\n",
              " 207,\n",
              " 156,\n",
              " 53,\n",
              " 74,\n",
              " 160,\n",
              " 26,\n",
              " 14,\n",
              " 46,\n",
              " 296,\n",
              " 26,\n",
              " 39,\n",
              " 74,\n",
              " 2979,\n",
              " 3554,\n",
              " 14,\n",
              " 46,\n",
              " 4689,\n",
              " 4329,\n",
              " 86,\n",
              " 61,\n",
              " 3499,\n",
              " 4795,\n",
              " 14,\n",
              " 61,\n",
              " 451,\n",
              " 4329,\n",
              " 17,\n",
              " 12]"
            ]
          },
          "metadata": {},
          "execution_count": 36
        }
      ]
    },
    {
      "cell_type": "markdown",
      "source": [
        "decode newswires back to text"
      ],
      "metadata": {
        "id": "HcHsoLOtvP_Y"
      }
    },
    {
      "cell_type": "code",
      "source": [
        "word_index = imdb.get_word_index() # word_index is a dictionary mapping words to an integer index\n",
        "reverse_word_index = dict(\n",
        "    [(value, key) for (key , value ) in word_index.items()]# reverse it map integer indexes to a word \n",
        ")\n",
        "\n",
        "decode_review = \" \".join(\n",
        "    [reverse_word_index.get(i - 3 , \"?\") for i in train_data[0]]\n",
        ")\n",
        "# decode the review ,Note that the indices are offset by 3 becz 0 and 1 and 2 are reserved indices for \"padding\" , \"start of sequence \" and \"unknown\""
      ],
      "metadata": {
        "id": "A-zcyeevvKlk"
      },
      "execution_count": 37,
      "outputs": []
    },
    {
      "cell_type": "markdown",
      "source": [
        "#Preparing the data"
      ],
      "metadata": {
        "id": "Fm36SFk8vlqf"
      }
    },
    {
      "cell_type": "markdown",
      "source": [
        "encoding the input data"
      ],
      "metadata": {
        "id": "O6QePjppwA4B"
      }
    },
    {
      "cell_type": "code",
      "source": [
        "x_train = vectorize_sequences(train_data) \n",
        "x_test = vectorize_sequences(test_data)"
      ],
      "metadata": {
        "id": "GAtE4zEzvjYs"
      },
      "execution_count": 38,
      "outputs": []
    },
    {
      "cell_type": "markdown",
      "source": [
        "To vectorize the labels , there are two possibilities : you can cast the label list as an integer tensor , or you can use one - hot encoding , In this case , one hot encoding of the labeks consists of embedding each labels as an all zero vector with a 1 in the place of the label index"
      ],
      "metadata": {
        "id": "BqYitLVXxDKz"
      }
    },
    {
      "cell_type": "markdown",
      "source": [
        "Encoding the labels"
      ],
      "metadata": {
        "id": "ynYzY_3Hy0Ce"
      }
    },
    {
      "cell_type": "code",
      "source": [
        "def to_one_hot(labels, dimension=46):\n",
        "    results = np.zeros((len(labels), dimension))\n",
        "    for i, label in enumerate(labels):\n",
        "        results[i, label] = 1.\n",
        "    return results\n",
        "y_train = to_one_hot(train_labels) # vectorizing training labels\n",
        "y_test = to_one_hot(test_labels)   # vectorizing testing labels"
      ],
      "metadata": {
        "id": "xIi4Ei8KwNbq"
      },
      "execution_count": 39,
      "outputs": []
    },
    {
      "cell_type": "markdown",
      "source": [
        "# Building your model\n",
        "\n",
        "The number of output classes are 46 , The dimensionality of the output space is much larger\n",
        "\n",
        "In a stack of Dense layer like those we have been using , each layer can only access information present in the output of the previous layer . if one layer drops some information relavet to classification problem , this information can never be recovered by the later layers , each layer can potentially become an infromation bottleneck  .In the previous example we have have used 16 dumensional intermediate layers , but a 16 dimensional space may be too limited tolearn to separate 46 different classes, such small layer may act as information bottleneck , permanantly dropping relavent infomation.\n",
        "thats why we will be using 64 units"
      ],
      "metadata": {
        "id": "2uCmvG8pHHSN"
      }
    },
    {
      "cell_type": "markdown",
      "source": [
        "Model definition"
      ],
      "metadata": {
        "id": "FxRtbfMuJdfk"
      }
    },
    {
      "cell_type": "code",
      "source": [
        "model = keras.Sequential([\n",
        "    layers.Dense(64 , activation = \"relu\"),\n",
        "    layers.Dense(64 , activation = \"relu\"),\n",
        "    layers.Dense(46 , activation = \"softmax\")\n",
        "\n",
        "])"
      ],
      "metadata": {
        "id": "rIrLaeyKGZao"
      },
      "execution_count": 40,
      "outputs": []
    },
    {
      "cell_type": "markdown",
      "source": [
        "There are two things you should note about this architecture \n",
        "\n",
        "1. we end the model witha dense layer of size 46 , this means for each input sample , the network will output a 46 dimensional vector . Eeach entery in this vector will encode a different output class.\n",
        "\n",
        "2. the last layer uses a softmax activation . It means model will output a probability distribution over the 46 different classes , for every input sample , the model will produce a 46 dimensional output vector , where output[i] is the probabilty f sample belongs to calss i."
      ],
      "metadata": {
        "id": "DuEAyowuK3XI"
      }
    },
    {
      "cell_type": "markdown",
      "source": [
        "loss function to use in this case is categorical_crossentropy. it measures the distance between two probabilti distribution . here , between the probability distribution output by the model and the true distribution of the labels . By minimizing the distance between these two distribution you can train the model to produce output closer to true labels"
      ],
      "metadata": {
        "id": "1Ml4UcL1L0nb"
      }
    },
    {
      "cell_type": "markdown",
      "source": [
        "Compilimg the model"
      ],
      "metadata": {
        "id": "KfEXfyP0Mc7V"
      }
    },
    {
      "cell_type": "code",
      "source": [
        "model.compile(\n",
        "    optimizer = \"rmsprop\",\n",
        "    loss = \"categorical_crossentropy\",\n",
        "    metrics = [\"accuracy\"]\n",
        ")"
      ],
      "metadata": {
        "id": "OFYDAAL0J-da"
      },
      "execution_count": 41,
      "outputs": []
    },
    {
      "cell_type": "markdown",
      "source": [
        "#Validating your approach"
      ],
      "metadata": {
        "id": "42v3gMyYMpD0"
      }
    },
    {
      "cell_type": "markdown",
      "source": [
        "setting aside a validation set"
      ],
      "metadata": {
        "id": "Lrnzg11YNABl"
      }
    },
    {
      "cell_type": "code",
      "source": [
        "x_val = x_train[:1000]\n",
        "partial_x_train = x_train[1000:]\n",
        "y_val = y_train[:1000]\n",
        "partial_y_train = y_train[1000:]"
      ],
      "metadata": {
        "id": "L_y5hYNVMnV3"
      },
      "execution_count": 42,
      "outputs": []
    },
    {
      "cell_type": "markdown",
      "source": [
        "Training the model"
      ],
      "metadata": {
        "id": "MlH4231NNIlR"
      }
    },
    {
      "cell_type": "code",
      "source": [
        "history = model.fit(partial_x_train,\n",
        "                    partial_y_train,\n",
        "                    epochs=20,\n",
        "                    batch_size=512,\n",
        "                    validation_data=(x_val, y_val))"
      ],
      "metadata": {
        "colab": {
          "base_uri": "https://localhost:8080/"
        },
        "id": "-u2l8XEWNHHa",
        "outputId": "92b576ee-b133-4e05-c03a-7029f03d3b8a"
      },
      "execution_count": 43,
      "outputs": [
        {
          "output_type": "stream",
          "name": "stdout",
          "text": [
            "Epoch 1/20\n",
            "16/16 [==============================] - 2s 77ms/step - loss: 3.8118 - accuracy: 0.1134 - val_loss: 3.7978 - val_accuracy: 0.2220\n",
            "Epoch 2/20\n",
            "16/16 [==============================] - 1s 92ms/step - loss: 3.7880 - accuracy: 0.2487 - val_loss: 3.7769 - val_accuracy: 0.3530\n",
            "Epoch 3/20\n",
            "16/16 [==============================] - 1s 94ms/step - loss: 3.7675 - accuracy: 0.3514 - val_loss: 3.7569 - val_accuracy: 0.3530\n",
            "Epoch 4/20\n",
            "16/16 [==============================] - 1s 66ms/step - loss: 3.7476 - accuracy: 0.3330 - val_loss: 3.7371 - val_accuracy: 0.3530\n",
            "Epoch 5/20\n",
            "16/16 [==============================] - 1s 57ms/step - loss: 3.7278 - accuracy: 0.3514 - val_loss: 3.7175 - val_accuracy: 0.3530\n",
            "Epoch 6/20\n",
            "16/16 [==============================] - 1s 56ms/step - loss: 3.7083 - accuracy: 0.3514 - val_loss: 3.6981 - val_accuracy: 0.3530\n",
            "Epoch 7/20\n",
            "16/16 [==============================] - 1s 55ms/step - loss: 3.6889 - accuracy: 0.3514 - val_loss: 3.6789 - val_accuracy: 0.3530\n",
            "Epoch 8/20\n",
            "16/16 [==============================] - 1s 55ms/step - loss: 3.6696 - accuracy: 0.3514 - val_loss: 3.6597 - val_accuracy: 0.3530\n",
            "Epoch 9/20\n",
            "16/16 [==============================] - 1s 53ms/step - loss: 3.6505 - accuracy: 0.3514 - val_loss: 3.6408 - val_accuracy: 0.3530\n",
            "Epoch 10/20\n",
            "16/16 [==============================] - 1s 57ms/step - loss: 3.6315 - accuracy: 0.3514 - val_loss: 3.6218 - val_accuracy: 0.3530\n",
            "Epoch 11/20\n",
            "16/16 [==============================] - 1s 54ms/step - loss: 3.6126 - accuracy: 0.3514 - val_loss: 3.6032 - val_accuracy: 0.3530\n",
            "Epoch 12/20\n",
            "16/16 [==============================] - 1s 53ms/step - loss: 3.5939 - accuracy: 0.3514 - val_loss: 3.5845 - val_accuracy: 0.3530\n",
            "Epoch 13/20\n",
            "16/16 [==============================] - 1s 54ms/step - loss: 3.5754 - accuracy: 0.3514 - val_loss: 3.5661 - val_accuracy: 0.3530\n",
            "Epoch 14/20\n",
            "16/16 [==============================] - 1s 54ms/step - loss: 3.5570 - accuracy: 0.3514 - val_loss: 3.5479 - val_accuracy: 0.3530\n",
            "Epoch 15/20\n",
            "16/16 [==============================] - 1s 73ms/step - loss: 3.5388 - accuracy: 0.3514 - val_loss: 3.5298 - val_accuracy: 0.3530\n",
            "Epoch 16/20\n",
            "16/16 [==============================] - 2s 97ms/step - loss: 3.5207 - accuracy: 0.3514 - val_loss: 3.5118 - val_accuracy: 0.3530\n",
            "Epoch 17/20\n",
            "16/16 [==============================] - 1s 75ms/step - loss: 3.5029 - accuracy: 0.3514 - val_loss: 3.4941 - val_accuracy: 0.3530\n",
            "Epoch 18/20\n",
            "16/16 [==============================] - 1s 57ms/step - loss: 3.4852 - accuracy: 0.3514 - val_loss: 3.4765 - val_accuracy: 0.3530\n",
            "Epoch 19/20\n",
            "16/16 [==============================] - 1s 53ms/step - loss: 3.4676 - accuracy: 0.3514 - val_loss: 3.4589 - val_accuracy: 0.3530\n",
            "Epoch 20/20\n",
            "16/16 [==============================] - 1s 54ms/step - loss: 3.4501 - accuracy: 0.3514 - val_loss: 3.4416 - val_accuracy: 0.3540\n"
          ]
        }
      ]
    },
    {
      "cell_type": "markdown",
      "source": [
        "plotting the training and validation loss"
      ],
      "metadata": {
        "id": "7X_TNEbqNpL-"
      }
    },
    {
      "cell_type": "code",
      "source": [
        "import matplotlib.pyplot as plt\n",
        "history_dict = history.history\n",
        "loss_values = history_dict[\"loss\"]\n",
        "val_loss_values = history_dict[\"val_loss\"]\n",
        "epochs = range(1, len(loss_values) + 1)\n",
        "plt.plot(epochs , loss_values , \"bo\" , label = \"Training loss\") # \" bo\" is for blue dot\n",
        "plt.plot(epochs , val_loss_values , \"b\" , label = \"Validation loss\") # b is for \"solid blue line\"\n",
        "plt.xlabel(\"Epochs\")\n",
        "plt.ylabel(\"Loss\")\n",
        "plt.legend()\n",
        "plt.show()"
      ],
      "metadata": {
        "colab": {
          "base_uri": "https://localhost:8080/",
          "height": 449
        },
        "id": "eNoFdqE3NaHk",
        "outputId": "5ad7a832-8d26-49c2-ce3e-6a3385baa971"
      },
      "execution_count": 44,
      "outputs": [
        {
          "output_type": "display_data",
          "data": {
            "text/plain": [
              "<Figure size 640x480 with 1 Axes>"
            ],
            "image/png": "[encoded data removed]"
          },
          "metadata": {}
        }
      ]
    },
    {
      "cell_type": "markdown",
      "source": [
        "plotting the training and validation accuracy"
      ],
      "metadata": {
        "id": "-UQMNsD1OWFf"
      }
    },
    {
      "cell_type": "code",
      "source": [
        "plt.clf()\n",
        "acc = history_dict[\"accuracy\"]\n",
        "val_acc = history_dict[\"val_accuracy\"]\n",
        "epochs = range(1, len(loss_values) + 1)\n",
        "plt.plot(epochs , acc , \"bo\" , label = \"Training acc\") # \" bo\" is for blue dot\n",
        "plt.plot(epochs , val_acc , \"b\" , label = \"Validation acc\") # b is for \"solid blue line\"\n",
        "plt.title(\"Training and validation accuracy\")\n",
        "plt.xlabel(\"Epochs\")\n",
        "plt.ylabel(\"Accuracy\")\n",
        "plt.legend()\n",
        "plt.show()"
      ],
      "metadata": {
        "colab": {
          "base_uri": "https://localhost:8080/",
          "height": 472
        },
        "id": "xvHFjn3VNtUn",
        "outputId": "6d442eee-c54e-4d83-e587-c5dc3012ff4d"
      },
      "execution_count": 45,
      "outputs": [
        {
          "output_type": "display_data",
          "data": {
            "text/plain": [
              "<Figure size 640x480 with 1 Axes>"
            ],
            "image/png": "[encoded data removed]"
          },
          "metadata": {}
        }
      ]
    },
    {
      "cell_type": "markdown",
      "source": [
        "Retraining the model from scratch"
      ],
      "metadata": {
        "id": "JNQvTFQxOrxr"
      }
    },
    {
      "cell_type": "code",
      "source": [
        "model = keras.Sequential([\n",
        "    layers.Dense(64 , activation = \"relu\"),\n",
        "    layers.Dense(64 , activation = \"relu\"),\n",
        "    layers.Dense(46 , activation = \"softmax\")\n",
        "\n",
        "])\n",
        "\n",
        "model.compile(\n",
        "    optimizer = \"rmsprop\",\n",
        "    loss = \"categorical_crossentropy\",\n",
        "    metrics = [\"accuracy\"]\n",
        ")"
      ],
      "metadata": {
        "id": "5tpY5rM0ObRa"
      },
      "execution_count": 46,
      "outputs": []
    },
    {
      "cell_type": "code",
      "source": [
        "history = model.fit(x_train,\n",
        "                    y_train,\n",
        "                    epochs=20,\n",
        "                    batch_size=512,\n",
        "                    validation_data=(x_test, y_test))"
      ],
      "metadata": {
        "colab": {
          "base_uri": "https://localhost:8080/"
        },
        "id": "b0fU0G6PPH6q",
        "outputId": "580b9a7e-1150-486b-8225-a793681f8f5f"
      },
      "execution_count": 47,
      "outputs": [
        {
          "output_type": "stream",
          "name": "stdout",
          "text": [
            "Epoch 1/20\n",
            "18/18 [==============================] - 2s 79ms/step - loss: 3.8105 - accuracy: 0.2948 - val_loss: 3.7921 - val_accuracy: 0.3615\n",
            "Epoch 2/20\n",
            "18/18 [==============================] - 1s 63ms/step - loss: 3.7555 - accuracy: 0.3517 - val_loss: 3.7056 - val_accuracy: 0.3620\n",
            "Epoch 3/20\n",
            "18/18 [==============================] - 1s 57ms/step - loss: 3.6476 - accuracy: 0.3517 - val_loss: 3.5694 - val_accuracy: 0.3620\n",
            "Epoch 4/20\n",
            "18/18 [==============================] - 1s 56ms/step - loss: 3.4881 - accuracy: 0.3517 - val_loss: 3.3847 - val_accuracy: 0.3620\n",
            "Epoch 5/20\n",
            "18/18 [==============================] - 2s 90ms/step - loss: 3.2822 - accuracy: 0.3517 - val_loss: 3.1583 - val_accuracy: 0.3620\n",
            "Epoch 6/20\n",
            "18/18 [==============================] - 2s 98ms/step - loss: 3.0428 - accuracy: 0.3517 - val_loss: 2.9109 - val_accuracy: 0.3620\n",
            "Epoch 7/20\n",
            "18/18 [==============================] - 1s 59ms/step - loss: 2.8000 - accuracy: 0.3517 - val_loss: 2.6838 - val_accuracy: 0.3620\n",
            "Epoch 8/20\n",
            "18/18 [==============================] - 1s 54ms/step - loss: 2.5966 - accuracy: 0.3517 - val_loss: 2.5193 - val_accuracy: 0.3620\n",
            "Epoch 9/20\n",
            "18/18 [==============================] - 1s 57ms/step - loss: 2.4754 - accuracy: 0.3517 - val_loss: 2.4471 - val_accuracy: 0.3620\n",
            "Epoch 10/20\n",
            "18/18 [==============================] - 1s 59ms/step - loss: 2.4300 - accuracy: 0.3517 - val_loss: 2.4275 - val_accuracy: 0.3620\n",
            "Epoch 11/20\n",
            "18/18 [==============================] - 1s 58ms/step - loss: 2.4164 - accuracy: 0.3517 - val_loss: 2.4221 - val_accuracy: 0.3620\n",
            "Epoch 12/20\n",
            "18/18 [==============================] - 1s 55ms/step - loss: 2.4110 - accuracy: 0.3517 - val_loss: 2.4192 - val_accuracy: 0.3620\n",
            "Epoch 13/20\n",
            "18/18 [==============================] - 1s 56ms/step - loss: 2.4080 - accuracy: 0.3517 - val_loss: 2.4163 - val_accuracy: 0.3620\n",
            "Epoch 14/20\n",
            "18/18 [==============================] - 1s 55ms/step - loss: 2.4059 - accuracy: 0.3517 - val_loss: 2.4157 - val_accuracy: 0.3620\n",
            "Epoch 15/20\n",
            "18/18 [==============================] - 1s 57ms/step - loss: 2.4048 - accuracy: 0.3517 - val_loss: 2.4148 - val_accuracy: 0.3620\n",
            "Epoch 16/20\n",
            "18/18 [==============================] - 1s 74ms/step - loss: 2.4038 - accuracy: 0.3517 - val_loss: 2.4143 - val_accuracy: 0.3620\n",
            "Epoch 17/20\n",
            "18/18 [==============================] - 2s 103ms/step - loss: 2.4032 - accuracy: 0.3517 - val_loss: 2.4150 - val_accuracy: 0.3620\n",
            "Epoch 18/20\n",
            "18/18 [==============================] - 1s 64ms/step - loss: 2.4032 - accuracy: 0.3517 - val_loss: 2.4144 - val_accuracy: 0.3620\n",
            "Epoch 19/20\n",
            "18/18 [==============================] - 1s 54ms/step - loss: 2.4030 - accuracy: 0.3517 - val_loss: 2.4142 - val_accuracy: 0.3620\n",
            "Epoch 20/20\n",
            "18/18 [==============================] - 1s 57ms/step - loss: 2.4029 - accuracy: 0.3517 - val_loss: 2.4146 - val_accuracy: 0.3620\n"
          ]
        }
      ]
    },
    {
      "cell_type": "code",
      "source": [
        "results = model.evaluate(x_test , y_test)"
      ],
      "metadata": {
        "colab": {
          "base_uri": "https://localhost:8080/"
        },
        "id": "kvyuQMUpPTHW",
        "outputId": "2aa31fa1-8e1f-4e11-b113-ceef2fb93969"
      },
      "execution_count": 48,
      "outputs": [
        {
          "output_type": "stream",
          "name": "stdout",
          "text": [
            "71/71 [==============================] - 0s 6ms/step - loss: 2.4146 - accuracy: 0.3620\n"
          ]
        }
      ]
    },
    {
      "cell_type": "code",
      "source": [
        "results"
      ],
      "metadata": {
        "colab": {
          "base_uri": "https://localhost:8080/"
        },
        "id": "HnFcYKnsPjKU",
        "outputId": "6402e051-79c4-408a-954e-0ee6624d7200"
      },
      "execution_count": 49,
      "outputs": [
        {
          "output_type": "execute_result",
          "data": {
            "text/plain": [
              "[2.4146335124969482, 0.36197686195373535]"
            ]
          },
          "metadata": {},
          "execution_count": 49
        }
      ]
    },
    {
      "cell_type": "code",
      "source": [
        "predictions = model.predict(x_test)"
      ],
      "metadata": {
        "colab": {
          "base_uri": "https://localhost:8080/"
        },
        "id": "h8nZuDpiPpJ-",
        "outputId": "e7b39915-2b20-4495-e3e0-891772e9e056"
      },
      "execution_count": 50,
      "outputs": [
        {
          "output_type": "stream",
          "name": "stdout",
          "text": [
            "71/71 [==============================] - 0s 4ms/step\n"
          ]
        }
      ]
    },
    {
      "cell_type": "code",
      "source": [
        "predictions[0].shape"
      ],
      "metadata": {
        "colab": {
          "base_uri": "https://localhost:8080/"
        },
        "id": "ustk9jsCQG_r",
        "outputId": "e73ad918-1b69-4f10-cd06-3b31129f5679"
      },
      "execution_count": 51,
      "outputs": [
        {
          "output_type": "execute_result",
          "data": {
            "text/plain": [
              "(46,)"
            ]
          },
          "metadata": {},
          "execution_count": 51
        }
      ]
    },
    {
      "cell_type": "code",
      "source": [
        "np.argmax(predictions[0]) # class with highest probability"
      ],
      "metadata": {
        "colab": {
          "base_uri": "https://localhost:8080/"
        },
        "id": "-YKTB72zQNCl",
        "outputId": "7f303a30-d270-4e4e-d11e-4abbe4109bb1"
      },
      "execution_count": 52,
      "outputs": [
        {
          "output_type": "execute_result",
          "data": {
            "text/plain": [
              "3"
            ]
          },
          "metadata": {},
          "execution_count": 52
        }
      ]
    },
    {
      "cell_type": "markdown",
      "source": [
        "# Predicting house prices: a regression example\n",
        "\n",
        "Regression : predicting a continuous value."
      ],
      "metadata": {
        "id": "jTRNbX4scswg"
      }
    },
    {
      "cell_type": "markdown",
      "source": [
        "#The Boston housing price dataset\n",
        "we will  attempt to predict median price of homes in given Boston suburb in the mid -1970s\n",
        "This dataset has few data points ; only 506 ; split 404 training sample and 102 test samples . And each features in the input data has different scale .For instance , some value uses are proportions , which take value between 0 and 1 , others take values between 1 and 12 , others netween 0 and 100 "
      ],
      "metadata": {
        "id": "gk8DmmLmdR7b"
      }
    },
    {
      "cell_type": "markdown",
      "source": [
        "Loading the Boston housing dataset"
      ],
      "metadata": {
        "id": "uYEWGtaxecTG"
      }
    },
    {
      "cell_type": "code",
      "source": [
        "from tensorflow.keras.datasets import boston_housing\n",
        "(train_data , train_targets) , (test_data , test_targets) = boston_housing.load_data()"
      ],
      "metadata": {
        "id": "uc8mTKBxQVo9"
      },
      "execution_count": 53,
      "outputs": []
    },
    {
      "cell_type": "code",
      "source": [
        "train_data.shape # with 13 numerical features"
      ],
      "metadata": {
        "colab": {
          "base_uri": "https://localhost:8080/"
        },
        "id": "qcEaiKKkez5A",
        "outputId": "50158f98-91d1-438c-89ed-65f4b477260e"
      },
      "execution_count": 54,
      "outputs": [
        {
          "output_type": "execute_result",
          "data": {
            "text/plain": [
              "(404, 13)"
            ]
          },
          "metadata": {},
          "execution_count": 54
        }
      ]
    },
    {
      "cell_type": "code",
      "source": [
        "test_data.shape"
      ],
      "metadata": {
        "colab": {
          "base_uri": "https://localhost:8080/"
        },
        "id": "c7DPJh9Se2XD",
        "outputId": "4d76934b-c791-4314-87ed-cd78693a9585"
      },
      "execution_count": 55,
      "outputs": [
        {
          "output_type": "execute_result",
          "data": {
            "text/plain": [
              "(102, 13)"
            ]
          },
          "metadata": {},
          "execution_count": 55
        }
      ]
    },
    {
      "cell_type": "code",
      "source": [
        "# the targets are the median values of the owner occupied homes, in the thousand of dolars\n",
        "train_targets"
      ],
      "metadata": {
        "colab": {
          "base_uri": "https://localhost:8080/"
        },
        "id": "Qk2D0qqRe4rl",
        "outputId": "60f2a394-a4fd-4269-9c00-227f8f7cfb43"
      },
      "execution_count": 56,
      "outputs": [
        {
          "output_type": "execute_result",
          "data": {
            "text/plain": [
              "array([15.2, 42.3, 50. , 21.1, 17.7, 18.5, 11.3, 15.6, 15.6, 14.4, 12.1,\n",
              "       17.9, 23.1, 19.9, 15.7,  8.8, 50. , 22.5, 24.1, 27.5, 10.9, 30.8,\n",
              "       32.9, 24. , 18.5, 13.3, 22.9, 34.7, 16.6, 17.5, 22.3, 16.1, 14.9,\n",
              "       23.1, 34.9, 25. , 13.9, 13.1, 20.4, 20. , 15.2, 24.7, 22.2, 16.7,\n",
              "       12.7, 15.6, 18.4, 21. , 30.1, 15.1, 18.7,  9.6, 31.5, 24.8, 19.1,\n",
              "       22. , 14.5, 11. , 32. , 29.4, 20.3, 24.4, 14.6, 19.5, 14.1, 14.3,\n",
              "       15.6, 10.5,  6.3, 19.3, 19.3, 13.4, 36.4, 17.8, 13.5, 16.5,  8.3,\n",
              "       14.3, 16. , 13.4, 28.6, 43.5, 20.2, 22. , 23. , 20.7, 12.5, 48.5,\n",
              "       14.6, 13.4, 23.7, 50. , 21.7, 39.8, 38.7, 22.2, 34.9, 22.5, 31.1,\n",
              "       28.7, 46. , 41.7, 21. , 26.6, 15. , 24.4, 13.3, 21.2, 11.7, 21.7,\n",
              "       19.4, 50. , 22.8, 19.7, 24.7, 36.2, 14.2, 18.9, 18.3, 20.6, 24.6,\n",
              "       18.2,  8.7, 44. , 10.4, 13.2, 21.2, 37. , 30.7, 22.9, 20. , 19.3,\n",
              "       31.7, 32. , 23.1, 18.8, 10.9, 50. , 19.6,  5. , 14.4, 19.8, 13.8,\n",
              "       19.6, 23.9, 24.5, 25. , 19.9, 17.2, 24.6, 13.5, 26.6, 21.4, 11.9,\n",
              "       22.6, 19.6,  8.5, 23.7, 23.1, 22.4, 20.5, 23.6, 18.4, 35.2, 23.1,\n",
              "       27.9, 20.6, 23.7, 28. , 13.6, 27.1, 23.6, 20.6, 18.2, 21.7, 17.1,\n",
              "        8.4, 25.3, 13.8, 22.2, 18.4, 20.7, 31.6, 30.5, 20.3,  8.8, 19.2,\n",
              "       19.4, 23.1, 23. , 14.8, 48.8, 22.6, 33.4, 21.1, 13.6, 32.2, 13.1,\n",
              "       23.4, 18.9, 23.9, 11.8, 23.3, 22.8, 19.6, 16.7, 13.4, 22.2, 20.4,\n",
              "       21.8, 26.4, 14.9, 24.1, 23.8, 12.3, 29.1, 21. , 19.5, 23.3, 23.8,\n",
              "       17.8, 11.5, 21.7, 19.9, 25. , 33.4, 28.5, 21.4, 24.3, 27.5, 33.1,\n",
              "       16.2, 23.3, 48.3, 22.9, 22.8, 13.1, 12.7, 22.6, 15. , 15.3, 10.5,\n",
              "       24. , 18.5, 21.7, 19.5, 33.2, 23.2,  5. , 19.1, 12.7, 22.3, 10.2,\n",
              "       13.9, 16.3, 17. , 20.1, 29.9, 17.2, 37.3, 45.4, 17.8, 23.2, 29. ,\n",
              "       22. , 18. , 17.4, 34.6, 20.1, 25. , 15.6, 24.8, 28.2, 21.2, 21.4,\n",
              "       23.8, 31. , 26.2, 17.4, 37.9, 17.5, 20. ,  8.3, 23.9,  8.4, 13.8,\n",
              "        7.2, 11.7, 17.1, 21.6, 50. , 16.1, 20.4, 20.6, 21.4, 20.6, 36.5,\n",
              "        8.5, 24.8, 10.8, 21.9, 17.3, 18.9, 36.2, 14.9, 18.2, 33.3, 21.8,\n",
              "       19.7, 31.6, 24.8, 19.4, 22.8,  7.5, 44.8, 16.8, 18.7, 50. , 50. ,\n",
              "       19.5, 20.1, 50. , 17.2, 20.8, 19.3, 41.3, 20.4, 20.5, 13.8, 16.5,\n",
              "       23.9, 20.6, 31.5, 23.3, 16.8, 14. , 33.8, 36.1, 12.8, 18.3, 18.7,\n",
              "       19.1, 29. , 30.1, 50. , 50. , 22. , 11.9, 37.6, 50. , 22.7, 20.8,\n",
              "       23.5, 27.9, 50. , 19.3, 23.9, 22.6, 15.2, 21.7, 19.2, 43.8, 20.3,\n",
              "       33.2, 19.9, 22.5, 32.7, 22. , 17.1, 19. , 15. , 16.1, 25.1, 23.7,\n",
              "       28.7, 37.2, 22.6, 16.4, 25. , 29.8, 22.1, 17.4, 18.1, 30.3, 17.5,\n",
              "       24.7, 12.6, 26.5, 28.7, 13.3, 10.4, 24.4, 23. , 20. , 17.8,  7. ,\n",
              "       11.8, 24.4, 13.8, 19.4, 25.2, 19.4, 19.4, 29.1])"
            ]
          },
          "metadata": {},
          "execution_count": 56
        }
      ]
    },
    {
      "cell_type": "markdown",
      "source": [
        "#Preparing the data\n",
        "\n",
        "It would be problematic to feed into aneural network values that all take widely different ranges .The model might be able to automatically adapt the hetrogenious data , but it would definatky make learning difficult , for dealing with such data is to do feature normalization : for each feature in the input data , we subtract the mean of the feature and divide the standard deviation , so that the feature is centered around 0 and has a unit standard deviation"
      ],
      "metadata": {
        "id": "8yDCJXSCfs9w"
      }
    },
    {
      "cell_type": "markdown",
      "source": [
        "Normalizing the data"
      ],
      "metadata": {
        "id": "7a2NJxXBh8zh"
      }
    },
    {
      "cell_type": "code",
      "source": [
        "mean = train_data.mean(axis = 0)\n",
        "train_data -= mean \n",
        "std = train_data.std(axis =0)\n",
        "train_data /= std\n",
        "test_data -= mean\n",
        "test_data /= std\n",
        "# Note the quantities used for normalizing the test data are computed using training data"
      ],
      "metadata": {
        "id": "5LlVGdZ0fGF2"
      },
      "execution_count": 57,
      "outputs": []
    },
    {
      "cell_type": "markdown",
      "source": [
        "#Building the model\n",
        "\n",
        "As so few sample are available so we will use a very small model of two intermediate layers, each with 64 units .In general **the less training data we have the worse overfitting will be** , and using a small model is on way to imigate overfitting"
      ],
      "metadata": {
        "id": "un_ylZRFio6u"
      }
    },
    {
      "cell_type": "markdown",
      "source": [
        "Model definition"
      ],
      "metadata": {
        "id": "KRtF1XUIjVQp"
      }
    },
    {
      "cell_type": "code",
      "source": [
        "def build_model():\n",
        "  model = keras.Sequential([ # becz we need to instantiate the same model multiple times , we use a function to construct it\n",
        "      layers.Dense(64 , activation = \"relu\"),\n",
        "      layers.Dense(64, activation = \"relu\"),\n",
        "      layers.Dense(1)\n",
        "  ])\n",
        "  model.compile(\n",
        "    optimizer = \"rmsprop\",\n",
        "    loss = \"mse\",\n",
        "    metrics = [\"mae\"]\n",
        ")\n",
        "  return model "
      ],
      "metadata": {
        "id": "zXe-ghLfiniS"
      },
      "execution_count": 70,
      "outputs": []
    },
    {
      "cell_type": "markdown",
      "source": [
        "The model ends with a single unit and no activation (it will be linear layer) . This is a typical setup for scalar regression (A regression where you are trying to predict a single continuous value).\n",
        "\n",
        "\n",
        "Applying an activation function would  constrain the range the output can atke ; for instance ; if you applied a sigmoid activation function to the last layer , the model could only learn to predict values between 0 and 1 .Here , the last layer is purely linear , the model is free to learn to predict values in any range."
      ],
      "metadata": {
        "id": "StkIFoV5lASq"
      }
    },
    {
      "cell_type": "markdown",
      "source": [
        "# Validating your approach Using K - fold validation\n",
        "\n",
        "To evaluate our model while we keep adjusting its parameters(such as numbers of epochs used for training), we could split the data into a trainimg set and validation set , but becz we have so few data points , the validation set would end up being very small . As consequences , the validation scores might change a lot depending on which data points we chose for validation and which we chose for training ; the validation scores might have high **varience** with regard to the validation split . This would prevent us from reliable evaluating our model.\n",
        "\n",
        "\n",
        "the best practise is to use k-fold crossvalidation"
      ],
      "metadata": {
        "id": "a-H5ycliPM7U"
      }
    },
    {
      "cell_type": "markdown",
      "source": [
        "it consist of splitting the available data into k partitions(typically k = 4 or 5) , and training each one on k -1 partition while evaluating on the remaining partition . The validation scorefor the model used is then the average of the k validation scores obtained"
      ],
      "metadata": {
        "id": "fbyFwn8GRg1H"
      }
    },
    {
      "cell_type": "markdown",
      "source": [
        "k - fold validation\n"
      ],
      "metadata": {
        "id": "TUJo1z15R9N7"
      }
    },
    {
      "cell_type": "code",
      "source": [
        "import numpy as np\n",
        "import tensorflow as tf\n",
        "tf.keras.utils.custom_object_scope\n",
        "\n",
        "k = 4\n",
        "num_val_samples = len(train_data) // k\n",
        "num_epochs = 100\n",
        "all_scores = []\n",
        "for i in range(k):\n",
        "    print(f\" Processing fold #{i} \")\n",
        "    val_data = train_data[i * num_val_samples: (i + 1) * num_val_samples] # prepares the validation data from partition \n",
        "    val_targets = train_targets[i * num_val_samples: (i + 1) * num_val_samples]\n",
        "    partial_train_data = np.concatenate(   # prepares the training data : data from all other partitions\n",
        "        [train_data[:i * num_val_samples],\n",
        "         train_data[(i + 1) * num_val_samples:]],\n",
        "        axis=0)\n",
        "    partial_train_targets = np.concatenate(\n",
        "        [train_targets[:i * num_val_samples],\n",
        "         train_targets[(i + 1) * num_val_samples:]],\n",
        "        axis=0)\n",
        "    model = build_model()    # build the keras model \n",
        "    model.fit(partial_train_data, partial_train_targets, # train the model \n",
        "              epochs=num_epochs, batch_size=16, verbose=0)\n",
        "    val_mse, val_mae = model.evaluate(val_data, val_targets, verbose=0)  # evaluate the model on validation data\n",
        "    all_scores.append(val_mae)  "
      ],
      "metadata": {
        "colab": {
          "base_uri": "https://localhost:8080/"
        },
        "id": "TdFbiMwckCC3",
        "outputId": "5985359d-6aa8-4fbc-d842-810e6c48ccdf"
      },
      "execution_count": 72,
      "outputs": [
        {
          "output_type": "stream",
          "name": "stdout",
          "text": [
            " Processing fold #0 \n",
            " Processing fold #1 \n",
            " Processing fold #2 \n",
            " Processing fold #3 \n"
          ]
        }
      ]
    },
    {
      "cell_type": "code",
      "source": [
        "all_scores"
      ],
      "metadata": {
        "id": "1SLzDnXtSvLa",
        "outputId": "86450f40-6c6e-4767-f273-d9323e18bc0f",
        "colab": {
          "base_uri": "https://localhost:8080/"
        }
      },
      "execution_count": 73,
      "outputs": [
        {
          "output_type": "execute_result",
          "data": {
            "text/plain": [
              "[2.1458842754364014, 2.4742960929870605, 2.594013214111328, 2.524805784225464]"
            ]
          },
          "metadata": {},
          "execution_count": 73
        }
      ]
    },
    {
      "cell_type": "code",
      "source": [
        "np.mean(all_scores)"
      ],
      "metadata": {
        "id": "UwadQfvfXZCV",
        "outputId": "512335e0-e49d-49ec-e1fd-c8b930db3842",
        "colab": {
          "base_uri": "https://localhost:8080/"
        }
      },
      "execution_count": 74,
      "outputs": [
        {
          "output_type": "execute_result",
          "data": {
            "text/plain": [
              "2.4347498416900635"
            ]
          },
          "metadata": {},
          "execution_count": 74
        }
      ]
    },
    {
      "cell_type": "markdown",
      "source": [
        "Lets try training the model a bit longer : 500 epochs . To keep a record of how well the model does at each epochs , we will modify the training loop to save the per-epoch validation score log for each fold"
      ],
      "metadata": {
        "id": "lyp6EjvvXqEy"
      }
    },
    {
      "cell_type": "markdown",
      "source": [
        "Saving the validation logs at each fold"
      ],
      "metadata": {
        "id": "y9OYHmM7YG73"
      }
    },
    {
      "cell_type": "code",
      "source": [
        "num_epochs = 500\n",
        "all_mae_histories = []\n",
        "for i in range(k):\n",
        "    print(f\"Processing fold #{i}\")\n",
        "    val_data = train_data[i * num_val_samples: (i + 1) * num_val_samples]\n",
        "    val_targets = train_targets[i * num_val_samples: (i + 1) * num_val_samples]\n",
        "    partial_train_data = np.concatenate(\n",
        "        [train_data[:i * num_val_samples],\n",
        "         train_data[(i + 1) * num_val_samples:]],\n",
        "        axis=0)\n",
        "    partial_train_targets = np.concatenate(\n",
        "        [train_targets[:i * num_val_samples],\n",
        "         train_targets[(i + 1) * num_val_samples:]],\n",
        "        axis=0)\n",
        "    model = build_model()\n",
        "    history = model.fit(partial_train_data, partial_train_targets,\n",
        "                        validation_data=(val_data, val_targets),\n",
        "                        epochs=num_epochs, batch_size=16, verbose=0)\n",
        "    mae_history = history.history[\"val_mae\"]\n",
        "    all_mae_histories.append(mae_history)"
      ],
      "metadata": {
        "id": "TnnvoIXBXdlv",
        "outputId": "da3c2181-81db-421a-b8f3-605a24cb7ebd",
        "colab": {
          "base_uri": "https://localhost:8080/"
        }
      },
      "execution_count": 76,
      "outputs": [
        {
          "output_type": "stream",
          "name": "stdout",
          "text": [
            "Processing fold #0\n",
            "Processing fold #1\n",
            "Processing fold #2\n",
            "Processing fold #3\n"
          ]
        }
      ]
    },
    {
      "cell_type": "markdown",
      "source": [
        "Building the history of successive mean k -fold validation scores"
      ],
      "metadata": {
        "id": "74IvyVxmeDva"
      }
    },
    {
      "cell_type": "code",
      "source": [
        "average_mae_history = [\n",
        "    np.mean([x[i] for x in all_mae_histories]) for i in range(num_epochs) \n",
        "]"
      ],
      "metadata": {
        "id": "Id0tJaSAYL0C"
      },
      "execution_count": 77,
      "outputs": []
    },
    {
      "cell_type": "markdown",
      "source": [
        "plotting validation score"
      ],
      "metadata": {
        "id": "wIcZEUeQemE_"
      }
    },
    {
      "cell_type": "code",
      "source": [
        "plt.plot(range(1, len(average_mae_history) + 1), average_mae_history)\n",
        "plt.xlabel(\"Epochs\")\n",
        "plt.ylabel(\"Validation MAE\")\n",
        "plt.show()"
      ],
      "metadata": {
        "id": "4kcspsBZekOy",
        "outputId": "41d283b2-3178-4d50-a4a0-f74b5d951e8a",
        "colab": {
          "base_uri": "https://localhost:8080/",
          "height": 449
        }
      },
      "execution_count": 78,
      "outputs": [
        {
          "output_type": "display_data",
          "data": {
            "text/plain": [
              "<Figure size 640x480 with 1 Axes>"
            ],
            "image/png": "[encoded data removed]"
          },
          "metadata": {}
        }
      ]
    },
    {
      "cell_type": "markdown",
      "source": [
        "plotting validation score , excluding the first 10 data points"
      ],
      "metadata": {
        "id": "5x-coS6Oeto9"
      }
    },
    {
      "cell_type": "code",
      "source": [
        "truncated_mae_history = average_mae_history[10:]\n",
        "plt.plot(range(1, len(truncated_mae_history) + 1), truncated_mae_history)\n",
        "plt.xlabel(\"Epochs\")\n",
        "plt.ylabel(\"Validation MAE\")\n",
        "plt.show()"
      ],
      "metadata": {
        "id": "dv8PmRQterSj",
        "outputId": "08ac6e41-729d-4532-a6b2-173c04c24c0f",
        "colab": {
          "base_uri": "https://localhost:8080/",
          "height": 449
        }
      },
      "execution_count": 79,
      "outputs": [
        {
          "output_type": "display_data",
          "data": {
            "text/plain": [
              "<Figure size 640x480 with 1 Axes>"
            ],
            "image/png": "[encoded data removed]"
          },
          "metadata": {}
        }
      ]
    },
    {
      "cell_type": "markdown",
      "source": [
        "Training the final model"
      ],
      "metadata": {
        "id": "_LSgmFnJe8a7"
      }
    },
    {
      "cell_type": "code",
      "source": [
        "model = build_model()\n",
        "model.fit(train_data, train_targets,\n",
        "          epochs=130, batch_size=16, verbose=0)\n",
        "test_mse_score, test_mae_score = model.evaluate(test_data, test_targets)"
      ],
      "metadata": {
        "id": "453UhAm4e6tU",
        "outputId": "4e2ee8fe-469f-41e5-fc4c-eb65d02e4c13",
        "colab": {
          "base_uri": "https://localhost:8080/"
        }
      },
      "execution_count": 80,
      "outputs": [
        {
          "output_type": "stream",
          "name": "stdout",
          "text": [
            "4/4 [==============================] - 0s 5ms/step - loss: 13.8553 - mae: 2.5396\n"
          ]
        }
      ]
    },
    {
      "cell_type": "code",
      "source": [
        "test_mae_score"
      ],
      "metadata": {
        "id": "h80Fjqz2fCSc",
        "outputId": "9401a174-f36c-4655-9af2-9098772b5262",
        "colab": {
          "base_uri": "https://localhost:8080/"
        }
      },
      "execution_count": 81,
      "outputs": [
        {
          "output_type": "execute_result",
          "data": {
            "text/plain": [
              "2.5395684242248535"
            ]
          },
          "metadata": {},
          "execution_count": 81
        }
      ]
    },
    {
      "cell_type": "markdown",
      "source": [
        "Generating prediction on new data"
      ],
      "metadata": {
        "id": "3juUqUrOfKvI"
      }
    },
    {
      "cell_type": "code",
      "source": [
        "predictions = model.predict(test_data)"
      ],
      "metadata": {
        "id": "1UTrNSJ4fEKc",
        "outputId": "aca4c12b-6637-4de5-aa61-02e972f5f0a6",
        "colab": {
          "base_uri": "https://localhost:8080/"
        }
      },
      "execution_count": 82,
      "outputs": [
        {
          "output_type": "stream",
          "name": "stdout",
          "text": [
            "4/4 [==============================] - 0s 3ms/step\n"
          ]
        }
      ]
    },
    {
      "cell_type": "code",
      "source": [
        "predictions[0]"
      ],
      "metadata": {
        "id": "JDTqoGu9fR4u",
        "outputId": "dfb14d9b-e376-4400-a099-f5263c175521",
        "colab": {
          "base_uri": "https://localhost:8080/"
        }
      },
      "execution_count": 84,
      "outputs": [
        {
          "output_type": "execute_result",
          "data": {
            "text/plain": [
              "array([8.202162], dtype=float32)"
            ]
          },
          "metadata": {},
          "execution_count": 84
        }
      ]
    },
    {
      "cell_type": "code",
      "source": [],
      "metadata": {
        "id": "WpBSbbB3fS7o"
      },
      "execution_count": null,
      "outputs": []
    }
  ]
}