{
  "nbformat": 4,
  "nbformat_minor": 0,
  "metadata": {
    "colab": {
      "provenance": [],
      "authorship_tag": "ABX9TyM0H7w8QomFe58ZX4RNv+K/",
      "include_colab_link": true
    },
    "kernelspec": {
      "name": "python3",
      "display_name": "Python 3"
    },
    "language_info": {
      "name": "python"
    }
  },
  "cells": [
    {
      "cell_type": "markdown",
      "metadata": {
        "id": "view-in-github",
        "colab_type": "text"
      },
      "source": [
        "<a href=\"https://colab.research.google.com/github/radhika3131/Deep_Learning_with_Python/blob/main/ch_03_Getting_started_with_neural_network_Classification_and_regression.ipynb\" target=\"_parent\"><img src=\"https://colab.research.google.com/assets/colab-badge.svg\" alt=\"Open In Colab\"/></a>"
      ]
    },
    {
      "cell_type": "markdown",
      "source": [
        "# Classification and Regression glossary\n",
        "\n",
        "classification and regression involves mnay specialized terms .\n",
        "\n",
        "1. Sample or input- one data point that goes into your model\n",
        "2. Prediction or output - what comes out of you model .\n",
        "3. Target - The truth. what your model should ideally have predicted , according to an external source of data.\n",
        "4. classes - A set of possible labels to chose from in a classification problem .For example , when  classifying cat and dog pictures , \"dog\" and \"cat\" are the two classes.\n",
        "5. Label - A specific instance of class annotation in aclassification problem . For instance , if picture # 1234 is annotated as containing the class \"dog\" the \"dog\" is label of picture #1234\n",
        "6. Griund-Truth or annotations - All targets for a dataset, typically collected by humans.\n",
        "7. Binary Classification - A classification task where each input sample should be categorized into two exclusive categories.\n",
        "8. Multilabel Classification - A classification task where each input samples can be asssigned multiple labels , For instance , a given image may contain both a cat and dog and should be annnotated both with the \"cat\" label and the \"dog\" label .**The number of labels per image is usually varible**.\n",
        "9. Multiclass classification - A classification task where each input sample should be categorized into more than two categories:for instance , classifying handwritten digit.\n",
        "10. Scalar Regression - A task where the target is a  continuous scalar value .Predicting house price is agood example: the different target price from continuous space.\n",
        "11. Vector regression - a task where the target is a set of continuous values .for example , a continuous vector. if you are doing regression against  multiple values(such as coordinates of bounding box in a images.\n",
        "12. Mini- batch or Batch - a small set of samples(typically betwenn 8 and 128)\n",
        "that are processed simultaneously by the model . The number of samples is often a power of 2 , to facilitate the memory allocation of GPU . when training a mini-batch is used to ompute a single gradient descent update applied to the weights of the model\n"
      ],
      "metadata": {
        "id": "mhJDDLVqBgRJ"
      }
    },
    {
      "cell_type": "markdown",
      "source": [
        "#Classifying movie reviews: a binary classification\n",
        "\n",
        "you will learn to classify movie reviews as positive or negative ,based on the content of the movie"
      ],
      "metadata": {
        "id": "iTXaLE7uNlGo"
      }
    },
    {
      "cell_type": "markdown",
      "source": [
        "The IMDB dataset\n",
        " you will work work with the IMDB dataset : a set of 50,000 highly polarized reviews from the Internet Movie Database. They are split into 25,000 reviews for training and 25,000 reviews for testing , each set consisting of 50% negative and 50% positive reviews"
      ],
      "metadata": {
        "id": "2j6xPHm6OM3I"
      }
    },
    {
      "cell_type": "markdown",
      "source": [
        "Loading the dataset"
      ],
      "metadata": {
        "id": "tEyj6A-aO-j4"
      }
    },
    {
      "cell_type": "code",
      "execution_count": 1,
      "metadata": {
        "id": "nYBqqnYg_WID",
        "colab": {
          "base_uri": "https://localhost:8080/"
        },
        "outputId": "9ba3aa6c-2f3c-449d-e029-59a0b9c2ea4d"
      },
      "outputs": [
        {
          "output_type": "stream",
          "name": "stdout",
          "text": [
            "Downloading data from https://storage.googleapis.com/tensorflow/tf-keras-datasets/imdb.npz\n",
            "17464789/17464789 [==============================] - 0s 0us/step\n"
          ]
        }
      ],
      "source": [
        "from tensorflow.keras.datasets import imdb\n",
        "(train_data , train_labels) , (test_data , test_labels) = imdb.load_data(num_words = 10000)\n",
        "# the argument num_words = 100000 means you will only keep the top 10,000 most frequently occuring words in the training data, this allow us to work work with manageble size"
      ]
    },
    {
      "cell_type": "markdown",
      "source": [
        "The variable train__data and test_data are list of reviews ;each review is a list of word indices.train_labels and test_labels are list of 0's and 1's , 0 stand for negatibe and 1 stand for positive"
      ],
      "metadata": {
        "id": "dEu5ci1pRCIS"
      }
    },
    {
      "cell_type": "code",
      "source": [
        "train_data[0]"
      ],
      "metadata": {
        "colab": {
          "base_uri": "https://localhost:8080/"
        },
        "id": "vpcj6XUgQ_kP",
        "outputId": "affe21bf-ab5b-43b4-a66f-b826f8ea8e41"
      },
      "execution_count": 2,
      "outputs": [
        {
          "output_type": "execute_result",
          "data": {
            "text/plain": [
              "[1,\n",
              " 14,\n",
              " 22,\n",
              " 16,\n",
              " 43,\n",
              " 530,\n",
              " 973,\n",
              " 1622,\n",
              " 1385,\n",
              " 65,\n",
              " 458,\n",
              " 4468,\n",
              " 66,\n",
              " 3941,\n",
              " 4,\n",
              " 173,\n",
              " 36,\n",
              " 256,\n",
              " 5,\n",
              " 25,\n",
              " 100,\n",
              " 43,\n",
              " 838,\n",
              " 112,\n",
              " 50,\n",
              " 670,\n",
              " 2,\n",
              " 9,\n",
              " 35,\n",
              " 480,\n",
              " 284,\n",
              " 5,\n",
              " 150,\n",
              " 4,\n",
              " 172,\n",
              " 112,\n",
              " 167,\n",
              " 2,\n",
              " 336,\n",
              " 385,\n",
              " 39,\n",
              " 4,\n",
              " 172,\n",
              " 4536,\n",
              " 1111,\n",
              " 17,\n",
              " 546,\n",
              " 38,\n",
              " 13,\n",
              " 447,\n",
              " 4,\n",
              " 192,\n",
              " 50,\n",
              " 16,\n",
              " 6,\n",
              " 147,\n",
              " 2025,\n",
              " 19,\n",
              " 14,\n",
              " 22,\n",
              " 4,\n",
              " 1920,\n",
              " 4613,\n",
              " 469,\n",
              " 4,\n",
              " 22,\n",
              " 71,\n",
              " 87,\n",
              " 12,\n",
              " 16,\n",
              " 43,\n",
              " 530,\n",
              " 38,\n",
              " 76,\n",
              " 15,\n",
              " 13,\n",
              " 1247,\n",
              " 4,\n",
              " 22,\n",
              " 17,\n",
              " 515,\n",
              " 17,\n",
              " 12,\n",
              " 16,\n",
              " 626,\n",
              " 18,\n",
              " 2,\n",
              " 5,\n",
              " 62,\n",
              " 386,\n",
              " 12,\n",
              " 8,\n",
              " 316,\n",
              " 8,\n",
              " 106,\n",
              " 5,\n",
              " 4,\n",
              " 2223,\n",
              " 5244,\n",
              " 16,\n",
              " 480,\n",
              " 66,\n",
              " 3785,\n",
              " 33,\n",
              " 4,\n",
              " 130,\n",
              " 12,\n",
              " 16,\n",
              " 38,\n",
              " 619,\n",
              " 5,\n",
              " 25,\n",
              " 124,\n",
              " 51,\n",
              " 36,\n",
              " 135,\n",
              " 48,\n",
              " 25,\n",
              " 1415,\n",
              " 33,\n",
              " 6,\n",
              " 22,\n",
              " 12,\n",
              " 215,\n",
              " 28,\n",
              " 77,\n",
              " 52,\n",
              " 5,\n",
              " 14,\n",
              " 407,\n",
              " 16,\n",
              " 82,\n",
              " 2,\n",
              " 8,\n",
              " 4,\n",
              " 107,\n",
              " 117,\n",
              " 5952,\n",
              " 15,\n",
              " 256,\n",
              " 4,\n",
              " 2,\n",
              " 7,\n",
              " 3766,\n",
              " 5,\n",
              " 723,\n",
              " 36,\n",
              " 71,\n",
              " 43,\n",
              " 530,\n",
              " 476,\n",
              " 26,\n",
              " 400,\n",
              " 317,\n",
              " 46,\n",
              " 7,\n",
              " 4,\n",
              " 2,\n",
              " 1029,\n",
              " 13,\n",
              " 104,\n",
              " 88,\n",
              " 4,\n",
              " 381,\n",
              " 15,\n",
              " 297,\n",
              " 98,\n",
              " 32,\n",
              " 2071,\n",
              " 56,\n",
              " 26,\n",
              " 141,\n",
              " 6,\n",
              " 194,\n",
              " 7486,\n",
              " 18,\n",
              " 4,\n",
              " 226,\n",
              " 22,\n",
              " 21,\n",
              " 134,\n",
              " 476,\n",
              " 26,\n",
              " 480,\n",
              " 5,\n",
              " 144,\n",
              " 30,\n",
              " 5535,\n",
              " 18,\n",
              " 51,\n",
              " 36,\n",
              " 28,\n",
              " 224,\n",
              " 92,\n",
              " 25,\n",
              " 104,\n",
              " 4,\n",
              " 226,\n",
              " 65,\n",
              " 16,\n",
              " 38,\n",
              " 1334,\n",
              " 88,\n",
              " 12,\n",
              " 16,\n",
              " 283,\n",
              " 5,\n",
              " 16,\n",
              " 4472,\n",
              " 113,\n",
              " 103,\n",
              " 32,\n",
              " 15,\n",
              " 16,\n",
              " 5345,\n",
              " 19,\n",
              " 178,\n",
              " 32]"
            ]
          },
          "metadata": {},
          "execution_count": 2
        }
      ]
    },
    {
      "cell_type": "code",
      "source": [
        "train_labels[0]"
      ],
      "metadata": {
        "colab": {
          "base_uri": "https://localhost:8080/"
        },
        "id": "k2Y-3rrfRZtW",
        "outputId": "e1d8489a-9326-4e38-9f8c-4e6c6df5a4b0"
      },
      "execution_count": 3,
      "outputs": [
        {
          "output_type": "execute_result",
          "data": {
            "text/plain": [
              "1"
            ]
          },
          "metadata": {},
          "execution_count": 3
        }
      ]
    },
    {
      "cell_type": "code",
      "source": [
        "# as we are restricting ourselves on the top 10,000 nost frequent words , no word index will exceed 10,000\n",
        "max([max(sequence) for sequence in train_data]) "
      ],
      "metadata": {
        "colab": {
          "base_uri": "https://localhost:8080/"
        },
        "id": "srF6gkXrRe8N",
        "outputId": "148c77c0-335c-41f4-a8b3-5204d5972792"
      },
      "execution_count": null,
      "outputs": [
        {
          "output_type": "execute_result",
          "data": {
            "text/plain": [
              "9999"
            ]
          },
          "metadata": {},
          "execution_count": 5
        }
      ]
    },
    {
      "cell_type": "markdown",
      "source": [
        "Decoding reviews back to english word(text)"
      ],
      "metadata": {
        "id": "ws6bhcwCSFIV"
      }
    },
    {
      "cell_type": "code",
      "source": [
        "word_index = imdb.get_word_index() # word_index is a dictionary mapping words to an integer index\n",
        "reverse_word_index = dict(\n",
        "    [(value, key) for (key , value ) in word_index.items()]# reverse it map integer indexes to a word \n",
        ")\n",
        "\n",
        "decode_review = \" \".join(\n",
        "    [reverse_word_index.get(i - 3 , \"?\") for i in train_data[0]]\n",
        ")\n",
        "# decode the review ,Note that the indices are offset by 3 becz 0 and 1 and 2 are reserved indices for \"padding\" , \"start of sequence \" and \"unknown\""
      ],
      "metadata": {
        "colab": {
          "base_uri": "https://localhost:8080/"
        },
        "id": "yltaSgeuR1fa",
        "outputId": "5b85c008-d74c-4288-b521-a127e76e44ac"
      },
      "execution_count": 4,
      "outputs": [
        {
          "output_type": "stream",
          "name": "stdout",
          "text": [
            "Downloading data from https://storage.googleapis.com/tensorflow/tf-keras-datasets/imdb_word_index.json\n",
            "1641221/1641221 [==============================] - 0s 0us/step\n"
          ]
        }
      ]
    },
    {
      "cell_type": "markdown",
      "source": [
        "#Preparing the data\n",
        "\n",
        "you can directly feed the list into the neural network. they all have different length , but neural network expects to process contiguous batches of data, you have to turn your list into tensors\n",
        "\n",
        "1. pad your list so that they all have the same length , turn them into a integer tensor of shaoe(samples, max_length )\n",
        "2. Multi-hot encode your lists to turn them into vector of 0s and 1s"
      ],
      "metadata": {
        "id": "dYyFFRuxWD8l"
      }
    },
    {
      "cell_type": "markdown",
      "source": [
        "Encoding the integer sequence via multi-hot encoding"
      ],
      "metadata": {
        "id": "A4vQ5SHFXwyE"
      }
    },
    {
      "cell_type": "code",
      "source": [
        "import numpy as np\n",
        "def vectorize_sequences(sequences , dimension = 10000):\n",
        "  results = np.zeros((len(sequences) , dimension)) # create an all -zeros matrix of shape(lrn(sequences), dimension)\n",
        "  for i , sequence in enumerate(sequences):\n",
        "    for j in sequence:\n",
        "      results[i,j] = 1  # sets specific indices of results[i] to 1s\n",
        "    return results\n",
        "\n",
        "x_train = vectorize_sequences(train_data) # vectorized train data\n",
        "x_test = vectorize_sequences(test_data) # vectorized test data"
      ],
      "metadata": {
        "id": "-OLYZWRqV6pv"
      },
      "execution_count": 5,
      "outputs": []
    },
    {
      "cell_type": "code",
      "source": [
        "x_train[0]"
      ],
      "metadata": {
        "colab": {
          "base_uri": "https://localhost:8080/"
        },
        "id": "ejo9JR9gZKwk",
        "outputId": "130542b9-d743-449d-d9b9-7646115cbd3c"
      },
      "execution_count": 6,
      "outputs": [
        {
          "output_type": "execute_result",
          "data": {
            "text/plain": [
              "array([0., 1., 1., ..., 0., 0., 0.])"
            ]
          },
          "metadata": {},
          "execution_count": 6
        }
      ]
    },
    {
      "cell_type": "code",
      "source": [
        "# you should also vectorized you labels\n",
        "y_train = np.array(train_labels).astype(\"float32\")\n",
        "y_test = np.array(test_labels).astype(\"float32\")\n",
        "\n",
        "# now data is ready to fed into neural network"
      ],
      "metadata": {
        "id": "ovijr_aUZTSn"
      },
      "execution_count": 7,
      "outputs": []
    },
    {
      "cell_type": "markdown",
      "source": [
        "Building your model\n",
        "\n",
        "A type of model that performs on such type of problem is a simple stack of densly connected(Dense) layer with relu activation function.\n",
        "There are two key architecture decisions to be made about such a stack of Dense layers.\n",
        "1. how many layers to chose\n",
        "2. How many units to chose for each layer"
      ],
      "metadata": {
        "id": "DfmlL-ayaKho"
      }
    },
    {
      "cell_type": "markdown",
      "source": [
        "Model definition"
      ],
      "metadata": {
        "id": "GTKYG1WKbAqW"
      }
    },
    {
      "cell_type": "code",
      "source": [
        "from tensorflow import keras \n",
        "from tensorflow.keras import layers\n",
        "\n",
        "model = keras.Sequential([\n",
        "    layers.Dense(16, activation = \"relu\"),\n",
        "    layers.Dense(16, activation = \"relu\"),\n",
        "    layers.Dense(1 , activation = \"sigmoid\")\n",
        "])"
      ],
      "metadata": {
        "id": "x-ZWhNgpZnIU"
      },
      "execution_count": 8,
      "outputs": []
    },
    {
      "cell_type": "markdown",
      "source": [
        "Compiling the model"
      ],
      "metadata": {
        "id": "uKBsmf7Ce8jv"
      }
    },
    {
      "cell_type": "code",
      "source": [
        "model.compile(\n",
        "    optimizer = \"rmsprop\",\n",
        "    loss = \"binary_crossentropy\",\n",
        "    metrics = [\"accuracy\"]\n",
        ")"
      ],
      "metadata": {
        "id": "PgjVp9XxbrkB"
      },
      "execution_count": 9,
      "outputs": []
    },
    {
      "cell_type": "markdown",
      "source": [
        "# Validating your approach\n",
        "its a standard practice to monitor the accuracy of the model during training ."
      ],
      "metadata": {
        "id": "KHKN-Zh5fXJc"
      }
    },
    {
      "cell_type": "markdown",
      "source": [
        "Setting aside a validating set"
      ],
      "metadata": {
        "id": "svq98DZcfokf"
      }
    },
    {
      "cell_type": "code",
      "source": [
        "x_val = x_train[:10000]\n",
        "partial_x_train = x_train[10000:]\n",
        "y_val = y_train[:10000]\n",
        "partial_y_train = y_train[10000:]"
      ],
      "metadata": {
        "id": "PqzYT3lAfOvr"
      },
      "execution_count": 10,
      "outputs": []
    },
    {
      "cell_type": "markdown",
      "source": [
        "Training the model"
      ],
      "metadata": {
        "id": "OWuLMKRNgID-"
      }
    },
    {
      "cell_type": "code",
      "source": [
        "x_val = x_train[:10000]\n",
        "partial_x_train = x_train[10000:]\n",
        "y_val = y_train[:10000]\n",
        "partial_y_train = y_train[10000:]\n",
        "history = model.fit(partial_x_train,\n",
        "                    partial_y_train,\n",
        "                    epochs=20,\n",
        "                    batch_size=512,\n",
        "                    validation_data=(x_val, y_val))"
      ],
      "metadata": {
        "colab": {
          "base_uri": "https://localhost:8080/"
        },
        "id": "5dvAHAj0f8qd",
        "outputId": "9a2fca48-6cc9-4db3-e008-e184a77e9205"
      },
      "execution_count": 11,
      "outputs": [
        {
          "output_type": "stream",
          "name": "stdout",
          "text": [
            "Epoch 1/20\n",
            "30/30 [==============================] - 3s 78ms/step - loss: 0.6932 - accuracy: 0.5001 - val_loss: 0.6932 - val_accuracy: 0.4948\n",
            "Epoch 2/20\n",
            "30/30 [==============================] - 2s 57ms/step - loss: 0.6931 - accuracy: 0.5035 - val_loss: 0.6932 - val_accuracy: 0.4948\n",
            "Epoch 3/20\n",
            "30/30 [==============================] - 1s 42ms/step - loss: 0.6931 - accuracy: 0.5035 - val_loss: 0.6932 - val_accuracy: 0.4948\n",
            "Epoch 4/20\n",
            "30/30 [==============================] - 1s 49ms/step - loss: 0.6931 - accuracy: 0.5035 - val_loss: 0.6932 - val_accuracy: 0.4948\n",
            "Epoch 5/20\n",
            "30/30 [==============================] - 2s 53ms/step - loss: 0.6931 - accuracy: 0.5035 - val_loss: 0.6932 - val_accuracy: 0.4948\n",
            "Epoch 6/20\n",
            "30/30 [==============================] - 1s 36ms/step - loss: 0.6931 - accuracy: 0.5035 - val_loss: 0.6932 - val_accuracy: 0.4948\n",
            "Epoch 7/20\n",
            "30/30 [==============================] - 1s 37ms/step - loss: 0.6931 - accuracy: 0.5035 - val_loss: 0.6932 - val_accuracy: 0.4948\n",
            "Epoch 8/20\n",
            "30/30 [==============================] - 1s 37ms/step - loss: 0.6931 - accuracy: 0.5035 - val_loss: 0.6932 - val_accuracy: 0.4948\n",
            "Epoch 9/20\n",
            "30/30 [==============================] - 1s 37ms/step - loss: 0.6931 - accuracy: 0.5035 - val_loss: 0.6932 - val_accuracy: 0.4948\n",
            "Epoch 10/20\n",
            "30/30 [==============================] - 1s 36ms/step - loss: 0.6931 - accuracy: 0.5035 - val_loss: 0.6933 - val_accuracy: 0.4948\n",
            "Epoch 11/20\n",
            "30/30 [==============================] - 2s 53ms/step - loss: 0.6931 - accuracy: 0.5035 - val_loss: 0.6932 - val_accuracy: 0.4948\n",
            "Epoch 12/20\n",
            "30/30 [==============================] - 2s 55ms/step - loss: 0.6931 - accuracy: 0.5035 - val_loss: 0.6932 - val_accuracy: 0.4948\n",
            "Epoch 13/20\n",
            "30/30 [==============================] - 1s 39ms/step - loss: 0.6931 - accuracy: 0.5035 - val_loss: 0.6933 - val_accuracy: 0.4948\n",
            "Epoch 14/20\n",
            "30/30 [==============================] - 1s 37ms/step - loss: 0.6931 - accuracy: 0.5035 - val_loss: 0.6933 - val_accuracy: 0.4948\n",
            "Epoch 15/20\n",
            "30/30 [==============================] - 1s 38ms/step - loss: 0.6931 - accuracy: 0.5035 - val_loss: 0.6933 - val_accuracy: 0.4948\n",
            "Epoch 16/20\n",
            "30/30 [==============================] - 1s 37ms/step - loss: 0.6931 - accuracy: 0.5035 - val_loss: 0.6933 - val_accuracy: 0.4948\n",
            "Epoch 17/20\n",
            "30/30 [==============================] - 1s 36ms/step - loss: 0.6931 - accuracy: 0.5035 - val_loss: 0.6933 - val_accuracy: 0.4948\n",
            "Epoch 18/20\n",
            "30/30 [==============================] - 1s 36ms/step - loss: 0.6931 - accuracy: 0.5035 - val_loss: 0.6932 - val_accuracy: 0.4948\n",
            "Epoch 19/20\n",
            "30/30 [==============================] - 1s 36ms/step - loss: 0.6931 - accuracy: 0.5035 - val_loss: 0.6932 - val_accuracy: 0.4948\n",
            "Epoch 20/20\n",
            "30/30 [==============================] - 1s 37ms/step - loss: 0.6931 - accuracy: 0.5035 - val_loss: 0.6933 - val_accuracy: 0.4948\n"
          ]
        }
      ]
    },
    {
      "cell_type": "markdown",
      "source": [
        "call to model.fit() returns a history object , This object has a member history, which is dictionary containing data about every things happen during training."
      ],
      "metadata": {
        "id": "fuugROciJfG2"
      }
    },
    {
      "cell_type": "code",
      "source": [
        "history_dict = history.history\n",
        "history_dict.keys()"
      ],
      "metadata": {
        "colab": {
          "base_uri": "https://localhost:8080/"
        },
        "id": "e-1abPqGgtRz",
        "outputId": "7b406c50-5afc-437f-bf47-259177e1ff45"
      },
      "execution_count": 12,
      "outputs": [
        {
          "output_type": "execute_result",
          "data": {
            "text/plain": [
              "dict_keys(['loss', 'accuracy', 'val_loss', 'val_accuracy'])"
            ]
          },
          "metadata": {},
          "execution_count": 12
        }
      ]
    },
    {
      "cell_type": "markdown",
      "source": [
        "Plotting the training and validation loss"
      ],
      "metadata": {
        "id": "rZILHytMKa7z"
      }
    },
    {
      "cell_type": "code",
      "source": [
        "import matplotlib.pyplot as plt\n",
        "history_dict = history.history\n",
        "loss_values = history_dict[\"loss\"]\n",
        "val_loss_values = history_dict[\"val_loss\"]\n",
        "epochs = range(1, len(loss_values) + 1)\n",
        "plt.plot(epochs , loss_values , \"bo\" , label = \"Training loss\") # \" bo\" is for blue dot\n",
        "plt.plot(epochs , val_loss_values , \"b\" , label = \"Validation loss\") # b is for \"solid blue line\"\n",
        "plt.xlabel(\"Epochs\")\n",
        "plt.ylabel(\"Loss\")\n",
        "plt.legend()\n",
        "plt.show()\n"
      ],
      "metadata": {
        "colab": {
          "base_uri": "https://localhost:8080/",
          "height": 279
        },
        "id": "Lheq7ERXJ6pG",
        "outputId": "fcd76b36-d7df-4cdd-8482-492aadd0f2d7"
      },
      "execution_count": 13,
      "outputs": [
        {
          "output_type": "display_data",
          "data": {
            "text/plain": [
              "<Figure size 432x288 with 1 Axes>"
            ],
            "image/png": "[encoded data removed]"
          },
          "metadata": {
            "needs_background": "light"
          }
        }
      ]
    },
    {
      "cell_type": "markdown",
      "source": [
        "plotting the training and validation accuracy"
      ],
      "metadata": {
        "id": "rMBsdSvwMDEQ"
      }
    },
    {
      "cell_type": "code",
      "source": [
        "plt.clf()\n",
        "acc = history_dict[\"accuracy\"]\n",
        "val_acc = history_dict[\"val_accuracy\"]\n",
        "epochs = range(1, len(loss_values) + 1)\n",
        "plt.plot(epochs , acc , \"bo\" , label = \"Training acc\") # \" bo\" is for blue dot\n",
        "plt.plot(epochs , val_acc , \"b\" , label = \"Validation acc\") # b is for \"solid blue line\"\n",
        "plt.title(\"Training and validation accuracy\")\n",
        "plt.xlabel(\"Epochs\")\n",
        "plt.ylabel(\"Accuracy\")\n",
        "plt.legend()\n",
        "plt.show()\n"
      ],
      "metadata": {
        "colab": {
          "base_uri": "https://localhost:8080/",
          "height": 295
        },
        "id": "xvdc5ijUL2zu",
        "outputId": "c344bd89-038c-4a7e-ac90-2c6d30cd8864"
      },
      "execution_count": 42,
      "outputs": [
        {
          "output_type": "display_data",
          "data": {
            "text/plain": [
              "<Figure size 432x288 with 1 Axes>"
            ],
            "image/png": "[encoded data removed]"
          },
          "metadata": {
            "needs_background": "light"
          }
        }
      ]
    },
    {
      "cell_type": "markdown",
      "source": [
        "As you can see , the training loss decreases with evert epoch , the training accuracy increases with every epochs. But this is not the case for the validaton loss and accuracy : they seem to peak at the fourth epoch .\n",
        "\n",
        "Basically a model that performs better on trainimg data  is not neccesarily a model that will do better on the data it has never seen before . In precise term what you are seeing is **Overfitting**.,after the fouth epoch , you are overoptimizing on the training data , and you end up learning representation that are specific to the trainig data and do'nt generate to data outside of the trainin set."
      ],
      "metadata": {
        "id": "sqLoyUEVNo3c"
      }
    },
    {
      "cell_type": "markdown",
      "source": [
        "Lets train a new model from scrach for four epochs and then evaluate it on the test data"
      ],
      "metadata": {
        "id": "lplL3iyuO8Ir"
      }
    },
    {
      "cell_type": "code",
      "source": [
        "model = keras.Sequential([\n",
        "    layers.Dense(16 , activation = \"relu\"),\n",
        "    layers.Dense(16 , activation = \"relu\"),\n",
        "    layers.Dense(1 , activation = \"sigmoid\")\n",
        "\n",
        "])"
      ],
      "metadata": {
        "id": "d7a-sRlVMl0y"
      },
      "execution_count": 15,
      "outputs": []
    },
    {
      "cell_type": "code",
      "source": [
        "model.compile(\n",
        "    optimizer = \"rmsprop\",\n",
        "    loss = \"binary_crossentropy\",\n",
        "    metrics = [\"accuracy\"]\n",
        ")"
      ],
      "metadata": {
        "id": "FjG4U-apPhs_"
      },
      "execution_count": 16,
      "outputs": []
    },
    {
      "cell_type": "code",
      "source": [
        "model.fit(x_train , y_train , epochs = 4 , batch_size = 512 \n",
        ")"
      ],
      "metadata": {
        "colab": {
          "base_uri": "https://localhost:8080/"
        },
        "id": "i5KsWKTTQN9f",
        "outputId": "3ff3e51a-832d-4322-ec00-8fb08361ce7d"
      },
      "execution_count": 17,
      "outputs": [
        {
          "output_type": "stream",
          "name": "stdout",
          "text": [
            "Epoch 1/4\n",
            "49/49 [==============================] - 3s 43ms/step - loss: 0.6932 - accuracy: 0.4984\n",
            "Epoch 2/4\n",
            "49/49 [==============================] - 3s 67ms/step - loss: 0.6932 - accuracy: 0.4972\n",
            "Epoch 3/4\n",
            "49/49 [==============================] - 2s 43ms/step - loss: 0.6931 - accuracy: 0.4934\n",
            "Epoch 4/4\n",
            "49/49 [==============================] - 1s 27ms/step - loss: 0.6931 - accuracy: 0.5001\n"
          ]
        },
        {
          "output_type": "execute_result",
          "data": {
            "text/plain": [
              "<keras.callbacks.History at 0x7f697a27eb50>"
            ]
          },
          "metadata": {},
          "execution_count": 17
        }
      ]
    },
    {
      "cell_type": "code",
      "source": [
        "result = model.evaluate(x_test , y_test)"
      ],
      "metadata": {
        "colab": {
          "base_uri": "https://localhost:8080/"
        },
        "id": "SQUitmF_QvsV",
        "outputId": "636db857-ad23-4787-dc6e-8ce775be5b77"
      },
      "execution_count": 18,
      "outputs": [
        {
          "output_type": "stream",
          "name": "stdout",
          "text": [
            "782/782 [==============================] - 3s 3ms/step - loss: 0.6932 - accuracy: 0.5000\n"
          ]
        }
      ]
    },
    {
      "cell_type": "code",
      "source": [
        "result"
      ],
      "metadata": {
        "colab": {
          "base_uri": "https://localhost:8080/"
        },
        "id": "D7koEv7rQ4Yl",
        "outputId": "6958e24e-d7bc-4400-cdbd-0e4f5affeeda"
      },
      "execution_count": 19,
      "outputs": [
        {
          "output_type": "execute_result",
          "data": {
            "text/plain": [
              "[0.6931504011154175, 0.5]"
            ]
          },
          "metadata": {},
          "execution_count": 19
        }
      ]
    },
    {
      "cell_type": "markdown",
      "source": [
        "Using a trained model to generate prediction on new data"
      ],
      "metadata": {
        "id": "RQTELKv3ReSq"
      }
    },
    {
      "cell_type": "code",
      "source": [
        "model.predict(x_test)"
      ],
      "metadata": {
        "colab": {
          "base_uri": "https://localhost:8080/"
        },
        "id": "WoNwoAkeRlnO",
        "outputId": "61bcdf9e-f70d-4b1a-f537-8686ff1ae1f6"
      },
      "execution_count": 20,
      "outputs": [
        {
          "output_type": "stream",
          "name": "stdout",
          "text": [
            "782/782 [==============================] - 2s 2ms/step\n"
          ]
        },
        {
          "output_type": "execute_result",
          "data": {
            "text/plain": [
              "array([[0.53623116],\n",
              "       [0.5005294 ],\n",
              "       [0.5005294 ],\n",
              "       ...,\n",
              "       [0.5005294 ],\n",
              "       [0.5005294 ],\n",
              "       [0.5005294 ]], dtype=float32)"
            ]
          },
          "metadata": {},
          "execution_count": 20
        }
      ]
    },
    {
      "cell_type": "markdown",
      "source": [
        "# Classifying newswires : A multiclass classification example\n",
        "\n",
        "In this section , we will build a model to classify Reuters newswires into 46 mutually exclusive topics. Becz we have many classes , this problem is an instance of the multiclass classification , and because each data point should be classified inbto only one category , the problem is more specifically an instance of single label multiclass classification "
      ],
      "metadata": {
        "id": "1GiHVFTYsIbJ"
      }
    },
    {
      "cell_type": "markdown",
      "source": [
        "Reuters dataset , a set of short newswires and their topics"
      ],
      "metadata": {
        "id": "B9c4UoxbttXa"
      }
    },
    {
      "cell_type": "markdown",
      "source": [
        "Loading the Reuters dataset"
      ],
      "metadata": {
        "id": "BJ-iG66at2J5"
      }
    },
    {
      "cell_type": "code",
      "source": [
        "from tensorflow.keras.datasets import reuters\n",
        "(train_data , train_labels) , (test_data , test_labels) = reuters.load_data(num_words = 10000)"
      ],
      "metadata": {
        "colab": {
          "base_uri": "https://localhost:8080/"
        },
        "id": "RQ4qAlxdt1In",
        "outputId": "4f6243bf-fd4b-4e30-8929-bd6edd8ae025"
      },
      "execution_count": 22,
      "outputs": [
        {
          "output_type": "stream",
          "name": "stdout",
          "text": [
            "Downloading data from https://storage.googleapis.com/tensorflow/tf-keras-datasets/reuters.npz\n",
            "2110848/2110848 [==============================] - 0s 0us/step\n"
          ]
        }
      ]
    },
    {
      "cell_type": "code",
      "source": [
        "len(train_data)"
      ],
      "metadata": {
        "id": "980npq-XRllI",
        "colab": {
          "base_uri": "https://localhost:8080/"
        },
        "outputId": "2814f5e7-9706-42c7-a6fc-789c867eaed3"
      },
      "execution_count": 24,
      "outputs": [
        {
          "output_type": "execute_result",
          "data": {
            "text/plain": [
              "8982"
            ]
          },
          "metadata": {},
          "execution_count": 24
        }
      ]
    },
    {
      "cell_type": "code",
      "source": [
        "len(test_data)"
      ],
      "metadata": {
        "colab": {
          "base_uri": "https://localhost:8080/"
        },
        "id": "9iPzmSY4u-24",
        "outputId": "d89e288d-bc2c-4456-aa3c-7fc615f566a3"
      },
      "execution_count": 25,
      "outputs": [
        {
          "output_type": "execute_result",
          "data": {
            "text/plain": [
              "2246"
            ]
          },
          "metadata": {},
          "execution_count": 25
        }
      ]
    },
    {
      "cell_type": "code",
      "source": [
        "train_data[10]"
      ],
      "metadata": {
        "colab": {
          "base_uri": "https://localhost:8080/"
        },
        "id": "KuPaapv9vAiL",
        "outputId": "521d53c2-a27d-496b-a8e8-a2dd801ab2a7"
      },
      "execution_count": 26,
      "outputs": [
        {
          "output_type": "execute_result",
          "data": {
            "text/plain": [
              "[1,\n",
              " 245,\n",
              " 273,\n",
              " 207,\n",
              " 156,\n",
              " 53,\n",
              " 74,\n",
              " 160,\n",
              " 26,\n",
              " 14,\n",
              " 46,\n",
              " 296,\n",
              " 26,\n",
              " 39,\n",
              " 74,\n",
              " 2979,\n",
              " 3554,\n",
              " 14,\n",
              " 46,\n",
              " 4689,\n",
              " 4329,\n",
              " 86,\n",
              " 61,\n",
              " 3499,\n",
              " 4795,\n",
              " 14,\n",
              " 61,\n",
              " 451,\n",
              " 4329,\n",
              " 17,\n",
              " 12]"
            ]
          },
          "metadata": {},
          "execution_count": 26
        }
      ]
    },
    {
      "cell_type": "markdown",
      "source": [
        "decode newswires back to text"
      ],
      "metadata": {
        "id": "HcHsoLOtvP_Y"
      }
    },
    {
      "cell_type": "code",
      "source": [
        "word_index = imdb.get_word_index() # word_index is a dictionary mapping words to an integer index\n",
        "reverse_word_index = dict(\n",
        "    [(value, key) for (key , value ) in word_index.items()]# reverse it map integer indexes to a word \n",
        ")\n",
        "\n",
        "decode_review = \" \".join(\n",
        "    [reverse_word_index.get(i - 3 , \"?\") for i in train_data[0]]\n",
        ")\n",
        "# decode the review ,Note that the indices are offset by 3 becz 0 and 1 and 2 are reserved indices for \"padding\" , \"start of sequence \" and \"unknown\""
      ],
      "metadata": {
        "id": "A-zcyeevvKlk"
      },
      "execution_count": 27,
      "outputs": []
    },
    {
      "cell_type": "markdown",
      "source": [
        "#Preparing the data"
      ],
      "metadata": {
        "id": "Fm36SFk8vlqf"
      }
    },
    {
      "cell_type": "markdown",
      "source": [
        "encoding the input data"
      ],
      "metadata": {
        "id": "O6QePjppwA4B"
      }
    },
    {
      "cell_type": "code",
      "source": [
        "x_train = vectorize_sequences(train_data) \n",
        "x_test = vectorize_sequences(test_data)"
      ],
      "metadata": {
        "id": "GAtE4zEzvjYs"
      },
      "execution_count": 28,
      "outputs": []
    },
    {
      "cell_type": "markdown",
      "source": [
        "To vectorize the labels , there are two possibilities : you can cast the label list as an integer tensor , or you can use one - hot encoding , In this case , one hot encoding of the labeks consists of embedding each labels as an all zero vector with a 1 in the place of the label index"
      ],
      "metadata": {
        "id": "BqYitLVXxDKz"
      }
    },
    {
      "cell_type": "markdown",
      "source": [
        "Encoding the labels"
      ],
      "metadata": {
        "id": "ynYzY_3Hy0Ce"
      }
    },
    {
      "cell_type": "code",
      "source": [
        "def to_one_hot(labels, dimension=46):\n",
        "    results = np.zeros((len(labels), dimension))\n",
        "    for i, label in enumerate(labels):\n",
        "        results[i, label] = 1.\n",
        "    return results\n",
        "y_train = to_one_hot(train_labels) # vectorizing training labels\n",
        "y_test = to_one_hot(test_labels)   # vectorizing testing labels"
      ],
      "metadata": {
        "id": "xIi4Ei8KwNbq"
      },
      "execution_count": 34,
      "outputs": []
    },
    {
      "cell_type": "markdown",
      "source": [
        "# Building your model\n",
        "\n",
        "The number of output classes are 46 , The dimensionality of the output space is much larger\n",
        "\n",
        "In a stack of Dense layer like those we have been using , each layer can only access information present in the output of the previous layer . if one layer drops some information relavet to classification problem , this information can never be recovered by the later layers , each layer can potentially become an infromation bottleneck  .In the previous example we have have used 16 dumensional intermediate layers , but a 16 dimensional space may be too limited tolearn to separate 46 different classes, such small layer may act as information bottleneck , permanantly dropping relavent infomation.\n",
        "thats why we will be using 64 units"
      ],
      "metadata": {
        "id": "2uCmvG8pHHSN"
      }
    },
    {
      "cell_type": "markdown",
      "source": [
        "Model definition"
      ],
      "metadata": {
        "id": "FxRtbfMuJdfk"
      }
    },
    {
      "cell_type": "code",
      "source": [
        "model = keras.Sequential([\n",
        "    layers.Dense(64 , activation = \"relu\"),\n",
        "    layers.Dense(64 , activation = \"relu\"),\n",
        "    layers.Dense(46 , activation = \"softmax\")\n",
        "\n",
        "])"
      ],
      "metadata": {
        "id": "rIrLaeyKGZao"
      },
      "execution_count": 35,
      "outputs": []
    },
    {
      "cell_type": "markdown",
      "source": [
        "There are two things you should note about this architecture \n",
        "\n",
        "1. we end the model witha dense layer of size 46 , this means for each input sample , the network will output a 46 dimensional vector . Eeach entery in this vector will encode a different output class.\n",
        "\n",
        "2. the last layer uses a softmax activation . It means model will output a probability distribution over the 46 different classes , for every input sample , the model will produce a 46 dimensional output vector , where output[i] is the probabilty f sample belongs to calss i."
      ],
      "metadata": {
        "id": "DuEAyowuK3XI"
      }
    },
    {
      "cell_type": "markdown",
      "source": [
        "loss function to use in this case is categorical_crossentropy. it measures the distance between two probabilti distribution . here , between the probability distribution output by the model and the true distribution of the labels . By minimizing the distance between these two distribution you can train the model to produce output closer to true labels"
      ],
      "metadata": {
        "id": "1Ml4UcL1L0nb"
      }
    },
    {
      "cell_type": "markdown",
      "source": [
        "Compilimg the model"
      ],
      "metadata": {
        "id": "KfEXfyP0Mc7V"
      }
    },
    {
      "cell_type": "code",
      "source": [
        "model.compile(\n",
        "    optimizer = \"rmsprop\",\n",
        "    loss = \"categorical_crossentropy\",\n",
        "    metrics = [\"accuracy\"]\n",
        ")"
      ],
      "metadata": {
        "id": "OFYDAAL0J-da"
      },
      "execution_count": 36,
      "outputs": []
    },
    {
      "cell_type": "markdown",
      "source": [
        "#Validating your approach"
      ],
      "metadata": {
        "id": "42v3gMyYMpD0"
      }
    },
    {
      "cell_type": "markdown",
      "source": [
        "setting aside a validation set"
      ],
      "metadata": {
        "id": "Lrnzg11YNABl"
      }
    },
    {
      "cell_type": "code",
      "source": [
        "x_val = x_train[:1000]\n",
        "partial_x_train = x_train[1000:]\n",
        "y_val = y_train[:1000]\n",
        "partial_y_train = y_train[1000:]"
      ],
      "metadata": {
        "id": "L_y5hYNVMnV3"
      },
      "execution_count": 37,
      "outputs": []
    },
    {
      "cell_type": "markdown",
      "source": [
        "Training the model"
      ],
      "metadata": {
        "id": "MlH4231NNIlR"
      }
    },
    {
      "cell_type": "code",
      "source": [
        "history = model.fit(partial_x_train,\n",
        "                    partial_y_train,\n",
        "                    epochs=20,\n",
        "                    batch_size=512,\n",
        "                    validation_data=(x_val, y_val))"
      ],
      "metadata": {
        "colab": {
          "base_uri": "https://localhost:8080/"
        },
        "id": "-u2l8XEWNHHa",
        "outputId": "f237b394-546d-4dfd-8a54-a5c988ec371e"
      },
      "execution_count": 40,
      "outputs": [
        {
          "output_type": "stream",
          "name": "stdout",
          "text": [
            "Epoch 1/20\n",
            "16/16 [==============================] - 1s 71ms/step - loss: 3.4327 - accuracy: 0.3514 - val_loss: 3.4243 - val_accuracy: 0.3530\n",
            "Epoch 2/20\n",
            "16/16 [==============================] - 1s 53ms/step - loss: 3.4156 - accuracy: 0.3514 - val_loss: 3.4073 - val_accuracy: 0.3530\n",
            "Epoch 3/20\n",
            "16/16 [==============================] - 1s 52ms/step - loss: 3.3987 - accuracy: 0.3514 - val_loss: 3.3905 - val_accuracy: 0.3530\n",
            "Epoch 4/20\n",
            "16/16 [==============================] - 1s 88ms/step - loss: 3.3819 - accuracy: 0.3514 - val_loss: 3.3738 - val_accuracy: 0.3530\n",
            "Epoch 5/20\n",
            "16/16 [==============================] - 2s 100ms/step - loss: 3.3653 - accuracy: 0.3514 - val_loss: 3.3572 - val_accuracy: 0.3530\n",
            "Epoch 6/20\n",
            "16/16 [==============================] - 1s 63ms/step - loss: 3.3488 - accuracy: 0.3514 - val_loss: 3.3408 - val_accuracy: 0.3530\n",
            "Epoch 7/20\n",
            "16/16 [==============================] - 1s 55ms/step - loss: 3.3326 - accuracy: 0.3514 - val_loss: 3.3246 - val_accuracy: 0.3530\n",
            "Epoch 8/20\n",
            "16/16 [==============================] - 1s 54ms/step - loss: 3.3164 - accuracy: 0.3514 - val_loss: 3.3085 - val_accuracy: 0.3530\n",
            "Epoch 9/20\n",
            "16/16 [==============================] - 1s 55ms/step - loss: 3.3005 - accuracy: 0.3514 - val_loss: 3.2926 - val_accuracy: 0.3530\n",
            "Epoch 10/20\n",
            "16/16 [==============================] - 1s 59ms/step - loss: 3.2847 - accuracy: 0.3514 - val_loss: 3.2769 - val_accuracy: 0.3540\n",
            "Epoch 11/20\n",
            "16/16 [==============================] - 1s 53ms/step - loss: 3.2690 - accuracy: 0.3514 - val_loss: 3.2613 - val_accuracy: 0.3540\n",
            "Epoch 12/20\n",
            "16/16 [==============================] - 1s 55ms/step - loss: 3.2535 - accuracy: 0.3514 - val_loss: 3.2458 - val_accuracy: 0.3540\n",
            "Epoch 13/20\n",
            "16/16 [==============================] - 1s 55ms/step - loss: 3.2382 - accuracy: 0.3514 - val_loss: 3.2305 - val_accuracy: 0.3540\n",
            "Epoch 14/20\n",
            "16/16 [==============================] - 1s 55ms/step - loss: 3.2230 - accuracy: 0.3514 - val_loss: 3.2153 - val_accuracy: 0.3540\n",
            "Epoch 15/20\n",
            "16/16 [==============================] - 1s 53ms/step - loss: 3.2080 - accuracy: 0.3514 - val_loss: 3.2003 - val_accuracy: 0.3540\n",
            "Epoch 16/20\n",
            "16/16 [==============================] - 1s 54ms/step - loss: 3.1931 - accuracy: 0.3514 - val_loss: 3.1854 - val_accuracy: 0.3540\n",
            "Epoch 17/20\n",
            "16/16 [==============================] - 1s 76ms/step - loss: 3.1784 - accuracy: 0.3514 - val_loss: 3.1706 - val_accuracy: 0.3540\n",
            "Epoch 18/20\n",
            "16/16 [==============================] - 2s 93ms/step - loss: 3.1637 - accuracy: 0.3514 - val_loss: 3.1560 - val_accuracy: 0.3540\n",
            "Epoch 19/20\n",
            "16/16 [==============================] - 1s 75ms/step - loss: 3.1493 - accuracy: 0.3514 - val_loss: 3.1415 - val_accuracy: 0.3540\n",
            "Epoch 20/20\n",
            "16/16 [==============================] - 1s 54ms/step - loss: 3.1349 - accuracy: 0.3514 - val_loss: 3.1271 - val_accuracy: 0.3540\n"
          ]
        }
      ]
    },
    {
      "cell_type": "markdown",
      "source": [
        "plotting the training and validation loss"
      ],
      "metadata": {
        "id": "7X_TNEbqNpL-"
      }
    },
    {
      "cell_type": "code",
      "source": [
        "import matplotlib.pyplot as plt\n",
        "history_dict = history.history\n",
        "loss_values = history_dict[\"loss\"]\n",
        "val_loss_values = history_dict[\"val_loss\"]\n",
        "epochs = range(1, len(loss_values) + 1)\n",
        "plt.plot(epochs , loss_values , \"bo\" , label = \"Training loss\") # \" bo\" is for blue dot\n",
        "plt.plot(epochs , val_loss_values , \"b\" , label = \"Validation loss\") # b is for \"solid blue line\"\n",
        "plt.xlabel(\"Epochs\")\n",
        "plt.ylabel(\"Loss\")\n",
        "plt.legend()\n",
        "plt.show()"
      ],
      "metadata": {
        "colab": {
          "base_uri": "https://localhost:8080/",
          "height": 279
        },
        "id": "eNoFdqE3NaHk",
        "outputId": "5638b59b-3fc0-4ce2-e413-0cfc60359719"
      },
      "execution_count": 41,
      "outputs": [
        {
          "output_type": "display_data",
          "data": {
            "text/plain": [
              "<Figure size 432x288 with 1 Axes>"
            ],
            "image/png": "[encoded data removed]"
          },
          "metadata": {
            "needs_background": "light"
          }
        }
      ]
    },
    {
      "cell_type": "markdown",
      "source": [
        "plotting the training and validation accuracy"
      ],
      "metadata": {
        "id": "-UQMNsD1OWFf"
      }
    },
    {
      "cell_type": "code",
      "source": [
        "plt.clf()\n",
        "acc = history_dict[\"accuracy\"]\n",
        "val_acc = history_dict[\"val_accuracy\"]\n",
        "epochs = range(1, len(loss_values) + 1)\n",
        "plt.plot(epochs , acc , \"bo\" , label = \"Training acc\") # \" bo\" is for blue dot\n",
        "plt.plot(epochs , val_acc , \"b\" , label = \"Validation acc\") # b is for \"solid blue line\"\n",
        "plt.title(\"Training and validation accuracy\")\n",
        "plt.xlabel(\"Epochs\")\n",
        "plt.ylabel(\"Accuracy\")\n",
        "plt.legend()\n",
        "plt.show()"
      ],
      "metadata": {
        "colab": {
          "base_uri": "https://localhost:8080/",
          "height": 295
        },
        "id": "xvHFjn3VNtUn",
        "outputId": "5845eb42-4ad9-4698-c7a8-541033b38afb"
      },
      "execution_count": 43,
      "outputs": [
        {
          "output_type": "display_data",
          "data": {
            "text/plain": [
              "<Figure size 432x288 with 1 Axes>"
            ],
            "image/png": "[encoded data removed]"
          },
          "metadata": {
            "needs_background": "light"
          }
        }
      ]
    },
    {
      "cell_type": "markdown",
      "source": [
        "Retraining the model from scratch"
      ],
      "metadata": {
        "id": "JNQvTFQxOrxr"
      }
    },
    {
      "cell_type": "code",
      "source": [
        "model = keras.Sequential([\n",
        "    layers.Dense(64 , activation = \"relu\"),\n",
        "    layers.Dense(64 , activation = \"relu\"),\n",
        "    layers.Dense(46 , activation = \"softmax\")\n",
        "\n",
        "])\n",
        "\n",
        "model.compile(\n",
        "    optimizer = \"rmsprop\",\n",
        "    loss = \"categorical_crossentropy\",\n",
        "    metrics = [\"accuracy\"]\n",
        ")"
      ],
      "metadata": {
        "id": "5tpY5rM0ObRa"
      },
      "execution_count": 44,
      "outputs": []
    },
    {
      "cell_type": "code",
      "source": [
        "history = model.fit(x_train,\n",
        "                    y_train,\n",
        "                    epochs=20,\n",
        "                    batch_size=512,\n",
        "                    validation_data=(x_test, y_test))"
      ],
      "metadata": {
        "colab": {
          "base_uri": "https://localhost:8080/"
        },
        "id": "b0fU0G6PPH6q",
        "outputId": "52a221c4-a91e-4d5d-f89f-1f4aaa70b792"
      },
      "execution_count": 45,
      "outputs": [
        {
          "output_type": "stream",
          "name": "stdout",
          "text": [
            "Epoch 1/20\n",
            "18/18 [==============================] - 4s 144ms/step - loss: 3.8099 - accuracy: 0.1031 - val_loss: 3.7837 - val_accuracy: 0.3615\n",
            "Epoch 2/20\n",
            "18/18 [==============================] - 1s 62ms/step - loss: 3.7374 - accuracy: 0.3517 - val_loss: 3.6726 - val_accuracy: 0.3620\n",
            "Epoch 3/20\n",
            "18/18 [==============================] - 1s 56ms/step - loss: 3.5943 - accuracy: 0.3517 - val_loss: 3.4927 - val_accuracy: 0.3620\n",
            "Epoch 4/20\n",
            "18/18 [==============================] - 1s 57ms/step - loss: 3.3821 - accuracy: 0.3517 - val_loss: 3.2498 - val_accuracy: 0.3620\n",
            "Epoch 5/20\n",
            "18/18 [==============================] - 1s 55ms/step - loss: 3.1181 - accuracy: 0.3517 - val_loss: 2.9725 - val_accuracy: 0.3620\n",
            "Epoch 6/20\n",
            "18/18 [==============================] - 1s 59ms/step - loss: 2.8401 - accuracy: 0.3517 - val_loss: 2.7102 - val_accuracy: 0.3620\n",
            "Epoch 7/20\n",
            "18/18 [==============================] - 1s 58ms/step - loss: 2.6070 - accuracy: 0.3517 - val_loss: 2.5255 - val_accuracy: 0.3620\n",
            "Epoch 8/20\n",
            "18/18 [==============================] - 1s 55ms/step - loss: 2.4741 - accuracy: 0.3517 - val_loss: 2.4502 - val_accuracy: 0.3620\n",
            "Epoch 9/20\n",
            "18/18 [==============================] - 1s 57ms/step - loss: 2.4277 - accuracy: 0.3517 - val_loss: 2.4298 - val_accuracy: 0.3620\n",
            "Epoch 10/20\n",
            "18/18 [==============================] - 1s 56ms/step - loss: 2.4143 - accuracy: 0.3517 - val_loss: 2.4239 - val_accuracy: 0.3620\n",
            "Epoch 11/20\n",
            "18/18 [==============================] - 1s 76ms/step - loss: 2.4094 - accuracy: 0.3517 - val_loss: 2.4196 - val_accuracy: 0.3620\n",
            "Epoch 12/20\n",
            "18/18 [==============================] - 2s 99ms/step - loss: 2.4062 - accuracy: 0.3517 - val_loss: 2.4186 - val_accuracy: 0.3620\n",
            "Epoch 13/20\n",
            "18/18 [==============================] - 1s 68ms/step - loss: 2.4045 - accuracy: 0.3517 - val_loss: 2.4167 - val_accuracy: 0.3620\n",
            "Epoch 14/20\n",
            "18/18 [==============================] - 1s 56ms/step - loss: 2.4039 - accuracy: 0.3517 - val_loss: 2.4156 - val_accuracy: 0.3620\n",
            "Epoch 15/20\n",
            "18/18 [==============================] - 1s 55ms/step - loss: 2.4038 - accuracy: 0.3517 - val_loss: 2.4154 - val_accuracy: 0.3620\n",
            "Epoch 16/20\n",
            "18/18 [==============================] - 1s 55ms/step - loss: 2.4033 - accuracy: 0.3517 - val_loss: 2.4150 - val_accuracy: 0.3620\n",
            "Epoch 17/20\n",
            "18/18 [==============================] - 1s 57ms/step - loss: 2.4029 - accuracy: 0.3517 - val_loss: 2.4154 - val_accuracy: 0.3620\n",
            "Epoch 18/20\n",
            "18/18 [==============================] - 1s 54ms/step - loss: 2.4027 - accuracy: 0.3517 - val_loss: 2.4153 - val_accuracy: 0.3620\n",
            "Epoch 19/20\n",
            "18/18 [==============================] - 1s 53ms/step - loss: 2.4029 - accuracy: 0.3517 - val_loss: 2.4158 - val_accuracy: 0.3620\n",
            "Epoch 20/20\n",
            "18/18 [==============================] - 1s 59ms/step - loss: 2.4029 - accuracy: 0.3517 - val_loss: 2.4148 - val_accuracy: 0.3620\n"
          ]
        }
      ]
    },
    {
      "cell_type": "code",
      "source": [
        "results = model.evaluate(x_test , y_test)"
      ],
      "metadata": {
        "colab": {
          "base_uri": "https://localhost:8080/"
        },
        "id": "kvyuQMUpPTHW",
        "outputId": "1935bd22-3613-48b6-d2a9-f02b22be4847"
      },
      "execution_count": 47,
      "outputs": [
        {
          "output_type": "stream",
          "name": "stdout",
          "text": [
            "71/71 [==============================] - 0s 4ms/step - loss: 2.4148 - accuracy: 0.3620\n"
          ]
        }
      ]
    },
    {
      "cell_type": "code",
      "source": [
        "results"
      ],
      "metadata": {
        "colab": {
          "base_uri": "https://localhost:8080/"
        },
        "id": "HnFcYKnsPjKU",
        "outputId": "4fcac1e3-b952-4746-e19f-32d96eec8c7b"
      },
      "execution_count": 48,
      "outputs": [
        {
          "output_type": "execute_result",
          "data": {
            "text/plain": [
              "[2.4148306846618652, 0.36197686195373535]"
            ]
          },
          "metadata": {},
          "execution_count": 48
        }
      ]
    },
    {
      "cell_type": "code",
      "source": [
        "predictions = model.predict(x_test)"
      ],
      "metadata": {
        "colab": {
          "base_uri": "https://localhost:8080/"
        },
        "id": "h8nZuDpiPpJ-",
        "outputId": "dc81c2fa-bbbd-4595-c383-6d8fcbfbe76a"
      },
      "execution_count": 49,
      "outputs": [
        {
          "output_type": "stream",
          "name": "stdout",
          "text": [
            "71/71 [==============================] - 0s 4ms/step\n"
          ]
        }
      ]
    },
    {
      "cell_type": "code",
      "source": [
        "predictions[0].shape"
      ],
      "metadata": {
        "colab": {
          "base_uri": "https://localhost:8080/"
        },
        "id": "ustk9jsCQG_r",
        "outputId": "24eab018-850e-4b5c-d494-002c5ee1e478"
      },
      "execution_count": 50,
      "outputs": [
        {
          "output_type": "execute_result",
          "data": {
            "text/plain": [
              "(46,)"
            ]
          },
          "metadata": {},
          "execution_count": 50
        }
      ]
    },
    {
      "cell_type": "code",
      "source": [
        "np.argmax(predictions[0]) # class with highest probability"
      ],
      "metadata": {
        "colab": {
          "base_uri": "https://localhost:8080/"
        },
        "id": "-YKTB72zQNCl",
        "outputId": "1e00a00e-bc40-4050-e073-1cdb465c5b30"
      },
      "execution_count": 52,
      "outputs": [
        {
          "output_type": "execute_result",
          "data": {
            "text/plain": [
              "3"
            ]
          },
          "metadata": {},
          "execution_count": 52
        }
      ]
    },
    {
      "cell_type": "code",
      "source": [],
      "metadata": {
        "id": "uc8mTKBxQVo9"
      },
      "execution_count": null,
      "outputs": []
    }
  ]
}