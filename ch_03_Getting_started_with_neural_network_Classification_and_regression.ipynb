{
  "nbformat": 4,
  "nbformat_minor": 0,
  "metadata": {
    "colab": {
      "provenance": [],
      "authorship_tag": "ABX9TyNf00tE5Kzj35HbVct5/AO/",
      "include_colab_link": true
    },
    "kernelspec": {
      "name": "python3",
      "display_name": "Python 3"
    },
    "language_info": {
      "name": "python"
    }
  },
  "cells": [
    {
      "cell_type": "markdown",
      "metadata": {
        "id": "view-in-github",
        "colab_type": "text"
      },
      "source": [
        "<a href=\"https://colab.research.google.com/github/radhika3131/Deep_Learning_with_Python/blob/main/ch_03_Getting_started_with_neural_network_Classification_and_regression.ipynb\" target=\"_parent\"><img src=\"https://colab.research.google.com/assets/colab-badge.svg\" alt=\"Open In Colab\"/></a>"
      ]
    },
    {
      "cell_type": "markdown",
      "source": [
        "# Classification and Regression glossary\n",
        "\n",
        "classification and regression involves mnay specialized terms .\n",
        "\n",
        "1. Sample or input- one data point that goes into your model\n",
        "2. Prediction or output - what comes out of you model .\n",
        "3. Target - The truth. what your model should ideally have predicted , according to an external source of data.\n",
        "4. classes - A set of possible labels to chose from in a classification problem .For example , when  classifying cat and dog pictures , \"dog\" and \"cat\" are the two classes.\n",
        "5. Label - A specific instance of class annotation in aclassification problem . For instance , if picture # 1234 is annotated as containing the class \"dog\" the \"dog\" is label of picture #1234\n",
        "6. Griund-Truth or annotations - All targets for a dataset, typically collected by humans.\n",
        "7. Binary Classification - A classification task where each input sample should be categorized into two exclusive categories.\n",
        "8. Multilabel Classification - A classification task where each input samples can be asssigned multiple labels , For instance , a given image may contain both a cat and dog and should be annnotated both with the \"cat\" label and the \"dog\" label .**The number of labels per image is usually varible**.\n",
        "9. Multiclass classification - A classification task where each input sample should be categorized into more than two categories:for instance , classifying handwritten digit.\n",
        "10. Scalar Regression - A task where the target is a  continuous scalar value .Predicting house price is agood example: the different target price from continuous space.\n",
        "11. Vector regression - a task where the target is a set of continuous values .for example , a continuous vector. if you are doing regression against  multiple values(such as coordinates of bounding box in a images.\n",
        "12. Mini- batch or Batch - a small set of samples(typically betwenn 8 and 128)\n",
        "that are processed simultaneously by the model . The number of samples is often a power of 2 , to facilitate the memory allocation of GPU . when training a mini-batch is used to ompute a single gradient descent update applied to the weights of the model\n"
      ],
      "metadata": {
        "id": "mhJDDLVqBgRJ"
      }
    },
    {
      "cell_type": "markdown",
      "source": [
        "#Classifying movie reviews: a binary classification\n",
        "\n",
        "you will learn to classify movie reviews as positive or negative ,based on the content of the movie"
      ],
      "metadata": {
        "id": "iTXaLE7uNlGo"
      }
    },
    {
      "cell_type": "markdown",
      "source": [
        "The IMDB dataset\n",
        " you will work work with the IMDB dataset : a set of 50,000 highly polarized reviews from the Internet Movie Database. They are split into 25,000 reviews for training and 25,000 reviews for testing , each set consisting of 50% negative and 50% positive reviews"
      ],
      "metadata": {
        "id": "2j6xPHm6OM3I"
      }
    },
    {
      "cell_type": "markdown",
      "source": [
        "Loading the dataset"
      ],
      "metadata": {
        "id": "tEyj6A-aO-j4"
      }
    },
    {
      "cell_type": "code",
      "execution_count": 2,
      "metadata": {
        "id": "nYBqqnYg_WID",
        "colab": {
          "base_uri": "https://localhost:8080/"
        },
        "outputId": "3a1a2643-b77e-479b-eb06-30551f20c767"
      },
      "outputs": [
        {
          "output_type": "stream",
          "name": "stdout",
          "text": [
            "Downloading data from https://storage.googleapis.com/tensorflow/tf-keras-datasets/imdb.npz\n",
            "17464789/17464789 [==============================] - 0s 0us/step\n"
          ]
        }
      ],
      "source": [
        "from tensorflow.keras.datasets import imdb\n",
        "(train_data , train_labels) , (test_data , test_labels) = imdb.load_data(num_words = 10000)\n",
        "# the argument num_words = 100000 means you will only keep the top 10,000 most frequently occuring words in the training data, this allow us to work work with manageble size"
      ]
    },
    {
      "cell_type": "markdown",
      "source": [
        "The variable train__data and test_data are list of reviews ;each review is a list of word indices.train_labels and test_labels are list of 0's and 1's , 0 stand for negatibe and 1 stand for positive"
      ],
      "metadata": {
        "id": "dEu5ci1pRCIS"
      }
    },
    {
      "cell_type": "code",
      "source": [
        "train_data[0]"
      ],
      "metadata": {
        "colab": {
          "base_uri": "https://localhost:8080/"
        },
        "id": "vpcj6XUgQ_kP",
        "outputId": "15903303-49e5-49ab-c0c2-a013c51e2a87"
      },
      "execution_count": 3,
      "outputs": [
        {
          "output_type": "execute_result",
          "data": {
            "text/plain": [
              "[1,\n",
              " 14,\n",
              " 22,\n",
              " 16,\n",
              " 43,\n",
              " 530,\n",
              " 973,\n",
              " 1622,\n",
              " 1385,\n",
              " 65,\n",
              " 458,\n",
              " 4468,\n",
              " 66,\n",
              " 3941,\n",
              " 4,\n",
              " 173,\n",
              " 36,\n",
              " 256,\n",
              " 5,\n",
              " 25,\n",
              " 100,\n",
              " 43,\n",
              " 838,\n",
              " 112,\n",
              " 50,\n",
              " 670,\n",
              " 2,\n",
              " 9,\n",
              " 35,\n",
              " 480,\n",
              " 284,\n",
              " 5,\n",
              " 150,\n",
              " 4,\n",
              " 172,\n",
              " 112,\n",
              " 167,\n",
              " 2,\n",
              " 336,\n",
              " 385,\n",
              " 39,\n",
              " 4,\n",
              " 172,\n",
              " 4536,\n",
              " 1111,\n",
              " 17,\n",
              " 546,\n",
              " 38,\n",
              " 13,\n",
              " 447,\n",
              " 4,\n",
              " 192,\n",
              " 50,\n",
              " 16,\n",
              " 6,\n",
              " 147,\n",
              " 2025,\n",
              " 19,\n",
              " 14,\n",
              " 22,\n",
              " 4,\n",
              " 1920,\n",
              " 4613,\n",
              " 469,\n",
              " 4,\n",
              " 22,\n",
              " 71,\n",
              " 87,\n",
              " 12,\n",
              " 16,\n",
              " 43,\n",
              " 530,\n",
              " 38,\n",
              " 76,\n",
              " 15,\n",
              " 13,\n",
              " 1247,\n",
              " 4,\n",
              " 22,\n",
              " 17,\n",
              " 515,\n",
              " 17,\n",
              " 12,\n",
              " 16,\n",
              " 626,\n",
              " 18,\n",
              " 2,\n",
              " 5,\n",
              " 62,\n",
              " 386,\n",
              " 12,\n",
              " 8,\n",
              " 316,\n",
              " 8,\n",
              " 106,\n",
              " 5,\n",
              " 4,\n",
              " 2223,\n",
              " 5244,\n",
              " 16,\n",
              " 480,\n",
              " 66,\n",
              " 3785,\n",
              " 33,\n",
              " 4,\n",
              " 130,\n",
              " 12,\n",
              " 16,\n",
              " 38,\n",
              " 619,\n",
              " 5,\n",
              " 25,\n",
              " 124,\n",
              " 51,\n",
              " 36,\n",
              " 135,\n",
              " 48,\n",
              " 25,\n",
              " 1415,\n",
              " 33,\n",
              " 6,\n",
              " 22,\n",
              " 12,\n",
              " 215,\n",
              " 28,\n",
              " 77,\n",
              " 52,\n",
              " 5,\n",
              " 14,\n",
              " 407,\n",
              " 16,\n",
              " 82,\n",
              " 2,\n",
              " 8,\n",
              " 4,\n",
              " 107,\n",
              " 117,\n",
              " 5952,\n",
              " 15,\n",
              " 256,\n",
              " 4,\n",
              " 2,\n",
              " 7,\n",
              " 3766,\n",
              " 5,\n",
              " 723,\n",
              " 36,\n",
              " 71,\n",
              " 43,\n",
              " 530,\n",
              " 476,\n",
              " 26,\n",
              " 400,\n",
              " 317,\n",
              " 46,\n",
              " 7,\n",
              " 4,\n",
              " 2,\n",
              " 1029,\n",
              " 13,\n",
              " 104,\n",
              " 88,\n",
              " 4,\n",
              " 381,\n",
              " 15,\n",
              " 297,\n",
              " 98,\n",
              " 32,\n",
              " 2071,\n",
              " 56,\n",
              " 26,\n",
              " 141,\n",
              " 6,\n",
              " 194,\n",
              " 7486,\n",
              " 18,\n",
              " 4,\n",
              " 226,\n",
              " 22,\n",
              " 21,\n",
              " 134,\n",
              " 476,\n",
              " 26,\n",
              " 480,\n",
              " 5,\n",
              " 144,\n",
              " 30,\n",
              " 5535,\n",
              " 18,\n",
              " 51,\n",
              " 36,\n",
              " 28,\n",
              " 224,\n",
              " 92,\n",
              " 25,\n",
              " 104,\n",
              " 4,\n",
              " 226,\n",
              " 65,\n",
              " 16,\n",
              " 38,\n",
              " 1334,\n",
              " 88,\n",
              " 12,\n",
              " 16,\n",
              " 283,\n",
              " 5,\n",
              " 16,\n",
              " 4472,\n",
              " 113,\n",
              " 103,\n",
              " 32,\n",
              " 15,\n",
              " 16,\n",
              " 5345,\n",
              " 19,\n",
              " 178,\n",
              " 32]"
            ]
          },
          "metadata": {},
          "execution_count": 3
        }
      ]
    },
    {
      "cell_type": "code",
      "source": [
        "train_labels[0]"
      ],
      "metadata": {
        "colab": {
          "base_uri": "https://localhost:8080/"
        },
        "id": "k2Y-3rrfRZtW",
        "outputId": "9a1c99a9-c4d6-460f-a237-6dd83d5f50c4"
      },
      "execution_count": 4,
      "outputs": [
        {
          "output_type": "execute_result",
          "data": {
            "text/plain": [
              "1"
            ]
          },
          "metadata": {},
          "execution_count": 4
        }
      ]
    },
    {
      "cell_type": "code",
      "source": [
        "# as we are restricting ourselves on the top 10,000 nost frequent words , no word index will exceed 10,000\n",
        "max([max(sequence) for sequence in train_data]) "
      ],
      "metadata": {
        "colab": {
          "base_uri": "https://localhost:8080/"
        },
        "id": "srF6gkXrRe8N",
        "outputId": "148c77c0-335c-41f4-a8b3-5204d5972792"
      },
      "execution_count": 5,
      "outputs": [
        {
          "output_type": "execute_result",
          "data": {
            "text/plain": [
              "9999"
            ]
          },
          "metadata": {},
          "execution_count": 5
        }
      ]
    },
    {
      "cell_type": "markdown",
      "source": [
        "Decoding reviews back to english word(text)"
      ],
      "metadata": {
        "id": "ws6bhcwCSFIV"
      }
    },
    {
      "cell_type": "code",
      "source": [
        "word_index = imdb.get_word_index() # word_index is a dictionary mapping words to an integer index\n",
        "reverse_word_index = dict(\n",
        "    [(value, key) for (key , value ) in word_index.items()]# reverse it map integer indexes to a word \n",
        ")\n",
        "\n",
        "decode_review = \" \".join(\n",
        "    [reverse_word_index.get(i - 3 , \"?\") for i in train_data[0]]\n",
        ")\n",
        "# decode the review ,Note that the indices are offset by 3 becz 0 and 1 and 2 are reserved indices for \"padding\" , \"start of sequence \" and \"unknown\""
      ],
      "metadata": {
        "colab": {
          "base_uri": "https://localhost:8080/"
        },
        "id": "yltaSgeuR1fa",
        "outputId": "42be5482-7d39-48fc-9ce8-0b6d121f6644"
      },
      "execution_count": 6,
      "outputs": [
        {
          "output_type": "stream",
          "name": "stdout",
          "text": [
            "Downloading data from https://storage.googleapis.com/tensorflow/tf-keras-datasets/imdb_word_index.json\n",
            "1641221/1641221 [==============================] - 0s 0us/step\n"
          ]
        }
      ]
    },
    {
      "cell_type": "markdown",
      "source": [
        "#Preparing the data\n",
        "\n",
        "you can directly feed the list into the neural network. they all have different length , but neural network expects to process contiguous batches of data, you have to turn your list into tensors\n",
        "\n",
        "1. pad your list so that they all have the same length , turn them into a integer tensor of shaoe(samples, max_length )\n",
        "2. Multi-hot encode your lists to turn them into vector of 0s and 1s"
      ],
      "metadata": {
        "id": "dYyFFRuxWD8l"
      }
    },
    {
      "cell_type": "markdown",
      "source": [
        "Encoding the integer sequence via multi-hot encoding"
      ],
      "metadata": {
        "id": "A4vQ5SHFXwyE"
      }
    },
    {
      "cell_type": "code",
      "source": [
        "import numpy as np\n",
        "def vectorize_sequences(sequences , dimension = 10000):\n",
        "  results = np.zeros((len(sequences) , dimension)) # create an all -zeros matrix of shape(lrn(sequences), dimension)\n",
        "  for i , sequence in enumerate(sequences):\n",
        "    for j in sequence:\n",
        "      results[i,j] = 1  # sets specific indices of results[i] to 1s\n",
        "    return results\n",
        "\n",
        "x_train = vectorize_sequences(train_data) # vectorized train data\n",
        "x_test = vectorize_sequences(test_data) # vectorized test data"
      ],
      "metadata": {
        "id": "-OLYZWRqV6pv"
      },
      "execution_count": 7,
      "outputs": []
    },
    {
      "cell_type": "code",
      "source": [
        "x_train[0]"
      ],
      "metadata": {
        "colab": {
          "base_uri": "https://localhost:8080/"
        },
        "id": "ejo9JR9gZKwk",
        "outputId": "f0005669-8e88-4553-e4cf-282126f9bcb6"
      },
      "execution_count": 8,
      "outputs": [
        {
          "output_type": "execute_result",
          "data": {
            "text/plain": [
              "array([0., 1., 1., ..., 0., 0., 0.])"
            ]
          },
          "metadata": {},
          "execution_count": 8
        }
      ]
    },
    {
      "cell_type": "code",
      "source": [
        "# you should also vectorized you labels\n",
        "y_train = np.array(train_labels).astype(\"float32\")\n",
        "y_test = np.array(test_labels).astype(\"float32\")\n",
        "\n",
        "# now data is ready to fed into neural network"
      ],
      "metadata": {
        "id": "ovijr_aUZTSn"
      },
      "execution_count": 9,
      "outputs": []
    },
    {
      "cell_type": "markdown",
      "source": [
        "Building your model\n",
        "\n",
        "A type of model that performs on such type of problem is a simple stack of densly connected(Dense) layer with relu activation function.\n",
        "There are two key architecture decisions to be made about such a stack of Dense layers.\n",
        "1. how many layers to chose\n",
        "2. How many units to chose for each layer"
      ],
      "metadata": {
        "id": "DfmlL-ayaKho"
      }
    },
    {
      "cell_type": "markdown",
      "source": [
        "Model definition"
      ],
      "metadata": {
        "id": "GTKYG1WKbAqW"
      }
    },
    {
      "cell_type": "code",
      "source": [
        "from tensorflow import keras \n",
        "from tensorflow.keras import layers\n",
        "\n",
        "model = keras.Sequential([\n",
        "    layers.Dense(16, activation = \"relu\"),\n",
        "    layers.Dense(16, activation = \"relu\"),\n",
        "    layers.Dense(1 , activation = \"sigmoid\")\n",
        "])"
      ],
      "metadata": {
        "id": "x-ZWhNgpZnIU"
      },
      "execution_count": 10,
      "outputs": []
    },
    {
      "cell_type": "markdown",
      "source": [
        "Compiling the model"
      ],
      "metadata": {
        "id": "uKBsmf7Ce8jv"
      }
    },
    {
      "cell_type": "code",
      "source": [
        "model.compile(\n",
        "    optimizer = \"rmsprop\",\n",
        "    loss = \"binary_crossentropy\",\n",
        "    metrics = [\"accuracy\"]\n",
        ")"
      ],
      "metadata": {
        "id": "PgjVp9XxbrkB"
      },
      "execution_count": 11,
      "outputs": []
    },
    {
      "cell_type": "markdown",
      "source": [
        "# Validating your approach\n",
        "its a standard practice to monitor the accuracy of the model during training ."
      ],
      "metadata": {
        "id": "KHKN-Zh5fXJc"
      }
    },
    {
      "cell_type": "markdown",
      "source": [
        "Setting aside a validating set"
      ],
      "metadata": {
        "id": "svq98DZcfokf"
      }
    },
    {
      "cell_type": "code",
      "source": [
        "x_val = x_train[:10000]\n",
        "partial_x_train = x_train[10000:]\n",
        "y_val = y_train[:10000]\n",
        "partial_y_train = y_train[10000:]"
      ],
      "metadata": {
        "id": "PqzYT3lAfOvr"
      },
      "execution_count": 12,
      "outputs": []
    },
    {
      "cell_type": "markdown",
      "source": [
        "Training the model"
      ],
      "metadata": {
        "id": "OWuLMKRNgID-"
      }
    },
    {
      "cell_type": "code",
      "source": [
        "x_val = x_train[:10000]\n",
        "partial_x_train = x_train[10000:]\n",
        "y_val = y_train[:10000]\n",
        "partial_y_train = y_train[10000:]\n",
        "history = model.fit(partial_x_train,\n",
        "                    partial_y_train,\n",
        "                    epochs=20,\n",
        "                    batch_size=512,\n",
        "                    validation_data=(x_val, y_val))"
      ],
      "metadata": {
        "colab": {
          "base_uri": "https://localhost:8080/"
        },
        "id": "5dvAHAj0f8qd",
        "outputId": "3790b45c-3878-4ef4-8715-5824b6f9353c"
      },
      "execution_count": 13,
      "outputs": [
        {
          "output_type": "stream",
          "name": "stdout",
          "text": [
            "Epoch 1/20\n",
            "30/30 [==============================] - 3s 81ms/step - loss: 0.6932 - accuracy: 0.4954 - val_loss: 0.6932 - val_accuracy: 0.4948\n",
            "Epoch 2/20\n",
            "30/30 [==============================] - 1s 41ms/step - loss: 0.6931 - accuracy: 0.5017 - val_loss: 0.6932 - val_accuracy: 0.4948\n",
            "Epoch 3/20\n",
            "30/30 [==============================] - 1s 38ms/step - loss: 0.6931 - accuracy: 0.5035 - val_loss: 0.6932 - val_accuracy: 0.4948\n",
            "Epoch 4/20\n",
            "30/30 [==============================] - 2s 52ms/step - loss: 0.6931 - accuracy: 0.5035 - val_loss: 0.6932 - val_accuracy: 0.4948\n",
            "Epoch 5/20\n",
            "30/30 [==============================] - 2s 65ms/step - loss: 0.6931 - accuracy: 0.5035 - val_loss: 0.6932 - val_accuracy: 0.4948\n",
            "Epoch 6/20\n",
            "30/30 [==============================] - 1s 38ms/step - loss: 0.6931 - accuracy: 0.5035 - val_loss: 0.6932 - val_accuracy: 0.4948\n",
            "Epoch 7/20\n",
            "30/30 [==============================] - 1s 39ms/step - loss: 0.6931 - accuracy: 0.5035 - val_loss: 0.6932 - val_accuracy: 0.4948\n",
            "Epoch 8/20\n",
            "30/30 [==============================] - 1s 41ms/step - loss: 0.6931 - accuracy: 0.5035 - val_loss: 0.6932 - val_accuracy: 0.4948\n",
            "Epoch 9/20\n",
            "30/30 [==============================] - 1s 40ms/step - loss: 0.6931 - accuracy: 0.5035 - val_loss: 0.6932 - val_accuracy: 0.4948\n",
            "Epoch 10/20\n",
            "30/30 [==============================] - 1s 38ms/step - loss: 0.6931 - accuracy: 0.5035 - val_loss: 0.6932 - val_accuracy: 0.4948\n",
            "Epoch 11/20\n",
            "30/30 [==============================] - 1s 37ms/step - loss: 0.6931 - accuracy: 0.5035 - val_loss: 0.6932 - val_accuracy: 0.4948\n",
            "Epoch 12/20\n",
            "30/30 [==============================] - 1s 39ms/step - loss: 0.6931 - accuracy: 0.5035 - val_loss: 0.6932 - val_accuracy: 0.4948\n",
            "Epoch 13/20\n",
            "30/30 [==============================] - 1s 38ms/step - loss: 0.6931 - accuracy: 0.5035 - val_loss: 0.6932 - val_accuracy: 0.4948\n",
            "Epoch 14/20\n",
            "30/30 [==============================] - 1s 50ms/step - loss: 0.6931 - accuracy: 0.5035 - val_loss: 0.6932 - val_accuracy: 0.4948\n",
            "Epoch 15/20\n",
            "30/30 [==============================] - 2s 65ms/step - loss: 0.6931 - accuracy: 0.5035 - val_loss: 0.6932 - val_accuracy: 0.4948\n",
            "Epoch 16/20\n",
            "30/30 [==============================] - 1s 40ms/step - loss: 0.6931 - accuracy: 0.5035 - val_loss: 0.6933 - val_accuracy: 0.4948\n",
            "Epoch 17/20\n",
            "30/30 [==============================] - 1s 38ms/step - loss: 0.6931 - accuracy: 0.5035 - val_loss: 0.6933 - val_accuracy: 0.4948\n",
            "Epoch 18/20\n",
            "30/30 [==============================] - 1s 37ms/step - loss: 0.6931 - accuracy: 0.5035 - val_loss: 0.6932 - val_accuracy: 0.4948\n",
            "Epoch 19/20\n",
            "30/30 [==============================] - 1s 40ms/step - loss: 0.6931 - accuracy: 0.5035 - val_loss: 0.6932 - val_accuracy: 0.4948\n",
            "Epoch 20/20\n",
            "30/30 [==============================] - 1s 38ms/step - loss: 0.6931 - accuracy: 0.5035 - val_loss: 0.6932 - val_accuracy: 0.4948\n"
          ]
        }
      ]
    },
    {
      "cell_type": "markdown",
      "source": [
        "call to model.fit() returns a history object , This object has a member history, which is dictionary containing data about every things happen during training."
      ],
      "metadata": {
        "id": "fuugROciJfG2"
      }
    },
    {
      "cell_type": "code",
      "source": [
        "history_dict = history.history\n",
        "history_dict.keys()"
      ],
      "metadata": {
        "colab": {
          "base_uri": "https://localhost:8080/"
        },
        "id": "e-1abPqGgtRz",
        "outputId": "e680caa8-7e1c-4d03-bc26-a0283a6d3269"
      },
      "execution_count": 14,
      "outputs": [
        {
          "output_type": "execute_result",
          "data": {
            "text/plain": [
              "dict_keys(['loss', 'accuracy', 'val_loss', 'val_accuracy'])"
            ]
          },
          "metadata": {},
          "execution_count": 14
        }
      ]
    },
    {
      "cell_type": "markdown",
      "source": [
        "Plotting the training and validation loss"
      ],
      "metadata": {
        "id": "rZILHytMKa7z"
      }
    },
    {
      "cell_type": "code",
      "source": [
        "import matplotlib.pyplot as plt\n",
        "history_dict = history.history\n",
        "loss_values = history_dict[\"loss\"]\n",
        "val_loss_values = history_dict[\"val_loss\"]\n",
        "epochs = range(1, len(loss_values) + 1)\n",
        "plt.plot(epochs , loss_values , \"bo\" , label = \"Training loss\") # \" bo\" is for blue dot\n",
        "plt.plot(epochs , val_loss_values , \"b\" , label = \"Validation loss\") # b is for \"solid blue line\"\n",
        "plt.xlabel(\"Epochs\")\n",
        "plt.ylabel(\"Loss\")\n",
        "plt.legend()\n",
        "plt.show()\n"
      ],
      "metadata": {
        "colab": {
          "base_uri": "https://localhost:8080/",
          "height": 279
        },
        "id": "Lheq7ERXJ6pG",
        "outputId": "f9716c1b-27f1-4cea-9ab1-9c6c742b9181"
      },
      "execution_count": 16,
      "outputs": [
        {
          "output_type": "display_data",
          "data": {
            "text/plain": [
              "<Figure size 432x288 with 1 Axes>"
            ],
            "image/png": "[encoded data removed]"
          },
          "metadata": {
            "needs_background": "light"
          }
        }
      ]
    },
    {
      "cell_type": "markdown",
      "source": [
        "plotting the training and validation accuracy"
      ],
      "metadata": {
        "id": "rMBsdSvwMDEQ"
      }
    },
    {
      "cell_type": "code",
      "source": [
        "plt.clf()\n",
        "acc = history_dict[\"accuracy\"]\n",
        "val_acc = history_dict[\"val_accuracy\"]\n",
        "epochs = range(1, len(loss_values) + 1)\n",
        "plt.plot(epochs , acc , \"bo\" , label = \"Training acc\") # \" bo\" is for blue dot\n",
        "plt.plot(epochs , val_acc , \"b\" , label = \"Validation acc\") # b is for \"solid blue line\"\n",
        "plt.title(\"Training and validation accuracy\")\n",
        "plt.xlabel(\"Epochs\")\n",
        "plt.ylabel(\"Accuracy\")\n",
        "plt.legend()\n",
        "plt.show()\n"
      ],
      "metadata": {
        "colab": {
          "base_uri": "https://localhost:8080/",
          "height": 295
        },
        "id": "xvdc5ijUL2zu",
        "outputId": "0689f709-cf86-42ff-defb-8b70f127fc43"
      },
      "execution_count": 18,
      "outputs": [
        {
          "output_type": "display_data",
          "data": {
            "text/plain": [
              "<Figure size 432x288 with 1 Axes>"
            ],
            "image/png": "[encoded data removed]"
          },
          "metadata": {
            "needs_background": "light"
          }
        }
      ]
    },
    {
      "cell_type": "markdown",
      "source": [
        "As you can see , the training loss decreases with evert epoch , the training accuracy increases with every epochs. But this is not the case for the validaton loss and accuracy : they seem to peak at the fourth epoch .\n",
        "\n",
        "Basically a model that performs better on trainimg data  is not neccesarily a model that will do better on the data it has never seen before . In precise term what you are seeing is **Overfitting**.,after the fouth epoch , you are overoptimizing on the training data , and you end up learning representation that are specific to the trainig data and do'nt generate to data outside of the trainin set."
      ],
      "metadata": {
        "id": "sqLoyUEVNo3c"
      }
    },
    {
      "cell_type": "markdown",
      "source": [
        "Lets train a new model from scrach for four epochs and then evaluate it on the test data"
      ],
      "metadata": {
        "id": "lplL3iyuO8Ir"
      }
    },
    {
      "cell_type": "code",
      "source": [
        "model = keras.Sequential([\n",
        "    layers.Dense(16 , activation = \"relu\"),\n",
        "    layers.Dense(16 , activation = \"relu\"),\n",
        "    layers.Dense(1 , activation = \"sigmoid\")\n",
        "\n",
        "])"
      ],
      "metadata": {
        "id": "d7a-sRlVMl0y"
      },
      "execution_count": 19,
      "outputs": []
    },
    {
      "cell_type": "code",
      "source": [
        "model.compile(\n",
        "    optimizer = \"rmsprop\",\n",
        "    loss = \"binary_crossentropy\",\n",
        "    metrics = [\"accuracy\"]\n",
        ")"
      ],
      "metadata": {
        "id": "FjG4U-apPhs_"
      },
      "execution_count": 20,
      "outputs": []
    },
    {
      "cell_type": "code",
      "source": [
        "model.fit(x_train , y_train , epochs = 4 , batch_size = 512 \n",
        ")"
      ],
      "metadata": {
        "colab": {
          "base_uri": "https://localhost:8080/"
        },
        "id": "i5KsWKTTQN9f",
        "outputId": "2bae570b-b4fb-4a69-8533-16b6fdeb2224"
      },
      "execution_count": 21,
      "outputs": [
        {
          "output_type": "stream",
          "name": "stdout",
          "text": [
            "Epoch 1/4\n",
            "49/49 [==============================] - 2s 32ms/step - loss: 0.6932 - accuracy: 0.5000\n",
            "Epoch 2/4\n",
            "49/49 [==============================] - 1s 29ms/step - loss: 0.6932 - accuracy: 0.5000\n",
            "Epoch 3/4\n",
            "49/49 [==============================] - 1s 29ms/step - loss: 0.6932 - accuracy: 0.4972\n",
            "Epoch 4/4\n",
            "49/49 [==============================] - 1s 29ms/step - loss: 0.6932 - accuracy: 0.5009\n"
          ]
        },
        {
          "output_type": "execute_result",
          "data": {
            "text/plain": [
              "<keras.callbacks.History at 0x7ff8f23d1d90>"
            ]
          },
          "metadata": {},
          "execution_count": 21
        }
      ]
    },
    {
      "cell_type": "code",
      "source": [
        "result = model.evaluate(x_test , y_test)"
      ],
      "metadata": {
        "colab": {
          "base_uri": "https://localhost:8080/"
        },
        "id": "SQUitmF_QvsV",
        "outputId": "de15748b-4a79-4255-fe86-afa874795f22"
      },
      "execution_count": 22,
      "outputs": [
        {
          "output_type": "stream",
          "name": "stdout",
          "text": [
            "782/782 [==============================] - 2s 3ms/step - loss: 0.6932 - accuracy: 0.5000\n"
          ]
        }
      ]
    },
    {
      "cell_type": "code",
      "source": [
        "result"
      ],
      "metadata": {
        "colab": {
          "base_uri": "https://localhost:8080/"
        },
        "id": "D7koEv7rQ4Yl",
        "outputId": "211f267a-05d8-437d-b120-01f8efa052e8"
      },
      "execution_count": 24,
      "outputs": [
        {
          "output_type": "execute_result",
          "data": {
            "text/plain": [
              "[0.693152904510498, 0.5]"
            ]
          },
          "metadata": {},
          "execution_count": 24
        }
      ]
    },
    {
      "cell_type": "markdown",
      "source": [
        "Using a trained model to generate prediction on new data"
      ],
      "metadata": {
        "id": "RQTELKv3ReSq"
      }
    },
    {
      "cell_type": "code",
      "source": [
        "model.predict(x_test)"
      ],
      "metadata": {
        "colab": {
          "base_uri": "https://localhost:8080/"
        },
        "id": "WoNwoAkeRlnO",
        "outputId": "d16c1ab0-3173-469c-fd2e-a4161f447c2e"
      },
      "execution_count": 25,
      "outputs": [
        {
          "output_type": "stream",
          "name": "stdout",
          "text": [
            "782/782 [==============================] - 2s 2ms/step\n"
          ]
        },
        {
          "output_type": "execute_result",
          "data": {
            "text/plain": [
              "array([[0.53949916],\n",
              "       [0.5014774 ],\n",
              "       [0.5014774 ],\n",
              "       ...,\n",
              "       [0.5014774 ],\n",
              "       [0.5014774 ],\n",
              "       [0.5014774 ]], dtype=float32)"
            ]
          },
          "metadata": {},
          "execution_count": 25
        }
      ]
    },
    {
      "cell_type": "code",
      "source": [],
      "metadata": {
        "id": "980npq-XRllI"
      },
      "execution_count": null,
      "outputs": []
    },
    {
      "cell_type": "markdown",
      "source": [],
      "metadata": {
        "id": "r3-sIaI9QPI0"
      }
    }
  ]
}