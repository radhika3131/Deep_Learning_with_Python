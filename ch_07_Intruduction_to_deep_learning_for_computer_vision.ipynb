{
  "nbformat": 4,
  "nbformat_minor": 0,
  "metadata": {
    "colab": {
      "provenance": [],
      "gpuType": "T4",
      "authorship_tag": "ABX9TyNNhqjn4RkEcC+X6t3Ry/Vm",
      "include_colab_link": true
    },
    "kernelspec": {
      "name": "python3",
      "display_name": "Python 3"
    },
    "language_info": {
      "name": "python"
    },
    "accelerator": "GPU"
  },
  "cells": [
    {
      "cell_type": "markdown",
      "metadata": {
        "id": "view-in-github",
        "colab_type": "text"
      },
      "source": [
        "<a href=\"https://colab.research.google.com/github/radhika3131/Deep_Learning_with_Python/blob/main/ch_07_Intruduction_to_deep_learning_for_computer_vision.ipynb\" target=\"_parent\"><img src=\"https://colab.research.google.com/assets/colab-badge.svg\" alt=\"Open In Colab\"/></a>"
      ]
    },
    {
      "cell_type": "markdown",
      "source": [
        "# Introduction to convnets\n",
        "\n",
        "The following listing shows what a basic convnet looks like. It's a stack of *Conv* and *MaxPooling2D layers*. You'll see in a minute exactly what they do. We'll build the model using the *Functional API*, which we introduced in the previous chapter."
      ],
      "metadata": {
        "id": "jWSbjNzUtRqA"
      }
    },
    {
      "cell_type": "markdown",
      "source": [
        "**Installing a small convnet**"
      ],
      "metadata": {
        "id": "oK66cu67tau_"
      }
    },
    {
      "cell_type": "code",
      "execution_count": null,
      "metadata": {
        "id": "s0qZvtRUs_kJ"
      },
      "outputs": [],
      "source": [
        "from tensorflow import keras\n",
        "from tensorflow.keras import layers\n",
        "inputs = keras.Input(shape=(28, 28, 1))\n",
        "x = layers.Conv2D(filters=32, kernel_size=3, activation=\"relu\")(inputs)\n",
        "x = layers.MaxPooling2D(pool_size=2)(x)\n",
        "x = layers.Conv2D(filters=64, kernel_size=3, activation=\"relu\")(x)\n",
        "x = layers.MaxPooling2D(pool_size=2)(x)\n",
        "x = layers.Conv2D(filters=128, kernel_size=3, activation=\"relu\")(x) # this will give output in the form of rant--3 tensors(3D) , now we need to feed this output to a classifer vectors which are 1D such as dense layer .\n",
        "x = layers.Flatten()(x) # So t convert 3d output into 1d we used flatten layer before adding dense layer\n",
        "outputs = layers.Dense(10, activation=\"softmax\")(x)\n",
        "model = keras.Model(inputs=inputs, outputs=outputs)"
      ]
    },
    {
      "cell_type": "markdown",
      "source": [
        " NOTE: a convent takes as input tensors of shape (image height , image width , image channels) , not including batch dimension"
      ],
      "metadata": {
        "id": "YMQFBpjzuTki"
      }
    },
    {
      "cell_type": "code",
      "source": [
        "model.summary()"
      ],
      "metadata": {
        "colab": {
          "base_uri": "https://localhost:8080/"
        },
        "id": "UQEAeg8mulgf",
        "outputId": "dbd2df31-6dea-4fc5-e0a4-2b0231cb0edf"
      },
      "execution_count": null,
      "outputs": [
        {
          "output_type": "stream",
          "name": "stdout",
          "text": [
            "Model: \"model\"\n",
            "_________________________________________________________________\n",
            " Layer (type)                Output Shape              Param #   \n",
            "=================================================================\n",
            " input_1 (InputLayer)        [(None, 28, 28, 1)]       0         \n",
            "                                                                 \n",
            " conv2d (Conv2D)             (None, 26, 26, 32)        320       \n",
            "                                                                 \n",
            " max_pooling2d (MaxPooling2D  (None, 13, 13, 32)       0         \n",
            " )                                                               \n",
            "                                                                 \n",
            " conv2d_1 (Conv2D)           (None, 11, 11, 64)        18496     \n",
            "                                                                 \n",
            " max_pooling2d_1 (MaxPooling  (None, 5, 5, 64)         0         \n",
            " 2D)                                                             \n",
            "                                                                 \n",
            " conv2d_2 (Conv2D)           (None, 3, 3, 128)         73856     \n",
            "                                                                 \n",
            " flatten (Flatten)           (None, 1152)              0         \n",
            "                                                                 \n",
            " dense (Dense)               (None, 10)                11530     \n",
            "                                                                 \n",
            "=================================================================\n",
            "Total params: 104,202\n",
            "Trainable params: 104,202\n",
            "Non-trainable params: 0\n",
            "_________________________________________________________________\n"
          ]
        }
      ]
    },
    {
      "cell_type": "markdown",
      "source": [
        "You can see the output of Conv2D and Maxpooling2D layer is a rank-3 tensor of shape(height , width , channels) . THe width and height are tend to shrink as we gop deper into the model. The numner of channels is controlled by the\\\\first argument passed to the Conv2D(32,64 or 128).\n",
        "after the last Con2D layer , we end up with n output of shape(3,3,128).\n",
        "Next step is to feed output to densly connected vectors .Thes  classifer vectors which are 1D whereas output is rant-3 tensor .So to convert 3d output into 1d we used flatten layer before adding dense layer .\n",
        "\n",
        "Finally we do 10 ways classification so our last layer has 10 outputs and a softmax activation.\n",
        "\n",
        "Now lets train the convnets on MNIST dataset."
      ],
      "metadata": {
        "id": "UsBn2ExuwHdN"
      }
    },
    {
      "cell_type": "markdown",
      "source": [
        "**Training the convnet on MNIST dataset**"
      ],
      "metadata": {
        "id": "_hvrYxRByW8O"
      }
    },
    {
      "cell_type": "code",
      "source": [
        "from tensorflow.keras.datasets import mnist\n",
        "\n",
        "(train_images, train_labels), (test_images, test_labels) = mnist.load_data()\n",
        "train_images = train_images.reshape((60000, 28, 28, 1))\n",
        "train_images = train_images.astype(\"float32\") / 255\n",
        "test_images = test_images.reshape((10000, 28, 28, 1))\n",
        "test_images = test_images.astype(\"float32\") / 255\n",
        "model.compile(optimizer=\"rmsprop\",\n",
        "    loss=\"sparse_categorical_crossentropy\",\n",
        "    metrics=[\"accuracy\"])\n",
        "model.fit(train_images, train_labels, epochs=5, batch_size=64)"
      ],
      "metadata": {
        "colab": {
          "base_uri": "https://localhost:8080/"
        },
        "id": "b4kDrQUZunr6",
        "outputId": "30c28044-a6b6-4d3c-d19b-f7b30bcb467f"
      },
      "execution_count": null,
      "outputs": [
        {
          "output_type": "stream",
          "name": "stdout",
          "text": [
            "Downloading data from https://storage.googleapis.com/tensorflow/tf-keras-datasets/mnist.npz\n",
            "11490434/11490434 [==============================] - 1s 0us/step\n",
            "Epoch 1/5\n",
            "938/938 [==============================] - 70s 74ms/step - loss: 0.1662 - accuracy: 0.9486\n",
            "Epoch 2/5\n",
            "938/938 [==============================] - 62s 66ms/step - loss: 0.0449 - accuracy: 0.9860\n",
            "Epoch 3/5\n",
            "938/938 [==============================] - 64s 68ms/step - loss: 0.0308 - accuracy: 0.9904\n",
            "Epoch 4/5\n",
            "938/938 [==============================] - 68s 72ms/step - loss: 0.0234 - accuracy: 0.9931\n",
            "Epoch 5/5\n",
            "938/938 [==============================] - 67s 71ms/step - loss: 0.0178 - accuracy: 0.9945\n"
          ]
        }
      ]
    },
    {
      "cell_type": "markdown",
      "source": [
        "**Evaluating the convnt**"
      ],
      "metadata": {
        "id": "gELKwklmGzDu"
      }
    },
    {
      "cell_type": "code",
      "source": [
        "test_loss, test_acc = model.evaluate(test_images, test_labels)\n",
        "print(f\"Test accuracy: {test_acc:.3f}\")"
      ],
      "metadata": {
        "colab": {
          "base_uri": "https://localhost:8080/",
          "height": 183
        },
        "id": "YVa3LfhIGsIe",
        "outputId": "9f2b19c0-395d-4a14-a2f9-554d90fa355b"
      },
      "execution_count": null,
      "outputs": [
        {
          "output_type": "error",
          "ename": "NameError",
          "evalue": "ignored",
          "traceback": [
            "\u001b[0;31m---------------------------------------------------------------------------\u001b[0m",
            "\u001b[0;31mNameError\u001b[0m                                 Traceback (most recent call last)",
            "\u001b[0;32m<ipython-input-1-2e9b7c4134a1>\u001b[0m in \u001b[0;36m<cell line: 1>\u001b[0;34m()\u001b[0m\n\u001b[0;32m----> 1\u001b[0;31m \u001b[0mtest_loss\u001b[0m\u001b[0;34m,\u001b[0m \u001b[0mtest_acc\u001b[0m \u001b[0;34m=\u001b[0m \u001b[0mmodel\u001b[0m\u001b[0;34m.\u001b[0m\u001b[0mevaluate\u001b[0m\u001b[0;34m(\u001b[0m\u001b[0mtest_images\u001b[0m\u001b[0;34m,\u001b[0m \u001b[0mtest_labels\u001b[0m\u001b[0;34m)\u001b[0m\u001b[0;34m\u001b[0m\u001b[0;34m\u001b[0m\u001b[0m\n\u001b[0m\u001b[1;32m      2\u001b[0m \u001b[0mprint\u001b[0m\u001b[0;34m(\u001b[0m\u001b[0;34mf\"Test accuracy: {test_acc:.3f}\"\u001b[0m\u001b[0;34m)\u001b[0m\u001b[0;34m\u001b[0m\u001b[0;34m\u001b[0m\u001b[0m\n",
            "\u001b[0;31mNameError\u001b[0m: name 'model' is not defined"
          ]
        }
      ]
    },
    {
      "cell_type": "markdown",
      "source": [
        "![Cnn.PNG](data:image/png;base64,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)"
      ],
      "metadata": {
        "id": "b3C1sOddPIQ-"
      }
    },
    {
      "cell_type": "markdown",
      "source": [
        "#The Convolutional operation\n",
        "\n",
        "The fundamental difference between a densely connected layer and a convolution laver is this Dense layers learn global patterns in their input feature space (for exam ple, for a MNIST digit, patterns involving all pixels), whereas convolution layers learn local patterns\n",
        "\n",
        "This key characteristic gives two intresting properties:\n",
        "1. the pattern they learn are translation-invariant\n",
        "2.they can learn spatial hieararchies of patterns\n",
        "\n",
        "\n",
        "Convolutional are defined by two key parameters:\n",
        "1. Size of patches extracted from the inputs\n",
        "2. Depth of the output feature map\n",
        "\n",
        "Note: That the output width and height may differ from the input width and height for two reasons:\n",
        "1. Border effect , which can be countered by padding the input feature map\n",
        "2. The use of strides\n",
        "\n"
      ],
      "metadata": {
        "id": "gv4g2JMjLCcl"
      }
    },
    {
      "cell_type": "markdown",
      "source": [
        "**Understanding Border effects and padding**\n",
        "\n",
        "Consider a 5*5 feature map (25 tiles total) . There are only 9 tiles around which you can centre a 3*3 window, forming 3*3 grid, hense the output feature map will be 3*3. It shrinks a little.\n",
        "\n",
        "If we want to get an output feature map with the same spatial dimension as the input feature map , we can use padding .\n",
        "padding consists of adding an appropriate number of rows and coulumns on each side of the input feature map so as to make it possible to fit centre convolutional windows around every input file.\n",
        "\n"
      ],
      "metadata": {
        "id": "KE5lMqBvVOsU"
      }
    },
    {
      "cell_type": "markdown",
      "source": [
        "**Understanding Convolutional stride**\n",
        "\n",
        " The distance between two successive windows is a paramter of the convolution, called as its strides , which is by default is 1 ."
      ],
      "metadata": {
        "id": "YD3R3HMkWHlz"
      }
    },
    {
      "cell_type": "markdown",
      "source": [
        "**The max pooling operation**\n",
        "\n",
        "Max pooling consists of extracting windows from the input feature maps and outputting the max value of each channel. A big difference from convolution is that max pooling is usually done with 2*2 windows , and stride 2 , in order to downsample the feature maps by a factor of 2. On the other hand  , convolutional is typically done with 3*3 windows and no stride(stride 1)\n"
      ],
      "metadata": {
        "id": "Ze1-Aq2mPZxx"
      }
    },
    {
      "cell_type": "markdown",
      "source": [
        "**An Incorrectly structured convet missing its max pooling layers**"
      ],
      "metadata": {
        "id": "nfRNd-OyTfv2"
      }
    },
    {
      "cell_type": "code",
      "source": [
        "inputs = keras.Input(shape=(28, 28, 1))\n",
        "x = layers.Conv2D(filters=32, kernel_size=3, activation=\"relu\")(inputs)\n",
        "x = layers.Conv2D(filters=64, kernel_size=3, activation=\"relu\")(x)\n",
        "x = layers.Conv2D(filters=128, kernel_size=3, activation=\"relu\")(x)\n",
        "x = layers.Flatten()(x)\n",
        "outputs = layers.Dense(10, activation=\"softmax\")(x)\n",
        "model_no_max_pool = keras.Model(inputs=inputs, outputs=outputs)"
      ],
      "metadata": {
        "id": "lkktCo7LLKIK"
      },
      "execution_count": null,
      "outputs": []
    },
    {
      "cell_type": "code",
      "source": [
        "model_no_max_pool.summary()\n"
      ],
      "metadata": {
        "colab": {
          "base_uri": "https://localhost:8080/"
        },
        "id": "ogehuDTwcHVn",
        "outputId": "da462908-799e-4d16-ffdc-a4eca0ef8dec"
      },
      "execution_count": null,
      "outputs": [
        {
          "output_type": "stream",
          "name": "stdout",
          "text": [
            "Model: \"model_1\"\n",
            "_________________________________________________________________\n",
            " Layer (type)                Output Shape              Param #   \n",
            "=================================================================\n",
            " input_2 (InputLayer)        [(None, 28, 28, 1)]       0         \n",
            "                                                                 \n",
            " conv2d_3 (Conv2D)           (None, 26, 26, 32)        320       \n",
            "                                                                 \n",
            " conv2d_4 (Conv2D)           (None, 24, 24, 64)        18496     \n",
            "                                                                 \n",
            " conv2d_5 (Conv2D)           (None, 22, 22, 128)       73856     \n",
            "                                                                 \n",
            " flatten_1 (Flatten)         (None, 61952)             0         \n",
            "                                                                 \n",
            " dense_1 (Dense)             (None, 10)                619530    \n",
            "                                                                 \n",
            "=================================================================\n",
            "Total params: 712,202\n",
            "Trainable params: 712,202\n",
            "Non-trainable params: 0\n",
            "_________________________________________________________________\n"
          ]
        }
      ]
    },
    {
      "cell_type": "markdown",
      "source": [
        "#**Training a convnet from scratch on a small dataset**"
      ],
      "metadata": {
        "id": "irMMTmy7cTA4"
      }
    },
    {
      "cell_type": "markdown",
      "source": [
        "**Downloading the data**"
      ],
      "metadata": {
        "id": "TX0owWdGcfbY"
      }
    },
    {
      "cell_type": "markdown",
      "source": [
        "Now upload the kaggle.json file"
      ],
      "metadata": {
        "id": "nFnvQ-TFH7gt"
      }
    },
    {
      "cell_type": "code",
      "source": [
        "from google.colab import files\n",
        "files.upload()"
      ],
      "metadata": {
        "colab": {
          "base_uri": "https://localhost:8080/",
          "height": 90
        },
        "id": "3hJCSHDIcMKc",
        "outputId": "098baf8d-6f91-4eaa-8274-6e8428ef9b96"
      },
      "execution_count": null,
      "outputs": [
        {
          "output_type": "display_data",
          "data": {
            "text/plain": [
              "<IPython.core.display.HTML object>"
            ],
            "text/html": [
              "\n",
              "     <input type=\"file\" id=\"files-d62de77b-d0e5-4d0b-a6bf-ffc18304cf2b\" name=\"files[]\" multiple disabled\n",
              "        style=\"border:none\" />\n",
              "     <output id=\"result-d62de77b-d0e5-4d0b-a6bf-ffc18304cf2b\">\n",
              "      Upload widget is only available when the cell has been executed in the\n",
              "      current browser session. Please rerun this cell to enable.\n",
              "      </output>\n",
              "      <script>// Copyright 2017 Google LLC\n",
              "//\n",
              "// Licensed under the Apache License, Version 2.0 (the \"License\");\n",
              "// you may not use this file except in compliance with the License.\n",
              "// You may obtain a copy of the License at\n",
              "//\n",
              "//      http://www.apache.org/licenses/LICENSE-2.0\n",
              "//\n",
              "// Unless required by applicable law or agreed to in writing, software\n",
              "// distributed under the License is distributed on an \"AS IS\" BASIS,\n",
              "// WITHOUT WARRANTIES OR CONDITIONS OF ANY KIND, either express or implied.\n",
              "// See the License for the specific language governing permissions and\n",
              "// limitations under the License.\n",
              "\n",
              "/**\n",
              " * @fileoverview Helpers for google.colab Python module.\n",
              " */\n",
              "(function(scope) {\n",
              "function span(text, styleAttributes = {}) {\n",
              "  const element = document.createElement('span');\n",
              "  element.textContent = text;\n",
              "  for (const key of Object.keys(styleAttributes)) {\n",
              "    element.style[key] = styleAttributes[key];\n",
              "  }\n",
              "  return element;\n",
              "}\n",
              "\n",
              "// Max number of bytes which will be uploaded at a time.\n",
              "const MAX_PAYLOAD_SIZE = 100 * 1024;\n",
              "\n",
              "function _uploadFiles(inputId, outputId) {\n",
              "  const steps = uploadFilesStep(inputId, outputId);\n",
              "  const outputElement = document.getElementById(outputId);\n",
              "  // Cache steps on the outputElement to make it available for the next call\n",
              "  // to uploadFilesContinue from Python.\n",
              "  outputElement.steps = steps;\n",
              "\n",
              "  return _uploadFilesContinue(outputId);\n",
              "}\n",
              "\n",
              "// This is roughly an async generator (not supported in the browser yet),\n",
              "// where there are multiple asynchronous steps and the Python side is going\n",
              "// to poll for completion of each step.\n",
              "// This uses a Promise to block the python side on completion of each step,\n",
              "// then passes the result of the previous step as the input to the next step.\n",
              "function _uploadFilesContinue(outputId) {\n",
              "  const outputElement = document.getElementById(outputId);\n",
              "  const steps = outputElement.steps;\n",
              "\n",
              "  const next = steps.next(outputElement.lastPromiseValue);\n",
              "  return Promise.resolve(next.value.promise).then((value) => {\n",
              "    // Cache the last promise value to make it available to the next\n",
              "    // step of the generator.\n",
              "    outputElement.lastPromiseValue = value;\n",
              "    return next.value.response;\n",
              "  });\n",
              "}\n",
              "\n",
              "/**\n",
              " * Generator function which is called between each async step of the upload\n",
              " * process.\n",
              " * @param {string} inputId Element ID of the input file picker element.\n",
              " * @param {string} outputId Element ID of the output display.\n",
              " * @return {!Iterable<!Object>} Iterable of next steps.\n",
              " */\n",
              "function* uploadFilesStep(inputId, outputId) {\n",
              "  const inputElement = document.getElementById(inputId);\n",
              "  inputElement.disabled = false;\n",
              "\n",
              "  const outputElement = document.getElementById(outputId);\n",
              "  outputElement.innerHTML = '';\n",
              "\n",
              "  const pickedPromise = new Promise((resolve) => {\n",
              "    inputElement.addEventListener('change', (e) => {\n",
              "      resolve(e.target.files);\n",
              "    });\n",
              "  });\n",
              "\n",
              "  const cancel = document.createElement('button');\n",
              "  inputElement.parentElement.appendChild(cancel);\n",
              "  cancel.textContent = 'Cancel upload';\n",
              "  const cancelPromise = new Promise((resolve) => {\n",
              "    cancel.onclick = () => {\n",
              "      resolve(null);\n",
              "    };\n",
              "  });\n",
              "\n",
              "  // Wait for the user to pick the files.\n",
              "  const files = yield {\n",
              "    promise: Promise.race([pickedPromise, cancelPromise]),\n",
              "    response: {\n",
              "      action: 'starting',\n",
              "    }\n",
              "  };\n",
              "\n",
              "  cancel.remove();\n",
              "\n",
              "  // Disable the input element since further picks are not allowed.\n",
              "  inputElement.disabled = true;\n",
              "\n",
              "  if (!files) {\n",
              "    return {\n",
              "      response: {\n",
              "        action: 'complete',\n",
              "      }\n",
              "    };\n",
              "  }\n",
              "\n",
              "  for (const file of files) {\n",
              "    const li = document.createElement('li');\n",
              "    li.append(span(file.name, {fontWeight: 'bold'}));\n",
              "    li.append(span(\n",
              "        `(${file.type || 'n/a'}) - ${file.size} bytes, ` +\n",
              "        `last modified: ${\n",
              "            file.lastModifiedDate ? file.lastModifiedDate.toLocaleDateString() :\n",
              "                                    'n/a'} - `));\n",
              "    const percent = span('0% done');\n",
              "    li.appendChild(percent);\n",
              "\n",
              "    outputElement.appendChild(li);\n",
              "\n",
              "    const fileDataPromise = new Promise((resolve) => {\n",
              "      const reader = new FileReader();\n",
              "      reader.onload = (e) => {\n",
              "        resolve(e.target.result);\n",
              "      };\n",
              "      reader.readAsArrayBuffer(file);\n",
              "    });\n",
              "    // Wait for the data to be ready.\n",
              "    let fileData = yield {\n",
              "      promise: fileDataPromise,\n",
              "      response: {\n",
              "        action: 'continue',\n",
              "      }\n",
              "    };\n",
              "\n",
              "    // Use a chunked sending to avoid message size limits. See b/62115660.\n",
              "    let position = 0;\n",
              "    do {\n",
              "      const length = Math.min(fileData.byteLength - position, MAX_PAYLOAD_SIZE);\n",
              "      const chunk = new Uint8Array(fileData, position, length);\n",
              "      position += length;\n",
              "\n",
              "      const base64 = btoa(String.fromCharCode.apply(null, chunk));\n",
              "      yield {\n",
              "        response: {\n",
              "          action: 'append',\n",
              "          file: file.name,\n",
              "          data: base64,\n",
              "        },\n",
              "      };\n",
              "\n",
              "      let percentDone = fileData.byteLength === 0 ?\n",
              "          100 :\n",
              "          Math.round((position / fileData.byteLength) * 100);\n",
              "      percent.textContent = `${percentDone}% done`;\n",
              "\n",
              "    } while (position < fileData.byteLength);\n",
              "  }\n",
              "\n",
              "  // All done.\n",
              "  yield {\n",
              "    response: {\n",
              "      action: 'complete',\n",
              "    }\n",
              "  };\n",
              "}\n",
              "\n",
              "scope.google = scope.google || {};\n",
              "scope.google.colab = scope.google.colab || {};\n",
              "scope.google.colab._files = {\n",
              "  _uploadFiles,\n",
              "  _uploadFilesContinue,\n",
              "};\n",
              "})(self);\n",
              "</script> "
            ]
          },
          "metadata": {}
        },
        {
          "output_type": "stream",
          "name": "stdout",
          "text": [
            "Saving kaggle.json to kaggle.json\n"
          ]
        },
        {
          "output_type": "execute_result",
          "data": {
            "text/plain": [
              "{'kaggle.json': b'{\"username\":\"radhikaramsen\",\"key\":\"93cb62c99c340787605f80117247ce36\"}'}"
            ]
          },
          "metadata": {},
          "execution_count": 7
        }
      ]
    },
    {
      "cell_type": "markdown",
      "source": [
        "Install kaggle API client"
      ],
      "metadata": {
        "id": "uq0fh32_H9ZU"
      }
    },
    {
      "cell_type": "code",
      "source": [
        "!pip install kaggle"
      ],
      "metadata": {
        "colab": {
          "base_uri": "https://localhost:8080/"
        },
        "id": "DW5sEfXkfONJ",
        "outputId": "9aef0031-9569-4f4d-dc02-69faf7f0ccd9"
      },
      "execution_count": null,
      "outputs": [
        {
          "output_type": "stream",
          "name": "stdout",
          "text": [
            "Looking in indexes: https://pypi.org/simple, https://us-python.pkg.dev/colab-wheels/public/simple/\n",
            "Requirement already satisfied: kaggle in /usr/local/lib/python3.10/dist-packages (1.5.13)\n",
            "Requirement already satisfied: six>=1.10 in /usr/local/lib/python3.10/dist-packages (from kaggle) (1.16.0)\n",
            "Requirement already satisfied: certifi in /usr/local/lib/python3.10/dist-packages (from kaggle) (2022.12.7)\n",
            "Requirement already satisfied: python-dateutil in /usr/local/lib/python3.10/dist-packages (from kaggle) (2.8.2)\n",
            "Requirement already satisfied: requests in /usr/local/lib/python3.10/dist-packages (from kaggle) (2.27.1)\n",
            "Requirement already satisfied: tqdm in /usr/local/lib/python3.10/dist-packages (from kaggle) (4.65.0)\n",
            "Requirement already satisfied: python-slugify in /usr/local/lib/python3.10/dist-packages (from kaggle) (8.0.1)\n",
            "Requirement already satisfied: urllib3 in /usr/local/lib/python3.10/dist-packages (from kaggle) (1.26.15)\n",
            "Requirement already satisfied: text-unidecode>=1.3 in /usr/local/lib/python3.10/dist-packages (from python-slugify->kaggle) (1.3)\n",
            "Requirement already satisfied: charset-normalizer~=2.0.0 in /usr/local/lib/python3.10/dist-packages (from requests->kaggle) (2.0.12)\n",
            "Requirement already satisfied: idna<4,>=2.5 in /usr/local/lib/python3.10/dist-packages (from requests->kaggle) (3.4)\n"
          ]
        }
      ]
    },
    {
      "cell_type": "markdown",
      "source": [
        "kaggle API client expects the file to be in ~/.kaggle\n",
        "\n",
        "so move it there"
      ],
      "metadata": {
        "id": "4nDxiTYyIGf0"
      }
    },
    {
      "cell_type": "code",
      "source": [
        "!mkdir -p ~/.kaggle\n",
        "!cp kaggle.json ~/.kaggle/"
      ],
      "metadata": {
        "id": "C3WdtCcL9d5P"
      },
      "execution_count": null,
      "outputs": []
    },
    {
      "cell_type": "markdown",
      "source": [
        "we need to set permissions"
      ],
      "metadata": {
        "id": "pcQy48zgIH45"
      }
    },
    {
      "cell_type": "code",
      "source": [
        "!chmod 600 /root/.kaggle/kaggle.json"
      ],
      "metadata": {
        "id": "mkbTAz-vDMmf"
      },
      "execution_count": null,
      "outputs": []
    },
    {
      "cell_type": "markdown",
      "source": [
        "list all available datasets"
      ],
      "metadata": {
        "id": "nfnU7CUPITt8"
      }
    },
    {
      "cell_type": "code",
      "source": [
        "!kaggle datasets list"
      ],
      "metadata": {
        "colab": {
          "base_uri": "https://localhost:8080/"
        },
        "id": "CZwR9-8ZDeyM",
        "outputId": "faab931d-3269-4db5-aec9-e40e7cca2207"
      },
      "execution_count": null,
      "outputs": [
        {
          "output_type": "stream",
          "name": "stdout",
          "text": [
            "ref                                                                   title                                                size  lastUpdated          downloadCount  voteCount  usabilityRating  \n",
            "--------------------------------------------------------------------  --------------------------------------------------  -----  -------------------  -------------  ---------  ---------------  \n",
            "arnabchaki/data-science-salaries-2023                                 Data Science Salaries 2023 💸                         25KB  2023-04-13 09:55:16          27455        774  1.0              \n",
            "tawfikelmetwally/automobile-dataset                                   Car information dataset                               6KB  2023-05-28 18:26:48           1918         54  0.9411765        \n",
            "fatihb/coffee-quality-data-cqi                                        Coffee Quality Data (CQI May-2023)                   22KB  2023-05-12 13:06:39           4468         93  1.0              \n",
            "mohithsairamreddy/salary-data                                         Salary_Data                                          17KB  2023-05-18 14:05:19           3990         80  0.88235295       \n",
            "mauryansshivam/netflix-ott-revenue-and-subscribers-csv-file           Netflix OTT Revenue and Subscribers (CSV File)        2KB  2023-05-13 17:40:23           2181         54  1.0              \n",
            "omarsobhy14/mcdonalds-revenue                                         🍟💰From Flipping Burgers to Billions: McDonald's      565B  2023-06-01 23:22:49            504         25  1.0              \n",
            "zsinghrahulk/rice-pest-and-diseases                                   Rice - Pest and Diseases                            312KB  2023-06-01 08:57:29            423         26  1.0              \n",
            "iammustafatz/diabetes-prediction-dataset                              Diabetes prediction dataset                         734KB  2023-04-08 06:11:45          14369        206  1.0              \n",
            "vstacknocopyright/fruit-and-vegetable-prices                          Fruit and Vegetable Prices                            1KB  2023-06-02 06:17:43            701         26  0.7647059        \n",
            "bilalwaseer/microsoft-stocks-from-1986-to-2023                        Microsoft Stocks from 1986 to 2023                  120KB  2023-05-16 10:07:28            853         26  0.9411765        \n",
            "darshanprabhu09/stock-prices-for                                      Stock prices of Amazon , Microsoft , Google, Apple   85KB  2023-05-16 15:17:16           1829         41  1.0              \n",
            "rajkumarpandey02/2023-world-population-by-country                      World Population by Country                         38KB  2023-06-01 06:10:41           1274         32  1.0              \n",
            "danishjmeo/karachi-housing-prices-2023                                Karachi_Housing_Prices_2023                           1MB  2023-06-01 07:08:13            424         26  0.9411765        \n",
            "adityaramachandran27/world-air-quality-index-by-city-and-coordinates  World Air Quality Index by City and Coordinates     372KB  2023-05-07 07:29:26           1750         39  1.0              \n",
            "dansbecker/melbourne-housing-snapshot                                 Melbourne Housing Snapshot                          451KB  2018-06-05 12:52:24         117293       1277  0.7058824        \n",
            "pushpakhinglaspure/oscar-dataset                                      Oscar Academy Award-winning films 1927-2022         161KB  2023-05-21 18:14:44            689         28  1.0              \n",
            "aryansingh0909/weekly-patent-application-granted                      Patent Application Granted Dataset                    6MB  2023-06-01 19:04:40            294         24  1.0              \n",
            "utkarshx27/heart-disease-diagnosis-dataset                            Heart Disease Prediction Dataset                      3KB  2023-05-26 09:33:13           1066         32  1.0              \n",
            "shreyanshverma27/water-quality-testing                                Water Quality Testing                                 4KB  2023-05-16 05:22:17           1147         31  0.9411765        \n",
            "desalegngeb/conversion-predictors-of-cis-to-multiple-sclerosis        Multiple Sclerosis Disease                            3KB  2023-05-18 09:41:09            850         30  1.0              \n"
          ]
        }
      ]
    },
    {
      "cell_type": "markdown",
      "source": [
        "download the dataset"
      ],
      "metadata": {
        "id": "tYFI2SKRIVxT"
      }
    },
    {
      "cell_type": "code",
      "source": [
        "!kaggle competitions download -c dogs-vs-cats"
      ],
      "metadata": {
        "colab": {
          "base_uri": "https://localhost:8080/"
        },
        "id": "lLDvTqwDDiLM",
        "outputId": "fc62d193-3736-4dc6-f586-37b10c952a85"
      },
      "execution_count": null,
      "outputs": [
        {
          "output_type": "stream",
          "name": "stdout",
          "text": [
            "Downloading dogs-vs-cats.zip to /content\n",
            " 99% 808M/812M [00:11<00:00, 179MB/s]\n",
            "100% 812M/812M [00:11<00:00, 76.7MB/s]\n"
          ]
        }
      ]
    },
    {
      "cell_type": "markdown",
      "source": [
        "If your file is a zip file you can unzip with the following code"
      ],
      "metadata": {
        "id": "RiApTcl3IaFp"
      }
    },
    {
      "cell_type": "code",
      "source": [
        "!unzip -qq train.zip\n"
      ],
      "metadata": {
        "id": "i4C5GuMeHml5"
      },
      "execution_count": null,
      "outputs": []
    },
    {
      "cell_type": "markdown",
      "source": [
        "After downloading the data we will uncompress it , we will create a new dataset containing three subsets:\n",
        "1. training set with 1000 samples from each class(cat and dog)\n",
        "2. validation set with 500 samples from each class\n",
        "3. test set with 1000 sample from each class"
      ],
      "metadata": {
        "id": "pT7-jk8R3xlO"
      }
    },
    {
      "cell_type": "markdown",
      "source": [
        "**Copying images to training , validation and test dataset**"
      ],
      "metadata": {
        "id": "9rVziQaL4fZx"
      }
    },
    {
      "cell_type": "code",
      "source": [
        "import os, shutil, pathlib\n",
        "\n",
        "original_dir = pathlib.Path(\"train\")\n",
        "new_base_dir = pathlib.Path(\"cats_vs_dogs_smaller\")\n",
        "\n",
        "def make_subset(subset_name, start_index, end_index):\n",
        "    for category in (\"cat\", \"dog\"):\n",
        "        dir = new_base_dir / subset_name / category\n",
        "        os.makedirs(dir)\n",
        "        fnames = [f\"{category}.{i}.jpg\" for i in range(start_index, end_index)]\n",
        "        for fname in fnames:\n",
        "            shutil.copyfile(src=original_dir / fname,\n",
        "                            dst=dir / fname)\n",
        "\n",
        "make_subset(\"train\", start_index=0, end_index=1000)\n",
        "make_subset(\"validation\", start_index=1000, end_index=1500)\n",
        "make_subset(\"test\", start_index=1500, end_index=2500)"
      ],
      "metadata": {
        "id": "x1D-TiJ_hCNh"
      },
      "execution_count": null,
      "outputs": []
    },
    {
      "cell_type": "code",
      "source": [
        "from tensorflow import keras\n",
        "from tensorflow.keras import layers\n",
        "\n",
        "inputs = keras.Input(shape=(180, 180, 3))\n",
        "x = layers.Rescaling(1./255)(inputs)\n",
        "x = layers.Conv2D(filters=32, kernel_size=3, activation=\"relu\")(x)\n",
        "x = layers.MaxPooling2D(pool_size=2)(x)\n",
        "x = layers.Conv2D(filters=64, kernel_size=3, activation=\"relu\")(x)\n",
        "x = layers.MaxPooling2D(pool_size=2)(x)\n",
        "x = layers.Conv2D(filters=128, kernel_size=3, activation=\"relu\")(x)\n",
        "x = layers.MaxPooling2D(pool_size=2)(x)\n",
        "x = layers.Conv2D(filters=256, kernel_size=3, activation=\"relu\")(x)\n",
        "x = layers.MaxPooling2D(pool_size=2)(x)\n",
        "x = layers.Conv2D(filters=256, kernel_size=3, activation=\"relu\")(x)\n",
        "x = layers.Flatten()(x)\n",
        "outputs = layers.Dense(1, activation=\"sigmoid\")(x)\n",
        "model = keras.Model(inputs=inputs, outputs=outputs)"
      ],
      "metadata": {
        "id": "t_ofFI48Eoca"
      },
      "execution_count": 1,
      "outputs": []
    }
  ]
}