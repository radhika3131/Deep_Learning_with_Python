{
  "cells": [
    {
      "cell_type": "markdown",
      "metadata": {
        "id": "view-in-github",
        "colab_type": "text"
      },
      "source": [
        "<a href=\"https://colab.research.google.com/github/radhika3131/Deep_Learning_with_Python/blob/main/ch_04_Fundamentals_of_Machine_Learning.ipynb\" target=\"_parent\"><img src=\"https://colab.research.google.com/assets/colab-badge.svg\" alt=\"Open In Colab\"/></a>"
      ]
    },
    {
      "cell_type": "markdown",
      "metadata": {
        "id": "KaBUzbzUgeOy"
      },
      "source": [
        "# Generalization : The goal of machine Learning\n",
        "\n",
        "Te fundamental issue in machine learning is the tenaion between optimization and generalization . **Optimization** refers to the process of adjusting a model to get the best performance possible on training data(The learning in machine learning)\n",
        "\n",
        "**Generalization** refers to how well trained model performs on data it has never seen before."
      ]
    },
    {
      "cell_type": "markdown",
      "metadata": {
        "id": "6Rb2PRjziKLf"
      },
      "source": [
        "#Underfitting and Overfitting\n",
        "\n",
        "at the beginning of training , optimization and generalization are correlated , lower the loss on training data , the lower the loss on test data , while this is happening your model is **underfit**.\n",
        "\n",
        "**overfitting** - when we get better accuracy on training data but less on testing data.\n",
        "\n",
        "overfitting likely to occur when your data is noisy, if it involves uncertainity , or it includes rare features\n"
      ]
    },
    {
      "cell_type": "markdown",
      "metadata": {
        "id": "TeuDG0gnvAGW"
      },
      "source": [
        "**Adding white noise channels or all zeros channels to MNIST**"
      ]
    },
    {
      "cell_type": "code",
      "execution_count": null,
      "metadata": {
        "colab": {
          "base_uri": "https://localhost:8080/"
        },
        "id": "ElyTev4agjyN",
        "outputId": "5b8e646a-9bd2-4781-c60a-5fba9a75b004"
      },
      "outputs": [
        {
          "name": "stdout",
          "output_type": "stream",
          "text": [
            "Downloading data from https://storage.googleapis.com/tensorflow/tf-keras-datasets/mnist.npz\n",
            "11490434/11490434 [==============================] - 0s 0us/step\n"
          ]
        }
      ],
      "source": [
        "from tensorflow.keras.datasets import mnist\n",
        "import numpy as np\n",
        "\n",
        "(train_images, train_labels), _ = mnist.load_data()\n",
        "train_images = train_images.reshape((60000, 28 * 28))\n",
        "train_images = train_images.astype(\"float32\") / 255\n",
        "\n",
        "train_images_with_noise_channels = np.concatenate(\n",
        "    [train_images, np.random.random((len(train_images), 784))], axis=1)\n",
        "\n",
        "train_images_with_zeros_channels = np.concatenate(\n",
        "    [train_images, np.zeros((len(train_images), 784))], axis=1)"
      ]
    },
    {
      "cell_type": "markdown",
      "metadata": {
        "id": "nL4_Zk5bvnfc"
      },
      "source": [
        "**Training the same model on MNIST data with noise channels or all-zeros channels**"
      ]
    },
    {
      "cell_type": "code",
      "execution_count": null,
      "metadata": {
        "colab": {
          "base_uri": "https://localhost:8080/"
        },
        "id": "baa77L1DvmKk",
        "outputId": "774311d6-a414-49ad-c5c3-676f1efc9e93"
      },
      "outputs": [
        {
          "name": "stdout",
          "output_type": "stream",
          "text": [
            "Epoch 1/10\n",
            "375/375 [==============================] - 7s 16ms/step - loss: 0.6162 - accuracy: 0.8128 - val_loss: 0.3107 - val_accuracy: 0.9047\n",
            "Epoch 2/10\n",
            "375/375 [==============================] - 7s 18ms/step - loss: 0.2566 - accuracy: 0.9212 - val_loss: 0.1957 - val_accuracy: 0.9414\n",
            "Epoch 3/10\n",
            "375/375 [==============================] - 6s 15ms/step - loss: 0.1696 - accuracy: 0.9474 - val_loss: 0.2320 - val_accuracy: 0.9303\n",
            "Epoch 4/10\n",
            "375/375 [==============================] - 7s 18ms/step - loss: 0.1212 - accuracy: 0.9626 - val_loss: 0.1660 - val_accuracy: 0.9507\n",
            "Epoch 5/10\n",
            "375/375 [==============================] - 6s 15ms/step - loss: 0.0904 - accuracy: 0.9715 - val_loss: 0.1178 - val_accuracy: 0.9642\n",
            "Epoch 6/10\n",
            "375/375 [==============================] - 7s 18ms/step - loss: 0.0672 - accuracy: 0.9785 - val_loss: 0.1234 - val_accuracy: 0.9632\n",
            "Epoch 7/10\n",
            "375/375 [==============================] - 6s 16ms/step - loss: 0.0494 - accuracy: 0.9844 - val_loss: 0.1312 - val_accuracy: 0.9633\n",
            "Epoch 8/10\n",
            "375/375 [==============================] - 7s 19ms/step - loss: 0.0379 - accuracy: 0.9878 - val_loss: 0.1210 - val_accuracy: 0.9677\n",
            "Epoch 9/10\n",
            "375/375 [==============================] - 6s 16ms/step - loss: 0.0284 - accuracy: 0.9910 - val_loss: 0.1150 - val_accuracy: 0.9702\n",
            "Epoch 10/10\n",
            "375/375 [==============================] - 7s 18ms/step - loss: 0.0195 - accuracy: 0.9940 - val_loss: 0.1273 - val_accuracy: 0.9680\n",
            "Epoch 1/10\n",
            "375/375 [==============================] - 7s 18ms/step - loss: 0.2955 - accuracy: 0.9147 - val_loss: 0.1650 - val_accuracy: 0.9518\n",
            "Epoch 2/10\n",
            "375/375 [==============================] - 6s 15ms/step - loss: 0.1217 - accuracy: 0.9641 - val_loss: 0.1157 - val_accuracy: 0.9668\n",
            "Epoch 3/10\n",
            "375/375 [==============================] - 7s 18ms/step - loss: 0.0805 - accuracy: 0.9759 - val_loss: 0.0861 - val_accuracy: 0.9740\n",
            "Epoch 4/10\n",
            "375/375 [==============================] - 6s 15ms/step - loss: 0.0582 - accuracy: 0.9831 - val_loss: 0.0774 - val_accuracy: 0.9762\n",
            "Epoch 5/10\n",
            "375/375 [==============================] - 7s 18ms/step - loss: 0.0429 - accuracy: 0.9874 - val_loss: 0.0920 - val_accuracy: 0.9732\n",
            "Epoch 6/10\n",
            "375/375 [==============================] - 6s 15ms/step - loss: 0.0323 - accuracy: 0.9908 - val_loss: 0.0738 - val_accuracy: 0.9789\n",
            "Epoch 7/10\n",
            "375/375 [==============================] - 7s 20ms/step - loss: 0.0241 - accuracy: 0.9930 - val_loss: 0.0754 - val_accuracy: 0.9786\n",
            "Epoch 8/10\n",
            "375/375 [==============================] - 10s 27ms/step - loss: 0.0184 - accuracy: 0.9949 - val_loss: 0.0762 - val_accuracy: 0.9796\n",
            "Epoch 9/10\n",
            "375/375 [==============================] - 6s 16ms/step - loss: 0.0131 - accuracy: 0.9968 - val_loss: 0.0809 - val_accuracy: 0.9781\n",
            "Epoch 10/10\n",
            "375/375 [==============================] - 6s 17ms/step - loss: 0.0099 - accuracy: 0.9978 - val_loss: 0.0800 - val_accuracy: 0.9795\n"
          ]
        }
      ],
      "source": [
        "from tensorflow import keras\n",
        "from tensorflow.keras import layers\n",
        "\n",
        "def get_model():\n",
        "    model = keras.Sequential([\n",
        "        layers.Dense(512, activation=\"relu\"),\n",
        "        layers.Dense(10, activation=\"softmax\")\n",
        "    ])\n",
        "    model.compile(optimizer=\"rmsprop\",\n",
        "                  loss=\"sparse_categorical_crossentropy\",\n",
        "                  metrics=[\"accuracy\"])\n",
        "    return model\n",
        "\n",
        "model = get_model()\n",
        "history_noise = model.fit(\n",
        "    train_images_with_noise_channels, train_labels,\n",
        "    epochs=10,\n",
        "    batch_size=128,\n",
        "    validation_split=0.2)\n",
        "\n",
        "model = get_model()\n",
        "history_zeros = model.fit(\n",
        "    train_images_with_zeros_channels, train_labels,\n",
        "    epochs=10,\n",
        "    batch_size=128,\n",
        "    validation_split=0.2)"
      ]
    },
    {
      "cell_type": "markdown",
      "metadata": {
        "id": "ZXdyg3iAwJM4"
      },
      "source": [
        "**Plotting a validation accuracy comparision**"
      ]
    },
    {
      "cell_type": "code",
      "execution_count": null,
      "metadata": {
        "colab": {
          "base_uri": "https://localhost:8080/",
          "height": 489
        },
        "id": "M63HqMl0v-kn",
        "outputId": "b730cf8e-b876-4219-cc13-0c439dbd18ef"
      },
      "outputs": [
        {
          "data": {
            "text/plain": [
              "<matplotlib.legend.Legend at 0x7f46b58dd3d0>"
            ]
          },
          "execution_count": 3,
          "metadata": {},
          "output_type": "execute_result"
        },
        {
          "data": {
            "image/png": "[encoded data removed]",
            "text/plain": [
              "<Figure size 640x480 with 1 Axes>"
            ]
          },
          "metadata": {},
          "output_type": "display_data"
        }
      ],
      "source": [
        "import matplotlib.pyplot as plt\n",
        "val_acc_noise = history_noise.history[\"val_accuracy\"]\n",
        "val_acc_zeros = history_zeros.history[\"val_accuracy\"]\n",
        "epochs = range(1, 11)\n",
        "plt.plot(epochs, val_acc_noise, \"b-\",\n",
        "         label=\"Validation accuracy with noise channels\")\n",
        "plt.plot(epochs, val_acc_zeros, \"b--\",\n",
        "         label=\"Validation accuracy with zeros channels\")\n",
        "plt.title(\"Effect of noise channels on validation accuracy\")\n",
        "plt.xlabel(\"Epochs\")\n",
        "plt.ylabel(\"Accuracy\")\n",
        "plt.legend()"
      ]
    },
    {
      "cell_type": "markdown",
      "metadata": {
        "id": "GGxPOlJOxU3Y"
      },
      "source": [
        "Despite the data holding the same information in both cases , the validation accuracy of the model trained with noise channels ends up about one percentage point lower , purely through the influence of spurious correlation . The more noise channels you add , the further accuracy will degrade."
      ]
    },
    {
      "cell_type": "markdown",
      "metadata": {
        "id": "nbK3l2PVyDkg"
      },
      "source": [
        "#The nature of generalization in Deep Learning\n",
        "\n",
        "The remarkable fact about deep learning model is that they can be trained to fit anything , as long as they enough representational power \n",
        "\n",
        "Try shuffling the MNISt labels and train a model on that.Even though there is no relationship whatsoever between the inputs and the shuffled labels , the training loss goes down just fine , even with a relatively small model"
      ]
    },
    {
      "cell_type": "markdown",
      "metadata": {
        "id": "oNA4XX5XzXt_"
      },
      "source": [
        "**Fitting a MNIST model with randomly shuffled labels**"
      ]
    },
    {
      "cell_type": "code",
      "execution_count": null,
      "metadata": {
        "colab": {
          "background_save": true,
          "base_uri": "https://localhost:8080/"
        },
        "id": "MOVY1bQCx4_O",
        "outputId": "51ea938a-0f45-4e52-9ac6-f8e856b13cd0"
      },
      "outputs": [
        {
          "name": "stdout",
          "output_type": "stream",
          "text": [
            "Epoch 1/100\n",
            "375/375 [==============================] - 4s 10ms/step - loss: 2.3151 - accuracy: 0.1021 - val_loss: 2.3075 - val_accuracy: 0.0993\n",
            "Epoch 2/100\n",
            "375/375 [==============================] - 5s 12ms/step - loss: 2.2989 - accuracy: 0.1180 - val_loss: 2.3120 - val_accuracy: 0.1032\n",
            "Epoch 3/100\n",
            "375/375 [==============================] - 3s 9ms/step - loss: 2.2902 - accuracy: 0.1289 - val_loss: 2.3194 - val_accuracy: 0.1038\n",
            "Epoch 4/100\n",
            "375/375 [==============================] - 3s 9ms/step - loss: 2.2771 - accuracy: 0.1392 - val_loss: 2.3256 - val_accuracy: 0.1025\n",
            "Epoch 5/100\n",
            "375/375 [==============================] - 7s 19ms/step - loss: 2.2602 - accuracy: 0.1522 - val_loss: 2.3415 - val_accuracy: 0.0978\n",
            "Epoch 6/100\n",
            "375/375 [==============================] - 7s 18ms/step - loss: 2.2428 - accuracy: 0.1663 - val_loss: 2.3463 - val_accuracy: 0.0999\n",
            "Epoch 7/100\n",
            "375/375 [==============================] - 5s 14ms/step - loss: 2.2182 - accuracy: 0.1824 - val_loss: 2.3625 - val_accuracy: 0.0978\n",
            "Epoch 8/100\n",
            "375/375 [==============================] - 3s 9ms/step - loss: 2.1910 - accuracy: 0.1954 - val_loss: 2.3860 - val_accuracy: 0.0987\n",
            "Epoch 9/100\n",
            "375/375 [==============================] - 3s 9ms/step - loss: 2.1613 - accuracy: 0.2150 - val_loss: 2.4032 - val_accuracy: 0.0997\n",
            "Epoch 10/100\n",
            "375/375 [==============================] - 4s 11ms/step - loss: 2.1285 - accuracy: 0.2303 - val_loss: 2.4298 - val_accuracy: 0.0957\n",
            "Epoch 11/100\n",
            "375/375 [==============================] - 4s 10ms/step - loss: 2.0937 - accuracy: 0.2479 - val_loss: 2.4510 - val_accuracy: 0.0964\n",
            "Epoch 12/100\n",
            "375/375 [==============================] - 4s 9ms/step - loss: 2.0568 - accuracy: 0.2642 - val_loss: 2.4741 - val_accuracy: 0.1033\n",
            "Epoch 13/100\n",
            "375/375 [==============================] - 4s 9ms/step - loss: 2.0195 - accuracy: 0.2831 - val_loss: 2.5105 - val_accuracy: 0.0979\n",
            "Epoch 14/100\n",
            "375/375 [==============================] - 5s 13ms/step - loss: 1.9805 - accuracy: 0.2986 - val_loss: 2.5488 - val_accuracy: 0.0999\n",
            "Epoch 15/100\n",
            "375/375 [==============================] - 4s 10ms/step - loss: 1.9426 - accuracy: 0.3165 - val_loss: 2.5832 - val_accuracy: 0.0988\n",
            "Epoch 16/100\n",
            "375/375 [==============================] - 4s 10ms/step - loss: 1.9011 - accuracy: 0.3340 - val_loss: 2.5942 - val_accuracy: 0.1007\n",
            "Epoch 17/100\n",
            "375/375 [==============================] - 5s 12ms/step - loss: 1.8640 - accuracy: 0.3446 - val_loss: 2.6403 - val_accuracy: 0.0982\n",
            "Epoch 18/100\n",
            "375/375 [==============================] - 4s 9ms/step - loss: 1.8245 - accuracy: 0.3639 - val_loss: 2.6755 - val_accuracy: 0.1020\n",
            "Epoch 19/100\n",
            "375/375 [==============================] - 3s 9ms/step - loss: 1.7842 - accuracy: 0.3824 - val_loss: 2.7311 - val_accuracy: 0.1015\n",
            "Epoch 20/100\n",
            "375/375 [==============================] - 4s 11ms/step - loss: 1.7454 - accuracy: 0.3955 - val_loss: 2.7607 - val_accuracy: 0.0996\n",
            "Epoch 21/100\n",
            "375/375 [==============================] - 4s 10ms/step - loss: 1.7066 - accuracy: 0.4100 - val_loss: 2.8120 - val_accuracy: 0.0997\n",
            "Epoch 22/100\n",
            "375/375 [==============================] - 3s 9ms/step - loss: 1.6703 - accuracy: 0.4261 - val_loss: 2.8606 - val_accuracy: 0.0954\n",
            "Epoch 23/100\n",
            "375/375 [==============================] - 3s 9ms/step - loss: 1.6333 - accuracy: 0.4374 - val_loss: 2.8903 - val_accuracy: 0.0992\n",
            "Epoch 24/100\n",
            "375/375 [==============================] - 5s 13ms/step - loss: 1.5981 - accuracy: 0.4514 - val_loss: 2.9282 - val_accuracy: 0.0973\n",
            "Epoch 25/100\n",
            "375/375 [==============================] - 3s 9ms/step - loss: 1.5632 - accuracy: 0.4626 - val_loss: 2.9866 - val_accuracy: 0.0981\n",
            "Epoch 26/100\n",
            "375/375 [==============================] - 3s 9ms/step - loss: 1.5288 - accuracy: 0.4797 - val_loss: 3.0364 - val_accuracy: 0.0982\n",
            "Epoch 27/100\n",
            "375/375 [==============================] - 4s 12ms/step - loss: 1.4962 - accuracy: 0.4893 - val_loss: 3.0933 - val_accuracy: 0.0999\n",
            "Epoch 28/100\n",
            "375/375 [==============================] - 3s 9ms/step - loss: 1.4624 - accuracy: 0.5014 - val_loss: 3.1311 - val_accuracy: 0.0988\n",
            "Epoch 29/100\n",
            "375/375 [==============================] - 3s 9ms/step - loss: 1.4327 - accuracy: 0.5143 - val_loss: 3.1873 - val_accuracy: 0.0990\n",
            "Epoch 30/100\n",
            "375/375 [==============================] - 4s 11ms/step - loss: 1.3998 - accuracy: 0.5251 - val_loss: 3.2328 - val_accuracy: 0.0990\n",
            "Epoch 31/100\n",
            "375/375 [==============================] - 6s 15ms/step - loss: 1.3704 - accuracy: 0.5364 - val_loss: 3.2763 - val_accuracy: 0.1027\n",
            "Epoch 32/100\n",
            "375/375 [==============================] - 4s 11ms/step - loss: 1.3391 - accuracy: 0.5470 - val_loss: 3.3489 - val_accuracy: 0.0968\n",
            "Epoch 33/100\n",
            "375/375 [==============================] - 4s 11ms/step - loss: 1.3103 - accuracy: 0.5592 - val_loss: 3.3934 - val_accuracy: 0.0991\n",
            "Epoch 34/100\n",
            "375/375 [==============================] - 4s 10ms/step - loss: 1.2811 - accuracy: 0.5695 - val_loss: 3.4545 - val_accuracy: 0.0986\n",
            "Epoch 35/100\n",
            "375/375 [==============================] - 3s 9ms/step - loss: 1.2543 - accuracy: 0.5789 - val_loss: 3.5473 - val_accuracy: 0.1004\n",
            "Epoch 36/100\n",
            "375/375 [==============================] - 3s 9ms/step - loss: 1.2268 - accuracy: 0.5893 - val_loss: 3.5786 - val_accuracy: 0.1006\n",
            "Epoch 37/100\n",
            "375/375 [==============================] - 5s 12ms/step - loss: 1.2014 - accuracy: 0.5965 - val_loss: 3.6421 - val_accuracy: 0.0999\n",
            "Epoch 38/100\n",
            "375/375 [==============================] - 4s 10ms/step - loss: 1.1746 - accuracy: 0.6082 - val_loss: 3.6963 - val_accuracy: 0.0973\n",
            "Epoch 39/100\n",
            "375/375 [==============================] - 3s 9ms/step - loss: 1.1518 - accuracy: 0.6119 - val_loss: 3.7395 - val_accuracy: 0.1009\n",
            "Epoch 40/100\n",
            "375/375 [==============================] - 5s 13ms/step - loss: 1.1237 - accuracy: 0.6228 - val_loss: 3.8307 - val_accuracy: 0.0983\n",
            "Epoch 41/100\n",
            "375/375 [==============================] - 4s 9ms/step - loss: 1.1022 - accuracy: 0.6338 - val_loss: 3.8815 - val_accuracy: 0.1012\n",
            "Epoch 42/100\n",
            "375/375 [==============================] - 4s 9ms/step - loss: 1.0791 - accuracy: 0.6400 - val_loss: 3.9386 - val_accuracy: 0.1028\n",
            "Epoch 43/100\n",
            "375/375 [==============================] - 4s 11ms/step - loss: 1.0551 - accuracy: 0.6491 - val_loss: 3.9859 - val_accuracy: 0.1058\n",
            "Epoch 44/100\n",
            "375/375 [==============================] - 4s 11ms/step - loss: 1.0334 - accuracy: 0.6572 - val_loss: 4.0778 - val_accuracy: 0.0981\n",
            "Epoch 45/100\n",
            "375/375 [==============================] - 4s 11ms/step - loss: 1.0099 - accuracy: 0.6674 - val_loss: 4.1583 - val_accuracy: 0.0995\n",
            "Epoch 46/100\n",
            "375/375 [==============================] - 4s 10ms/step - loss: 0.9909 - accuracy: 0.6719 - val_loss: 4.2126 - val_accuracy: 0.1018\n",
            "Epoch 47/100\n",
            "375/375 [==============================] - 4s 12ms/step - loss: 0.9678 - accuracy: 0.6811 - val_loss: 4.2473 - val_accuracy: 0.1018\n",
            "Epoch 48/100\n",
            "375/375 [==============================] - 4s 10ms/step - loss: 0.9476 - accuracy: 0.6876 - val_loss: 4.3039 - val_accuracy: 0.1042\n",
            "Epoch 49/100\n",
            "375/375 [==============================] - 4s 10ms/step - loss: 0.9271 - accuracy: 0.6962 - val_loss: 4.4100 - val_accuracy: 0.0960\n",
            "Epoch 50/100\n",
            "375/375 [==============================] - 5s 12ms/step - loss: 0.9102 - accuracy: 0.7008 - val_loss: 4.4675 - val_accuracy: 0.0980\n",
            "Epoch 51/100\n",
            "375/375 [==============================] - 4s 9ms/step - loss: 0.8908 - accuracy: 0.7063 - val_loss: 4.5570 - val_accuracy: 0.1009\n",
            "Epoch 52/100\n",
            "375/375 [==============================] - 4s 9ms/step - loss: 0.8727 - accuracy: 0.7119 - val_loss: 4.6152 - val_accuracy: 0.1021\n",
            "Epoch 53/100\n",
            "375/375 [==============================] - 5s 12ms/step - loss: 0.8537 - accuracy: 0.7188 - val_loss: 4.7119 - val_accuracy: 0.0968\n",
            "Epoch 54/100\n",
            "375/375 [==============================] - 3s 9ms/step - loss: 0.8376 - accuracy: 0.7252 - val_loss: 4.7106 - val_accuracy: 0.0980\n",
            "Epoch 55/100\n",
            "375/375 [==============================] - 4s 9ms/step - loss: 0.8173 - accuracy: 0.7335 - val_loss: 4.8013 - val_accuracy: 0.0993\n",
            "Epoch 56/100\n",
            "375/375 [==============================] - 4s 11ms/step - loss: 0.8011 - accuracy: 0.7372 - val_loss: 4.8846 - val_accuracy: 0.0981\n",
            "Epoch 57/100\n",
            "375/375 [==============================] - 4s 11ms/step - loss: 0.7842 - accuracy: 0.7437 - val_loss: 4.9204 - val_accuracy: 0.1008\n",
            "Epoch 58/100\n",
            "375/375 [==============================] - 4s 10ms/step - loss: 0.7669 - accuracy: 0.7484 - val_loss: 5.0259 - val_accuracy: 0.1005\n",
            "Epoch 59/100\n",
            "375/375 [==============================] - 4s 9ms/step - loss: 0.7559 - accuracy: 0.7521 - val_loss: 5.1189 - val_accuracy: 0.1028\n",
            "Epoch 60/100\n",
            "375/375 [==============================] - 5s 13ms/step - loss: 0.7386 - accuracy: 0.7601 - val_loss: 5.1666 - val_accuracy: 0.0986\n",
            "Epoch 61/100\n",
            "375/375 [==============================] - 4s 10ms/step - loss: 0.7224 - accuracy: 0.7657 - val_loss: 5.2665 - val_accuracy: 0.0992\n",
            "Epoch 62/100\n",
            "375/375 [==============================] - 4s 10ms/step - loss: 0.7082 - accuracy: 0.7715 - val_loss: 5.2773 - val_accuracy: 0.0989\n",
            "Epoch 63/100\n",
            "375/375 [==============================] - 5s 13ms/step - loss: 0.6918 - accuracy: 0.7754 - val_loss: 5.3837 - val_accuracy: 0.1007\n",
            "Epoch 64/100\n",
            "375/375 [==============================] - 4s 10ms/step - loss: 0.6833 - accuracy: 0.7787 - val_loss: 5.4247 - val_accuracy: 0.1002\n",
            "Epoch 65/100\n",
            "375/375 [==============================] - 4s 10ms/step - loss: 0.6658 - accuracy: 0.7854 - val_loss: 5.5260 - val_accuracy: 0.0951\n",
            "Epoch 66/100\n",
            "375/375 [==============================] - 5s 13ms/step - loss: 0.6546 - accuracy: 0.7894 - val_loss: 5.5720 - val_accuracy: 0.1024\n",
            "Epoch 67/100\n",
            "375/375 [==============================] - 4s 11ms/step - loss: 0.6373 - accuracy: 0.7947 - val_loss: 5.6264 - val_accuracy: 0.1023\n",
            "Epoch 68/100\n",
            "375/375 [==============================] - 4s 11ms/step - loss: 0.6269 - accuracy: 0.7976 - val_loss: 5.7148 - val_accuracy: 0.1018\n",
            "Epoch 69/100\n",
            "375/375 [==============================] - 5s 14ms/step - loss: 0.6127 - accuracy: 0.8031 - val_loss: 5.8244 - val_accuracy: 0.1020\n",
            "Epoch 70/100\n",
            "375/375 [==============================] - 4s 11ms/step - loss: 0.6011 - accuracy: 0.8077 - val_loss: 5.8980 - val_accuracy: 0.0983\n",
            "Epoch 71/100\n",
            "375/375 [==============================] - 4s 11ms/step - loss: 0.5887 - accuracy: 0.8122 - val_loss: 5.9321 - val_accuracy: 0.1020\n",
            "Epoch 72/100\n",
            "375/375 [==============================] - 5s 14ms/step - loss: 0.5783 - accuracy: 0.8141 - val_loss: 6.0621 - val_accuracy: 0.0996\n",
            "Epoch 73/100\n",
            "375/375 [==============================] - 4s 10ms/step - loss: 0.5681 - accuracy: 0.8181 - val_loss: 6.0828 - val_accuracy: 0.1025\n",
            "Epoch 74/100\n",
            "375/375 [==============================] - 4s 10ms/step - loss: 0.5554 - accuracy: 0.8227 - val_loss: 6.1988 - val_accuracy: 0.0995\n",
            "Epoch 75/100\n",
            "375/375 [==============================] - 5s 14ms/step - loss: 0.5439 - accuracy: 0.8256 - val_loss: 6.2522 - val_accuracy: 0.0997\n",
            "Epoch 76/100\n",
            "375/375 [==============================] - 4s 11ms/step - loss: 0.5357 - accuracy: 0.8292 - val_loss: 6.2933 - val_accuracy: 0.1009\n",
            "Epoch 77/100\n",
            "375/375 [==============================] - 4s 10ms/step - loss: 0.5243 - accuracy: 0.8333 - val_loss: 6.3951 - val_accuracy: 0.0963\n",
            "Epoch 78/100\n",
            "375/375 [==============================] - 5s 13ms/step - loss: 0.5137 - accuracy: 0.8380 - val_loss: 6.4229 - val_accuracy: 0.0996\n",
            "Epoch 79/100\n",
            "375/375 [==============================] - 4s 11ms/step - loss: 0.5011 - accuracy: 0.8433 - val_loss: 6.6012 - val_accuracy: 0.1007\n",
            "Epoch 80/100\n",
            "375/375 [==============================] - 4s 10ms/step - loss: 0.4929 - accuracy: 0.8432 - val_loss: 6.5999 - val_accuracy: 0.0978\n",
            "Epoch 81/100\n",
            "375/375 [==============================] - 5s 13ms/step - loss: 0.4850 - accuracy: 0.8476 - val_loss: 6.7033 - val_accuracy: 0.1001\n",
            "Epoch 82/100\n",
            "375/375 [==============================] - 4s 10ms/step - loss: 0.4751 - accuracy: 0.8496 - val_loss: 6.7883 - val_accuracy: 0.1013\n",
            "Epoch 83/100\n",
            "375/375 [==============================] - 4s 11ms/step - loss: 0.4645 - accuracy: 0.8530 - val_loss: 6.8670 - val_accuracy: 0.0967\n",
            "Epoch 84/100\n",
            "375/375 [==============================] - 5s 12ms/step - loss: 0.4561 - accuracy: 0.8567 - val_loss: 6.9317 - val_accuracy: 0.0988\n",
            "Epoch 85/100\n",
            "375/375 [==============================] - 4s 10ms/step - loss: 0.4470 - accuracy: 0.8606 - val_loss: 6.9907 - val_accuracy: 0.0998\n",
            "Epoch 86/100\n",
            "375/375 [==============================] - 4s 10ms/step - loss: 0.4396 - accuracy: 0.8615 - val_loss: 7.0549 - val_accuracy: 0.0986\n",
            "Epoch 87/100\n",
            "375/375 [==============================] - 4s 11ms/step - loss: 0.4314 - accuracy: 0.8632 - val_loss: 7.1277 - val_accuracy: 0.1012\n",
            "Epoch 88/100\n",
            "375/375 [==============================] - 5s 12ms/step - loss: 0.4226 - accuracy: 0.8680 - val_loss: 7.2213 - val_accuracy: 0.0993\n",
            "Epoch 89/100\n",
            "375/375 [==============================] - 4s 10ms/step - loss: 0.4150 - accuracy: 0.8699 - val_loss: 7.2830 - val_accuracy: 0.1002\n",
            "Epoch 90/100\n",
            "375/375 [==============================] - 4s 10ms/step - loss: 0.4060 - accuracy: 0.8737 - val_loss: 7.4291 - val_accuracy: 0.0978\n",
            "Epoch 91/100\n",
            "375/375 [==============================] - 4s 12ms/step - loss: 0.3970 - accuracy: 0.8767 - val_loss: 7.4509 - val_accuracy: 0.0997\n",
            "Epoch 92/100\n",
            "375/375 [==============================] - 4s 10ms/step - loss: 0.3925 - accuracy: 0.8775 - val_loss: 7.5287 - val_accuracy: 0.0986\n",
            "Epoch 93/100\n",
            "375/375 [==============================] - 4s 10ms/step - loss: 0.3826 - accuracy: 0.8813 - val_loss: 7.6444 - val_accuracy: 0.1001\n",
            "Epoch 94/100\n",
            "375/375 [==============================] - 5s 12ms/step - loss: 0.3759 - accuracy: 0.8838 - val_loss: 7.6945 - val_accuracy: 0.0992\n",
            "Epoch 95/100\n",
            "375/375 [==============================] - 4s 9ms/step - loss: 0.3680 - accuracy: 0.8867 - val_loss: 7.7891 - val_accuracy: 0.0988\n",
            "Epoch 96/100\n",
            "375/375 [==============================] - 4s 10ms/step - loss: 0.3622 - accuracy: 0.8890 - val_loss: 7.8356 - val_accuracy: 0.0993\n",
            "Epoch 97/100\n",
            "375/375 [==============================] - 5s 12ms/step - loss: 0.3572 - accuracy: 0.8895 - val_loss: 7.9546 - val_accuracy: 0.1012\n",
            "Epoch 98/100\n",
            "375/375 [==============================] - 4s 9ms/step - loss: 0.3475 - accuracy: 0.8930 - val_loss: 8.0231 - val_accuracy: 0.0978\n",
            "Epoch 99/100\n",
            "375/375 [==============================] - 4s 10ms/step - loss: 0.3455 - accuracy: 0.8924 - val_loss: 8.0212 - val_accuracy: 0.1010\n",
            "Epoch 100/100\n",
            "375/375 [==============================] - 4s 12ms/step - loss: 0.3350 - accuracy: 0.8984 - val_loss: 8.1438 - val_accuracy: 0.1011\n"
          ]
        },
        {
          "data": {
            "text/plain": [
              "<keras.callbacks.History at 0x7f46b8543490>"
            ]
          },
          "execution_count": 4,
          "metadata": {},
          "output_type": "execute_result"
        }
      ],
      "source": [
        "(train_images, train_labels), _ = mnist.load_data()\n",
        "train_images = train_images.reshape((60000, 28 * 28))\n",
        "train_images = train_images.astype(\"float32\") / 255\n",
        "\n",
        "random_train_labels = train_labels[:]\n",
        "np.random.shuffle(random_train_labels)\n",
        "\n",
        "model = keras.Sequential([\n",
        "    layers.Dense(512, activation=\"relu\"),\n",
        "    layers.Dense(10, activation=\"softmax\")\n",
        "])\n",
        "model.compile(optimizer=\"rmsprop\",\n",
        "              loss=\"sparse_categorical_crossentropy\",\n",
        "              metrics=[\"accuracy\"])\n",
        "model.fit(train_images, random_train_labels,\n",
        "          epochs=100,\n",
        "          batch_size=128,\n",
        "          validation_split=0.2)"
      ]
    },
    {
      "cell_type": "markdown",
      "source": [
        "**The manifold hypothesis**\n",
        "\n",
        "**Interpolation as a source of generalization**\n",
        "\n",
        "**Why deep learning works**\n",
        "\n",
        "A deep learning model is basically a very high-dimensional curve-a curve that is smooth and continuous (with additional constraints on its structure, originating from model architecture priors), since it needs to be differentiable. And that curve is fitted to data points via gradient descent, smoothly and incrementally. By its very nature, deep learning is about taking a big, complex curve-a manifold-and incrementally adjusting its parameters until it fits some training data points.\n",
        "\n",
        "\n",
        "The curve involves enough parameters that it could fit anything—indeed, if you let your model train for long enough, it will effectively end up purely memorizing its training data and won't generalize at all. However, the data you're fitting to isn't made of isolated points sparsely distributed across the underlying space. Your data forms a highly structured, low-dimensional manifold within the input space-that's the mani- fold hypothesis. And because fitting your model curve to this data happens gradually and smoothly over time as gradient descent progresses, there will be an intermediate point during training at which the model roughly approximates the natural manifold of the data,\n",
        "\n",
        "**Training data is paramount**\n",
        "\n",
        "#Evaluating machine-learning models\n",
        "\n",
        "**Training, validation, and test sets**\n",
        "\n",
        "Evaluating a model always boils down to splitting the available data into three sets: training, validation, and test. You train on the training data and evaluate your model on the validation data. Once your model is ready for prime time, you test it one final time on the test data, which is meant to be as similar as possible to production data. Then you can deploy the model in production.\n",
        "\n",
        "You y ask, why not have two sets: a training set and a test set? You'd train on the may training data and evaluate on the test data. Much simpler!\n",
        "\n",
        "The reason is that developing a model always involves tuning its configuration: for example, choosing the number of layers or the size of the layers (called the hyperpa- rameters of the model, to distinguish them from the parameters, which are the network's weights). You do this tuning by using as a feedback signal the performance of the model on the validation data. In essence, this tuning is a form of learning a search for a good configuration in some parameter space. As a result, tuning the configuration of the model based on its performance on the validation set can quickly result in over-\n",
        "\n",
        "fitting to the validation set, even though your model is never directly trained on it\n",
        "\n",
        "Central to this phenomenon is the notion of information leaks. Every time you tune a hyperparameter of your model based on the model's performance on the validation set, some information about the validation data leaks into the model. If you do this only once, for one parameter, then very few bits of information will leak, and your val idation set will remain reliable for evaluating the model. But if you repeat this many times-running one experiment, evaluating on the validation set, and modifying your model as a result-then you'll leak an increasingly significant amount of information about the cation set into the model.\n",
        "\n",
        "At the end the day, you'll end up with a model that performs artificially well on the wild because that's what you optimized it for. You care about perfor mance on couge new data, not on the validation data, so you need to use a com pletely different, never-before-seen dataset to evaluate the model: the test dataset Your model shouldn't have had access to any information about the test set, even indi- rectly. If anything about the model has been tuned based on test set performance, then your measure of generalization will be flawed.\n",
        "\n",
        "\n",
        "\n",
        "\n",
        "Splitting your data into training, validation, and test sets may seem but there are a few advanced ways to do it that can come in handy when little data is available. Let's review three classic evaluation :\n",
        "\n",
        "**Simple hold-out validation**\n",
        "\n",
        "Set apart some fraction of your data as your test set. Train on the remaining data, and evaluate on the test set. As you saw in the previous sections, in order to prevent infor mation leaks, you shouldn't tune your model based on the test set, and therefore you should also reserve a validation set.\n",
        "\n",
        "This is the simplest evaluation protocol, and it suffers from one flaw: if little data is available, then your validation and test sets may contain too few samples to be statisti- cally representative of the data at hand. This is easy to recognize: if different random shuffling rounds of the data before splitting end up yielding very different measures of model performance, then you're having this issue. K-fold validation and iterated K-fold validation are two ways to address this, as discussed next.\n",
        "\n",
        "\n",
        "**K-fold validation**\n",
        "\n",
        "With this approach, you split your data into K partitions of equal size. For each parti- tion i, train a model on the remaining K 1 partitions, and evaluate it on partition i. - Your final score is then the averages of the K scores obtained. This method is helpful when the performance of your model shows significant variance based on your train- test split. Like holdout validation, this method doesn't exempt you from using a dis- tinct validation set for model calibration.\n",
        "\n",
        "\n",
        "**Iterated K-fold validation with shuffling**\n",
        "\n",
        "This one is for situations in which you have relatively little data available and vou need to evaluate your model as precisely as possible. I've found it to be extremely elpful in Kaggle competitions. It consists of applying K-fold validation multiple times, huffling the data every time before splitting it K ways. The final score is the avera of the scores obtained at each run of K-fold validation. Note that you end up trai ng and evaluating PK models (where P is the number of iterations you use), which can be very expensive.\n",
        "**Beating a common-sense baseline**\n",
        "\n",
        "**Things to keep in mind about model evaluation**\n",
        "\n",
        "#Improving model fit\n",
        "\n",
        "To achieve the perfect fit, you must first overfit. Since you don't know in advance where the boundary lies, you must cross it to find it. Thus, your initial goal as you start working on a problem is to achieve a model that shows some generalization power and that is able to overfit. Once you have such a model, you'll focus on refining gener- alization by fighting overfitting.\n",
        "\n",
        "There are three common problems you'll encounter at this stage:\n",
        "\n",
        "1. Training doesn't get started: your training loss doesn't go down over time.  2. Training gets started just fine, but your model doesn't meaningfully generalize: you can't beat the common-sense baseline you set.\n",
        "3. Training and validation loss both go down over time, and you can beat your baseline, but you don't seem to be able to overfit, which indicates you're still underfitting.\n",
        "\n",
        "**Tuning key gradient descent parameters**\n",
        "\n",
        "**Training a MNIST model with an incorrectly high learning rate**\n"
      ],
      "metadata": {
        "id": "SrdcbdY5BH3b"
      }
    },
    {
      "cell_type": "code",
      "execution_count": null,
      "metadata": {
        "id": "-sg6NISazskq"
      },
      "outputs": [],
      "source": [
        "(train_images, train_labels), _ = mnist.load_data()\n",
        "train_images = train_images.reshape((60000, 28 * 28))\n",
        "train_images = train_images.astype(\"float32\") / 255\n",
        "\n",
        "model = keras.Sequential([\n",
        "    layers.Dense(512, activation=\"relu\"),\n",
        "    layers.Dense(10, activation=\"softmax\")\n",
        "])\n",
        "model.compile(optimizer=keras.optimizers.RMSprop(1.),\n",
        "              loss=\"sparse_categorical_crossentropy\",\n",
        "              metrics=[\"accuracy\"])\n",
        "model.fit(train_images, train_labels,\n",
        "          epochs=10,\n",
        "          batch_size=128,\n",
        "          validation_split=0.2)"
      ]
    },
    {
      "cell_type": "markdown",
      "source": [
        "**The same model with a more appropriate learning rate**"
      ],
      "metadata": {
        "id": "1bvPxbvBCVKS"
      }
    },
    {
      "cell_type": "code",
      "source": [
        "model = keras.Sequential([\n",
        "    layers.Dense(512, activation=\"relu\"),\n",
        "    layers.Dense(10, activation=\"softmax\")\n",
        "])\n",
        "model.compile(optimizer=keras.optimizers.RMSprop(1e-2),\n",
        "              loss=\"sparse_categorical_crossentropy\",\n",
        "              metrics=[\"accuracy\"])\n",
        "model.fit(train_images, train_labels,\n",
        "          epochs=10,\n",
        "          batch_size=128,\n",
        "          validation_split=0.2)"
      ],
      "metadata": {
        "id": "gDj8SkBGCbS9"
      },
      "execution_count": null,
      "outputs": []
    },
    {
      "cell_type": "markdown",
      "source": [
        "#Leveraging better architecture priors\n",
        "\n",
        "**Increasing model capacity**\n",
        "\n",
        "**A simple logistic regression on MNIST**"
      ],
      "metadata": {
        "id": "o0ocEvFzChPE"
      }
    },
    {
      "cell_type": "code",
      "source": [
        "model = keras.Sequential([layers.Dense(10, activation=\"softmax\")])\n",
        "model.compile(optimizer=\"rmsprop\",\n",
        "              loss=\"sparse_categorical_crossentropy\",\n",
        "              metrics=[\"accuracy\"])\n",
        "history_small_model = model.fit(\n",
        "    train_images, train_labels,\n",
        "    epochs=20,\n",
        "    batch_size=128,\n",
        "    validation_split=0.2)"
      ],
      "metadata": {
        "id": "nNk6NcLKCpha"
      },
      "execution_count": null,
      "outputs": []
    },
    {
      "cell_type": "code",
      "source": [
        "import matplotlib.pyplot as plt\n",
        "val_loss = history_small_model.history[\"val_loss\"]\n",
        "epochs = range(1, 21)\n",
        "plt.plot(epochs, val_loss, \"b--\",\n",
        "         label=\"Validation loss\")\n",
        "plt.title(\"Effect of insufficient model capacity on validation loss\")\n",
        "plt.xlabel(\"Epochs\")\n",
        "plt.ylabel(\"Loss\")\n",
        "plt.legend()"
      ],
      "metadata": {
        "id": "k1hlpShLCxts"
      },
      "execution_count": null,
      "outputs": []
    },
    {
      "cell_type": "code",
      "source": [
        "model = keras.Sequential([\n",
        "    layers.Dense(96, activation=\"relu\"),\n",
        "    layers.Dense(96, activation=\"relu\"),\n",
        "    layers.Dense(10, activation=\"softmax\"),\n",
        "])\n",
        "model.compile(optimizer=\"rmsprop\",\n",
        "              loss=\"sparse_categorical_crossentropy\",\n",
        "              metrics=[\"accuracy\"])\n",
        "history_large_model = model.fit(\n",
        "    train_images, train_labels,\n",
        "    epochs=20,\n",
        "    batch_size=128,\n",
        "    validation_split=0.2)"
      ],
      "metadata": {
        "id": "uutjNaxzCyZm"
      },
      "execution_count": null,
      "outputs": []
    },
    {
      "cell_type": "markdown",
      "source": [
        "#Improving generalization\n",
        "\n",
        "** Dataset curation**\n",
        "\n",
        "**Feature engineering**\n",
        "\n",
        "**Using early stopping**\n",
        "\n",
        "**Regularizing your model**\n",
        "\n",
        "**Reducing the network's size**\n",
        "\n",
        "Original model"
      ],
      "metadata": {
        "id": "cxRBbOiVC3hP"
      }
    },
    {
      "cell_type": "code",
      "source": [
        "rom tensorflow.keras.datasets import imdb\n",
        "(train_data, train_labels), _ = imdb.load_data(num_words=10000)\n",
        "\n",
        "def vectorize_sequences(sequences, dimension=10000):\n",
        "    results = np.zeros((len(sequences), dimension))\n",
        "    for i, sequence in enumerate(sequences):\n",
        "        results[i, sequence] = 1.\n",
        "    return results\n",
        "train_data = vectorize_sequences(train_data)\n",
        "\n",
        "model = keras.Sequential([\n",
        "    layers.Dense(16, activation=\"relu\"),\n",
        "    layers.Dense(16, activation=\"relu\"),\n",
        "    layers.Dense(1, activation=\"sigmoid\")\n",
        "])\n",
        "model.compile(optimizer=\"rmsprop\",\n",
        "              loss=\"binary_crossentropy\",\n",
        "              metrics=[\"accuracy\"])\n",
        "history_original = model.fit(train_data, train_labels,\n",
        "                             epochs=20, batch_size=512, validation_split=0.4)"
      ],
      "metadata": {
        "id": "M6nnfzQVDZhI"
      },
      "execution_count": null,
      "outputs": []
    },
    {
      "cell_type": "markdown",
      "source": [
        "**Version of the model with lower capacity**"
      ],
      "metadata": {
        "id": "aJawDHWKDaMS"
      }
    },
    {
      "cell_type": "code",
      "source": [
        "model = keras.Sequential([\n",
        "    layers.Dense(4, activation=\"relu\"),\n",
        "    layers.Dense(4, activation=\"relu\"),\n",
        "    layers.Dense(1, activation=\"sigmoid\")\n",
        "])\n",
        "model.compile(optimizer=\"rmsprop\",\n",
        "              loss=\"binary_crossentropy\",\n",
        "              metrics=[\"accuracy\"])\n",
        "history_smaller_model = model.fit(\n",
        "    train_data, train_labels,\n",
        "    epochs=20, batch_size=512, validation_split=0.4)"
      ],
      "metadata": {
        "id": "hnqOecygDfDq"
      },
      "execution_count": null,
      "outputs": []
    },
    {
      "cell_type": "markdown",
      "source": [
        "#Adding weight regularization\n",
        "\n",
        "**Adding L2 weight regularization to the model**"
      ],
      "metadata": {
        "id": "RsNyS-98D_oK"
      }
    },
    {
      "cell_type": "code",
      "source": [
        "from tensorflow.keras import regularizers\n",
        "model = keras.Sequential([\n",
        "    layers.Dense(16,\n",
        "                 kernel_regularizer=regularizers.l2(0.002),\n",
        "                 activation=\"relu\"),\n",
        "    layers.Dense(16,\n",
        "                 kernel_regularizer=regularizers.l2(0.002),\n",
        "                 activation=\"relu\"),\n",
        "    layers.Dense(1, activation=\"sigmoid\")\n",
        "])\n",
        "model.compile(optimizer=\"rmsprop\",\n",
        "              loss=\"binary_crossentropy\",\n",
        "              metrics=[\"accuracy\"])\n",
        "history_l2_reg = model.fit(\n",
        "    train_data, train_labels,\n",
        "    epochs=20, batch_size=512, validation_split=0.4)"
      ],
      "metadata": {
        "id": "Q68pFOgTDi02"
      },
      "execution_count": null,
      "outputs": []
    },
    {
      "cell_type": "markdown",
      "source": [
        "**Different weight regularizers available in Keras**"
      ],
      "metadata": {
        "id": "q_DAiF0_D2_j"
      }
    },
    {
      "cell_type": "code",
      "source": [
        "from tensorflow.keras import regularizers\n",
        "regularizers.l1(0.001)\n",
        "regularizers.l1_l2(l1=0.001, l2=0.001)"
      ],
      "metadata": {
        "id": "qY6-8aEtDmQ8"
      },
      "execution_count": null,
      "outputs": []
    },
    {
      "cell_type": "markdown",
      "source": [
        "Adding dropout\n",
        "\n",
        "**Adding dropout to the IMDB model**"
      ],
      "metadata": {
        "id": "NNgewO8ZDumv"
      }
    },
    {
      "cell_type": "code",
      "source": [
        "model = keras.Sequential([\n",
        "    layers.Dense(16, activation=\"relu\"),\n",
        "    layers.Dropout(0.5),\n",
        "    layers.Dense(16, activation=\"relu\"),\n",
        "    layers.Dropout(0.5),\n",
        "    layers.Dense(1, activation=\"sigmoid\")\n",
        "])\n",
        "model.compile(optimizer=\"rmsprop\",\n",
        "              loss=\"binary_crossentropy\",\n",
        "              metrics=[\"accuracy\"])\n",
        "history_dropout = model.fit(\n",
        "    train_data, train_labels,\n",
        "    epochs=20, batch_size=512, validation_split=0.4)"
      ],
      "metadata": {
        "id": "uJTI7UKGDpt4"
      },
      "execution_count": null,
      "outputs": []
    }
  ],
  "metadata": {
    "colab": {
      "provenance": [],
      "authorship_tag": "ABX9TyOH/+DIE9l+7PA7MSxA9Uz8",
      "include_colab_link": true
    },
    "kernelspec": {
      "display_name": "Python 3",
      "name": "python3"
    },
    "language_info": {
      "name": "python"
    }
  },
  "nbformat": 4,
  "nbformat_minor": 0
}