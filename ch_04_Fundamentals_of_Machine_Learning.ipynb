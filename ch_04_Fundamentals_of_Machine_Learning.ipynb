{
  "cells": [
    {
      "cell_type": "markdown",
      "metadata": {
        "id": "view-in-github",
        "colab_type": "text"
      },
      "source": [
        "<a href=\"https://colab.research.google.com/github/radhika3131/Deep_Learning_with_Python/blob/main/ch_04_Fundamentals_of_Machine_Learning.ipynb\" target=\"_parent\"><img src=\"https://colab.research.google.com/assets/colab-badge.svg\" alt=\"Open In Colab\"/></a>"
      ]
    },
    {
      "cell_type": "markdown",
      "metadata": {
        "id": "KaBUzbzUgeOy"
      },
      "source": [
        "# Generalization : The goal of machine Learning\n",
        "\n",
        "Te fundamental issue in machine learning is the tenaion between optimization and generalization . **Optimization** refers to the process of adjusting a model to get the best performance possible on training data(The learning in machine learning)\n",
        "\n",
        "**Generalization** refers to how well trained model performs on data it has never seen before."
      ]
    },
    {
      "cell_type": "markdown",
      "metadata": {
        "id": "6Rb2PRjziKLf"
      },
      "source": [
        "#Underfitting and Overfitting\n",
        "\n",
        "at the beginning of training , optimization and generalization are correlated , lower the loss on training data , the lower the loss on test data , while this is happening your model is **underfit**.\n",
        "\n",
        "**overfitting** - when we get better accuracy on training data but less on testing data.\n",
        "\n",
        "overfitting likely to occur when your data is noisy, if it involves uncertainity , or it includes rare features\n"
      ]
    },
    {
      "cell_type": "markdown",
      "metadata": {
        "id": "TeuDG0gnvAGW"
      },
      "source": [
        "**Adding white noise channels or all zeros channels to MNIST**"
      ]
    },
    {
      "cell_type": "code",
      "execution_count": 1,
      "metadata": {
        "colab": {
          "base_uri": "https://localhost:8080/"
        },
        "id": "ElyTev4agjyN",
        "outputId": "3bc0775b-ec69-41cd-ad61-37199ada4467"
      },
      "outputs": [
        {
          "output_type": "stream",
          "name": "stdout",
          "text": [
            "Downloading data from https://storage.googleapis.com/tensorflow/tf-keras-datasets/mnist.npz\n",
            "11490434/11490434 [==============================] - 1s 0us/step\n"
          ]
        }
      ],
      "source": [
        "from tensorflow.keras.datasets import mnist\n",
        "import numpy as np\n",
        "\n",
        "(train_images, train_labels), _ = mnist.load_data()\n",
        "train_images = train_images.reshape((60000, 28 * 28))\n",
        "train_images = train_images.astype(\"float32\") / 255\n",
        "\n",
        "train_images_with_noise_channels = np.concatenate(\n",
        "    [train_images, np.random.random((len(train_images), 784))], axis=1)\n",
        "\n",
        "train_images_with_zeros_channels = np.concatenate(\n",
        "    [train_images, np.zeros((len(train_images), 784))], axis=1)"
      ]
    },
    {
      "cell_type": "markdown",
      "metadata": {
        "id": "nL4_Zk5bvnfc"
      },
      "source": [
        "**Training the same model on MNIST data with noise channels or all-zeros channels**"
      ]
    },
    {
      "cell_type": "code",
      "execution_count": 2,
      "metadata": {
        "colab": {
          "base_uri": "https://localhost:8080/"
        },
        "id": "baa77L1DvmKk",
        "outputId": "cd3de6de-5390-406d-b82a-703224b28ed4"
      },
      "outputs": [
        {
          "output_type": "stream",
          "name": "stdout",
          "text": [
            "Epoch 1/10\n",
            "375/375 [==============================] - 10s 24ms/step - loss: 0.6151 - accuracy: 0.8119 - val_loss: 0.2809 - val_accuracy: 0.9161\n",
            "Epoch 2/10\n",
            "375/375 [==============================] - 14s 36ms/step - loss: 0.2516 - accuracy: 0.9222 - val_loss: 0.1985 - val_accuracy: 0.9406\n",
            "Epoch 3/10\n",
            "375/375 [==============================] - 13s 34ms/step - loss: 0.1664 - accuracy: 0.9482 - val_loss: 0.2701 - val_accuracy: 0.9122\n",
            "Epoch 4/10\n",
            "375/375 [==============================] - 8s 22ms/step - loss: 0.1171 - accuracy: 0.9632 - val_loss: 0.1600 - val_accuracy: 0.9526\n",
            "Epoch 5/10\n",
            "375/375 [==============================] - 7s 20ms/step - loss: 0.0877 - accuracy: 0.9730 - val_loss: 0.1218 - val_accuracy: 0.9665\n",
            "Epoch 6/10\n",
            "375/375 [==============================] - 8s 22ms/step - loss: 0.0653 - accuracy: 0.9792 - val_loss: 0.1212 - val_accuracy: 0.9649\n",
            "Epoch 7/10\n",
            "375/375 [==============================] - 7s 19ms/step - loss: 0.0478 - accuracy: 0.9851 - val_loss: 0.1398 - val_accuracy: 0.9608\n",
            "Epoch 8/10\n",
            "375/375 [==============================] - 8s 22ms/step - loss: 0.0354 - accuracy: 0.9886 - val_loss: 0.1399 - val_accuracy: 0.9607\n",
            "Epoch 9/10\n",
            "375/375 [==============================] - 8s 22ms/step - loss: 0.0250 - accuracy: 0.9924 - val_loss: 0.1365 - val_accuracy: 0.9657\n",
            "Epoch 10/10\n",
            "375/375 [==============================] - 7s 20ms/step - loss: 0.0187 - accuracy: 0.9941 - val_loss: 0.1319 - val_accuracy: 0.9690\n",
            "Epoch 1/10\n",
            "375/375 [==============================] - 8s 20ms/step - loss: 0.2959 - accuracy: 0.9155 - val_loss: 0.1605 - val_accuracy: 0.9518\n",
            "Epoch 2/10\n",
            "375/375 [==============================] - 8s 22ms/step - loss: 0.1235 - accuracy: 0.9647 - val_loss: 0.1129 - val_accuracy: 0.9669\n",
            "Epoch 3/10\n",
            "375/375 [==============================] - 8s 22ms/step - loss: 0.0820 - accuracy: 0.9758 - val_loss: 0.0898 - val_accuracy: 0.9729\n",
            "Epoch 4/10\n",
            "375/375 [==============================] - 7s 20ms/step - loss: 0.0598 - accuracy: 0.9826 - val_loss: 0.0813 - val_accuracy: 0.9745\n",
            "Epoch 5/10\n",
            "375/375 [==============================] - 8s 22ms/step - loss: 0.0442 - accuracy: 0.9869 - val_loss: 0.0764 - val_accuracy: 0.9781\n",
            "Epoch 6/10\n",
            "375/375 [==============================] - 7s 19ms/step - loss: 0.0338 - accuracy: 0.9903 - val_loss: 0.0730 - val_accuracy: 0.9783\n",
            "Epoch 7/10\n",
            "375/375 [==============================] - 8s 22ms/step - loss: 0.0253 - accuracy: 0.9930 - val_loss: 0.0695 - val_accuracy: 0.9794\n",
            "Epoch 8/10\n",
            "375/375 [==============================] - 8s 21ms/step - loss: 0.0192 - accuracy: 0.9945 - val_loss: 0.0740 - val_accuracy: 0.9794\n",
            "Epoch 9/10\n",
            "375/375 [==============================] - 7s 20ms/step - loss: 0.0142 - accuracy: 0.9960 - val_loss: 0.0722 - val_accuracy: 0.9793\n",
            "Epoch 10/10\n",
            "375/375 [==============================] - 8s 22ms/step - loss: 0.0105 - accuracy: 0.9974 - val_loss: 0.0716 - val_accuracy: 0.9808\n"
          ]
        }
      ],
      "source": [
        "from tensorflow import keras\n",
        "from tensorflow.keras import layers\n",
        "\n",
        "def get_model():\n",
        "    model = keras.Sequential([\n",
        "        layers.Dense(512, activation=\"relu\"),\n",
        "        layers.Dense(10, activation=\"softmax\")\n",
        "    ])\n",
        "    model.compile(optimizer=\"rmsprop\",\n",
        "                  loss=\"sparse_categorical_crossentropy\",\n",
        "                  metrics=[\"accuracy\"])\n",
        "    return model\n",
        "\n",
        "model = get_model()\n",
        "history_noise = model.fit(\n",
        "    train_images_with_noise_channels, train_labels,\n",
        "    epochs=10,\n",
        "    batch_size=128,\n",
        "    validation_split=0.2)\n",
        "\n",
        "model = get_model()\n",
        "history_zeros = model.fit(\n",
        "    train_images_with_zeros_channels, train_labels,\n",
        "    epochs=10,\n",
        "    batch_size=128,\n",
        "    validation_split=0.2)"
      ]
    },
    {
      "cell_type": "markdown",
      "metadata": {
        "id": "ZXdyg3iAwJM4"
      },
      "source": [
        "**Plotting a validation accuracy comparision**"
      ]
    },
    {
      "cell_type": "code",
      "execution_count": 3,
      "metadata": {
        "colab": {
          "base_uri": "https://localhost:8080/",
          "height": 489
        },
        "id": "M63HqMl0v-kn",
        "outputId": "c6d5ba0d-e084-4939-d29d-6d3710046a55"
      },
      "outputs": [
        {
          "output_type": "execute_result",
          "data": {
            "text/plain": [
              "<matplotlib.legend.Legend at 0x7fdeb02756a0>"
            ]
          },
          "metadata": {},
          "execution_count": 3
        },
        {
          "output_type": "display_data",
          "data": {
            "text/plain": [
              "<Figure size 640x480 with 1 Axes>"
            ],
            "image/png": "[encoded data removed]"
          },
          "metadata": {}
        }
      ],
      "source": [
        "import matplotlib.pyplot as plt\n",
        "val_acc_noise = history_noise.history[\"val_accuracy\"]\n",
        "val_acc_zeros = history_zeros.history[\"val_accuracy\"]\n",
        "epochs = range(1, 11)\n",
        "plt.plot(epochs, val_acc_noise, \"b-\",\n",
        "         label=\"Validation accuracy with noise channels\")\n",
        "plt.plot(epochs, val_acc_zeros, \"b--\",\n",
        "         label=\"Validation accuracy with zeros channels\")\n",
        "plt.title(\"Effect of noise channels on validation accuracy\")\n",
        "plt.xlabel(\"Epochs\")\n",
        "plt.ylabel(\"Accuracy\")\n",
        "plt.legend()"
      ]
    },
    {
      "cell_type": "markdown",
      "metadata": {
        "id": "GGxPOlJOxU3Y"
      },
      "source": [
        "Despite the data holding the same information in both cases , the validation accuracy of the model trained with noise channels ends up about one percentage point lower , purely through the influence of spurious correlation . The more noise channels you add , the further accuracy will degrade."
      ]
    },
    {
      "cell_type": "markdown",
      "metadata": {
        "id": "nbK3l2PVyDkg"
      },
      "source": [
        "#The nature of generalization in Deep Learning\n",
        "\n",
        "The remarkable fact about deep learning model is that they can be trained to fit anything , as long as they enough representational power \n",
        "\n",
        "Try shuffling the MNISt labels and train a model on that.Even though there is no relationship whatsoever between the inputs and the shuffled labels , the training loss goes down just fine , even with a relatively small model"
      ]
    },
    {
      "cell_type": "markdown",
      "metadata": {
        "id": "oNA4XX5XzXt_"
      },
      "source": [
        "**Fitting a MNIST model with randomly shuffled labels**"
      ]
    },
    {
      "cell_type": "code",
      "execution_count": 4,
      "metadata": {
        "colab": {
          "base_uri": "https://localhost:8080/"
        },
        "id": "MOVY1bQCx4_O",
        "outputId": "69b7eacb-0d8d-4c1d-c8b1-e3f5013a6c68"
      },
      "outputs": [
        {
          "output_type": "stream",
          "name": "stdout",
          "text": [
            "Epoch 1/100\n",
            "375/375 [==============================] - 5s 11ms/step - loss: 2.3158 - accuracy: 0.1030 - val_loss: 2.3055 - val_accuracy: 0.1085\n",
            "Epoch 2/100\n",
            "375/375 [==============================] - 5s 14ms/step - loss: 2.2992 - accuracy: 0.1191 - val_loss: 2.3090 - val_accuracy: 0.1048\n",
            "Epoch 3/100\n",
            "375/375 [==============================] - 4s 10ms/step - loss: 2.2918 - accuracy: 0.1246 - val_loss: 2.3148 - val_accuracy: 0.1030\n",
            "Epoch 4/100\n",
            "375/375 [==============================] - 4s 10ms/step - loss: 2.2802 - accuracy: 0.1370 - val_loss: 2.3206 - val_accuracy: 0.1013\n",
            "Epoch 5/100\n",
            "375/375 [==============================] - 5s 14ms/step - loss: 2.2645 - accuracy: 0.1516 - val_loss: 2.3313 - val_accuracy: 0.1079\n",
            "Epoch 6/100\n",
            "375/375 [==============================] - 4s 10ms/step - loss: 2.2456 - accuracy: 0.1661 - val_loss: 2.3459 - val_accuracy: 0.1028\n",
            "Epoch 7/100\n",
            "375/375 [==============================] - 4s 10ms/step - loss: 2.2232 - accuracy: 0.1795 - val_loss: 2.3525 - val_accuracy: 0.1032\n",
            "Epoch 8/100\n",
            "375/375 [==============================] - 5s 13ms/step - loss: 2.1960 - accuracy: 0.1950 - val_loss: 2.3693 - val_accuracy: 0.1006\n",
            "Epoch 9/100\n",
            "375/375 [==============================] - 4s 11ms/step - loss: 2.1670 - accuracy: 0.2108 - val_loss: 2.3887 - val_accuracy: 0.1020\n",
            "Epoch 10/100\n",
            "375/375 [==============================] - 4s 10ms/step - loss: 2.1358 - accuracy: 0.2262 - val_loss: 2.4160 - val_accuracy: 0.0975\n",
            "Epoch 11/100\n",
            "375/375 [==============================] - 4s 12ms/step - loss: 2.1006 - accuracy: 0.2435 - val_loss: 2.4373 - val_accuracy: 0.1019\n",
            "Epoch 12/100\n",
            "375/375 [==============================] - 4s 12ms/step - loss: 2.0637 - accuracy: 0.2634 - val_loss: 2.4777 - val_accuracy: 0.0995\n",
            "Epoch 13/100\n",
            "375/375 [==============================] - 4s 10ms/step - loss: 2.0268 - accuracy: 0.2813 - val_loss: 2.4902 - val_accuracy: 0.1012\n",
            "Epoch 14/100\n",
            "375/375 [==============================] - 4s 11ms/step - loss: 1.9867 - accuracy: 0.2959 - val_loss: 2.5162 - val_accuracy: 0.1055\n",
            "Epoch 15/100\n",
            "375/375 [==============================] - 5s 13ms/step - loss: 1.9476 - accuracy: 0.3131 - val_loss: 2.5548 - val_accuracy: 0.1038\n",
            "Epoch 16/100\n",
            "375/375 [==============================] - 4s 10ms/step - loss: 1.9078 - accuracy: 0.3294 - val_loss: 2.5709 - val_accuracy: 0.1032\n",
            "Epoch 17/100\n",
            "375/375 [==============================] - 4s 10ms/step - loss: 1.8683 - accuracy: 0.3448 - val_loss: 2.6041 - val_accuracy: 0.1030\n",
            "Epoch 18/100\n",
            "375/375 [==============================] - 5s 14ms/step - loss: 1.8267 - accuracy: 0.3645 - val_loss: 2.6557 - val_accuracy: 0.1045\n",
            "Epoch 19/100\n",
            "375/375 [==============================] - 6s 17ms/step - loss: 1.7886 - accuracy: 0.3780 - val_loss: 2.6809 - val_accuracy: 0.1066\n",
            "Epoch 20/100\n",
            "375/375 [==============================] - 5s 13ms/step - loss: 1.7495 - accuracy: 0.3943 - val_loss: 2.7245 - val_accuracy: 0.0994\n",
            "Epoch 21/100\n",
            "375/375 [==============================] - 4s 11ms/step - loss: 1.7111 - accuracy: 0.4086 - val_loss: 2.7549 - val_accuracy: 0.1025\n",
            "Epoch 22/100\n",
            "375/375 [==============================] - 4s 11ms/step - loss: 1.6727 - accuracy: 0.4226 - val_loss: 2.8100 - val_accuracy: 0.1015\n",
            "Epoch 23/100\n",
            "375/375 [==============================] - 5s 14ms/step - loss: 1.6352 - accuracy: 0.4368 - val_loss: 2.8402 - val_accuracy: 0.1050\n",
            "Epoch 24/100\n",
            "375/375 [==============================] - 4s 10ms/step - loss: 1.6000 - accuracy: 0.4505 - val_loss: 2.9059 - val_accuracy: 0.1007\n",
            "Epoch 25/100\n",
            "375/375 [==============================] - 4s 11ms/step - loss: 1.5646 - accuracy: 0.4641 - val_loss: 2.9410 - val_accuracy: 0.1059\n",
            "Epoch 26/100\n",
            "375/375 [==============================] - 5s 15ms/step - loss: 1.5309 - accuracy: 0.4766 - val_loss: 2.9936 - val_accuracy: 0.1013\n",
            "Epoch 27/100\n",
            "375/375 [==============================] - 4s 11ms/step - loss: 1.4962 - accuracy: 0.4898 - val_loss: 3.0256 - val_accuracy: 0.1047\n",
            "Epoch 28/100\n",
            "375/375 [==============================] - 4s 10ms/step - loss: 1.4641 - accuracy: 0.5020 - val_loss: 3.0748 - val_accuracy: 0.0978\n",
            "Epoch 29/100\n",
            "375/375 [==============================] - 5s 13ms/step - loss: 1.4295 - accuracy: 0.5130 - val_loss: 3.1304 - val_accuracy: 0.1047\n",
            "Epoch 30/100\n",
            "375/375 [==============================] - 4s 10ms/step - loss: 1.4006 - accuracy: 0.5244 - val_loss: 3.1845 - val_accuracy: 0.1015\n",
            "Epoch 31/100\n",
            "375/375 [==============================] - 4s 10ms/step - loss: 1.3674 - accuracy: 0.5368 - val_loss: 3.2393 - val_accuracy: 0.1014\n",
            "Epoch 32/100\n",
            "375/375 [==============================] - 5s 14ms/step - loss: 1.3365 - accuracy: 0.5487 - val_loss: 3.3064 - val_accuracy: 0.1003\n",
            "Epoch 33/100\n",
            "375/375 [==============================] - 4s 11ms/step - loss: 1.3085 - accuracy: 0.5584 - val_loss: 3.3417 - val_accuracy: 0.1022\n",
            "Epoch 34/100\n",
            "375/375 [==============================] - 4s 10ms/step - loss: 1.2794 - accuracy: 0.5717 - val_loss: 3.3854 - val_accuracy: 0.0987\n",
            "Epoch 35/100\n",
            "375/375 [==============================] - 5s 13ms/step - loss: 1.2506 - accuracy: 0.5825 - val_loss: 3.4413 - val_accuracy: 0.1009\n",
            "Epoch 36/100\n",
            "375/375 [==============================] - 4s 11ms/step - loss: 1.2243 - accuracy: 0.5900 - val_loss: 3.4824 - val_accuracy: 0.1054\n",
            "Epoch 37/100\n",
            "375/375 [==============================] - 4s 10ms/step - loss: 1.1985 - accuracy: 0.5984 - val_loss: 3.5537 - val_accuracy: 0.1063\n",
            "Epoch 38/100\n",
            "375/375 [==============================] - 5s 13ms/step - loss: 1.1710 - accuracy: 0.6092 - val_loss: 3.6026 - val_accuracy: 0.1014\n",
            "Epoch 39/100\n",
            "375/375 [==============================] - 4s 10ms/step - loss: 1.1443 - accuracy: 0.6176 - val_loss: 3.7018 - val_accuracy: 0.1033\n",
            "Epoch 40/100\n",
            "375/375 [==============================] - 4s 11ms/step - loss: 1.1224 - accuracy: 0.6240 - val_loss: 3.7385 - val_accuracy: 0.1040\n",
            "Epoch 41/100\n",
            "375/375 [==============================] - 5s 13ms/step - loss: 1.0983 - accuracy: 0.6354 - val_loss: 3.7926 - val_accuracy: 0.1028\n",
            "Epoch 42/100\n",
            "375/375 [==============================] - 4s 11ms/step - loss: 1.0736 - accuracy: 0.6433 - val_loss: 3.8628 - val_accuracy: 0.1038\n",
            "Epoch 43/100\n",
            "375/375 [==============================] - 4s 11ms/step - loss: 1.0513 - accuracy: 0.6496 - val_loss: 3.9308 - val_accuracy: 0.0993\n",
            "Epoch 44/100\n",
            "375/375 [==============================] - 5s 13ms/step - loss: 1.0274 - accuracy: 0.6607 - val_loss: 3.9549 - val_accuracy: 0.1036\n",
            "Epoch 45/100\n",
            "375/375 [==============================] - 4s 11ms/step - loss: 1.0054 - accuracy: 0.6680 - val_loss: 4.0306 - val_accuracy: 0.1033\n",
            "Epoch 46/100\n",
            "375/375 [==============================] - 4s 11ms/step - loss: 0.9856 - accuracy: 0.6737 - val_loss: 4.1012 - val_accuracy: 0.1053\n",
            "Epoch 47/100\n",
            "375/375 [==============================] - 5s 13ms/step - loss: 0.9664 - accuracy: 0.6824 - val_loss: 4.1549 - val_accuracy: 0.1020\n",
            "Epoch 48/100\n",
            "375/375 [==============================] - 4s 11ms/step - loss: 0.9441 - accuracy: 0.6892 - val_loss: 4.2048 - val_accuracy: 0.1030\n",
            "Epoch 49/100\n",
            "375/375 [==============================] - 4s 11ms/step - loss: 0.9252 - accuracy: 0.6966 - val_loss: 4.2905 - val_accuracy: 0.0989\n",
            "Epoch 50/100\n",
            "375/375 [==============================] - 4s 12ms/step - loss: 0.9054 - accuracy: 0.7024 - val_loss: 4.3524 - val_accuracy: 0.1028\n",
            "Epoch 51/100\n",
            "375/375 [==============================] - 4s 11ms/step - loss: 0.8847 - accuracy: 0.7087 - val_loss: 4.4290 - val_accuracy: 0.1008\n",
            "Epoch 52/100\n",
            "375/375 [==============================] - 4s 12ms/step - loss: 0.8687 - accuracy: 0.7164 - val_loss: 4.4821 - val_accuracy: 0.1035\n",
            "Epoch 53/100\n",
            "375/375 [==============================] - 4s 11ms/step - loss: 0.8496 - accuracy: 0.7229 - val_loss: 4.5246 - val_accuracy: 0.1053\n",
            "Epoch 54/100\n",
            "375/375 [==============================] - 4s 10ms/step - loss: 0.8329 - accuracy: 0.7281 - val_loss: 4.6536 - val_accuracy: 0.1042\n",
            "Epoch 55/100\n",
            "375/375 [==============================] - 5s 12ms/step - loss: 0.8130 - accuracy: 0.7360 - val_loss: 4.6881 - val_accuracy: 0.0979\n",
            "Epoch 56/100\n",
            "375/375 [==============================] - 4s 11ms/step - loss: 0.8005 - accuracy: 0.7371 - val_loss: 4.7356 - val_accuracy: 0.0979\n",
            "Epoch 57/100\n",
            "375/375 [==============================] - 4s 10ms/step - loss: 0.7832 - accuracy: 0.7448 - val_loss: 4.8151 - val_accuracy: 0.0999\n",
            "Epoch 58/100\n",
            "375/375 [==============================] - 5s 13ms/step - loss: 0.7652 - accuracy: 0.7514 - val_loss: 4.8894 - val_accuracy: 0.0993\n",
            "Epoch 59/100\n",
            "375/375 [==============================] - 4s 11ms/step - loss: 0.7506 - accuracy: 0.7544 - val_loss: 4.9587 - val_accuracy: 0.0983\n",
            "Epoch 60/100\n",
            "375/375 [==============================] - 4s 10ms/step - loss: 0.7330 - accuracy: 0.7634 - val_loss: 4.9983 - val_accuracy: 0.1035\n",
            "Epoch 61/100\n",
            "375/375 [==============================] - 5s 13ms/step - loss: 0.7200 - accuracy: 0.7672 - val_loss: 5.0767 - val_accuracy: 0.0997\n",
            "Epoch 62/100\n",
            "375/375 [==============================] - 4s 11ms/step - loss: 0.7080 - accuracy: 0.7724 - val_loss: 5.1666 - val_accuracy: 0.1022\n",
            "Epoch 63/100\n",
            "375/375 [==============================] - 4s 10ms/step - loss: 0.6910 - accuracy: 0.7760 - val_loss: 5.2273 - val_accuracy: 0.0987\n",
            "Epoch 64/100\n",
            "375/375 [==============================] - 5s 13ms/step - loss: 0.6789 - accuracy: 0.7829 - val_loss: 5.3251 - val_accuracy: 0.0978\n",
            "Epoch 65/100\n",
            "375/375 [==============================] - 4s 10ms/step - loss: 0.6650 - accuracy: 0.7854 - val_loss: 5.3916 - val_accuracy: 0.1013\n",
            "Epoch 66/100\n",
            "375/375 [==============================] - 4s 11ms/step - loss: 0.6517 - accuracy: 0.7903 - val_loss: 5.4415 - val_accuracy: 0.0967\n",
            "Epoch 67/100\n",
            "375/375 [==============================] - 5s 13ms/step - loss: 0.6371 - accuracy: 0.7950 - val_loss: 5.5421 - val_accuracy: 0.1024\n",
            "Epoch 68/100\n",
            "375/375 [==============================] - 4s 11ms/step - loss: 0.6276 - accuracy: 0.7990 - val_loss: 5.5797 - val_accuracy: 0.1013\n",
            "Epoch 69/100\n",
            "375/375 [==============================] - 4s 11ms/step - loss: 0.6147 - accuracy: 0.8016 - val_loss: 5.6758 - val_accuracy: 0.1006\n",
            "Epoch 70/100\n",
            "375/375 [==============================] - 5s 13ms/step - loss: 0.5994 - accuracy: 0.8089 - val_loss: 5.7377 - val_accuracy: 0.1002\n",
            "Epoch 71/100\n",
            "375/375 [==============================] - 5s 14ms/step - loss: 0.5886 - accuracy: 0.8120 - val_loss: 5.7741 - val_accuracy: 0.1036\n",
            "Epoch 72/100\n",
            "375/375 [==============================] - 6s 15ms/step - loss: 0.5786 - accuracy: 0.8152 - val_loss: 5.8513 - val_accuracy: 0.0988\n",
            "Epoch 73/100\n",
            "375/375 [==============================] - 4s 11ms/step - loss: 0.5642 - accuracy: 0.8215 - val_loss: 5.9834 - val_accuracy: 0.0976\n",
            "Epoch 74/100\n",
            "375/375 [==============================] - 4s 11ms/step - loss: 0.5544 - accuracy: 0.8254 - val_loss: 6.0101 - val_accuracy: 0.1010\n",
            "Epoch 75/100\n",
            "375/375 [==============================] - 5s 13ms/step - loss: 0.5447 - accuracy: 0.8271 - val_loss: 6.0509 - val_accuracy: 0.0974\n",
            "Epoch 76/100\n",
            "375/375 [==============================] - 4s 11ms/step - loss: 0.5332 - accuracy: 0.8303 - val_loss: 6.1427 - val_accuracy: 0.0987\n",
            "Epoch 77/100\n",
            "375/375 [==============================] - 4s 10ms/step - loss: 0.5228 - accuracy: 0.8343 - val_loss: 6.2896 - val_accuracy: 0.1037\n",
            "Epoch 78/100\n",
            "375/375 [==============================] - 5s 13ms/step - loss: 0.5112 - accuracy: 0.8393 - val_loss: 6.3796 - val_accuracy: 0.1030\n",
            "Epoch 79/100\n",
            "375/375 [==============================] - 4s 11ms/step - loss: 0.5040 - accuracy: 0.8420 - val_loss: 6.3575 - val_accuracy: 0.0993\n",
            "Epoch 80/100\n",
            "375/375 [==============================] - 4s 11ms/step - loss: 0.4936 - accuracy: 0.8446 - val_loss: 6.4348 - val_accuracy: 0.0994\n",
            "Epoch 81/100\n",
            "375/375 [==============================] - 5s 14ms/step - loss: 0.4847 - accuracy: 0.8484 - val_loss: 6.5122 - val_accuracy: 0.1007\n",
            "Epoch 82/100\n",
            "375/375 [==============================] - 4s 11ms/step - loss: 0.4775 - accuracy: 0.8499 - val_loss: 6.6210 - val_accuracy: 0.1013\n",
            "Epoch 83/100\n",
            "375/375 [==============================] - 5s 12ms/step - loss: 0.4675 - accuracy: 0.8539 - val_loss: 6.6483 - val_accuracy: 0.1015\n",
            "Epoch 84/100\n",
            "375/375 [==============================] - 4s 12ms/step - loss: 0.4568 - accuracy: 0.8567 - val_loss: 6.7469 - val_accuracy: 0.1007\n",
            "Epoch 85/100\n",
            "375/375 [==============================] - 4s 11ms/step - loss: 0.4483 - accuracy: 0.8597 - val_loss: 6.8090 - val_accuracy: 0.1031\n",
            "Epoch 86/100\n",
            "375/375 [==============================] - 5s 13ms/step - loss: 0.4386 - accuracy: 0.8625 - val_loss: 6.8716 - val_accuracy: 0.1041\n",
            "Epoch 87/100\n",
            "375/375 [==============================] - 4s 11ms/step - loss: 0.4324 - accuracy: 0.8647 - val_loss: 6.9366 - val_accuracy: 0.1050\n",
            "Epoch 88/100\n",
            "375/375 [==============================] - 4s 11ms/step - loss: 0.4249 - accuracy: 0.8666 - val_loss: 6.9794 - val_accuracy: 0.0977\n",
            "Epoch 89/100\n",
            "375/375 [==============================] - 5s 14ms/step - loss: 0.4135 - accuracy: 0.8715 - val_loss: 7.1160 - val_accuracy: 0.1013\n",
            "Epoch 90/100\n",
            "375/375 [==============================] - 4s 10ms/step - loss: 0.4094 - accuracy: 0.8728 - val_loss: 7.1427 - val_accuracy: 0.1047\n",
            "Epoch 91/100\n",
            "375/375 [==============================] - 4s 11ms/step - loss: 0.4000 - accuracy: 0.8766 - val_loss: 7.2743 - val_accuracy: 0.1013\n",
            "Epoch 92/100\n",
            "375/375 [==============================] - 5s 13ms/step - loss: 0.3935 - accuracy: 0.8790 - val_loss: 7.3026 - val_accuracy: 0.0995\n",
            "Epoch 93/100\n",
            "375/375 [==============================] - 4s 11ms/step - loss: 0.3845 - accuracy: 0.8820 - val_loss: 7.3466 - val_accuracy: 0.1003\n",
            "Epoch 94/100\n",
            "375/375 [==============================] - 4s 11ms/step - loss: 0.3787 - accuracy: 0.8841 - val_loss: 7.5064 - val_accuracy: 0.1005\n",
            "Epoch 95/100\n",
            "375/375 [==============================] - 5s 14ms/step - loss: 0.3727 - accuracy: 0.8859 - val_loss: 7.5280 - val_accuracy: 0.0995\n",
            "Epoch 96/100\n",
            "375/375 [==============================] - 4s 11ms/step - loss: 0.3622 - accuracy: 0.8897 - val_loss: 7.6300 - val_accuracy: 0.1034\n",
            "Epoch 97/100\n",
            "375/375 [==============================] - 4s 12ms/step - loss: 0.3571 - accuracy: 0.8908 - val_loss: 7.6863 - val_accuracy: 0.1032\n",
            "Epoch 98/100\n",
            "375/375 [==============================] - 5s 13ms/step - loss: 0.3520 - accuracy: 0.8924 - val_loss: 7.8204 - val_accuracy: 0.1001\n",
            "Epoch 99/100\n",
            "375/375 [==============================] - 4s 11ms/step - loss: 0.3465 - accuracy: 0.8934 - val_loss: 7.8272 - val_accuracy: 0.1047\n",
            "Epoch 100/100\n",
            "375/375 [==============================] - 5s 13ms/step - loss: 0.3391 - accuracy: 0.8960 - val_loss: 7.9194 - val_accuracy: 0.1034\n"
          ]
        },
        {
          "output_type": "execute_result",
          "data": {
            "text/plain": [
              "<keras.callbacks.History at 0x7fdeb00f9430>"
            ]
          },
          "metadata": {},
          "execution_count": 4
        }
      ],
      "source": [
        "(train_images, train_labels), _ = mnist.load_data()\n",
        "train_images = train_images.reshape((60000, 28 * 28))\n",
        "train_images = train_images.astype(\"float32\") / 255\n",
        "\n",
        "random_train_labels = train_labels[:]\n",
        "np.random.shuffle(random_train_labels)\n",
        "\n",
        "model = keras.Sequential([\n",
        "    layers.Dense(512, activation=\"relu\"),\n",
        "    layers.Dense(10, activation=\"softmax\")\n",
        "])\n",
        "model.compile(optimizer=\"rmsprop\",\n",
        "              loss=\"sparse_categorical_crossentropy\",\n",
        "              metrics=[\"accuracy\"])\n",
        "model.fit(train_images, random_train_labels,\n",
        "          epochs=100,\n",
        "          batch_size=128,\n",
        "          validation_split=0.2)"
      ]
    },
    {
      "cell_type": "markdown",
      "source": [
        "**The manifold hypothesis**\n",
        "\n",
        "**Interpolation as a source of generalization**\n",
        "\n",
        "**Why deep learning works**\n",
        "\n",
        "A deep learning model is basically a very high-dimensional curve-a curve that is smooth and continuous (with additional constraints on its structure, originating from model architecture priors), since it needs to be differentiable. And that curve is fitted to data points via gradient descent, smoothly and incrementally. By its very nature, deep learning is about taking a big, complex curve-a manifold-and incrementally adjusting its parameters until it fits some training data points.\n",
        "\n",
        "\n",
        "The curve involves enough parameters that it could fit anything—indeed, if you let your model train for long enough, it will effectively end up purely memorizing its training data and won't generalize at all. However, the data you're fitting to isn't made of isolated points sparsely distributed across the underlying space. Your data forms a highly structured, low-dimensional manifold within the input space-that's the mani- fold hypothesis. And because fitting your model curve to this data happens gradually and smoothly over time as gradient descent progresses, there will be an intermediate point during training at which the model roughly approximates the natural manifold of the data,\n",
        "\n",
        "**Training data is paramount**\n",
        "\n",
        "#Evaluating machine-learning models\n",
        "\n",
        "**Training, validation, and test sets**\n",
        "\n",
        "Evaluating a model always boils down to splitting the available data into three sets: training, validation, and test. You train on the training data and evaluate your model on the validation data. Once your model is ready for prime time, you test it one final time on the test data, which is meant to be as similar as possible to production data. Then you can deploy the model in production.\n",
        "\n",
        "You y ask, why not have two sets: a training set and a test set? You'd train on the may training data and evaluate on the test data. Much simpler!\n",
        "\n",
        "The reason is that developing a model always involves tuning its configuration: for example, choosing the number of layers or the size of the layers (called the hyperpa- rameters of the model, to distinguish them from the parameters, which are the network's weights). You do this tuning by using as a feedback signal the performance of the model on the validation data. In essence, this tuning is a form of learning a search for a good configuration in some parameter space. As a result, tuning the configuration of the model based on its performance on the validation set can quickly result in over-\n",
        "\n",
        "fitting to the validation set, even though your model is never directly trained on it\n",
        "\n",
        "Central to this phenomenon is the notion of information leaks. Every time you tune a hyperparameter of your model based on the model's performance on the validation set, some information about the validation data leaks into the model. If you do this only once, for one parameter, then very few bits of information will leak, and your val idation set will remain reliable for evaluating the model. But if you repeat this many times-running one experiment, evaluating on the validation set, and modifying your model as a result-then you'll leak an increasingly significant amount of information about the cation set into the model.\n",
        "\n",
        "At the end the day, you'll end up with a model that performs artificially well on the wild because that's what you optimized it for. You care about perfor mance on couge new data, not on the validation data, so you need to use a com pletely different, never-before-seen dataset to evaluate the model: the test dataset Your model shouldn't have had access to any information about the test set, even indi- rectly. If anything about the model has been tuned based on test set performance, then your measure of generalization will be flawed.\n",
        "\n",
        "\n",
        "\n",
        "\n",
        "Splitting your data into training, validation, and test sets may seem but there are a few advanced ways to do it that can come in handy when little data is available. Let's review three classic evaluation :\n",
        "\n",
        "**Simple hold-out validation**\n",
        "\n",
        "Set apart some fraction of your data as your test set. Train on the remaining data, and evaluate on the test set. As you saw in the previous sections, in order to prevent infor mation leaks, you shouldn't tune your model based on the test set, and therefore you should also reserve a validation set.\n",
        "\n",
        "This is the simplest evaluation protocol, and it suffers from one flaw: if little data is available, then your validation and test sets may contain too few samples to be statisti- cally representative of the data at hand. This is easy to recognize: if different random shuffling rounds of the data before splitting end up yielding very different measures of model performance, then you're having this issue. K-fold validation and iterated K-fold validation are two ways to address this, as discussed next.\n",
        "\n",
        "\n",
        "**K-fold validation**\n",
        "\n",
        "With this approach, you split your data into K partitions of equal size. For each parti- tion i, train a model on the remaining K 1 partitions, and evaluate it on partition i. - Your final score is then the averages of the K scores obtained. This method is helpful when the performance of your model shows significant variance based on your train- test split. Like holdout validation, this method doesn't exempt you from using a dis- tinct validation set for model calibration.\n",
        "\n",
        "\n",
        "**Iterated K-fold validation with shuffling**\n",
        "\n",
        "This one is for situations in which you have relatively little data available and vou need to evaluate your model as precisely as possible. I've found it to be extremely elpful in Kaggle competitions. It consists of applying K-fold validation multiple times, huffling the data every time before splitting it K ways. The final score is the avera of the scores obtained at each run of K-fold validation. Note that you end up trai ng and evaluating PK models (where P is the number of iterations you use), which can be very expensive.\n",
        "**Beating a common-sense baseline**\n",
        "\n",
        "**Things to keep in mind about model evaluation**\n",
        "\n",
        "#Improving model fit\n",
        "\n",
        "To achieve the perfect fit, you must first overfit. Since you don't know in advance where the boundary lies, you must cross it to find it. Thus, your initial goal as you start working on a problem is to achieve a model that shows some generalization power and that is able to overfit. Once you have such a model, you'll focus on refining gener- alization by fighting overfitting.\n",
        "\n",
        "There are three common problems you'll encounter at this stage:\n",
        "\n",
        "1. Training doesn't get started: your training loss doesn't go down over time.  2. Training gets started just fine, but your model doesn't meaningfully generalize: you can't beat the common-sense baseline you set.\n",
        "3. Training and validation loss both go down over time, and you can beat your baseline, but you don't seem to be able to overfit, which indicates you're still underfitting.\n",
        "\n",
        "**Tuning key gradient descent parameters**\n",
        "\n",
        "Sometimes training doesn't get started, or it stalls too early. Your loss is stuck. This is always something you can overcome: remember that you can fit a model to random data\n",
        "When this happens, it's always a problem with the configuration of the gradient descent process: your choice of optimizer, the distribution of initial values in the weights of your model, your learning rate, or your batch size.\n",
        "\n",
        "**Training a MNIST model with an incorrectly high learning rate**\n"
      ],
      "metadata": {
        "id": "SrdcbdY5BH3b"
      }
    },
    {
      "cell_type": "code",
      "execution_count": 5,
      "metadata": {
        "id": "-sg6NISazskq",
        "colab": {
          "base_uri": "https://localhost:8080/"
        },
        "outputId": "17821c4b-c221-435d-da52-02de75b5441f"
      },
      "outputs": [
        {
          "output_type": "stream",
          "name": "stdout",
          "text": [
            "Epoch 1/10\n",
            "375/375 [==============================] - 5s 12ms/step - loss: 643.0837 - accuracy: 0.3102 - val_loss: 2.6938 - val_accuracy: 0.2229\n",
            "Epoch 2/10\n",
            "375/375 [==============================] - 4s 11ms/step - loss: 2.6429 - accuracy: 0.2087 - val_loss: 2.2492 - val_accuracy: 0.1655\n",
            "Epoch 3/10\n",
            "375/375 [==============================] - 9s 24ms/step - loss: 2.4048 - accuracy: 0.1775 - val_loss: 2.1990 - val_accuracy: 0.1957\n",
            "Epoch 4/10\n",
            "375/375 [==============================] - 9s 24ms/step - loss: 2.3351 - accuracy: 0.1840 - val_loss: 2.1904 - val_accuracy: 0.1804\n",
            "Epoch 5/10\n",
            "375/375 [==============================] - 7s 18ms/step - loss: 2.4278 - accuracy: 0.1662 - val_loss: 2.3166 - val_accuracy: 0.1479\n",
            "Epoch 6/10\n",
            "375/375 [==============================] - 5s 13ms/step - loss: 2.4642 - accuracy: 0.1763 - val_loss: 2.3737 - val_accuracy: 0.1957\n",
            "Epoch 7/10\n",
            "375/375 [==============================] - 5s 12ms/step - loss: 2.3306 - accuracy: 0.1744 - val_loss: 2.3254 - val_accuracy: 0.1558\n",
            "Epoch 8/10\n",
            "375/375 [==============================] - 4s 11ms/step - loss: 2.2515 - accuracy: 0.1836 - val_loss: 2.1365 - val_accuracy: 0.1746\n",
            "Epoch 9/10\n",
            "375/375 [==============================] - 7s 18ms/step - loss: 2.2684 - accuracy: 0.1743 - val_loss: 2.1242 - val_accuracy: 0.1819\n",
            "Epoch 10/10\n",
            "375/375 [==============================] - 4s 10ms/step - loss: 2.3666 - accuracy: 0.1859 - val_loss: 2.2953 - val_accuracy: 0.1812\n"
          ]
        },
        {
          "output_type": "execute_result",
          "data": {
            "text/plain": [
              "<keras.callbacks.History at 0x7fdeb1a93550>"
            ]
          },
          "metadata": {},
          "execution_count": 5
        }
      ],
      "source": [
        "(train_images, train_labels), _ = mnist.load_data()\n",
        "train_images = train_images.reshape((60000, 28 * 28))\n",
        "train_images = train_images.astype(\"float32\") / 255\n",
        "\n",
        "model = keras.Sequential([\n",
        "    layers.Dense(512, activation=\"relu\"),\n",
        "    layers.Dense(10, activation=\"softmax\")\n",
        "])\n",
        "model.compile(optimizer=keras.optimizers.RMSprop(1.),\n",
        "              loss=\"sparse_categorical_crossentropy\",\n",
        "              metrics=[\"accuracy\"])\n",
        "model.fit(train_images, train_labels,\n",
        "          epochs=10,\n",
        "          batch_size=128,\n",
        "          validation_split=0.2)"
      ]
    },
    {
      "cell_type": "markdown",
      "source": [
        "The model quickly reaches a training and validation accuracy in the 30%-40% range but cannot get past that. Let's try to lower the learning rate to a more reasonable value of 1e-2."
      ],
      "metadata": {
        "id": "V16RPIEWJCzb"
      }
    },
    {
      "cell_type": "markdown",
      "source": [
        "**The same model with a more appropriate learning rate**"
      ],
      "metadata": {
        "id": "1bvPxbvBCVKS"
      }
    },
    {
      "cell_type": "code",
      "source": [
        "model = keras.Sequential([\n",
        "    layers.Dense(512, activation=\"relu\"),\n",
        "    layers.Dense(10, activation=\"softmax\")\n",
        "])\n",
        "model.compile(optimizer=keras.optimizers.RMSprop(1e-2),\n",
        "              loss=\"sparse_categorical_crossentropy\",\n",
        "              metrics=[\"accuracy\"])\n",
        "model.fit(train_images, train_labels,\n",
        "          epochs=10,\n",
        "          batch_size=128,\n",
        "          validation_split=0.2)"
      ],
      "metadata": {
        "colab": {
          "base_uri": "https://localhost:8080/"
        },
        "id": "gDj8SkBGCbS9",
        "outputId": "11042fc8-210d-49be-fe40-b9c7a900d450"
      },
      "execution_count": 6,
      "outputs": [
        {
          "output_type": "stream",
          "name": "stdout",
          "text": [
            "Epoch 1/10\n",
            "375/375 [==============================] - 5s 12ms/step - loss: 0.3764 - accuracy: 0.9102 - val_loss: 0.1416 - val_accuracy: 0.9588\n",
            "Epoch 2/10\n",
            "375/375 [==============================] - 5s 14ms/step - loss: 0.1280 - accuracy: 0.9646 - val_loss: 0.1202 - val_accuracy: 0.9694\n",
            "Epoch 3/10\n",
            "375/375 [==============================] - 4s 10ms/step - loss: 0.0976 - accuracy: 0.9739 - val_loss: 0.1410 - val_accuracy: 0.9673\n",
            "Epoch 4/10\n",
            "375/375 [==============================] - 4s 11ms/step - loss: 0.0772 - accuracy: 0.9787 - val_loss: 0.1426 - val_accuracy: 0.9723\n",
            "Epoch 5/10\n",
            "375/375 [==============================] - 5s 14ms/step - loss: 0.0672 - accuracy: 0.9829 - val_loss: 0.1619 - val_accuracy: 0.9710\n",
            "Epoch 6/10\n",
            "375/375 [==============================] - 4s 10ms/step - loss: 0.0603 - accuracy: 0.9849 - val_loss: 0.1596 - val_accuracy: 0.9732\n",
            "Epoch 7/10\n",
            "375/375 [==============================] - 4s 10ms/step - loss: 0.0474 - accuracy: 0.9883 - val_loss: 0.1666 - val_accuracy: 0.9758\n",
            "Epoch 8/10\n",
            "375/375 [==============================] - 5s 13ms/step - loss: 0.0496 - accuracy: 0.9888 - val_loss: 0.2076 - val_accuracy: 0.9722\n",
            "Epoch 9/10\n",
            "375/375 [==============================] - 4s 10ms/step - loss: 0.0389 - accuracy: 0.9908 - val_loss: 0.2004 - val_accuracy: 0.9754\n",
            "Epoch 10/10\n",
            "375/375 [==============================] - 4s 10ms/step - loss: 0.0368 - accuracy: 0.9911 - val_loss: 0.1968 - val_accuracy: 0.9742\n"
          ]
        },
        {
          "output_type": "execute_result",
          "data": {
            "text/plain": [
              "<keras.callbacks.History at 0x7fdeb19eb910>"
            ]
          },
          "metadata": {},
          "execution_count": 6
        }
      ]
    },
    {
      "cell_type": "markdown",
      "source": [
        "The model is now able to train.\n",
        "\n",
        "If you find yourself in a similar situation, try\n",
        "\n",
        "■Lowering or increasing the learning rate. A learning rate that is too high may lead to updates that vastly overshoot a proper fit, like in the preceding example, and a learning rate that is too low may make training so slow that it appears to stall.\n",
        "\n",
        "• Increasing the batch size. A batch with more samples will lead to gradients that\n",
        "\n",
        "are more informative and less noisy (lower variance).\n"
      ],
      "metadata": {
        "id": "hN5VqTDAJmzH"
      }
    },
    {
      "cell_type": "markdown",
      "source": [
        "#Leveraging better architecture priors\n",
        "\n",
        "**Increasing model capacity**\n",
        "\n",
        "**A simple logistic regression on MNIST**"
      ],
      "metadata": {
        "id": "o0ocEvFzChPE"
      }
    },
    {
      "cell_type": "code",
      "source": [
        "model = keras.Sequential([layers.Dense(10, activation=\"softmax\")])\n",
        "model.compile(optimizer=\"rmsprop\",\n",
        "              loss=\"sparse_categorical_crossentropy\",\n",
        "              metrics=[\"accuracy\"])\n",
        "history_small_model = model.fit(\n",
        "    train_images, train_labels,\n",
        "    epochs=20,\n",
        "    batch_size=128,\n",
        "    validation_split=0.2)"
      ],
      "metadata": {
        "id": "nNk6NcLKCpha"
      },
      "execution_count": null,
      "outputs": []
    },
    {
      "cell_type": "code",
      "source": [
        "import matplotlib.pyplot as plt\n",
        "val_loss = history_small_model.history[\"val_loss\"]\n",
        "epochs = range(1, 21)\n",
        "plt.plot(epochs, val_loss, \"b--\",\n",
        "         label=\"Validation loss\")\n",
        "plt.title(\"Effect of insufficient model capacity on validation loss\")\n",
        "plt.xlabel(\"Epochs\")\n",
        "plt.ylabel(\"Loss\")\n",
        "plt.legend()"
      ],
      "metadata": {
        "id": "k1hlpShLCxts"
      },
      "execution_count": null,
      "outputs": []
    },
    {
      "cell_type": "code",
      "source": [
        "model = keras.Sequential([\n",
        "    layers.Dense(96, activation=\"relu\"),\n",
        "    layers.Dense(96, activation=\"relu\"),\n",
        "    layers.Dense(10, activation=\"softmax\"),\n",
        "])\n",
        "model.compile(optimizer=\"rmsprop\",\n",
        "              loss=\"sparse_categorical_crossentropy\",\n",
        "              metrics=[\"accuracy\"])\n",
        "history_large_model = model.fit(\n",
        "    train_images, train_labels,\n",
        "    epochs=20,\n",
        "    batch_size=128,\n",
        "    validation_split=0.2)"
      ],
      "metadata": {
        "id": "uutjNaxzCyZm"
      },
      "execution_count": null,
      "outputs": []
    },
    {
      "cell_type": "markdown",
      "source": [
        "#Improving generalization\n",
        "\n",
        "** Dataset curation**\n",
        "\n",
        "**Feature engineering**\n",
        "\n",
        "**Using early stopping**\n",
        "\n",
        "**Regularizing your model**\n",
        "\n",
        "**Reducing the network's size**\n",
        "\n",
        "Original model"
      ],
      "metadata": {
        "id": "cxRBbOiVC3hP"
      }
    },
    {
      "cell_type": "code",
      "source": [
        "rom tensorflow.keras.datasets import imdb\n",
        "(train_data, train_labels), _ = imdb.load_data(num_words=10000)\n",
        "\n",
        "def vectorize_sequences(sequences, dimension=10000):\n",
        "    results = np.zeros((len(sequences), dimension))\n",
        "    for i, sequence in enumerate(sequences):\n",
        "        results[i, sequence] = 1.\n",
        "    return results\n",
        "train_data = vectorize_sequences(train_data)\n",
        "\n",
        "model = keras.Sequential([\n",
        "    layers.Dense(16, activation=\"relu\"),\n",
        "    layers.Dense(16, activation=\"relu\"),\n",
        "    layers.Dense(1, activation=\"sigmoid\")\n",
        "])\n",
        "model.compile(optimizer=\"rmsprop\",\n",
        "              loss=\"binary_crossentropy\",\n",
        "              metrics=[\"accuracy\"])\n",
        "history_original = model.fit(train_data, train_labels,\n",
        "                             epochs=20, batch_size=512, validation_split=0.4)"
      ],
      "metadata": {
        "id": "M6nnfzQVDZhI"
      },
      "execution_count": null,
      "outputs": []
    },
    {
      "cell_type": "markdown",
      "source": [
        "**Version of the model with lower capacity**"
      ],
      "metadata": {
        "id": "aJawDHWKDaMS"
      }
    },
    {
      "cell_type": "code",
      "source": [
        "model = keras.Sequential([\n",
        "    layers.Dense(4, activation=\"relu\"),\n",
        "    layers.Dense(4, activation=\"relu\"),\n",
        "    layers.Dense(1, activation=\"sigmoid\")\n",
        "])\n",
        "model.compile(optimizer=\"rmsprop\",\n",
        "              loss=\"binary_crossentropy\",\n",
        "              metrics=[\"accuracy\"])\n",
        "history_smaller_model = model.fit(\n",
        "    train_data, train_labels,\n",
        "    epochs=20, batch_size=512, validation_split=0.4)"
      ],
      "metadata": {
        "id": "hnqOecygDfDq"
      },
      "execution_count": null,
      "outputs": []
    },
    {
      "cell_type": "markdown",
      "source": [
        "#Adding weight regularization\n",
        "\n",
        "**Adding L2 weight regularization to the model**"
      ],
      "metadata": {
        "id": "RsNyS-98D_oK"
      }
    },
    {
      "cell_type": "code",
      "source": [
        "from tensorflow.keras import regularizers\n",
        "model = keras.Sequential([\n",
        "    layers.Dense(16,\n",
        "                 kernel_regularizer=regularizers.l2(0.002),\n",
        "                 activation=\"relu\"),\n",
        "    layers.Dense(16,\n",
        "                 kernel_regularizer=regularizers.l2(0.002),\n",
        "                 activation=\"relu\"),\n",
        "    layers.Dense(1, activation=\"sigmoid\")\n",
        "])\n",
        "model.compile(optimizer=\"rmsprop\",\n",
        "              loss=\"binary_crossentropy\",\n",
        "              metrics=[\"accuracy\"])\n",
        "history_l2_reg = model.fit(\n",
        "    train_data, train_labels,\n",
        "    epochs=20, batch_size=512, validation_split=0.4)"
      ],
      "metadata": {
        "id": "Q68pFOgTDi02"
      },
      "execution_count": null,
      "outputs": []
    },
    {
      "cell_type": "markdown",
      "source": [
        "**Different weight regularizers available in Keras**"
      ],
      "metadata": {
        "id": "q_DAiF0_D2_j"
      }
    },
    {
      "cell_type": "code",
      "source": [
        "from tensorflow.keras import regularizers\n",
        "regularizers.l1(0.001)\n",
        "regularizers.l1_l2(l1=0.001, l2=0.001)"
      ],
      "metadata": {
        "id": "qY6-8aEtDmQ8"
      },
      "execution_count": null,
      "outputs": []
    },
    {
      "cell_type": "markdown",
      "source": [
        "Adding dropout\n",
        "\n",
        "**Adding dropout to the IMDB model**"
      ],
      "metadata": {
        "id": "NNgewO8ZDumv"
      }
    },
    {
      "cell_type": "code",
      "source": [
        "model = keras.Sequential([\n",
        "    layers.Dense(16, activation=\"relu\"),\n",
        "    layers.Dropout(0.5),\n",
        "    layers.Dense(16, activation=\"relu\"),\n",
        "    layers.Dropout(0.5),\n",
        "    layers.Dense(1, activation=\"sigmoid\")\n",
        "])\n",
        "model.compile(optimizer=\"rmsprop\",\n",
        "              loss=\"binary_crossentropy\",\n",
        "              metrics=[\"accuracy\"])\n",
        "history_dropout = model.fit(\n",
        "    train_data, train_labels,\n",
        "    epochs=20, batch_size=512, validation_split=0.4)"
      ],
      "metadata": {
        "id": "uJTI7UKGDpt4"
      },
      "execution_count": null,
      "outputs": []
    }
  ],
  "metadata": {
    "colab": {
      "provenance": [],
      "authorship_tag": "ABX9TyNS7SWv97x40HLXk9pfYBxQ",
      "include_colab_link": true
    },
    "kernelspec": {
      "display_name": "Python 3",
      "name": "python3"
    },
    "language_info": {
      "name": "python"
    }
  },
  "nbformat": 4,
  "nbformat_minor": 0
}