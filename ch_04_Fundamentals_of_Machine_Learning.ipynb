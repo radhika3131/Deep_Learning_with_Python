{
  "cells": [
    {
      "cell_type": "markdown",
      "metadata": {
        "id": "view-in-github",
        "colab_type": "text"
      },
      "source": [
        "<a href=\"https://colab.research.google.com/github/radhika3131/Deep_Learning_with_Python/blob/main/ch_04_Fundamentals_of_Machine_Learning.ipynb\" target=\"_parent\"><img src=\"https://colab.research.google.com/assets/colab-badge.svg\" alt=\"Open In Colab\"/></a>"
      ]
    },
    {
      "cell_type": "markdown",
      "metadata": {
        "id": "KaBUzbzUgeOy"
      },
      "source": [
        "# Generalization : The goal of machine Learning\n",
        "\n",
        "Te fundamental issue in machine learning is the tenaion between optimization and generalization . **Optimization** refers to the process of adjusting a model to get the best performance possible on training data(The learning in machine learning)\n",
        "\n",
        "**Generalization** refers to how well trained model performs on data it has never seen before."
      ]
    },
    {
      "cell_type": "markdown",
      "metadata": {
        "id": "6Rb2PRjziKLf"
      },
      "source": [
        "#Underfitting and Overfitting\n",
        "\n",
        "at the beginning of training , optimization and generalization are correlated , lower the loss on training data , the lower the loss on test data , while this is happening your model is **underfit**.\n",
        "\n",
        "**overfitting** - when we get better accuracy on training data but less on testing data.\n",
        "\n",
        "overfitting likely to occur when your data is noisy, if it involves uncertainity , or it includes rare features\n"
      ]
    },
    {
      "cell_type": "markdown",
      "metadata": {
        "id": "TeuDG0gnvAGW"
      },
      "source": [
        "**Adding white noise channels or all zeros channels to MNIST**"
      ]
    },
    {
      "cell_type": "code",
      "execution_count": 2,
      "metadata": {
        "colab": {
          "base_uri": "https://localhost:8080/"
        },
        "id": "ElyTev4agjyN",
        "outputId": "7850ffd8-c9b2-4d74-cba2-c63bbfdc29f0"
      },
      "outputs": [
        {
          "output_type": "stream",
          "name": "stdout",
          "text": [
            "Downloading data from https://storage.googleapis.com/tensorflow/tf-keras-datasets/mnist.npz\n",
            "11490434/11490434 [==============================] - 1s 0us/step\n"
          ]
        }
      ],
      "source": [
        "from tensorflow.keras.datasets import mnist\n",
        "import numpy as np\n",
        "\n",
        "(train_images, train_labels), _ = mnist.load_data()\n",
        "train_images = train_images.reshape((60000, 28 * 28))\n",
        "train_images = train_images.astype(\"float32\") / 255\n",
        "\n",
        "train_images_with_noise_channels = np.concatenate(\n",
        "    [train_images, np.random.random((len(train_images), 784))], axis=1)\n",
        "\n",
        "train_images_with_zeros_channels = np.concatenate(\n",
        "    [train_images, np.zeros((len(train_images), 784))], axis=1)"
      ]
    },
    {
      "cell_type": "markdown",
      "metadata": {
        "id": "nL4_Zk5bvnfc"
      },
      "source": [
        "**Training the same model on MNIST data with noise channels or all-zeros channels**"
      ]
    },
    {
      "cell_type": "code",
      "execution_count": 3,
      "metadata": {
        "colab": {
          "base_uri": "https://localhost:8080/"
        },
        "id": "baa77L1DvmKk",
        "outputId": "93392102-c6ef-4891-9538-073c915318c4"
      },
      "outputs": [
        {
          "output_type": "stream",
          "name": "stdout",
          "text": [
            "Epoch 1/10\n",
            "375/375 [==============================] - 6s 14ms/step - loss: 0.6182 - accuracy: 0.8108 - val_loss: 0.3038 - val_accuracy: 0.9059\n",
            "Epoch 2/10\n",
            "375/375 [==============================] - 5s 14ms/step - loss: 0.2552 - accuracy: 0.9218 - val_loss: 0.2101 - val_accuracy: 0.9358\n",
            "Epoch 3/10\n",
            "375/375 [==============================] - 6s 15ms/step - loss: 0.1670 - accuracy: 0.9483 - val_loss: 0.1617 - val_accuracy: 0.9526\n",
            "Epoch 4/10\n",
            "375/375 [==============================] - 5s 14ms/step - loss: 0.1184 - accuracy: 0.9624 - val_loss: 0.1502 - val_accuracy: 0.9552\n",
            "Epoch 5/10\n",
            "375/375 [==============================] - 5s 13ms/step - loss: 0.0857 - accuracy: 0.9729 - val_loss: 0.1240 - val_accuracy: 0.9646\n",
            "Epoch 6/10\n",
            "375/375 [==============================] - 5s 14ms/step - loss: 0.0631 - accuracy: 0.9802 - val_loss: 0.1216 - val_accuracy: 0.9668\n",
            "Epoch 7/10\n",
            "375/375 [==============================] - 5s 13ms/step - loss: 0.0448 - accuracy: 0.9859 - val_loss: 0.1274 - val_accuracy: 0.9643\n",
            "Epoch 8/10\n",
            "375/375 [==============================] - 6s 16ms/step - loss: 0.0327 - accuracy: 0.9895 - val_loss: 0.1203 - val_accuracy: 0.9670\n",
            "Epoch 9/10\n",
            "375/375 [==============================] - 5s 13ms/step - loss: 0.0251 - accuracy: 0.9919 - val_loss: 0.1240 - val_accuracy: 0.9684\n",
            "Epoch 10/10\n",
            "375/375 [==============================] - 9s 24ms/step - loss: 0.0190 - accuracy: 0.9940 - val_loss: 0.1299 - val_accuracy: 0.9680\n",
            "Epoch 1/10\n",
            "375/375 [==============================] - 6s 15ms/step - loss: 0.2969 - accuracy: 0.9153 - val_loss: 0.1550 - val_accuracy: 0.9552\n",
            "Epoch 2/10\n",
            "375/375 [==============================] - 6s 15ms/step - loss: 0.1230 - accuracy: 0.9629 - val_loss: 0.1106 - val_accuracy: 0.9663\n",
            "Epoch 3/10\n",
            "375/375 [==============================] - 5s 13ms/step - loss: 0.0816 - accuracy: 0.9765 - val_loss: 0.0899 - val_accuracy: 0.9724\n",
            "Epoch 4/10\n",
            "375/375 [==============================] - 6s 15ms/step - loss: 0.0589 - accuracy: 0.9824 - val_loss: 0.0801 - val_accuracy: 0.9757\n",
            "Epoch 5/10\n",
            "375/375 [==============================] - 5s 13ms/step - loss: 0.0440 - accuracy: 0.9878 - val_loss: 0.0821 - val_accuracy: 0.9754\n",
            "Epoch 6/10\n",
            "375/375 [==============================] - 6s 15ms/step - loss: 0.0337 - accuracy: 0.9902 - val_loss: 0.0757 - val_accuracy: 0.9793\n",
            "Epoch 7/10\n",
            "375/375 [==============================] - 5s 13ms/step - loss: 0.0259 - accuracy: 0.9923 - val_loss: 0.0745 - val_accuracy: 0.9787\n",
            "Epoch 8/10\n",
            "375/375 [==============================] - 5s 13ms/step - loss: 0.0187 - accuracy: 0.9951 - val_loss: 0.0844 - val_accuracy: 0.9768\n",
            "Epoch 9/10\n",
            "375/375 [==============================] - 6s 15ms/step - loss: 0.0143 - accuracy: 0.9964 - val_loss: 0.0802 - val_accuracy: 0.9779\n",
            "Epoch 10/10\n",
            "375/375 [==============================] - 5s 14ms/step - loss: 0.0104 - accuracy: 0.9977 - val_loss: 0.0734 - val_accuracy: 0.9808\n"
          ]
        }
      ],
      "source": [
        "from tensorflow import keras\n",
        "from tensorflow.keras import layers\n",
        "\n",
        "def get_model():\n",
        "    model = keras.Sequential([\n",
        "        layers.Dense(512, activation=\"relu\"),\n",
        "        layers.Dense(10, activation=\"softmax\")\n",
        "    ])\n",
        "    model.compile(optimizer=\"rmsprop\",\n",
        "                  loss=\"sparse_categorical_crossentropy\",\n",
        "                  metrics=[\"accuracy\"])\n",
        "    return model\n",
        "\n",
        "model = get_model()\n",
        "history_noise = model.fit(\n",
        "    train_images_with_noise_channels, train_labels,\n",
        "    epochs=10,\n",
        "    batch_size=128,\n",
        "    validation_split=0.2)\n",
        "\n",
        "model = get_model()\n",
        "history_zeros = model.fit(\n",
        "    train_images_with_zeros_channels, train_labels,\n",
        "    epochs=10,\n",
        "    batch_size=128,\n",
        "    validation_split=0.2)"
      ]
    },
    {
      "cell_type": "markdown",
      "metadata": {
        "id": "ZXdyg3iAwJM4"
      },
      "source": [
        "**Plotting a validation accuracy comparision**"
      ]
    },
    {
      "cell_type": "code",
      "execution_count": 4,
      "metadata": {
        "colab": {
          "base_uri": "https://localhost:8080/",
          "height": 489
        },
        "id": "M63HqMl0v-kn",
        "outputId": "e763eeaf-8a09-4602-9718-c4871a94ac1c"
      },
      "outputs": [
        {
          "output_type": "execute_result",
          "data": {
            "text/plain": [
              "<matplotlib.legend.Legend at 0x7fd28fb91ee0>"
            ]
          },
          "metadata": {},
          "execution_count": 4
        },
        {
          "output_type": "display_data",
          "data": {
            "text/plain": [
              "<Figure size 640x480 with 1 Axes>"
            ],
            "image/png": "[encoded data removed]"
          },
          "metadata": {}
        }
      ],
      "source": [
        "import matplotlib.pyplot as plt\n",
        "val_acc_noise = history_noise.history[\"val_accuracy\"]\n",
        "val_acc_zeros = history_zeros.history[\"val_accuracy\"]\n",
        "epochs = range(1, 11)\n",
        "plt.plot(epochs, val_acc_noise, \"b-\",\n",
        "         label=\"Validation accuracy with noise channels\")\n",
        "plt.plot(epochs, val_acc_zeros, \"b--\",\n",
        "         label=\"Validation accuracy with zeros channels\")\n",
        "plt.title(\"Effect of noise channels on validation accuracy\")\n",
        "plt.xlabel(\"Epochs\")\n",
        "plt.ylabel(\"Accuracy\")\n",
        "plt.legend()"
      ]
    },
    {
      "cell_type": "markdown",
      "metadata": {
        "id": "GGxPOlJOxU3Y"
      },
      "source": [
        "Despite the data holding the same information in both cases , the validation accuracy of the model trained with noise channels ends up about one percentage point lower , purely through the influence of spurious correlation . The more noise channels you add , the further accuracy will degrade."
      ]
    },
    {
      "cell_type": "markdown",
      "metadata": {
        "id": "nbK3l2PVyDkg"
      },
      "source": [
        "#The nature of generalization in Deep Learning\n",
        "\n",
        "The remarkable fact about deep learning model is that they can be trained to fit anything , as long as they enough representational power \n",
        "\n",
        "Try shuffling the MNISt labels and train a model on that.Even though there is no relationship whatsoever between the inputs and the shuffled labels , the training loss goes down just fine , even with a relatively small model"
      ]
    },
    {
      "cell_type": "markdown",
      "metadata": {
        "id": "oNA4XX5XzXt_"
      },
      "source": [
        "**Fitting a MNIST model with randomly shuffled labels**"
      ]
    },
    {
      "cell_type": "code",
      "execution_count": null,
      "metadata": {
        "colab": {
          "base_uri": "https://localhost:8080/"
        },
        "id": "MOVY1bQCx4_O",
        "outputId": "7fee765a-e592-4c08-fa98-50552789da3d"
      },
      "outputs": [
        {
          "output_type": "stream",
          "name": "stdout",
          "text": [
            "Epoch 1/100\n",
            "375/375 [==============================] - 4s 9ms/step - loss: 2.3148 - accuracy: 0.1033 - val_loss: 2.3048 - val_accuracy: 0.1083\n",
            "Epoch 2/100\n",
            "375/375 [==============================] - 3s 8ms/step - loss: 2.2991 - accuracy: 0.1167 - val_loss: 2.3129 - val_accuracy: 0.0984\n",
            "Epoch 3/100\n",
            "375/375 [==============================] - 3s 9ms/step - loss: 2.2906 - accuracy: 0.1268 - val_loss: 2.3152 - val_accuracy: 0.1055\n",
            "Epoch 4/100\n",
            "375/375 [==============================] - 3s 9ms/step - loss: 2.2794 - accuracy: 0.1375 - val_loss: 2.3255 - val_accuracy: 0.0997\n",
            "Epoch 5/100\n",
            "375/375 [==============================] - 3s 8ms/step - loss: 2.2633 - accuracy: 0.1494 - val_loss: 2.3408 - val_accuracy: 0.0998\n",
            "Epoch 6/100\n",
            "375/375 [==============================] - 3s 8ms/step - loss: 2.2435 - accuracy: 0.1637 - val_loss: 2.3492 - val_accuracy: 0.1015\n",
            "Epoch 7/100\n",
            "375/375 [==============================] - 4s 10ms/step - loss: 2.2215 - accuracy: 0.1814 - val_loss: 2.3612 - val_accuracy: 0.1013\n",
            "Epoch 8/100\n",
            "375/375 [==============================] - 3s 8ms/step - loss: 2.1957 - accuracy: 0.1953 - val_loss: 2.3821 - val_accuracy: 0.0970\n",
            "Epoch 9/100\n",
            "375/375 [==============================] - 3s 8ms/step - loss: 2.1676 - accuracy: 0.2114 - val_loss: 2.3890 - val_accuracy: 0.1028\n",
            "Epoch 10/100\n",
            "375/375 [==============================] - 3s 8ms/step - loss: 2.1355 - accuracy: 0.2280 - val_loss: 2.4289 - val_accuracy: 0.1038\n",
            "Epoch 11/100\n",
            "375/375 [==============================] - 4s 10ms/step - loss: 2.1024 - accuracy: 0.2415 - val_loss: 2.4523 - val_accuracy: 0.0998\n",
            "Epoch 12/100\n",
            "375/375 [==============================] - 3s 8ms/step - loss: 2.0647 - accuracy: 0.2596 - val_loss: 2.4766 - val_accuracy: 0.0994\n",
            "Epoch 13/100\n",
            "375/375 [==============================] - 3s 8ms/step - loss: 2.0293 - accuracy: 0.2751 - val_loss: 2.4902 - val_accuracy: 0.1016\n",
            "Epoch 14/100\n",
            "375/375 [==============================] - 3s 9ms/step - loss: 1.9911 - accuracy: 0.2919 - val_loss: 2.5251 - val_accuracy: 0.1013\n",
            "Epoch 15/100\n",
            "375/375 [==============================] - 3s 9ms/step - loss: 1.9520 - accuracy: 0.3079 - val_loss: 2.5535 - val_accuracy: 0.1019\n",
            "Epoch 16/100\n",
            "375/375 [==============================] - 3s 8ms/step - loss: 1.9122 - accuracy: 0.3259 - val_loss: 2.6033 - val_accuracy: 0.1013\n",
            "Epoch 17/100\n",
            "375/375 [==============================] - 3s 8ms/step - loss: 1.8736 - accuracy: 0.3438 - val_loss: 2.6457 - val_accuracy: 0.1021\n",
            "Epoch 18/100\n",
            "375/375 [==============================] - 4s 9ms/step - loss: 1.8325 - accuracy: 0.3595 - val_loss: 2.6737 - val_accuracy: 0.1000\n",
            "Epoch 19/100\n",
            "375/375 [==============================] - 3s 8ms/step - loss: 1.7947 - accuracy: 0.3752 - val_loss: 2.7004 - val_accuracy: 0.1019\n",
            "Epoch 20/100\n",
            "375/375 [==============================] - 3s 8ms/step - loss: 1.7550 - accuracy: 0.3915 - val_loss: 2.7567 - val_accuracy: 0.1012\n",
            "Epoch 21/100\n",
            "375/375 [==============================] - 3s 8ms/step - loss: 1.7179 - accuracy: 0.4055 - val_loss: 2.7924 - val_accuracy: 0.1009\n",
            "Epoch 22/100\n",
            "375/375 [==============================] - 4s 10ms/step - loss: 1.6812 - accuracy: 0.4173 - val_loss: 2.8529 - val_accuracy: 0.1020\n",
            "Epoch 23/100\n",
            "375/375 [==============================] - 3s 8ms/step - loss: 1.6434 - accuracy: 0.4358 - val_loss: 2.8808 - val_accuracy: 0.0980\n",
            "Epoch 24/100\n",
            "375/375 [==============================] - 3s 8ms/step - loss: 1.6067 - accuracy: 0.4479 - val_loss: 2.9352 - val_accuracy: 0.1024\n",
            "Epoch 25/100\n",
            "375/375 [==============================] - 3s 8ms/step - loss: 1.5737 - accuracy: 0.4596 - val_loss: 2.9456 - val_accuracy: 0.1011\n",
            "Epoch 26/100\n",
            "375/375 [==============================] - 4s 10ms/step - loss: 1.5353 - accuracy: 0.4751 - val_loss: 2.9986 - val_accuracy: 0.1011\n",
            "Epoch 27/100\n",
            "375/375 [==============================] - 3s 8ms/step - loss: 1.5023 - accuracy: 0.4875 - val_loss: 3.0450 - val_accuracy: 0.0993\n",
            "Epoch 28/100\n",
            "375/375 [==============================] - 3s 8ms/step - loss: 1.4715 - accuracy: 0.4960 - val_loss: 3.0941 - val_accuracy: 0.1001\n",
            "Epoch 29/100\n",
            "375/375 [==============================] - 4s 12ms/step - loss: 1.4383 - accuracy: 0.5120 - val_loss: 3.1582 - val_accuracy: 0.1058\n",
            "Epoch 30/100\n",
            "375/375 [==============================] - 3s 8ms/step - loss: 1.4063 - accuracy: 0.5202 - val_loss: 3.2205 - val_accuracy: 0.1042\n",
            "Epoch 31/100\n",
            "375/375 [==============================] - 3s 8ms/step - loss: 1.3775 - accuracy: 0.5346 - val_loss: 3.2544 - val_accuracy: 0.1032\n",
            "Epoch 32/100\n",
            "375/375 [==============================] - 3s 8ms/step - loss: 1.3444 - accuracy: 0.5449 - val_loss: 3.3019 - val_accuracy: 0.0995\n",
            "Epoch 33/100\n",
            "375/375 [==============================] - 4s 10ms/step - loss: 1.3190 - accuracy: 0.5510 - val_loss: 3.3605 - val_accuracy: 0.1025\n",
            "Epoch 34/100\n",
            "375/375 [==============================] - 3s 8ms/step - loss: 1.2903 - accuracy: 0.5644 - val_loss: 3.4057 - val_accuracy: 0.1010\n",
            "Epoch 35/100\n",
            "375/375 [==============================] - 3s 8ms/step - loss: 1.2614 - accuracy: 0.5752 - val_loss: 3.4821 - val_accuracy: 0.0998\n",
            "Epoch 36/100\n",
            "375/375 [==============================] - 3s 9ms/step - loss: 1.2304 - accuracy: 0.5865 - val_loss: 3.5168 - val_accuracy: 0.1021\n",
            "Epoch 37/100\n",
            "375/375 [==============================] - 3s 9ms/step - loss: 1.2088 - accuracy: 0.5927 - val_loss: 3.5805 - val_accuracy: 0.0983\n",
            "Epoch 38/100\n",
            "375/375 [==============================] - 3s 8ms/step - loss: 1.1815 - accuracy: 0.6041 - val_loss: 3.6311 - val_accuracy: 0.1006\n",
            "Epoch 39/100\n",
            "375/375 [==============================] - 3s 8ms/step - loss: 1.1538 - accuracy: 0.6136 - val_loss: 3.7150 - val_accuracy: 0.1041\n",
            "Epoch 40/100\n",
            "375/375 [==============================] - 4s 10ms/step - loss: 1.1337 - accuracy: 0.6230 - val_loss: 3.7804 - val_accuracy: 0.0988\n",
            "Epoch 41/100\n",
            "375/375 [==============================] - 3s 8ms/step - loss: 1.1095 - accuracy: 0.6304 - val_loss: 3.7951 - val_accuracy: 0.1017\n",
            "Epoch 42/100\n",
            "375/375 [==============================] - 3s 8ms/step - loss: 1.0837 - accuracy: 0.6400 - val_loss: 3.8999 - val_accuracy: 0.0993\n",
            "Epoch 43/100\n",
            "375/375 [==============================] - 3s 8ms/step - loss: 1.0611 - accuracy: 0.6469 - val_loss: 3.9486 - val_accuracy: 0.1030\n",
            "Epoch 44/100\n",
            "375/375 [==============================] - 4s 11ms/step - loss: 1.0431 - accuracy: 0.6521 - val_loss: 4.0058 - val_accuracy: 0.1006\n",
            "Epoch 45/100\n",
            "375/375 [==============================] - 3s 8ms/step - loss: 1.0170 - accuracy: 0.6645 - val_loss: 4.0670 - val_accuracy: 0.1023\n",
            "Epoch 46/100\n",
            "375/375 [==============================] - 3s 8ms/step - loss: 0.9988 - accuracy: 0.6699 - val_loss: 4.1256 - val_accuracy: 0.1028\n",
            "Epoch 47/100\n",
            "375/375 [==============================] - 3s 9ms/step - loss: 0.9772 - accuracy: 0.6773 - val_loss: 4.1968 - val_accuracy: 0.0982\n",
            "Epoch 48/100\n",
            "375/375 [==============================] - 4s 9ms/step - loss: 0.9592 - accuracy: 0.6844 - val_loss: 4.2144 - val_accuracy: 0.1042\n",
            "Epoch 49/100\n",
            "375/375 [==============================] - 3s 8ms/step - loss: 0.9367 - accuracy: 0.6911 - val_loss: 4.3288 - val_accuracy: 0.1024\n",
            "Epoch 50/100\n",
            "375/375 [==============================] - 3s 8ms/step - loss: 0.9205 - accuracy: 0.6980 - val_loss: 4.3595 - val_accuracy: 0.1027\n",
            "Epoch 51/100\n",
            "375/375 [==============================] - 4s 10ms/step - loss: 0.9000 - accuracy: 0.7045 - val_loss: 4.4511 - val_accuracy: 0.0994\n",
            "Epoch 52/100\n",
            "375/375 [==============================] - 3s 8ms/step - loss: 0.8825 - accuracy: 0.7097 - val_loss: 4.4763 - val_accuracy: 0.1051\n",
            "Epoch 53/100\n",
            "375/375 [==============================] - 3s 8ms/step - loss: 0.8632 - accuracy: 0.7186 - val_loss: 4.5672 - val_accuracy: 0.1039\n",
            "Epoch 54/100\n",
            "375/375 [==============================] - 3s 8ms/step - loss: 0.8460 - accuracy: 0.7224 - val_loss: 4.6337 - val_accuracy: 0.1014\n",
            "Epoch 55/100\n",
            "375/375 [==============================] - 4s 10ms/step - loss: 0.8289 - accuracy: 0.7283 - val_loss: 4.7365 - val_accuracy: 0.0994\n",
            "Epoch 56/100\n",
            "375/375 [==============================] - 3s 8ms/step - loss: 0.8126 - accuracy: 0.7341 - val_loss: 4.7787 - val_accuracy: 0.0980\n",
            "Epoch 57/100\n",
            "375/375 [==============================] - 3s 8ms/step - loss: 0.7944 - accuracy: 0.7415 - val_loss: 4.8209 - val_accuracy: 0.1005\n",
            "Epoch 58/100\n",
            "375/375 [==============================] - 3s 9ms/step - loss: 0.7808 - accuracy: 0.7460 - val_loss: 4.8964 - val_accuracy: 0.1018\n",
            "Epoch 59/100\n",
            "375/375 [==============================] - 3s 9ms/step - loss: 0.7653 - accuracy: 0.7506 - val_loss: 4.9592 - val_accuracy: 0.1005\n",
            "Epoch 60/100\n",
            "375/375 [==============================] - 3s 8ms/step - loss: 0.7473 - accuracy: 0.7573 - val_loss: 5.0289 - val_accuracy: 0.1039\n",
            "Epoch 61/100\n",
            "150/375 [===========>..................] - ETA: 1s - loss: 0.7025 - accuracy: 0.7773"
          ]
        }
      ],
      "source": [
        "(train_images, train_labels), _ = mnist.load_data()\n",
        "train_images = train_images.reshape((60000, 28 * 28))\n",
        "train_images = train_images.astype(\"float32\") / 255\n",
        "\n",
        "random_train_labels = train_labels[:]\n",
        "np.random.shuffle(random_train_labels)\n",
        "\n",
        "model = keras.Sequential([\n",
        "    layers.Dense(512, activation=\"relu\"),\n",
        "    layers.Dense(10, activation=\"softmax\")\n",
        "])\n",
        "model.compile(optimizer=\"rmsprop\",\n",
        "              loss=\"sparse_categorical_crossentropy\",\n",
        "              metrics=[\"accuracy\"])\n",
        "model.fit(train_images, random_train_labels,\n",
        "          epochs=100,\n",
        "          batch_size=128,\n",
        "          validation_split=0.2)"
      ]
    },
    {
      "cell_type": "markdown",
      "source": [
        "**The manifold hypothesis**\n",
        "\n",
        "**Interpolation as a source of generalization**\n",
        "\n",
        "**Why deep learning works**\n",
        "\n",
        "A deep learning model is basically a very high-dimensional curve-a curve that is smooth and continuous (with additional constraints on its structure, originating from model architecture priors), since it needs to be differentiable. And that curve is fitted to data points via gradient descent, smoothly and incrementally. By its very nature, deep learning is about taking a big, complex curve-a manifold-and incrementally adjusting its parameters until it fits some training data points.\n",
        "\n",
        "\n",
        "The curve involves enough parameters that it could fit anything—indeed, if you let your model train for long enough, it will effectively end up purely memorizing its training data and won't generalize at all. However, the data you're fitting to isn't made of isolated points sparsely distributed across the underlying space. Your data forms a highly structured, low-dimensional manifold within the input space-that's the mani- fold hypothesis. And because fitting your model curve to this data happens gradually and smoothly over time as gradient descent progresses, there will be an intermediate point during training at which the model roughly approximates the natural manifold of the data,\n",
        "\n",
        "**Training data is paramount**\n",
        "\n",
        "#Evaluating machine-learning models\n",
        "\n",
        "**Training, validation, and test sets**\n",
        "\n",
        "Evaluating a model always boils down to splitting the available data into three sets: training, validation, and test. You train on the training data and evaluate your model on the validation data. Once your model is ready for prime time, you test it one final time on the test data, which is meant to be as similar as possible to production data. Then you can deploy the model in production.\n",
        "\n",
        "You y ask, why not have two sets: a training set and a test set? You'd train on the may training data and evaluate on the test data. Much simpler!\n",
        "\n",
        "The reason is that developing a model always involves tuning its configuration: for example, choosing the number of layers or the size of the layers (called the hyperpa- rameters of the model, to distinguish them from the parameters, which are the network's weights). You do this tuning by using as a feedback signal the performance of the model on the validation data. In essence, this tuning is a form of learning a search for a good configuration in some parameter space. As a result, tuning the configuration of the model based on its performance on the validation set can quickly result in over-\n",
        "\n",
        "fitting to the validation set, even though your model is never directly trained on it\n",
        "\n",
        "Central to this phenomenon is the notion of information leaks. Every time you tune a hyperparameter of your model based on the model's performance on the validation set, some information about the validation data leaks into the model. If you do this only once, for one parameter, then very few bits of information will leak, and your val idation set will remain reliable for evaluating the model. But if you repeat this many times-running one experiment, evaluating on the validation set, and modifying your model as a result-then you'll leak an increasingly significant amount of information about the cation set into the model.\n",
        "\n",
        "At the end the day, you'll end up with a model that performs artificially well on the wild because that's what you optimized it for. You care about perfor mance on couge new data, not on the validation data, so you need to use a com pletely different, never-before-seen dataset to evaluate the model: the test dataset Your model shouldn't have had access to any information about the test set, even indi- rectly. If anything about the model has been tuned based on test set performance, then your measure of generalization will be flawed.\n",
        "\n",
        "\n",
        "\n",
        "\n",
        "Splitting your data into training, validation, and test sets may seem but there are a few advanced ways to do it that can come in handy when little data is available. Let's review three classic evaluation :\n",
        "\n",
        "**Simple hold-out validation**\n",
        "\n",
        "Set apart some fraction of your data as your test set. Train on the remaining data, and evaluate on the test set. As you saw in the previous sections, in order to prevent infor mation leaks, you shouldn't tune your model based on the test set, and therefore you should also reserve a validation set.\n",
        "\n",
        "This is the simplest evaluation protocol, and it suffers from one flaw: if little data is available, then your validation and test sets may contain too few samples to be statisti- cally representative of the data at hand. This is easy to recognize: if different random shuffling rounds of the data before splitting end up yielding very different measures of model performance, then you're having this issue. K-fold validation and iterated K-fold validation are two ways to address this, as discussed next.\n",
        "\n",
        "\n",
        "**K-fold validation**\n",
        "\n",
        "With this approach, you split your data into K partitions of equal size. For each parti- tion i, train a model on the remaining K 1 partitions, and evaluate it on partition i. - Your final score is then the averages of the K scores obtained. This method is helpful when the performance of your model shows significant variance based on your train- test split. Like holdout validation, this method doesn't exempt you from using a dis- tinct validation set for model calibration.\n",
        "\n",
        "\n",
        "**Iterated K-fold validation with shuffling**\n",
        "\n",
        "This one is for situations in which you have relatively little data available and vou need to evaluate your model as precisely as possible. I've found it to be extremely elpful in Kaggle competitions. It consists of applying K-fold validation multiple times, huffling the data every time before splitting it K ways. The final score is the avera of the scores obtained at each run of K-fold validation. Note that you end up trai ng and evaluating PK models (where P is the number of iterations you use), which can be very expensive.\n",
        "**Beating a common-sense baseline**\n",
        "\n",
        "**Things to keep in mind about model evaluation**\n",
        "\n",
        "#Improving model fit\n",
        "\n",
        "To achieve the perfect fit, you must first overfit. Since you don't know in advance where the boundary lies, you must cross it to find it. Thus, your initial goal as you start working on a problem is to achieve a model that shows some generalization power and that is able to overfit. Once you have such a model, you'll focus on refining gener- alization by fighting overfitting.\n",
        "\n",
        "There are three common problems you'll encounter at this stage:\n",
        "\n",
        "1. Training doesn't get started: your training loss doesn't go down over time.  2. Training gets started just fine, but your model doesn't meaningfully generalize: you can't beat the common-sense baseline you set.\n",
        "3. Training and validation loss both go down over time, and you can beat your baseline, but you don't seem to be able to overfit, which indicates you're still underfitting.\n",
        "\n",
        "**Tuning key gradient descent parameters**\n",
        "\n",
        "Sometimes training doesn't get started, or it stalls too early. Your loss is stuck. This is always something you can overcome: remember that you can fit a model to random data\n",
        "When this happens, it's always a problem with the configuration of the gradient descent process: your choice of optimizer, the distribution of initial values in the weights of your model, your learning rate, or your batch size.\n",
        "\n",
        "**Training a MNIST model with an incorrectly high learning rate**\n"
      ],
      "metadata": {
        "id": "SrdcbdY5BH3b"
      }
    },
    {
      "cell_type": "code",
      "execution_count": null,
      "metadata": {
        "id": "-sg6NISazskq"
      },
      "outputs": [],
      "source": [
        "(train_images, train_labels), _ = mnist.load_data()\n",
        "train_images = train_images.reshape((60000, 28 * 28))\n",
        "train_images = train_images.astype(\"float32\") / 255\n",
        "\n",
        "model = keras.Sequential([\n",
        "    layers.Dense(512, activation=\"relu\"),\n",
        "    layers.Dense(10, activation=\"softmax\")\n",
        "])\n",
        "model.compile(optimizer=keras.optimizers.RMSprop(1.),\n",
        "              loss=\"sparse_categorical_crossentropy\",\n",
        "              metrics=[\"accuracy\"])\n",
        "model.fit(train_images, train_labels,\n",
        "          epochs=10,\n",
        "          batch_size=128,\n",
        "          validation_split=0.2)"
      ]
    },
    {
      "cell_type": "markdown",
      "source": [
        "The model quickly reaches a training and validation accuracy in the 30%-40% range but cannot get past that. Let's try to lower the learning rate to a more reasonable value of 1e-2."
      ],
      "metadata": {
        "id": "V16RPIEWJCzb"
      }
    },
    {
      "cell_type": "markdown",
      "source": [
        "**The same model with a more appropriate learning rate**"
      ],
      "metadata": {
        "id": "1bvPxbvBCVKS"
      }
    },
    {
      "cell_type": "code",
      "source": [
        "model = keras.Sequential([\n",
        "    layers.Dense(512, activation=\"relu\"),\n",
        "    layers.Dense(10, activation=\"softmax\")\n",
        "])\n",
        "model.compile(optimizer=keras.optimizers.RMSprop(1e-2),\n",
        "              loss=\"sparse_categorical_crossentropy\",\n",
        "              metrics=[\"accuracy\"])\n",
        "model.fit(train_images, train_labels,\n",
        "          epochs=10,\n",
        "          batch_size=128,\n",
        "          validation_split=0.2)"
      ],
      "metadata": {
        "id": "gDj8SkBGCbS9"
      },
      "execution_count": null,
      "outputs": []
    },
    {
      "cell_type": "markdown",
      "source": [
        "The model is now able to train.\n",
        "\n",
        "If you find yourself in a similar situation, try\n",
        "\n",
        "■Lowering or increasing the learning rate. A learning rate that is too high may lead to updates that vastly overshoot a proper fit, like in the preceding example, and a learning rate that is too low may make training so slow that it appears to stall.\n",
        "\n",
        "• Increasing the batch size. A batch with more samples will lead to gradients that\n",
        "\n",
        "are more informative and less noisy (lower variance).\n"
      ],
      "metadata": {
        "id": "hN5VqTDAJmzH"
      }
    },
    {
      "cell_type": "markdown",
      "source": [
        "#Leveraging better architecture priors\n",
        "\n",
        "You have a model that fits  but for some reason your validation metrics aren't improv ing at all. They remain no better than what a random classifier would achieve: your model train but doesn't generalize. What's going on?\n",
        "\n",
        "This is perhaps the worst machine learning situation you can find yourself in. It indicates that something is fundamentally wrong with your approach, and it may not be easy to tell what. Here are some tips.\n",
        "\n",
        "First, it may be that the input data you're using simply doesn't contain sufficient information to predict your targets\n",
        "\n",
        "**Increasing model capacity**\n",
        "\n",
        "**A simple logistic regression on MNIST**\n",
        "\n",
        "If you manage to get to a model that fits, where validation metrics are going down, and that seems to achieve at least some level of generalization power, congratulations you're almost there. Next, you need to get your model to start overfitting."
      ],
      "metadata": {
        "id": "o0ocEvFzChPE"
      }
    },
    {
      "cell_type": "code",
      "source": [
        "model = keras.Sequential([layers.Dense(10, activation=\"softmax\")])\n",
        "model.compile(optimizer=\"rmsprop\",\n",
        "              loss=\"sparse_categorical_crossentropy\",\n",
        "              metrics=[\"accuracy\"])\n",
        "history_small_model = model.fit(\n",
        "    train_images, train_labels,\n",
        "    epochs=20,\n",
        "    batch_size=128,\n",
        "    validation_split=0.2)"
      ],
      "metadata": {
        "id": "nNk6NcLKCpha"
      },
      "execution_count": null,
      "outputs": []
    },
    {
      "cell_type": "code",
      "source": [
        "import matplotlib.pyplot as plt\n",
        "val_loss = history_small_model.history[\"val_loss\"]\n",
        "epochs = range(1, 21)\n",
        "plt.plot(epochs, val_loss, \"b--\",\n",
        "         label=\"Validation loss\")\n",
        "plt.title(\"Effect of insufficient model capacity on validation loss\")\n",
        "plt.xlabel(\"Epochs\")\n",
        "plt.ylabel(\"Loss\")\n",
        "plt.legend()"
      ],
      "metadata": {
        "id": "k1hlpShLCxts"
      },
      "execution_count": null,
      "outputs": []
    },
    {
      "cell_type": "markdown",
      "source": [
        "Validation metrics seem to stall, or to improve very slowly, instead of peaking and reversing course. The validation loss goes to 0.26 and just stays there. You can fit, but you can't clearly overfit, even after many iterations over the training data. You're likely to encounter similar curves often in your career.\n",
        "\n",
        "Remember that it should always be possible to overfit. Much like the problem where the training loss doesn't go down, this is an issue that can always be solved. "
      ],
      "metadata": {
        "id": "sqHEQA0acnzc"
      }
    },
    {
      "cell_type": "markdown",
      "source": [
        "if you can't seem to be able to overfit, it's likely a problem with the representational power of your model: you're going to need a bigger model, one with more capacity, that is to say, one able to store more information. You can increase representational power by adding more layers, using bigger layers (layers with more parameters), or using kinds of layers that are more appropriate for the problem at hand (better architecture priors).\n",
        "\n",
        "Lets try traning a bigger model "
      ],
      "metadata": {
        "id": "VtNAgOTbdGmO"
      }
    },
    {
      "cell_type": "code",
      "source": [
        "model = keras.Sequential([\n",
        "    layers.Dense(96, activation=\"relu\"),\n",
        "    layers.Dense(96, activation=\"relu\"),\n",
        "    layers.Dense(10, activation=\"softmax\"),\n",
        "])\n",
        "model.compile(optimizer=\"rmsprop\",\n",
        "              loss=\"sparse_categorical_crossentropy\",\n",
        "              metrics=[\"accuracy\"])\n",
        "history_large_model = model.fit(\n",
        "    train_images, train_labels,\n",
        "    epochs=20,\n",
        "    batch_size=128,\n",
        "    validation_split=0.2)"
      ],
      "metadata": {
        "id": "uutjNaxzCyZm"
      },
      "execution_count": null,
      "outputs": []
    },
    {
      "cell_type": "code",
      "source": [
        "import matplotlib.pyplot as plt\n",
        "val_loss = history_large_model.history[\"val_loss\"]\n",
        "epochs = range(1, 21)\n",
        "plt.plot(epochs, val_loss, \"b--\",\n",
        "         label=\"Validation loss\")\n",
        "plt.title(\"Effect of insufficient model capacity on validation loss\")\n",
        "plt.xlabel(\"Epochs\")\n",
        "plt.ylabel(\"Loss\")\n",
        "plt.legend()"
      ],
      "metadata": {
        "id": "YGpIHRATdgWr"
      },
      "execution_count": null,
      "outputs": []
    },
    {
      "cell_type": "markdown",
      "source": [
        "#Improving generalization\n",
        "\n",
        "**Dataset curation**\n",
        "As such, it is essential that you make sure that you're working with an appropriate dataset. Spending more effort and money on data collection almost always yields a much greater return on investment than spending the same on developing a better model.\n",
        "\n",
        "* Make sure you have enough data. Remember that you need a dense sampling of the input-cross-output space. More data will yield a better model. Sometimes problems that seem impossible at first become solvable with a larger dataset. ■ Minimize labeling errors-visualize your inputs to check for anomalies, and proofread your labels.\n",
        "\n",
        "■ Clean your data and deal with missing values (we'll cover this in the next chapter). If you have many features and you aren't sure which ones are actually useful, do\n",
        "\n",
        "A particularly important way to improve the generalization potential of your data is feature engineering.\n",
        "\n",
        "**Feature engineering**\n",
        "Feature engineering is the process of using your own knowledge about the data and about the machine learning algorithm at hand (in this case, a neural network) to make the algorithm work better by applying hardcoded (non-learned) transformations to the data before it goes into the model. In many cases, it isn't reasonable to expect a machine learning model to be able to learn from completely arbitrary data. The data needs to be presented to the model in a way that will make the model's job easier.\n",
        "\n",
        "Good features still allow you to solve problems more elegantly while using fewer resources. For instance, it would be ridiculous to solve the problem of reading a clock face using a convolutional neural network.\n",
        "\n",
        "Good features let you solve a problem with far less data. The ability of deep learning models to learn features on their own relies on having lots of training data available; if you have only a few samples, the information value in their fea tures becomes critical.\n",
        "\n",
        "**Using early stopping**\n",
        "\n",
        "Finding the exact point during training where you've reached the most generaliz able fit-the exact boundary between an underfit curve and an overfit curve-is one of the most effective things you can do to improve generalization.\n",
        "\n",
        "In the examples in the previous chapter, we would start by training our models for longer than needed to figure out the number of epochs that yielded the best valida tion metrics, and then we would retrain a new model for exactly that number of epochs. This is pretty standard, but it requires you to do redundant work, which can sometimes be expensive. Naturally, you could just save your model at the end of each epoch, and once you've found the best epoch, reuse the closest saved model you have. In Keras, it's typical to do this with an EarlyStopping callback, which will interrupt training as soon as validation metrics have stopped improving, while best known model state\n",
        "\n",
        "#Regularizing your model\n",
        "Regularization techniques are a set of best practices that actively impede the model's abil- ity to fit perfectly to the training data, with the goal of making the model perform bet- ter during validation. This is called \"regularizing\" the model, because it tends to make the model simpler, more \"regular,\" its curve smoother, more \"generic\"; thus it is less specific to the training set and better able to generalize by more closely approximat- ing the latent manifold of the data.\n",
        "\n",
        "**Regularization techniques**:\n",
        "\n",
        "**Reducing the network's size**\n",
        "\n",
        "Original model"
      ],
      "metadata": {
        "id": "cxRBbOiVC3hP"
      }
    },
    {
      "cell_type": "code",
      "source": [
        "from tensorflow.keras.datasets import imdb\n",
        "(train_data, train_labels), _ = imdb.load_data(num_words=10000)\n",
        "\n",
        "def vectorize_sequences(sequences, dimension=10000):\n",
        "    results = np.zeros((len(sequences), dimension))\n",
        "    for i, sequence in enumerate(sequences):\n",
        "        results[i, sequence] = 1.\n",
        "    return results\n",
        "train_data = vectorize_sequences(train_data)\n",
        "\n",
        "model = keras.Sequential([\n",
        "    layers.Dense(16, activation=\"relu\"),\n",
        "    layers.Dense(16, activation=\"relu\"),\n",
        "    layers.Dense(1, activation=\"sigmoid\")\n",
        "])\n",
        "model.compile(optimizer=\"rmsprop\",\n",
        "              loss=\"binary_crossentropy\",\n",
        "              metrics=[\"accuracy\"])\n",
        "history_original = model.fit(train_data, train_labels,\n",
        "                             epochs=20, batch_size=512, validation_split=0.4)"
      ],
      "metadata": {
        "id": "M6nnfzQVDZhI"
      },
      "execution_count": null,
      "outputs": []
    },
    {
      "cell_type": "markdown",
      "source": [
        "**Version of the model with lower capacity**"
      ],
      "metadata": {
        "id": "aJawDHWKDaMS"
      }
    },
    {
      "cell_type": "code",
      "source": [
        "model = keras.Sequential([\n",
        "    layers.Dense(4, activation=\"relu\"),\n",
        "    layers.Dense(4, activation=\"relu\"),\n",
        "    layers.Dense(1, activation=\"sigmoid\")\n",
        "])\n",
        "model.compile(optimizer=\"rmsprop\",\n",
        "              loss=\"binary_crossentropy\",\n",
        "              metrics=[\"accuracy\"])\n",
        "history_smaller_model = model.fit(\n",
        "    train_data, train_labels,\n",
        "    epochs=20, batch_size=512, validation_split=0.4)"
      ],
      "metadata": {
        "id": "hnqOecygDfDq"
      },
      "execution_count": null,
      "outputs": []
    },
    {
      "cell_type": "markdown",
      "source": [
        "#Adding weight regularization\n",
        "\n",
        "**Adding L2 weight regularization to the model**"
      ],
      "metadata": {
        "id": "RsNyS-98D_oK"
      }
    },
    {
      "cell_type": "code",
      "source": [
        "from tensorflow.keras import regularizers\n",
        "model = keras.Sequential([\n",
        "    layers.Dense(16,\n",
        "                 kernel_regularizer=regularizers.l2(0.002),\n",
        "                 activation=\"relu\"),\n",
        "    layers.Dense(16,\n",
        "                 kernel_regularizer=regularizers.l2(0.002),\n",
        "                 activation=\"relu\"),\n",
        "    layers.Dense(1, activation=\"sigmoid\")\n",
        "])\n",
        "model.compile(optimizer=\"rmsprop\",\n",
        "              loss=\"binary_crossentropy\",\n",
        "              metrics=[\"accuracy\"])\n",
        "history_l2_reg = model.fit(\n",
        "    train_data, train_labels,\n",
        "    epochs=20, batch_size=512, validation_split=0.4)"
      ],
      "metadata": {
        "id": "Q68pFOgTDi02"
      },
      "execution_count": null,
      "outputs": []
    },
    {
      "cell_type": "markdown",
      "source": [
        "**Different weight regularizers available in Keras**"
      ],
      "metadata": {
        "id": "q_DAiF0_D2_j"
      }
    },
    {
      "cell_type": "code",
      "source": [
        "from tensorflow.keras import regularizers\n",
        "regularizers.l1(0.001)\n",
        "regularizers.l1_l2(l1=0.001, l2=0.001)"
      ],
      "metadata": {
        "id": "qY6-8aEtDmQ8"
      },
      "execution_count": null,
      "outputs": []
    },
    {
      "cell_type": "markdown",
      "source": [
        "Adding dropout\n",
        "\n",
        "**Adding dropout to the IMDB model**"
      ],
      "metadata": {
        "id": "NNgewO8ZDumv"
      }
    },
    {
      "cell_type": "code",
      "source": [
        "model = keras.Sequential([\n",
        "    layers.Dense(16, activation=\"relu\"),\n",
        "    layers.Dropout(0.5),\n",
        "    layers.Dense(16, activation=\"relu\"),\n",
        "    layers.Dropout(0.5),\n",
        "    layers.Dense(1, activation=\"sigmoid\")\n",
        "])\n",
        "model.compile(optimizer=\"rmsprop\",\n",
        "              loss=\"binary_crossentropy\",\n",
        "              metrics=[\"accuracy\"])\n",
        "history_dropout = model.fit(\n",
        "    train_data, train_labels,\n",
        "    epochs=20, batch_size=512, validation_split=0.4)"
      ],
      "metadata": {
        "id": "uJTI7UKGDpt4"
      },
      "execution_count": null,
      "outputs": []
    }
  ],
  "metadata": {
    "colab": {
      "provenance": [],
      "authorship_tag": "ABX9TyPFrC6ggVL0roUhtGmKyqZH",
      "include_colab_link": true
    },
    "kernelspec": {
      "display_name": "Python 3",
      "name": "python3"
    },
    "language_info": {
      "name": "python"
    }
  },
  "nbformat": 4,
  "nbformat_minor": 0
}