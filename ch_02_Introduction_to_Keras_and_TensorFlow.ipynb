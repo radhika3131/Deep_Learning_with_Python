{
  "nbformat": 4,
  "nbformat_minor": 0,
  "metadata": {
    "colab": {
      "provenance": [],
      "authorship_tag": "ABX9TyPWDKdXyUREj/89bBP6Rsa/",
      "include_colab_link": true
    },
    "kernelspec": {
      "name": "python3",
      "display_name": "Python 3"
    },
    "language_info": {
      "name": "python"
    },
    "gpuClass": "standard"
  },
  "cells": [
    {
      "cell_type": "markdown",
      "metadata": {
        "id": "view-in-github",
        "colab_type": "text"
      },
      "source": [
        "<a href=\"https://colab.research.google.com/github/radhika3131/Deep_Learning_with_Python/blob/main/ch_02_Introduction_to_Keras_and_TensorFlow.ipynb\" target=\"_parent\"><img src=\"https://colab.research.google.com/assets/colab-badge.svg\" alt=\"Open In Colab\"/></a>"
      ]
    },
    {
      "cell_type": "markdown",
      "source": [
        "#Constant tensor and variables\n",
        "\n",
        "To do anything in tensor . we are  going to need some tensors. tensor need to be  created with some initial value "
      ],
      "metadata": {
        "id": "60Pdfb_43YM4"
      }
    },
    {
      "cell_type": "markdown",
      "source": [
        "All-ones or all-zeros tensors"
      ],
      "metadata": {
        "id": "E52R3icL3_QJ"
      }
    },
    {
      "cell_type": "code",
      "source": [
        "import tensorflow as tf \n",
        "x = tf.ones(shape = (2,1)) # equivalent to np.ones(shape = (2,1))\n",
        "print(x)"
      ],
      "metadata": {
        "colab": {
          "base_uri": "https://localhost:8080/"
        },
        "id": "u4O_m9NW3XVa",
        "outputId": "ebd078f9-c73e-4d54-9df1-1c51b2d003de"
      },
      "execution_count": 1,
      "outputs": [
        {
          "output_type": "stream",
          "name": "stdout",
          "text": [
            "tf.Tensor(\n",
            "[[1.]\n",
            " [1.]], shape=(2, 1), dtype=float32)\n"
          ]
        }
      ]
    },
    {
      "cell_type": "code",
      "source": [
        "x = tf.zeros(shape = (2,1))\n",
        "print(x)"
      ],
      "metadata": {
        "colab": {
          "base_uri": "https://localhost:8080/"
        },
        "id": "klG9fEvV4TPa",
        "outputId": "a67b5a15-965f-495d-d918-b9ea4c5e6c12"
      },
      "execution_count": 2,
      "outputs": [
        {
          "output_type": "stream",
          "name": "stdout",
          "text": [
            "tf.Tensor(\n",
            "[[0.]\n",
            " [0.]], shape=(2, 1), dtype=float32)\n"
          ]
        }
      ]
    },
    {
      "cell_type": "markdown",
      "source": [
        "Random Tensors"
      ],
      "metadata": {
        "id": "pzovlZB44l4V"
      }
    },
    {
      "cell_type": "code",
      "source": [
        "# tensor of random values of normal distribution with mean 0 and standard deviation 1\n",
        "x = tf.random.normal(shape = (3,1) , mean = 0. , stddev = 1. )\n",
        "print(x)"
      ],
      "metadata": {
        "colab": {
          "base_uri": "https://localhost:8080/"
        },
        "id": "8SzP1Tlz4g2w",
        "outputId": "dc76f92b-ef2b-48d9-88b7-a4293412b39a"
      },
      "execution_count": 3,
      "outputs": [
        {
          "output_type": "stream",
          "name": "stdout",
          "text": [
            "tf.Tensor(\n",
            "[[ 0.1459504 ]\n",
            " [-0.36910313]\n",
            " [ 1.6335238 ]], shape=(3, 1), dtype=float32)\n"
          ]
        }
      ]
    },
    {
      "cell_type": "code",
      "source": [
        "# tensor of random values of uniform distribution between 0 and 1 \n",
        "x = tf.random.uniform(shape = (3,1) , minval = 0. , maxval = 1.)\n",
        "print(x)"
      ],
      "metadata": {
        "colab": {
          "base_uri": "https://localhost:8080/"
        },
        "id": "U6NQr_x748PU",
        "outputId": "e2c04b80-0619-4861-bb62-adb732915f4f"
      },
      "execution_count": 4,
      "outputs": [
        {
          "output_type": "stream",
          "name": "stdout",
          "text": [
            "tf.Tensor(\n",
            "[[0.11145246]\n",
            " [0.9740274 ]\n",
            " [0.7467369 ]], shape=(3, 1), dtype=float32)\n"
          ]
        }
      ]
    },
    {
      "cell_type": "markdown",
      "source": [
        "A significant difference between Numpy and tensorFlow tensors is that tensorFlow tensors are not assignable .they are constant .For instance , in Numpy you can do the following:"
      ],
      "metadata": {
        "id": "GWIGI64950NY"
      }
    },
    {
      "cell_type": "markdown",
      "source": [
        "Numpy arrays are assignable"
      ],
      "metadata": {
        "id": "xf8AO0uM6I1b"
      }
    },
    {
      "cell_type": "code",
      "source": [
        "import numpy as np\n",
        "x = np.ones(shape = (2,2))\n",
        "x[0,0] = 0\n",
        "print(x)"
      ],
      "metadata": {
        "colab": {
          "base_uri": "https://localhost:8080/"
        },
        "id": "Nb4UBn655lfE",
        "outputId": "cdb7aea2-8047-4dfc-b268-4db3ac67fa8e"
      },
      "execution_count": 5,
      "outputs": [
        {
          "output_type": "stream",
          "name": "stdout",
          "text": [
            "[[0. 1.]\n",
            " [1. 1.]]\n"
          ]
        }
      ]
    },
    {
      "cell_type": "markdown",
      "source": [
        "TensorFlow tensors are not assignable\n",
        "\n",
        "**try to do the same thing in tensorFlow you will get error**\n"
      ],
      "metadata": {
        "id": "KvlVPOxv6W4t"
      }
    },
    {
      "cell_type": "code",
      "source": [
        "x = tf.ones(shape = (2,2))\n",
        "x[0,0] = 0\n",
        "print(x)"
      ],
      "metadata": {
        "colab": {
          "base_uri": "https://localhost:8080/",
          "height": 200
        },
        "id": "gb3UYkLf6Uij",
        "outputId": "c16510a3-5778-4dc9-a63f-e9eb5f78f2d9"
      },
      "execution_count": 6,
      "outputs": [
        {
          "output_type": "error",
          "ename": "TypeError",
          "evalue": "ignored",
          "traceback": [
            "\u001b[0;31m---------------------------------------------------------------------------\u001b[0m",
            "\u001b[0;31mTypeError\u001b[0m                                 Traceback (most recent call last)",
            "\u001b[0;32m<ipython-input-6-0c03aaee4855>\u001b[0m in \u001b[0;36m<module>\u001b[0;34m\u001b[0m\n\u001b[1;32m      1\u001b[0m \u001b[0mx\u001b[0m \u001b[0;34m=\u001b[0m \u001b[0mtf\u001b[0m\u001b[0;34m.\u001b[0m\u001b[0mones\u001b[0m\u001b[0;34m(\u001b[0m\u001b[0mshape\u001b[0m \u001b[0;34m=\u001b[0m \u001b[0;34m(\u001b[0m\u001b[0;36m2\u001b[0m\u001b[0;34m,\u001b[0m\u001b[0;36m2\u001b[0m\u001b[0;34m)\u001b[0m\u001b[0;34m)\u001b[0m\u001b[0;34m\u001b[0m\u001b[0;34m\u001b[0m\u001b[0m\n\u001b[0;32m----> 2\u001b[0;31m \u001b[0mx\u001b[0m\u001b[0;34m[\u001b[0m\u001b[0;36m0\u001b[0m\u001b[0;34m,\u001b[0m\u001b[0;36m0\u001b[0m\u001b[0;34m]\u001b[0m \u001b[0;34m=\u001b[0m \u001b[0;36m0\u001b[0m\u001b[0;34m\u001b[0m\u001b[0;34m\u001b[0m\u001b[0m\n\u001b[0m\u001b[1;32m      3\u001b[0m \u001b[0mprint\u001b[0m\u001b[0;34m(\u001b[0m\u001b[0mx\u001b[0m\u001b[0;34m)\u001b[0m\u001b[0;34m\u001b[0m\u001b[0;34m\u001b[0m\u001b[0m\n",
            "\u001b[0;31mTypeError\u001b[0m: 'tensorflow.python.framework.ops.EagerTensor' object does not support item assignment"
          ]
        }
      ]
    },
    {
      "cell_type": "markdown",
      "source": [
        "To train a model , we will need to update its state, which is set of tensors . If tensors are not asignable , how do we do it ? that where come **variables** come in tf.varible is the class meant to manage modifiable state in tensorflow"
      ],
      "metadata": {
        "id": "_eHF5-6w_Sk6"
      }
    },
    {
      "cell_type": "markdown",
      "source": [
        "Creating a Tensorflow variable"
      ],
      "metadata": {
        "id": "lzoTOnCj_tEh"
      }
    },
    {
      "cell_type": "code",
      "source": [
        "v = tf.Variable(initial_value = tf.random.normal(shape = (3,1)))\n",
        "print(v)"
      ],
      "metadata": {
        "colab": {
          "base_uri": "https://localhost:8080/"
        },
        "id": "1AYfopbf6q7g",
        "outputId": "9e75a644-fe3c-4317-8d12-7905c8e28ba8"
      },
      "execution_count": 8,
      "outputs": [
        {
          "output_type": "stream",
          "name": "stdout",
          "text": [
            "<tf.Variable 'Variable:0' shape=(3, 1) dtype=float32, numpy=\n",
            "array([[-0.5982915 ],\n",
            "       [ 0.15294123],\n",
            "       [-0.22419946]], dtype=float32)>\n"
          ]
        }
      ]
    },
    {
      "cell_type": "markdown",
      "source": [
        "Assugning value to tensorflow variable"
      ],
      "metadata": {
        "id": "9ZDmZu97ADOP"
      }
    },
    {
      "cell_type": "code",
      "source": [
        "v.assign(tf.ones(shape = (3, 1 )))"
      ],
      "metadata": {
        "colab": {
          "base_uri": "https://localhost:8080/"
        },
        "id": "MGsndQeA_8bY",
        "outputId": "43c57aea-9d69-45b8-bbfa-cb95c2673017"
      },
      "execution_count": 9,
      "outputs": [
        {
          "output_type": "execute_result",
          "data": {
            "text/plain": [
              "<tf.Variable 'UnreadVariable' shape=(3, 1) dtype=float32, numpy=\n",
              "array([[1.],\n",
              "       [1.],\n",
              "       [1.]], dtype=float32)>"
            ]
          },
          "metadata": {},
          "execution_count": 9
        }
      ]
    },
    {
      "cell_type": "markdown",
      "source": [
        "Assigning a value to a subset of a tensorflow variables"
      ],
      "metadata": {
        "id": "mJ4kMCiHAp7C"
      }
    },
    {
      "cell_type": "code",
      "source": [
        "v[0,0].assign(3.)"
      ],
      "metadata": {
        "colab": {
          "base_uri": "https://localhost:8080/"
        },
        "id": "kIqbZEQ4AJRS",
        "outputId": "fed22117-3769-4033-c209-7549929466a6"
      },
      "execution_count": 10,
      "outputs": [
        {
          "output_type": "execute_result",
          "data": {
            "text/plain": [
              "<tf.Variable 'UnreadVariable' shape=(3, 1) dtype=float32, numpy=\n",
              "array([[3.],\n",
              "       [1.],\n",
              "       [1.]], dtype=float32)>"
            ]
          },
          "metadata": {},
          "execution_count": 10
        }
      ]
    },
    {
      "cell_type": "markdown",
      "source": [
        "Using assign_add()"
      ],
      "metadata": {
        "id": "lQjPr9A2BNR5"
      }
    },
    {
      "cell_type": "code",
      "source": [
        "# similarly assign_add() and assign_Sub() are efficient equivalent of += and -= \n",
        "v.assign_add(tf.ones(shape = (3,1)))"
      ],
      "metadata": {
        "colab": {
          "base_uri": "https://localhost:8080/"
        },
        "id": "sxr4zffbA5sP",
        "outputId": "891c8b42-c8b8-4061-da92-2c65cdba9a0c"
      },
      "execution_count": 11,
      "outputs": [
        {
          "output_type": "execute_result",
          "data": {
            "text/plain": [
              "<tf.Variable 'UnreadVariable' shape=(3, 1) dtype=float32, numpy=\n",
              "array([[4.],\n",
              "       [2.],\n",
              "       [2.]], dtype=float32)>"
            ]
          },
          "metadata": {},
          "execution_count": 11
        }
      ]
    },
    {
      "cell_type": "markdown",
      "source": [
        "Tensor operation : Doing math in TensorFlow"
      ],
      "metadata": {
        "id": "sgVMlzZLkF1c"
      }
    },
    {
      "cell_type": "code",
      "source": [
        "a = tf.ones(2,2)\n",
        "b = tf.square(a) # take the squares\n",
        "c = tf.sqrt(a) # take the square root\n",
        "d = b+c # add two tensors\n"
      ],
      "metadata": {
        "id": "9Zycu4a8BabK"
      },
      "execution_count": 12,
      "outputs": []
    },
    {
      "cell_type": "markdown",
      "source": [
        "A second look at the GradientTape API\n",
        "\n",
        "So far , TensorFlow seems to look a lot like Numpy. But here something Numpy can'nt do : retrieve the gradient of any differentiable ex[pression with respect to any of its inputs . Just open s **GradientTape** scope , apply  some computation to one or serveral input tensors , and retrieve the gradient of the result with respect to the inputs"
      ],
      "metadata": {
        "id": "u53Af8RsmAgM"
      }
    },
    {
      "cell_type": "code",
      "source": [
        "input_var = tf.Variable(initial_value = 3.)\n",
        "with tf.GradientTape() as tape:\n",
        "  result = tf.square(input_var)\n",
        "gradient = tape.gradient(result , input_var)"
      ],
      "metadata": {
        "id": "NqOZuxC_kywG"
      },
      "execution_count": 13,
      "outputs": []
    },
    {
      "cell_type": "markdown",
      "source": [
        "So far , you have only seen the case where the input tensors in tape.gradient()\n",
        "were TensorFlow variables . Its actually possible for thes inputs to be any arbitrary tenor . However , only trainable varibles are tracked by default . With a constant tensor  you would have to manually mark it as being tracked by calling **Tape.watch** on it"
      ],
      "metadata": {
        "id": "zemZTGy-x1iq"
      }
    },
    {
      "cell_type": "markdown",
      "source": [
        "Using GradientTape with constant tensor inputs"
      ],
      "metadata": {
        "id": "-SBazC-8yoUb"
      }
    },
    {
      "cell_type": "code",
      "source": [
        "input_const = tf.constant(3.)\n",
        "with tf.GradientTape() as tape:\n",
        "  tape.watch(input_const)\n",
        "  result = tf.square(input_const)\n",
        "gradient = tape.gradient(result , input_const)\n",
        "\n",
        "# why is it necessary to mark becz it would be too expensive to preemptively store the information required to compute the gradient of anything the respect to anything\n",
        "# To avoid wasting resources , tape need to know what to watch "
      ],
      "metadata": {
        "id": "atIb4Bluykeh"
      },
      "execution_count": 14,
      "outputs": []
    },
    {
      "cell_type": "markdown",
      "source": [
        "Using Nested gradient tapes to compute second-order gradients"
      ],
      "metadata": {
        "id": "tZV-PXpAzocF"
      }
    },
    {
      "cell_type": "code",
      "source": [
        "time = tf.Variable(0.)\n",
        "with tf.GradientTape() as outer_tape:\n",
        "  with tf.GradientTape() as inner_tape:\n",
        "    position = 4.9 * time ** 2\n",
        "    speed = inner_tape.gradient(position , time)\n",
        "  acceleration = outer_tape.gradient(speed,time) # we used the outer tape to compute the gradient of the gradient from the inner tap"
      ],
      "metadata": {
        "id": "-30jB3zIy_ar"
      },
      "execution_count": 15,
      "outputs": []
    },
    {
      "cell_type": "markdown",
      "source": [
        "# An end_to_end example : a Linear classifier in pure TensorFlow"
      ],
      "metadata": {
        "id": "m1c_3eI00xy7"
      }
    },
    {
      "cell_type": "markdown",
      "source": [
        "1. lets come up with some nicely separable synthetic data to work with\n",
        "2. Two class of points in a 2D plane\n",
        "3.we will generate each class of points by drawing their coordinates fro   random distribution with aspecific  covarience matrix  and  specific mean\n",
        "4. the covarience matrix describe the shape of the point cloud and mean describe its position in plane \n",
        "5. we will reuse the same covarinece matrix for both point clouds , but we will use two different mean values  -- the point cloud will have same  shape but different position"
      ],
      "metadata": {
        "id": "ZPlcwahA1rtt"
      }
    },
    {
      "cell_type": "markdown",
      "source": [
        "Generating two classes  of random points in a 2D plane"
      ],
      "metadata": {
        "id": "X5Adrb5f2zIl"
      }
    },
    {
      "cell_type": "code",
      "source": [
        "num_samples_per_class = 1000\n",
        "negative_samples = np.random.multivariate_normal(mean = [0,3] , cov = [[1,0.5] , [0.5 , 1]] , size = num_samples_per_class)\n",
        "positive_samples = np.random.multivariate_normal(mean = [3 , 0] , cov = [[1,0.5] , [0.5 , 1]] , size = num_samples_per_class)"
      ],
      "metadata": {
        "id": "euqmVUze0nqj"
      },
      "execution_count": 16,
      "outputs": []
    },
    {
      "cell_type": "code",
      "source": [
        "negative_samples.shape"
      ],
      "metadata": {
        "colab": {
          "base_uri": "https://localhost:8080/"
        },
        "id": "U7bneE2E4O-9",
        "outputId": "95f23f42-6b2e-4c4b-ac84-68f2f5f58b95"
      },
      "execution_count": 17,
      "outputs": [
        {
          "output_type": "execute_result",
          "data": {
            "text/plain": [
              "(1000, 2)"
            ]
          },
          "metadata": {},
          "execution_count": 17
        }
      ]
    },
    {
      "cell_type": "code",
      "source": [
        "positive_samples.shape"
      ],
      "metadata": {
        "colab": {
          "base_uri": "https://localhost:8080/"
        },
        "id": "i9XSdIEB4WoN",
        "outputId": "c9b6bf79-39de-4b23-8b1b-8c8ed21768f8"
      },
      "execution_count": 18,
      "outputs": [
        {
          "output_type": "execute_result",
          "data": {
            "text/plain": [
              "(1000, 2)"
            ]
          },
          "metadata": {},
          "execution_count": 18
        }
      ]
    },
    {
      "cell_type": "markdown",
      "source": [
        "Stacking the two class into an array with shape(2000, 2)"
      ],
      "metadata": {
        "id": "uK5jvXid4fOh"
      }
    },
    {
      "cell_type": "code",
      "source": [
        "inputs = np.vstack((negative_samples , positive_samples)).astype(np.float32)"
      ],
      "metadata": {
        "id": "eYOpYAqK4adH"
      },
      "execution_count": 19,
      "outputs": []
    },
    {
      "cell_type": "code",
      "source": [
        "inputs"
      ],
      "metadata": {
        "colab": {
          "base_uri": "https://localhost:8080/"
        },
        "id": "6WcoOON_4zVA",
        "outputId": "db652e30-fdb6-469f-e382-35081b2188c1"
      },
      "execution_count": 20,
      "outputs": [
        {
          "output_type": "execute_result",
          "data": {
            "text/plain": [
              "array([[ 0.19194266,  3.9889417 ],\n",
              "       [-0.43890658,  1.0318993 ],\n",
              "       [ 0.5218312 ,  3.931077  ],\n",
              "       ...,\n",
              "       [ 3.312295  , -0.03728716],\n",
              "       [ 2.2474139 , -0.71655095],\n",
              "       [ 1.6535842 ,  0.7089441 ]], dtype=float32)"
            ]
          },
          "metadata": {},
          "execution_count": 20
        }
      ]
    },
    {
      "cell_type": "markdown",
      "source": [
        "Generate the corresponding targets (0 and 1)\n",
        "\n",
        "An array of zeroes and ones of shape(2000, 1) , where target[i,0] is 0 if inputs[i] belongs to class 0 "
      ],
      "metadata": {
        "id": "mnQj9Qrk5g5q"
      }
    },
    {
      "cell_type": "code",
      "source": [
        "targets = np.vstack((np.zeros((num_samples_per_class , 1) , dtype = \"float32\"),\n",
        "                    np.ones((num_samples_per_class , 1) , dtype = \"float32\") ))"
      ],
      "metadata": {
        "id": "MilRBznM44Sv"
      },
      "execution_count": 21,
      "outputs": []
    },
    {
      "cell_type": "markdown",
      "source": [
        "Plotting the two classes"
      ],
      "metadata": {
        "id": "36EHyu1v7L3T"
      }
    },
    {
      "cell_type": "code",
      "source": [
        "import matplotlib.pyplot as plt \n",
        "plt.scatter(inputs[:,0] , inputs[:, 1] , c = targets[:, 0])\n",
        "plt.show()"
      ],
      "metadata": {
        "colab": {
          "base_uri": "https://localhost:8080/",
          "height": 265
        },
        "id": "qG2YUdIt7A8F",
        "outputId": "b2725a69-8efa-4e12-9b7b-cfecba89250d"
      },
      "execution_count": 22,
      "outputs": [
        {
          "output_type": "display_data",
          "data": {
            "text/plain": [
              "<Figure size 432x288 with 1 Axes>"
            ],
            "image/png": "[encoded data removed]"
          },
          "metadata": {
            "needs_background": "light"
          }
        }
      ]
    },
    {
      "cell_type": "markdown",
      "source": [
        "Now lets create a linear classifier that can learn to separate these two blobs\n",
        "A linear classifier ia an affine transformation (** prediction = W* input + b **) trained to minimize the square of difference between predictions and the targets"
      ],
      "metadata": {
        "id": "1PuVRAc8zxZX"
      }
    },
    {
      "cell_type": "markdown",
      "source": [
        "Creating the linear classifier variables"
      ],
      "metadata": {
        "id": "l7iWJ7jb0RP8"
      }
    },
    {
      "cell_type": "code",
      "source": [
        "input_dim = 2 # the inputs will be in 2D\n",
        "output_dim = 1 # the output predictions will be a single score per sample (close to 0 if sample is predicted to be in class 0 , and close to 1 if samples is predicted to be in class 1)\n",
        "W = tf.Variable(initial_value = tf.random.uniform (shape = (input_dim , output_dim)))\n",
        "b = tf.Variable(initial_value = tf.zeros(shape = (output_dim , )))"
      ],
      "metadata": {
        "id": "GHLY2_AR0QJ0"
      },
      "execution_count": 23,
      "outputs": []
    },
    {
      "cell_type": "markdown",
      "source": [
        "The forward Pass Function"
      ],
      "metadata": {
        "id": "yPJknqKb0OCR"
      }
    },
    {
      "cell_type": "code",
      "source": [
        " def model(inputs):\n",
        "   return tf.matmul(inputs , W ) + b"
      ],
      "metadata": {
        "id": "LwqhabDZ7igC"
      },
      "execution_count": 24,
      "outputs": []
    },
    {
      "cell_type": "markdown",
      "source": [
        "Because our linear function operates on 2D inputs . W is really just two scalar coefficents , w1 , w2 : W = [[w1], [w2]] .\n",
        "meanwhile , b is a single scalar coefficent . As such , for given input point [x, y ] , its predition value is Prediction =[[w1], [w2]] * [ x , y] = w1 * x + w2 * y + b "
      ],
      "metadata": {
        "id": "PMOfV9NSnDQy"
      }
    },
    {
      "cell_type": "markdown",
      "source": [
        "The mean squared error loss function"
      ],
      "metadata": {
        "id": "k6IptiEGnxjS"
      }
    },
    {
      "cell_type": "code",
      "source": [
        "def square_loss(targets , predictions):\n",
        "  per_sample_losses = tf.square(targets - predictions) # per_sample_losses will be tensor with the same shape as prediction and target , containing per-sample-losses\n",
        "  return tf.reduce_mean(per_sample_losses) #we need to average these per-sample-losses scores into a single scalar loss value: this is what reduce_mean does"
      ],
      "metadata": {
        "id": "Y085ZG9smSa3"
      },
      "execution_count": 25,
      "outputs": []
    },
    {
      "cell_type": "markdown",
      "source": [
        "Next is training step , which recieve some training data and updates the weights w and b as to minimize the loss on the data"
      ],
      "metadata": {
        "id": "x24rskKZ0oQ-"
      }
    },
    {
      "cell_type": "markdown",
      "source": [
        "The Training step function"
      ],
      "metadata": {
        "id": "-2GTk3-E0zsW"
      }
    },
    {
      "cell_type": "code",
      "source": [
        "learning_rate = 0.1\n",
        "\n",
        "def training_step(inputs , targets):\n",
        "  with tf.GradientTape() as tape:#                forward pass\n",
        "    predictions = model(inputs)  #                inside  a gradient tape \n",
        "    loss = square_loss(predictions , targets) #    scope\n",
        "  grad_loss_wrt_W , grad_loss_wrt_b = tape.gradient(loss, [W , b]) # retrieve the gradient of the loss with regard to weights\n",
        "  W.assign_sub(grad_loss_wrt_W * learning_rate)  #  update the\n",
        "  b.assign_sub(grad_loss_wrt_b * learning_rate)  #  weights\n",
        "  return loss\n"
      ],
      "metadata": {
        "id": "Zr5qrzTvo6LW"
      },
      "execution_count": 26,
      "outputs": []
    },
    {
      "cell_type": "markdown",
      "source": [
        "For simplicity we will do batch training instead of mini batch training . we will run  each training  step (gradiet computation and weight update) for all data , rather than iterate through the data in small batches"
      ],
      "metadata": {
        "id": "HEsOMdWj1fSp"
      }
    },
    {
      "cell_type": "markdown",
      "source": [
        "The batch training loop"
      ],
      "metadata": {
        "id": "SMMtHHo816PP"
      }
    },
    {
      "cell_type": "code",
      "source": [
        "for step in range(40):\n",
        "  loss = training_step(inputs , targets)\n",
        "  print(f\"loss at step {step } : {loss : 4f}\")"
      ],
      "metadata": {
        "colab": {
          "base_uri": "https://localhost:8080/"
        },
        "id": "SlzE0gL10jXe",
        "outputId": "9e4734fb-e6e3-4dd4-acb5-5591b005c5f1"
      },
      "execution_count": 27,
      "outputs": [
        {
          "output_type": "stream",
          "name": "stdout",
          "text": [
            "loss at step 0 :  7.306995\n",
            "loss at step 1 :  1.102295\n",
            "loss at step 2 :  0.294745\n",
            "loss at step 3 :  0.174412\n",
            "loss at step 4 :  0.148457\n",
            "loss at step 5 :  0.136159\n",
            "loss at step 6 :  0.126461\n",
            "loss at step 7 :  0.117797\n",
            "loss at step 8 :  0.109896\n",
            "loss at step 9 :  0.102669\n",
            "loss at step 10 :  0.096054\n",
            "loss at step 11 :  0.090001\n",
            "loss at step 12 :  0.084460\n",
            "loss at step 13 :  0.079388\n",
            "loss at step 14 :  0.074747\n",
            "loss at step 15 :  0.070499\n",
            "loss at step 16 :  0.066610\n",
            "loss at step 17 :  0.063051\n",
            "loss at step 18 :  0.059794\n",
            "loss at step 19 :  0.056813\n",
            "loss at step 20 :  0.054084\n",
            "loss at step 21 :  0.051587\n",
            "loss at step 22 :  0.049301\n",
            "loss at step 23 :  0.047209\n",
            "loss at step 24 :  0.045294\n",
            "loss at step 25 :  0.043542\n",
            "loss at step 26 :  0.041938\n",
            "loss at step 27 :  0.040469\n",
            "loss at step 28 :  0.039126\n",
            "loss at step 29 :  0.037896\n",
            "loss at step 30 :  0.036770\n",
            "loss at step 31 :  0.035740\n",
            "loss at step 32 :  0.034797\n",
            "loss at step 33 :  0.033934\n",
            "loss at step 34 :  0.033144\n",
            "loss at step 35 :  0.032421\n",
            "loss at step 36 :  0.031759\n",
            "loss at step 37 :  0.031154\n",
            "loss at step 38 :  0.030599\n",
            "loss at step 39 :  0.030092\n"
          ]
        }
      ]
    },
    {
      "cell_type": "markdown",
      "source": [
        "After 40 steps , te training loss seems to have stabilized around 0.028271"
      ],
      "metadata": {
        "id": "lG9Gv_lp9Z4n"
      }
    },
    {
      "cell_type": "markdown",
      "source": [
        "lets plot how are linear model classifies the training data points . becz our targets are zeros and ones , a give input point will be classified  as\"0\" if its prediction value is below 0.5 and \"1\" if its above 0.5"
      ],
      "metadata": {
        "id": "YtncGVvF9wXE"
      }
    },
    {
      "cell_type": "code",
      "source": [
        "predictions = model(inputs)\n",
        "plt.scatter(inputs[: , 0] , inputs[: , 1] , c = predictions[: , 0] > 0.5)\n",
        "plt.show()"
      ],
      "metadata": {
        "colab": {
          "base_uri": "https://localhost:8080/",
          "height": 265
        },
        "id": "GEV7XMfb2Tex",
        "outputId": "a58e27bd-3d7b-43a7-d06c-3d17be579ce1"
      },
      "execution_count": 28,
      "outputs": [
        {
          "output_type": "display_data",
          "data": {
            "text/plain": [
              "<Figure size 432x288 with 1 Axes>"
            ],
            "image/png": "[encoded data removed]"
          },
          "metadata": {
            "needs_background": "light"
          }
        }
      ]
    },
    {
      "cell_type": "markdown",
      "source": [
        "Recall prediction value for a given point [x , y] is simply predictions = [[w1], [w2]] * [ x , y] = w1 * x + w2 * y + b . thus class 0 is defined as w1*x + w2*y + b < 0.5 , and class 1  as w1*x + w2*y + b > 0.5\n",
        "\n",
        "you will notice that what you are looking at is really the equation of a line in the 2D plane w1*x + w2*y + b = 0.5 \n",
        "\n",
        "Above the line is class 1 and below is class 0 , you may be used to seeing line equations in the format y = a*x =b , in the same format , our line becomes y = -w1 / w2 * x + ( 0.5 - b) / w2"
      ],
      "metadata": {
        "id": "hUbevzEA_fi0"
      }
    },
    {
      "cell_type": "markdown",
      "source": [
        "Plot this line"
      ],
      "metadata": {
        "id": "6Ftr7PljAqif"
      }
    },
    {
      "cell_type": "code",
      "source": [
        "x = np.linspace(-1, 4 , 100) # generate 100 regularly spaced numbers between  -1 and 4  which we will use to plot our line\n",
        "y = -W[0] / W[1] * x + (0.5 - b) / W[1] # this is our lone equation\n",
        "plt.plot( x , y , \"-r\")\n",
        "plt.scatter(inputs[: , 0] , inputs[: , 1] , c = predictions[: , 0] > 0.5)\n",
        "plt.show()"
      ],
      "metadata": {
        "colab": {
          "base_uri": "https://localhost:8080/",
          "height": 265
        },
        "id": "ZHEyPdt9-6vg",
        "outputId": "1f2d7f4e-8bde-4f6b-bf7f-e9bc064c2f63"
      },
      "execution_count": 29,
      "outputs": [
        {
          "output_type": "display_data",
          "data": {
            "text/plain": [
              "<Figure size 432x288 with 1 Axes>"
            ],
            "image/png": "[encoded data removed]"
          },
          "metadata": {
            "needs_background": "light"
          }
        }
      ]
    },
    {
      "cell_type": "markdown",
      "source": [
        "# Layers : The building blocks of deep learning \n",
        "\n",
        "A layer is a data processing module that takes as input one or more tensors and the output one or more tensors\n",
        "\n",
        "Different types of layers are appropriate for different tensor formats and different types of data processing . For instance :                            \n",
        "\n",
        "simple vector data stored in rank- 2 tensor of shape(samples , features) is often processed by densly connected layers  also called fully connected of dense layer.\n",
        "\n",
        " A layer is an object that encapsulate some state(weights) and some computation(a forward pass) . The weights are typically defined in a **build()** ( although they can be created in a constructor , ** __init__() ** ). and the computation is defined in the ** call() ** method. \n",
        "\n",
        "\n",
        " * Building deep learning models in keras is done by clipping together compatible layers to form useful data transformation pipelines\n",
        "\n"
      ],
      "metadata": {
        "id": "W1sN47Nc4nsH"
      }
    },
    {
      "cell_type": "markdown",
      "source": [
        "A dense layer implemented as alayer subclass"
      ],
      "metadata": {
        "id": "t34O2O-06c_j"
      }
    },
    {
      "cell_type": "code",
      "source": [
        "from tensorflow import keras\n",
        "# all keras layers are inherit from the base Layer class\n",
        "class SimpleDense(keras.layers.Layer):\n",
        "  def ___init__(self , units , activation= None):\n",
        "    super().___init__()\n",
        "    self.units =units\n",
        "    self.activation  = activation\n",
        "\n",
        "# Wight creation take place in build method\n",
        "  def build(self, input_shape): \n",
        "    input_dim = input_shape[-1]\n",
        "    self.W = self.add_weight(shape = (input_dim , self.units) , intializer = \"random_normal\") # add weights is a shortcut method for creaing weights . It is also possible to create standalone varables and assign them as layer attributes , like self.W = tf.Variable(tf.random.uniform(w_shape)).\n",
        "    self.b = self.add_weight(shape = (self.units) , intializer = \"zeros\")\n",
        "\n",
        "\n",
        " # we define the forward pass computation in the call() method\n",
        "  def call(self , inputs ):\n",
        "    y = tf.matmul(inputs , self.W ) + self.b \n",
        "    if self.activation is not None:\n",
        "      y = self.activation(y)\n",
        "    return y \n",
        "     \n"
      ],
      "metadata": {
        "id": "Fq5q1rTkBSHd"
      },
      "execution_count": 30,
      "outputs": []
    },
    {
      "cell_type": "markdown",
      "source": [
        " # Automatic Shape reference : Building layers on the fly\n",
        "\n",
        " The notion of layer compatibility here refers specifically to the fact that every layer will only accept input tensors of a certain shape and will return output tensor of a certain shape"
      ],
      "metadata": {
        "id": "Px2xc8aJAoSR"
      }
    },
    {
      "cell_type": "code",
      "source": [
        "from tensorflow.keras import layers\n",
        "layer = layers.Dense(32, activation = \"relu\")  # a dense layer with 32 output units\n",
        "\n",
        "# This layer will return a tensor where the first dimension has been transformed to b 3. it can only be connected to a downstream layer that expects 32 dimensional vectro as input"
      ],
      "metadata": {
        "id": "0h6_1Kt5-cHz"
      },
      "execution_count": 35,
      "outputs": []
    },
    {
      "cell_type": "markdown",
      "source": [
        "Using keras , you do not have to waorry about size compatibility most of the time , necz layers you add to your models are dynamically build to match the shape of the incoming inputs"
      ],
      "metadata": {
        "id": "VuB5yoC3JECW"
      }
    },
    {
      "cell_type": "code",
      "source": [
        "from tensorflow.keras import models\n",
        "from tensorflow.keras import layers \n",
        "model = models.Sequential([\n",
        "    layers.Dense(32, activation = \"relu\"),\n",
        "    layers.Dense(32)\n",
        "])"
      ],
      "metadata": {
        "id": "0NaGtHpO-zto"
      },
      "execution_count": 41,
      "outputs": []
    },
    {
      "cell_type": "markdown",
      "source": [
        "# From layers to models\n",
        "\n",
        "a deep learning model is graph of layers.In keras thats th Model class .\n",
        "Until now you have only seen sequential model ( a subclass of Model ) which are simpl stacks of layers . mapping a single input to single output. \n",
        "There are more network topologies:\n",
        "\n",
        "* Two-Branch networks\n",
        "* Multihead networks\n",
        "* Residual networks"
      ],
      "metadata": {
        "id": "B3CXyyCnKl4_"
      }
    },
    {
      "cell_type": "markdown",
      "source": [
        "The **Compile** step: configuring the learning process\n",
        "\n",
        "Once the model architeture is defined , you still have to choose three  more things:\n",
        "1. loss function - the quatity that will be minimized during training . It represents the measure of success for the task at hand \n",
        "2.  optimizer - Determines how the network will be updated based on the loss function  . It implements a specific variant of SGD\n",
        "3. Metrix - The measures the succes you want to monitor during training and validation , such as classification accuracy\n",
        "\n",
        "once you have picked your oss , optimizer nd matrix you can built -in compile() and fit() method for training your model "
      ],
      "metadata": {
        "id": "qmSMlBL0Mr9_"
      }
    },
    {
      "cell_type": "markdown",
      "source": [
        "The Compile() method configures the training process "
      ],
      "metadata": {
        "id": "v1gc1JaUMr7B"
      }
    },
    {
      "cell_type": "code",
      "source": [
        "model = keras.Sequential([keras.layers.Dense(1)])\n",
        "model.compile(optimizer = \"rmsprop\",\n",
        "              loss = \"mean_squared_error\",\n",
        "              metrics = [\"accuracy\"])"
      ],
      "metadata": {
        "id": "O_iVioiIJnaC"
      },
      "execution_count": 42,
      "outputs": []
    },
    {
      "cell_type": "markdown",
      "source": [
        "Understanding the **fit()** method\n",
        "\n",
        "The fit() method implements the training loop itself.\n"
      ],
      "metadata": {
        "id": "kBWeywtFPsp2"
      }
    },
    {
      "cell_type": "code",
      "source": [
        "history = model.fit(\n",
        "    inputs, targets , epochs = 5 , batch_size = 128\n",
        ")"
      ],
      "metadata": {
        "colab": {
          "base_uri": "https://localhost:8080/"
        },
        "id": "XZZrDDkjO7Oq",
        "outputId": "d86cbc57-6ad5-4448-8499-e4d66765b5bf"
      },
      "execution_count": 43,
      "outputs": [
        {
          "output_type": "stream",
          "name": "stdout",
          "text": [
            "Epoch 1/5\n",
            "16/16 [==============================] - 1s 6ms/step - loss: 2.1647 - accuracy: 0.9655\n",
            "Epoch 2/5\n",
            "16/16 [==============================] - 0s 3ms/step - loss: 1.9959 - accuracy: 0.9640\n",
            "Epoch 3/5\n",
            "16/16 [==============================] - 0s 4ms/step - loss: 1.8564 - accuracy: 0.9630\n",
            "Epoch 4/5\n",
            "16/16 [==============================] - 0s 3ms/step - loss: 1.7250 - accuracy: 0.9620\n",
            "Epoch 5/5\n",
            "16/16 [==============================] - 0s 3ms/step - loss: 1.6000 - accuracy: 0.9615\n"
          ]
        }
      ]
    },
    {
      "cell_type": "code",
      "source": [
        "history.history"
      ],
      "metadata": {
        "colab": {
          "base_uri": "https://localhost:8080/"
        },
        "id": "BJuuuY6qQrvJ",
        "outputId": "a54f3074-52c6-4e75-d0e5-47b6df75cceb"
      },
      "execution_count": 44,
      "outputs": [
        {
          "output_type": "execute_result",
          "data": {
            "text/plain": [
              "{'loss': [2.164687395095825,\n",
              "  1.9958863258361816,\n",
              "  1.8563684225082397,\n",
              "  1.7250237464904785,\n",
              "  1.6000059843063354],\n",
              " 'accuracy': [0.965499997138977,\n",
              "  0.9639999866485596,\n",
              "  0.9629999995231628,\n",
              "  0.9620000123977661,\n",
              "  0.9614999890327454]}"
            ]
          },
          "metadata": {},
          "execution_count": 44
        }
      ]
    },
    {
      "cell_type": "markdown",
      "source": [
        "Monitoring loss and metrics on validation data\n",
        "\n",
        "To keep an ee on how the model does on new data . its standard practice is to reverse a subset of training data as validation data , you won't be training the model on this data , but you wil use it to compute a loss  and metrics value , you do this by using validation_data argument in fit() method"
      ],
      "metadata": {
        "id": "zJw6gdHrQ5Kg"
      }
    },
    {
      "cell_type": "code",
      "source": [
        "model = keras.Sequential([keras.layers.Dense(1)])\n",
        "model.compile(optimizer = \"rmsprop\",\n",
        "              loss = \"mean_squared_error\",\n",
        "              metrics = [\"accuracy\"])\n",
        "\n",
        "indices_permutation = np.random.permutation(len(inputs)) # To avoid having samples from only one class\n",
        "shuffled_inputs = inputs[indices_permutation]            # in the validation  data , shuffle the inputs and targets\n",
        "shuffled_targets = targets[indices_permutation]          # using random indices permutation\n",
        "\n",
        "num_validation_samples = int(0.3 * len(inputs)) # resreve 30% of the training inputs and targets for validation \n",
        "val_inputs = shuffled_inputs[:num_validation_samples]\n",
        "val_targets = shuffled_targets[:num_validation_samples]\n",
        "training_inputs = shuffled_inputs[num_validation_samples:]\n",
        "training_targets = shuffled_targets[num_validation_samples:]\n",
        "\n",
        "model.fit(\n",
        "    training_inputs,training_targets , epochs = 5 , batch_size = 16 , validation_data = (val_inputs , val_targets) # validation data , used only to monitor the validation loss and metrics\n",
        ")\n",
        "\n",
        "\n"
      ],
      "metadata": {
        "colab": {
          "base_uri": "https://localhost:8080/"
        },
        "id": "YCUQSR77QwDh",
        "outputId": "a5a0b051-6eb1-4e4f-abcd-7d1e7ccfe10e"
      },
      "execution_count": 46,
      "outputs": [
        {
          "output_type": "stream",
          "name": "stdout",
          "text": [
            "Epoch 1/5\n",
            "88/88 [==============================] - 1s 5ms/step - loss: 6.7739 - accuracy: 0.0550 - val_loss: 6.3830 - val_accuracy: 0.0583\n",
            "Epoch 2/5\n",
            "88/88 [==============================] - 0s 2ms/step - loss: 5.4900 - accuracy: 0.0729 - val_loss: 5.1544 - val_accuracy: 0.0767\n",
            "Epoch 3/5\n",
            "88/88 [==============================] - 0s 3ms/step - loss: 4.3821 - accuracy: 0.0943 - val_loss: 4.0972 - val_accuracy: 0.0983\n",
            "Epoch 4/5\n",
            "88/88 [==============================] - 0s 3ms/step - loss: 3.4010 - accuracy: 0.1286 - val_loss: 3.1571 - val_accuracy: 0.1433\n",
            "Epoch 5/5\n",
            "88/88 [==============================] - 0s 3ms/step - loss: 2.5679 - accuracy: 0.1714 - val_loss: 2.3595 - val_accuracy: 0.1900\n"
          ]
        },
        {
          "output_type": "execute_result",
          "data": {
            "text/plain": [
              "<keras.callbacks.History at 0x7f15d516ba00>"
            ]
          },
          "metadata": {},
          "execution_count": 46
        }
      ]
    },
    {
      "cell_type": "markdown",
      "source": [
        "The purpose of the validation is to monitor whether  what the model is learning is actually useful on new data , if any of the validation data has been seen by the model during training , your validation loss and metrics will be flawed\n",
        "\n",
        "\n",
        "Call **evaluate()** mathod if you want to calculate the validation loss and metrics after training is complete"
      ],
      "metadata": {
        "id": "igIeRQb_UoNs"
      }
    },
    {
      "cell_type": "code",
      "source": [
        "loss_and_metrics = model.evaluate(val_inputs , val_targets , batch_size = 128)"
      ],
      "metadata": {
        "colab": {
          "base_uri": "https://localhost:8080/"
        },
        "id": "1q4sP5yYUW63",
        "outputId": "2f2960b2-8a75-47ee-e10c-d3c84f497d06"
      },
      "execution_count": 48,
      "outputs": [
        {
          "output_type": "stream",
          "name": "stdout",
          "text": [
            "5/5 [==============================] - 0s 4ms/step - loss: 2.3595 - accuracy: 0.1900\n"
          ]
        }
      ]
    },
    {
      "cell_type": "markdown",
      "source": [
        "Inference : Using a model after training\n",
        "\n",
        "once you have trained ypur model , you are going to use it on new data to make predctions . This is called inference...To do this , a naive approach would simply be to __call__() the model."
      ],
      "metadata": {
        "id": "fqgBFgtfVjXT"
      }
    },
    {
      "cell_type": "code",
      "source": [
        "predictions = model.predict(val_inputs , batch_size = 128)\n",
        "print(predictions[:10])"
      ],
      "metadata": {
        "colab": {
          "base_uri": "https://localhost:8080/"
        },
        "id": "arfNMI2bVY4j",
        "outputId": "351276ee-1380-4e86-d3cb-21ae083af26d"
      },
      "execution_count": 50,
      "outputs": [
        {
          "output_type": "stream",
          "name": "stdout",
          "text": [
            "5/5 [==============================] - 0s 6ms/step\n",
            "[[ 1.6005989]\n",
            " [ 1.9702754]\n",
            " [ 2.079118 ]\n",
            " [ 2.4344354]\n",
            " [-1.459526 ]\n",
            " [-0.7596554]\n",
            " [ 2.4294453]\n",
            " [ 2.7616951]\n",
            " [ 2.157334 ]\n",
            " [ 1.9642761]]\n"
          ]
        }
      ]
    },
    {
      "cell_type": "code",
      "source": [],
      "metadata": {
        "id": "1-nmS-saWIbm"
      },
      "execution_count": null,
      "outputs": []
    }
  ]
}