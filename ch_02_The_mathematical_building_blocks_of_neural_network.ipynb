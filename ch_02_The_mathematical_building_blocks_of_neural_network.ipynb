{
  "nbformat": 4,
  "nbformat_minor": 0,
  "metadata": {
    "colab": {
      "provenance": [],
      "authorship_tag": "ABX9TyNKevZy6Mhrobv1C8iyZypM",
      "include_colab_link": true
    },
    "kernelspec": {
      "name": "python3",
      "display_name": "Python 3"
    },
    "language_info": {
      "name": "python"
    }
  },
  "cells": [
    {
      "cell_type": "markdown",
      "metadata": {
        "id": "view-in-github",
        "colab_type": "text"
      },
      "source": [
        "<a href=\"https://colab.research.google.com/github/radhika3131/Deep_Learning_with_Python/blob/main/ch_02_The_mathematical_building_blocks_of_neural_network.ipynb\" target=\"_parent\"><img src=\"https://colab.research.google.com/assets/colab-badge.svg\" alt=\"Open In Colab\"/></a>"
      ]
    },
    {
      "cell_type": "code",
      "execution_count": null,
      "metadata": {
        "id": "JsMGhxGsawwf"
      },
      "outputs": [],
      "source": [
        "#Loading the mnist dataset in keras\n",
        "from tensorflow.keras.datasets import mnist\n",
        "(train_images, train_labels), (test_images, test_labels) = mnist.load_data()"
      ]
    },
    {
      "cell_type": "code",
      "source": [
        "train_images.shape"
      ],
      "metadata": {
        "colab": {
          "base_uri": "https://localhost:8080/"
        },
        "id": "Ul7egFtgbErd",
        "outputId": "19ba9939-90cb-440e-f1f3-1ff41b76e5fc"
      },
      "execution_count": null,
      "outputs": [
        {
          "output_type": "execute_result",
          "data": {
            "text/plain": [
              "(60000, 28, 28)"
            ]
          },
          "metadata": {},
          "execution_count": 6
        }
      ]
    },
    {
      "cell_type": "code",
      "source": [
        "len(train_labels)"
      ],
      "metadata": {
        "colab": {
          "base_uri": "https://localhost:8080/"
        },
        "id": "ivbuOoYBbsoz",
        "outputId": "154c61f9-a112-4383-e265-0efd327a7804"
      },
      "execution_count": null,
      "outputs": [
        {
          "output_type": "execute_result",
          "data": {
            "text/plain": [
              "60000"
            ]
          },
          "metadata": {},
          "execution_count": 7
        }
      ]
    },
    {
      "cell_type": "code",
      "source": [
        "train_labels"
      ],
      "metadata": {
        "colab": {
          "base_uri": "https://localhost:8080/"
        },
        "id": "oXn_-EEnbxBW",
        "outputId": "8bb6f86d-6702-415d-e3d7-dfb12fbfff4d"
      },
      "execution_count": null,
      "outputs": [
        {
          "output_type": "execute_result",
          "data": {
            "text/plain": [
              "array([5, 0, 4, ..., 5, 6, 8], dtype=uint8)"
            ]
          },
          "metadata": {},
          "execution_count": 8
        }
      ]
    },
    {
      "cell_type": "markdown",
      "source": [
        "The network Architecture"
      ],
      "metadata": {
        "id": "CP9MriCWcVNg"
      }
    },
    {
      "cell_type": "code",
      "source": [
        "from tensorflow import keras\n",
        "from tensorflow.keras import layers\n",
        "# Define Sequential model with 3 layers\n",
        "model = keras.Sequential(\n",
        "    [\n",
        "        layers.Dense(512, activation=\"relu\", name=\"layer1\"),\n",
        "        layers.Dense(10, activation=\"softmax\", name=\"layer2\"),#  it will return an  array of 10 probability score\n",
        "     # Each score will be the probabilty that the current digit image belongs to one of our 10 digit classes\n",
        "        \n",
        "    ]\n",
        ")"
      ],
      "metadata": {
        "id": "Yy7zKMYXb0je"
      },
      "execution_count": null,
      "outputs": []
    },
    {
      "cell_type": "markdown",
      "source": [
        "The compilation step(to make model ready for training)"
      ],
      "metadata": {
        "id": "k_X7NhxsfOdN"
      }
    },
    {
      "cell_type": "code",
      "source": [
        "\n",
        "model.compile(optimizer = \"rmsprop\",\n",
        "              loss = \"sparse_categorical_crossentropy\",\n",
        "              metrics = [\"accuracy\"]\n",
        "              )"
      ],
      "metadata": {
        "id": "nYsSo9SzfVJ7"
      },
      "execution_count": null,
      "outputs": []
    },
    {
      "cell_type": "markdown",
      "source": [
        "Preparing data(reshape the data into the shape model expects and scaling it so that all the values are in the [0,1] )"
      ],
      "metadata": {
        "id": "kwq4mBRvoSu4"
      }
    },
    {
      "cell_type": "code",
      "source": [
        "train_images = train_images.reshape((60000, 28*28)) \n",
        "train_images = train_images.astype(\"float32\")/ 255\n",
        "test_images = test_images.reshape((10000, 28*28)) \n",
        "test_images = test_images.astype(\"float32\")/ 255"
      ],
      "metadata": {
        "id": "nMM6tFPUnoky"
      },
      "execution_count": null,
      "outputs": []
    },
    {
      "cell_type": "code",
      "source": [
        " #fitting the model\n",
        " model.fit(train_images , train_labels , epochs = 5 , batch_size = 128)"
      ],
      "metadata": {
        "id": "rQ3-l10upaPO",
        "colab": {
          "base_uri": "https://localhost:8080/"
        },
        "outputId": "4a2b53f0-72ef-4aac-b238-b2019aaae1d2"
      },
      "execution_count": null,
      "outputs": [
        {
          "output_type": "stream",
          "name": "stdout",
          "text": [
            "Epoch 1/5\n",
            "469/469 [==============================] - 6s 11ms/step - loss: 0.2693 - accuracy: 0.9219\n",
            "Epoch 2/5\n",
            "469/469 [==============================] - 6s 13ms/step - loss: 0.1086 - accuracy: 0.9679\n",
            "Epoch 3/5\n",
            "469/469 [==============================] - 5s 10ms/step - loss: 0.0709 - accuracy: 0.9785\n",
            "Epoch 4/5\n",
            "469/469 [==============================] - 5s 10ms/step - loss: 0.0511 - accuracy: 0.9845\n",
            "Epoch 5/5\n",
            "469/469 [==============================] - 9s 19ms/step - loss: 0.0381 - accuracy: 0.9887\n"
          ]
        },
        {
          "output_type": "execute_result",
          "data": {
            "text/plain": [
              "<keras.callbacks.History at 0x7f5536e0fbb0>"
            ]
          },
          "metadata": {},
          "execution_count": 12
        }
      ]
    },
    {
      "cell_type": "code",
      "source": [
        "#using model to make prediction\n",
        "test_digits = test_images[0:10]\n",
        "predictions  = model.predict(test_digits)\n",
        "predictions[0]"
      ],
      "metadata": {
        "colab": {
          "base_uri": "https://localhost:8080/"
        },
        "id": "N139d0kNsiab",
        "outputId": "5174cacd-fe7e-4f2e-b38c-cc9d5c85cecf"
      },
      "execution_count": null,
      "outputs": [
        {
          "output_type": "stream",
          "name": "stdout",
          "text": [
            "1/1 [==============================] - 0s 29ms/step\n"
          ]
        },
        {
          "output_type": "execute_result",
          "data": {
            "text/plain": [
              "array([8.0299847e-09, 9.2018837e-11, 2.4462832e-07, 2.8374795e-06,\n",
              "       7.8059590e-12, 5.2924536e-09, 1.4608333e-12, 9.9999624e-01,\n",
              "       6.6998398e-09, 6.1418137e-07], dtype=float32)"
            ]
          },
          "metadata": {},
          "execution_count": 14
        }
      ]
    },
    {
      "cell_type": "code",
      "source": [
        "predictions[0].argmax()"
      ],
      "metadata": {
        "colab": {
          "base_uri": "https://localhost:8080/"
        },
        "id": "FjOvVzLYs9xV",
        "outputId": "beceb251-e88a-4fdf-d5b3-346fb7139172"
      },
      "execution_count": null,
      "outputs": [
        {
          "output_type": "execute_result",
          "data": {
            "text/plain": [
              "7"
            ]
          },
          "metadata": {},
          "execution_count": 15
        }
      ]
    },
    {
      "cell_type": "code",
      "source": [
        "predictions[0][7]"
      ],
      "metadata": {
        "colab": {
          "base_uri": "https://localhost:8080/"
        },
        "id": "2--PzyK-t8XO",
        "outputId": "4aa92738-9536-453a-a9d6-86396d537873"
      },
      "execution_count": null,
      "outputs": [
        {
          "output_type": "execute_result",
          "data": {
            "text/plain": [
              "0.99999624"
            ]
          },
          "metadata": {},
          "execution_count": 16
        }
      ]
    },
    {
      "cell_type": "markdown",
      "source": [
        "Evaluvating the model on new data"
      ],
      "metadata": {
        "id": "KsPx615suOpY"
      }
    },
    {
      "cell_type": "code",
      "source": [
        "test_loss , test_acc = model.evaluate(test_images, test_labels)\n",
        "print(f\"test_acc : {test_acc}\")"
      ],
      "metadata": {
        "colab": {
          "base_uri": "https://localhost:8080/"
        },
        "id": "8N0olp9yuA8m",
        "outputId": "6dfee0cd-e9ed-48c1-ae21-724b12151f16"
      },
      "execution_count": null,
      "outputs": [
        {
          "output_type": "stream",
          "name": "stdout",
          "text": [
            "313/313 [==============================] - 1s 4ms/step - loss: 0.0679 - accuracy: 0.9787\n",
            "test_acc : 0.9786999821662903\n"
          ]
        }
      ]
    },
    {
      "cell_type": "code",
      "source": [],
      "metadata": {
        "id": "21s_IepSuq-R"
      },
      "execution_count": null,
      "outputs": []
    },
    {
      "cell_type": "markdown",
      "source": [
        "the test- set accuracy turns out to be 97.8% thats a quite bit lower than the training set accuracy(98.9) this gap between training accuracy and testing accuracy is called overfiiting.\n",
        "till now we have just sawhoe to bulid a simple neural network to classify handwritten digits\n"
      ],
      "metadata": {
        "id": "5Uw-OC4HvXRq"
      }
    },
    {
      "cell_type": "markdown",
      "source": [
        "#Data Representation for neural networks"
      ],
      "metadata": {
        "id": "tD0HG6VX1UwW"
      }
    },
    {
      "cell_type": "markdown",
      "source": [
        "Scalars(rank - 0 tensors)"
      ],
      "metadata": {
        "id": "3hJR6frN1c_l"
      }
    },
    {
      "cell_type": "code",
      "source": [
        "import numpy as np\n",
        "x = np.array(12)\n",
        "x"
      ],
      "metadata": {
        "colab": {
          "base_uri": "https://localhost:8080/"
        },
        "id": "1xo0tW5a1cH5",
        "outputId": "1f45e032-3ca4-4bf0-cdc3-c9e55e7a3c32"
      },
      "execution_count": null,
      "outputs": [
        {
          "output_type": "execute_result",
          "data": {
            "text/plain": [
              "array(12)"
            ]
          },
          "metadata": {},
          "execution_count": 18
        }
      ]
    },
    {
      "cell_type": "code",
      "source": [
        "x.ndim     # this attribute is used for displaying number of axes/dimension of numpy tensor"
      ],
      "metadata": {
        "colab": {
          "base_uri": "https://localhost:8080/"
        },
        "id": "bvwQHIkU16ef",
        "outputId": "eb26b675-b2e7-48d6-eb41-55e304353f10"
      },
      "execution_count": null,
      "outputs": [
        {
          "output_type": "execute_result",
          "data": {
            "text/plain": [
              "0"
            ]
          },
          "metadata": {},
          "execution_count": 19
        }
      ]
    },
    {
      "cell_type": "markdown",
      "source": [
        "Vector(rank-1 tensor)\n",
        "an array of numbers"
      ],
      "metadata": {
        "id": "2jFSzEik2SRa"
      }
    },
    {
      "cell_type": "code",
      "source": [
        "x = np.array([12,6,14,7,3,])\n",
        "x"
      ],
      "metadata": {
        "id": "m-m_PYU92Exn",
        "colab": {
          "base_uri": "https://localhost:8080/"
        },
        "outputId": "2b6449c9-a8e7-4670-88c1-d637e1e64d87"
      },
      "execution_count": null,
      "outputs": [
        {
          "output_type": "execute_result",
          "data": {
            "text/plain": [
              "array([12,  6, 14,  7,  3])"
            ]
          },
          "metadata": {},
          "execution_count": 20
        }
      ]
    },
    {
      "cell_type": "code",
      "source": [
        "x.ndim"
      ],
      "metadata": {
        "colab": {
          "base_uri": "https://localhost:8080/"
        },
        "id": "i3kSR4bJ9qCX",
        "outputId": "f2cad1b9-ed8e-426c-ca57-dd99b5242d6a"
      },
      "execution_count": null,
      "outputs": [
        {
          "output_type": "execute_result",
          "data": {
            "text/plain": [
              "1"
            ]
          },
          "metadata": {},
          "execution_count": 21
        }
      ]
    },
    {
      "cell_type": "markdown",
      "source": [
        "Matrices(rank -2  tensors)"
      ],
      "metadata": {
        "id": "bjb9XhcE-ZZo"
      }
    },
    {
      "cell_type": "code",
      "source": [
        "x = np.array([[5,34,2,3,0],\n",
        "              [5,7,45,32,9],\n",
        "              [2,6,4,12,5]])\n",
        "x"
      ],
      "metadata": {
        "colab": {
          "base_uri": "https://localhost:8080/"
        },
        "id": "JB8lWVpW9sJr",
        "outputId": "6bfec6f7-db70-4c5f-c54e-4e1982cf02f1"
      },
      "execution_count": null,
      "outputs": [
        {
          "output_type": "execute_result",
          "data": {
            "text/plain": [
              "array([[ 5, 34,  2,  3,  0],\n",
              "       [ 5,  7, 45, 32,  9],\n",
              "       [ 2,  6,  4, 12,  5]])"
            ]
          },
          "metadata": {},
          "execution_count": 22
        }
      ]
    },
    {
      "cell_type": "code",
      "source": [
        "x.ndim"
      ],
      "metadata": {
        "colab": {
          "base_uri": "https://localhost:8080/"
        },
        "id": "O-U-np0I_Szc",
        "outputId": "ebd712a8-2392-4491-80c6-a63311c595a5"
      },
      "execution_count": null,
      "outputs": [
        {
          "output_type": "execute_result",
          "data": {
            "text/plain": [
              "2"
            ]
          },
          "metadata": {},
          "execution_count": 23
        }
      ]
    },
    {
      "cell_type": "markdown",
      "source": [
        "Rank - 3 and higher-rank tensor\n",
        "(if you pack some matrices in new array , you obtain a rank -3 tensor)"
      ],
      "metadata": {
        "id": "jt_7KmzZ_ZhV"
      }
    },
    {
      "cell_type": "code",
      "source": [
        "x = np.array([[[5,34,2,3,0],\n",
        "              [5,7,45,32,9],\n",
        "              [2,6,4,12,5]],\n",
        "             [[5,34,2,3,0],\n",
        "              [5,7,45,32,9],\n",
        "              [2,6,4,12,5]],\n",
        "             [[5,34,2,3,0],\n",
        "              [5,7,45,32,9],\n",
        "              [2,6,4,12,5]]])\n",
        "x"
      ],
      "metadata": {
        "colab": {
          "base_uri": "https://localhost:8080/"
        },
        "id": "rYJk8giC_W3Q",
        "outputId": "99dffef8-49e0-49ac-be7e-ee9b545d4ab9"
      },
      "execution_count": null,
      "outputs": [
        {
          "output_type": "execute_result",
          "data": {
            "text/plain": [
              "array([[[ 5, 34,  2,  3,  0],\n",
              "        [ 5,  7, 45, 32,  9],\n",
              "        [ 2,  6,  4, 12,  5]],\n",
              "\n",
              "       [[ 5, 34,  2,  3,  0],\n",
              "        [ 5,  7, 45, 32,  9],\n",
              "        [ 2,  6,  4, 12,  5]],\n",
              "\n",
              "       [[ 5, 34,  2,  3,  0],\n",
              "        [ 5,  7, 45, 32,  9],\n",
              "        [ 2,  6,  4, 12,  5]]])"
            ]
          },
          "metadata": {},
          "execution_count": 24
        }
      ]
    },
    {
      "cell_type": "code",
      "source": [
        "x.ndim"
      ],
      "metadata": {
        "colab": {
          "base_uri": "https://localhost:8080/"
        },
        "id": "6befT1DsADYj",
        "outputId": "650fd2be-e4e4-4ea2-e3ef-07e6c1c1893d"
      },
      "execution_count": null,
      "outputs": [
        {
          "output_type": "execute_result",
          "data": {
            "text/plain": [
              "3"
            ]
          },
          "metadata": {},
          "execution_count": 25
        }
      ]
    },
    {
      "cell_type": "markdown",
      "source": [
        "Key Attributes\n",
        "\n",
        "\n",
        "1.   number of axes\n",
        "2.   shape\n",
        "3.   data type\n",
        "\n",
        "\n",
        "\n",
        "\n",
        "\n",
        "\n"
      ],
      "metadata": {
        "id": "Y2y7xlrKBOOi"
      }
    },
    {
      "cell_type": "code",
      "source": [
        "#To make this more concrete lets look back at the data we proceed in Mnist example, firestw e load dataset\n",
        "from tensorflow.keras.datasets import mnist\n",
        "(train_images, train_labels), (test_images, test_labels) = mnist.load_data()"
      ],
      "metadata": {
        "id": "jv7GLLgSAuS4"
      },
      "execution_count": null,
      "outputs": []
    },
    {
      "cell_type": "code",
      "source": [
        "#Number of axes in train_images tensor\n",
        "train_images.ndim"
      ],
      "metadata": {
        "colab": {
          "base_uri": "https://localhost:8080/"
        },
        "id": "pHvd67hUCC4A",
        "outputId": "bc6149eb-fc64-4fe3-e488-fa836ddff342"
      },
      "execution_count": null,
      "outputs": [
        {
          "output_type": "execute_result",
          "data": {
            "text/plain": [
              "3"
            ]
          },
          "metadata": {},
          "execution_count": 27
        }
      ]
    },
    {
      "cell_type": "code",
      "source": [
        "#shape\n",
        "train_images.shape"
      ],
      "metadata": {
        "colab": {
          "base_uri": "https://localhost:8080/"
        },
        "id": "8Cc8pnnjCLSm",
        "outputId": "6bd5d4e3-6394-4f02-d4a6-18f38a0a92d1"
      },
      "execution_count": null,
      "outputs": [
        {
          "output_type": "execute_result",
          "data": {
            "text/plain": [
              "(60000, 28, 28)"
            ]
          },
          "metadata": {},
          "execution_count": 28
        }
      ]
    },
    {
      "cell_type": "code",
      "source": [
        "#Data type\n",
        "train_images.dtype\n"
      ],
      "metadata": {
        "colab": {
          "base_uri": "https://localhost:8080/"
        },
        "id": "Kysur1zwCPJ9",
        "outputId": "5bfa5b34-717a-4bcc-fe69-ebb3e5012a6e"
      },
      "execution_count": null,
      "outputs": [
        {
          "output_type": "execute_result",
          "data": {
            "text/plain": [
              "dtype('uint8')"
            ]
          },
          "metadata": {},
          "execution_count": 29
        }
      ]
    },
    {
      "cell_type": "code",
      "source": [
        "#displaying the fourth digit\n",
        "import matplotlib.pyplot as plt\n",
        "digit = train_images[4]\n",
        "plt.imshow(digit, cmap = plt.cm.binary)\n",
        "plt.show()"
      ],
      "metadata": {
        "colab": {
          "base_uri": "https://localhost:8080/",
          "height": 265
        },
        "id": "NaGjHxuOCVqE",
        "outputId": "19528080-8acf-42e4-eaa8-f45e6341cd69"
      },
      "execution_count": null,
      "outputs": [
        {
          "output_type": "display_data",
          "data": {
            "text/plain": [
              "<Figure size 432x288 with 1 Axes>"
            ],
            "image/png": "[encoded data removed]"
          },
          "metadata": {
            "needs_background": "light"
          }
        }
      ]
    },
    {
      "cell_type": "code",
      "source": [
        "train_labels[4]"
      ],
      "metadata": {
        "colab": {
          "base_uri": "https://localhost:8080/"
        },
        "id": "09a-V49EDEUC",
        "outputId": "64b0b774-deb0-45ea-cd3b-06062626d8e6"
      },
      "execution_count": null,
      "outputs": [
        {
          "output_type": "execute_result",
          "data": {
            "text/plain": [
              "9"
            ]
          },
          "metadata": {},
          "execution_count": 31
        }
      ]
    },
    {
      "cell_type": "markdown",
      "source": [
        "Manipulating tensors in numpy"
      ],
      "metadata": {
        "id": "HbbT0OHoDfiz"
      }
    },
    {
      "cell_type": "code",
      "source": [
        "# tensor- slicing operation\n",
        "my_slice = train_images[10:100]\n",
        "my_slice.shape"
      ],
      "metadata": {
        "colab": {
          "base_uri": "https://localhost:8080/"
        },
        "id": "2uYJlMH8DOnB",
        "outputId": "bba7f310-c616-4790-8e9d-bf0064147d0b"
      },
      "execution_count": null,
      "outputs": [
        {
          "output_type": "execute_result",
          "data": {
            "text/plain": [
              "(90, 28, 28)"
            ]
          },
          "metadata": {},
          "execution_count": 32
        }
      ]
    },
    {
      "cell_type": "code",
      "source": [
        "# Note : is equivalent to selecting the entire axis\n",
        "my_slice = train_images[10:100 , : ,:] # equivalenet to previous example\n",
        "my_slice.shape"
      ],
      "metadata": {
        "colab": {
          "base_uri": "https://localhost:8080/"
        },
        "id": "Q4jt2H54DwFo",
        "outputId": "541d7765-78b9-44e8-8444-69c2df73f26c"
      },
      "execution_count": null,
      "outputs": [
        {
          "output_type": "execute_result",
          "data": {
            "text/plain": [
              "(90, 28, 28)"
            ]
          },
          "metadata": {},
          "execution_count": 33
        }
      ]
    },
    {
      "cell_type": "code",
      "source": [
        "# equivalent to previous example\n",
        "my_slice = train_images[10:100 , 0:28 ,0:28] \n",
        "my_slice.shape"
      ],
      "metadata": {
        "colab": {
          "base_uri": "https://localhost:8080/"
        },
        "id": "f3HFxfZ8EG5E",
        "outputId": "d31db0b4-7166-45cd-9d59-9315498779cf"
      },
      "execution_count": null,
      "outputs": [
        {
          "output_type": "execute_result",
          "data": {
            "text/plain": [
              "(90, 28, 28)"
            ]
          },
          "metadata": {},
          "execution_count": 34
        }
      ]
    },
    {
      "cell_type": "code",
      "source": [
        "# in order to select 14*14 pixels un the bottom right corner of all image you would do this\n",
        "my_slice = train_images[:,14:,14:] \n",
        "my_slice.shape"
      ],
      "metadata": {
        "colab": {
          "base_uri": "https://localhost:8080/"
        },
        "id": "OzLQ2LyoEZgn",
        "outputId": "b49349ab-3ccb-4afd-86ae-6544ea4795d1"
      },
      "execution_count": null,
      "outputs": [
        {
          "output_type": "execute_result",
          "data": {
            "text/plain": [
              "(60000, 14, 14)"
            ]
          },
          "metadata": {},
          "execution_count": 35
        }
      ]
    },
    {
      "cell_type": "code",
      "source": [
        "# in order to crop the images to patches of 14*14 pixls centered in the middle you'd do this\n",
        "my_slice = train_images[:,7:-7,7:-7] \n",
        "my_slice.shape"
      ],
      "metadata": {
        "colab": {
          "base_uri": "https://localhost:8080/"
        },
        "id": "gsujLWiPE9YG",
        "outputId": "c4c086e8-e2fc-415b-e0fd-3b9232f414ae"
      },
      "execution_count": null,
      "outputs": [
        {
          "output_type": "execute_result",
          "data": {
            "text/plain": [
              "(60000, 14, 14)"
            ]
          },
          "metadata": {},
          "execution_count": 36
        }
      ]
    },
    {
      "cell_type": "markdown",
      "source": [
        "The notation of data Batches\n",
        "deep learning model do'nt process an entire dataset at once . rather , they break the data into small batches"
      ],
      "metadata": {
        "id": "MaGp-qhFFcse"
      }
    },
    {
      "cell_type": "code",
      "source": [
        "batch = train_images[:128]\n",
        "batch.shape"
      ],
      "metadata": {
        "colab": {
          "base_uri": "https://localhost:8080/"
        },
        "id": "2zrMsqWeFQjK",
        "outputId": "be33689e-773e-4a2b-da1a-0c4453673867"
      },
      "execution_count": null,
      "outputs": [
        {
          "output_type": "execute_result",
          "data": {
            "text/plain": [
              "(128, 28, 28)"
            ]
          },
          "metadata": {},
          "execution_count": 37
        }
      ]
    },
    {
      "cell_type": "code",
      "source": [
        "#nth batch\n",
        "n = 3\n",
        "batch = train_images[128 * n:128 * (n+1)]\n",
        "batch.shape"
      ],
      "metadata": {
        "colab": {
          "base_uri": "https://localhost:8080/"
        },
        "id": "dwPO2uQxF0UT",
        "outputId": "2a60998c-54a4-468c-c5f0-18083a1e6e0c"
      },
      "execution_count": null,
      "outputs": [
        {
          "output_type": "execute_result",
          "data": {
            "text/plain": [
              "(128, 28, 28)"
            ]
          },
          "metadata": {},
          "execution_count": 38
        }
      ]
    },
    {
      "cell_type": "markdown",
      "source": [
        "#The gears of neural networks :Tensor operations"
      ],
      "metadata": {
        "id": "Kinb04DX4_lB"
      }
    },
    {
      "cell_type": "code",
      "source": [
        "  # In our initial ex , we built our model by stacking Dense Layers on  top of each other\n",
        "from tensorflow import keras\n",
        "from tensorflow.keras import layers\n",
        "  keras.layers.Dense(512,activation = \"relu\")\n",
        "\n"
      ],
      "metadata": {
        "colab": {
          "base_uri": "https://localhost:8080/"
        },
        "id": "6S-cqBXVGE-T",
        "outputId": "297e1700-25c3-4a4a-d53e-d81d9e8805a9"
      },
      "execution_count": null,
      "outputs": [
        {
          "output_type": "execute_result",
          "data": {
            "text/plain": [
              "<keras.layers.core.dense.Dense at 0x7f5544bf3f70>"
            ]
          },
          "metadata": {},
          "execution_count": 39
        }
      ]
    },
    {
      "cell_type": "code",
      "source": [
        "# This layer can be interpretd as a function,which takes as input a matrix and return another matrix\n",
        "# output = relu(dot(input,W) + b)\n",
        "#Here wW is matrix and b is a vector, both attributes of layer"
      ],
      "metadata": {
        "id": "yVli70rj7l2u"
      },
      "execution_count": null,
      "outputs": []
    },
    {
      "cell_type": "markdown",
      "source": [
        "Element wise operation\n"
      ],
      "metadata": {
        "id": "R048QyZH8WLN"
      }
    },
    {
      "cell_type": "code",
      "source": [
        "#The relu function and addition are element wise operation\n",
        "# naive python implementaion of an element wise operation\n",
        "\n",
        "def naive__relu(x):\n",
        "  assert len(x.shape) == 2\n",
        "  x = x.copy()\n",
        "  for i in range(x.shape[0]):\n",
        "    for j in range(x.shape[1]):\n",
        "      x[i,j] = max(x[i,j],0)\n",
        "  return x\n",
        "# you could do samefor addition"
      ],
      "metadata": {
        "id": "UuPCn4qS8ZU3"
      },
      "execution_count": null,
      "outputs": []
    },
    {
      "cell_type": "markdown",
      "source": [
        "Broadcasting\n",
        "\n",
        "what happen  with addition when the shape of the two tensors being added differ\n",
        "the smaller tensor  will be  \"**broadcast** top match the shape of larger tensor\n",
        "---- Broadcasting involves two steps:\n",
        "1. Axes are added  to the smaller tensor to match  the ndim of the larger tensor \n",
        "2. the smaller tensor is repeated alogside these new axes to match the full shape of the largr tensor"
      ],
      "metadata": {
        "id": "wHDCqi0f9szZ"
      }
    },
    {
      "cell_type": "code",
      "source": [
        " import numpy as np\n",
        " X = np.random.random((32,10))#X is random matrix with shape (32,10) \n",
        " y = np.random.random((10,))# y is random vector with shape  ( 10,) "
      ],
      "metadata": {
        "id": "hYREr2_K9fB1"
      },
      "execution_count": null,
      "outputs": []
    },
    {
      "cell_type": "code",
      "source": [
        "# if we add an empty axis to y, whose shape becomes (1,10)\n",
        "y = np.expand_dims(y , axis = 0)"
      ],
      "metadata": {
        "id": "Cl2UEtusj841"
      },
      "execution_count": null,
      "outputs": []
    },
    {
      "cell_type": "code",
      "source": [
        "# if we repeat y 32 times alongside this new axis, so the we end with  a tensor Y with shape(32,10)\n",
        "# where Y(i, :) == y for i in range(0,32):\n",
        "\n",
        "Y = np.concatenate([y] * 32 , axis = 0)\n",
        "# now we can add X and Y becz they have same shape "
      ],
      "metadata": {
        "id": "-40ERNfokQCt"
      },
      "execution_count": null,
      "outputs": []
    },
    {
      "cell_type": "code",
      "source": [
        "def naive_add_matrix_and_vector(x,y):\n",
        "  assert len(x.shape) == 2\n",
        "  assert len(y.shape) == 1\n",
        "  assert x.shape[1] == y.shape[0]\n",
        "\n",
        "  x =x.copy()\n",
        "  for i in range(x.shape[0]):\n",
        "    for j in range(x.shape[1]):\n",
        "      x[i, j] += y[j]\n",
        "  return x\n"
      ],
      "metadata": {
        "id": "BrNkLXUUlYQH"
      },
      "execution_count": null,
      "outputs": []
    },
    {
      "cell_type": "markdown",
      "source": [
        "Tensor product\n",
        "a tensor product is done using np.dot function"
      ],
      "metadata": {
        "id": "AcMv_ZwOmBjL"
      }
    },
    {
      "cell_type": "code",
      "source": [
        "x = np.random.random((32,))\n",
        "y = np.random.random((32,))\n",
        "z = np.dot(x,y)"
      ],
      "metadata": {
        "id": "uyx2JwE2l_fG"
      },
      "execution_count": null,
      "outputs": []
    },
    {
      "cell_type": "code",
      "source": [
        "# dot product of two vextor x and y \n",
        "def naive_vector_dot(x,y):\n",
        "  assert len(x.shape) == 1\n",
        "  assert len(y.shape) == 1\n",
        "  assert x.shape[0] == y.shape\n",
        "  z = 0.\n",
        "\n",
        "  for i in range (x.shape[0]):\n",
        "    z += x[i] * y[i]\n",
        "  return z"
      ],
      "metadata": {
        "id": "Ulut8QyDoGAd"
      },
      "execution_count": null,
      "outputs": []
    },
    {
      "cell_type": "code",
      "source": [
        "# dot product of matrix and vector\n",
        "def naive_matrix_vector_dot(x,y):\n",
        "  assert len(x.shape) == 2 # x is numpy matrix \n",
        "  assert len(y.shape) == 1 # y is numpy vector\n",
        "  assert x.shape[0] == y.shape[0]# the first dimension of x must be the same as the 0th dimension of y\n",
        "  z = np.zeros(x.shape[0]) # this operation return a vector of 0s with the same shape as y\n",
        "\n",
        "  for i in range (x.shape[0]):\n",
        "    for j in range(y.shape[1]):\n",
        "      z += x[i,j] * y[j]\n",
        "  return z\n"
      ],
      "metadata": {
        "id": "ii_yMnap_NDm"
      },
      "execution_count": null,
      "outputs": []
    },
    {
      "cell_type": "code",
      "source": [
        "# dot product of two matrix\n",
        "def naive_matrix_dot(x,y):\n",
        "  assert len(x.shape) == 2 # x is numpy matrix \n",
        "  assert len(y.shape) == 2 # y is numpy matrix\n",
        "  assert x.shape[1] == y.shape[0]# the first dimension of x must be the same as the 0th dimension of y\n",
        "  z = np.zeros(x.shape[0], y.shape[1]) # this operation return a vector of 0s with the same shape as y\n",
        "\n",
        "  for i in range (x.shape[0]):\n",
        "    for j in range(y.shape[1]):\n",
        "      row_x = x[i,j]\n",
        "      column_y = y[:,j]\n",
        "      z[i,j] = naive_vector_dot(row_x,column_y)\n",
        "  return z"
      ],
      "metadata": {
        "id": "GiZ3VRhaBFQn"
      },
      "execution_count": null,
      "outputs": []
    },
    {
      "cell_type": "markdown",
      "source": [
        "Tensor reshaping\n",
        "\n",
        "\n",
        "Reshaping a tensor means rearranging its rows and columns to match a target shape"
      ],
      "metadata": {
        "id": "Lt1X0rT_CJqx"
      }
    },
    {
      "cell_type": "code",
      "source": [
        "x = np.array([[0.,1],\n",
        "              [2.,3],\n",
        "              [4.,5]])\n",
        "x.shape"
      ],
      "metadata": {
        "colab": {
          "base_uri": "https://localhost:8080/"
        },
        "id": "Pt2FVYIBBZEx",
        "outputId": "8e4d2a8f-6b2a-4239-b88a-2411a2937d87"
      },
      "execution_count": null,
      "outputs": [
        {
          "output_type": "execute_result",
          "data": {
            "text/plain": [
              "(3, 2)"
            ]
          },
          "metadata": {},
          "execution_count": 50
        }
      ]
    },
    {
      "cell_type": "code",
      "source": [
        "x = x.reshape((6,1))\n",
        "x"
      ],
      "metadata": {
        "colab": {
          "base_uri": "https://localhost:8080/"
        },
        "id": "_LUnpr3nCwR5",
        "outputId": "d8df232b-238c-4c01-d71e-4658655ff6c3"
      },
      "execution_count": null,
      "outputs": [
        {
          "output_type": "execute_result",
          "data": {
            "text/plain": [
              "array([[0.],\n",
              "       [1.],\n",
              "       [2.],\n",
              "       [3.],\n",
              "       [4.],\n",
              "       [5.]])"
            ]
          },
          "metadata": {},
          "execution_count": 51
        }
      ]
    },
    {
      "cell_type": "code",
      "source": [
        "# special case of reshaping thats commonly encountered as transposition\n",
        "# transposing a matrix means exchanging its rows with columns sp that [i , :] becomes x[:,i]\n",
        "x = np.zeros((300,20))\n",
        "x = np.transpose(x)\n",
        "x.shape"
      ],
      "metadata": {
        "colab": {
          "base_uri": "https://localhost:8080/"
        },
        "id": "dC-Vj8apC1Hz",
        "outputId": "13435cf9-d149-49c3-ebf8-3eb3be64acab"
      },
      "execution_count": null,
      "outputs": [
        {
          "output_type": "execute_result",
          "data": {
            "text/plain": [
              "(20, 300)"
            ]
          },
          "metadata": {},
          "execution_count": 52
        }
      ]
    },
    {
      "cell_type": "markdown",
      "source": [
        "cratch in TensorFlow"
      ],
      "metadata": {
        "id": "tj7vwQiETx4Q"
      }
    },
    {
      "cell_type": "markdown",
      "source": [
        "#Reimplmenting our first example from scratch in TensorFlow"
      ],
      "metadata": {
        "id": "xKPsUCEkTrS4"
      }
    },
    {
      "cell_type": "markdown",
      "source": [
        " simple python class , NaiveDense thats create two tensorflow variales W and b and exposes a __call__() method that applies the preceding transformaton"
      ],
      "metadata": {
        "id": "Z_QVn71Fg8dP"
      }
    },
    {
      "cell_type": "code",
      "source": [
        "\n",
        "import tensorflow as tf\n",
        "class NaiveDense:\n",
        "  def __init__(self, input_size , output_size , activation):\n",
        "    self.activation = activation\n",
        "\n",
        "    w_shape = (input_size , output_size) # create a matrix\n",
        "    w_initial_value = tf.random.uniform(w_shape, minval = 0 , maxval = 1e-1)\n",
        "    self.W = tf.Variable(w_initial_value)\n",
        "\n",
        "    b_shape =(output_size) # create a vector b o shape(out_size), initiated with zeros\n",
        "    b_initila_value = tf.zeros(b_shape)\n",
        "    self.b = tf.Variable(b_initila_value)\n",
        "\n",
        "  def __call__(self, inputs): # apple the forward bias\n",
        "    return self.activation(tf.matmul(inputs, self.W) + self.b)\n",
        "\n",
        "  @property\n",
        "  def weights(self): # convienece method for retrieving the layers method\n",
        "    return (self.W, self.b)\n",
        "\n",
        "    "
      ],
      "metadata": {
        "id": "d5GWhZAoDabi"
      },
      "execution_count": null,
      "outputs": []
    },
    {
      "cell_type": "markdown",
      "source": [
        "lets create a NaiveSequential class to chain these layers. It wraps a list of layers and expose a __call___() method that simply calls the underlying layers on the inputs\n",
        " it also features a weights property to easily keep track of the layers parameters\n"
      ],
      "metadata": {
        "id": "Sbwb-cOwg2hP"
      }
    },
    {
      "cell_type": "code",
      "source": [
        "\n",
        "class NaiveSequential:\n",
        "  def __init__(self, layers):\n",
        "    self.layers = layers\n",
        "\n",
        "  def __call__(self, inputs):\n",
        "    x = inputs\n",
        "    for layer in self.layers:\n",
        "      x= layer(x)\n",
        "    return x\n",
        "\n",
        "  @property\n",
        "  def weights(self):\n",
        "    weights = []\n",
        "    for layer in self.layers:\n",
        "      weights += layer.weights\n",
        "    return weights"
      ],
      "metadata": {
        "id": "ykSQFfNSbkXk"
      },
      "execution_count": null,
      "outputs": []
    },
    {
      "cell_type": "markdown",
      "source": [
        "using this NaiveDense class and Naivesequential class, we can create a mock keras model \n"
      ],
      "metadata": {
        "id": "5o7-2IiohCQN"
      }
    },
    {
      "cell_type": "code",
      "source": [
        "\n",
        "\n",
        "model = NaiveSequential([\n",
        "    NaiveDense(input_size = 28*28 , output_size = 512 , activation = tf.nn.relu), \n",
        "    NaiveDense(input_size = 512 , output_size = 10, activation = tf.nn.softmax)\n",
        "])\n",
        "\n",
        "assert len(model.weights) == 4"
      ],
      "metadata": {
        "id": "am3BNTDidniE"
      },
      "execution_count": null,
      "outputs": []
    },
    {
      "cell_type": "markdown",
      "source": [
        " we need a way to iterate over the MNISt data in mini batches"
      ],
      "metadata": {
        "id": "_kCHM-DphH5S"
      }
    },
    {
      "cell_type": "code",
      "source": [
        "\n",
        "\n",
        "import math\n",
        "\n",
        "class BatchGenerator:\n",
        "  def __init__(self, images , labels , batch_size = 128):\n",
        "    assert len(images) == lan(labesl)\n",
        "    self.index = 0\n",
        "    self.labels =labels\n",
        "    self.images = images\n",
        "    self.batch_size = batch_size\n",
        "    self.num_batches = math.cell(len(images) / batch_size)\n",
        "\n",
        "  def next(self):\n",
        "    images = self.images[self.index  : self.index + self.batch_size]\n",
        "    labels = self.labels[self.index  : self.index + self.batch_size]\n",
        "    return images , labels"
      ],
      "metadata": {
        "id": "ZHinzw09eiO7"
      },
      "execution_count": null,
      "outputs": []
    },
    {
      "cell_type": "markdown",
      "source": [
        "Running one training step ⁉\n",
        "\n",
        "The most difficult  part of the process is the **training step** updating the weights of the model after running it on one batch of data . we need to:\n",
        "\n",
        "\n",
        "1.   Compute the prediction of the model for the images in the batch\n",
        "2.   Compute the loss value for these prediction , given the actual label\n",
        "3.   compute the gradient of the loss ith regard to the model's weight\n",
        "4.   Move the weight by a small amount in the direction opposite to the gradient\n",
        "\n"
      ],
      "metadata": {
        "id": "KmCB5a96hLoh"
      }
    },
    {
      "cell_type": "code",
      "source": [
        "from numpy.lib.function_base import gradient\n",
        "def one_taining_step(model, image_batch , labels_batch):\n",
        "  with tf.Gradienttape() as tape:\n",
        "    predictions = model(images_batch)  \n",
        "    per_sample_losses = tf.keras.losses.sparse_categorical_crossentropy(labels_batch , predictions)\n",
        "    average_loss = tf.reduce_mean(per_sample_losses)\n",
        "    gradients = tape.gradient(average_loss , model.weights) # compute the gradient of the loss with regard to the wights . The output gradients is a list where eaach entry corresponds to a weight from the modl.weights list\n",
        "    update_weights(gradients , model.weights) # update the weights using gradient \n",
        "    return average_loss\n",
        "\n",
        "  learning_rate = 1e-3\n",
        "  def update_weights(gradients , weights):\n",
        "     for g , w in zip(gradients , weights):\n",
        "       w.assign_sub(g ** learning_rate) # assign_sub is the equivalent of .= for TensorFlow variables\n",
        "\n",
        "# In practice you would  almost never implement a weight update step like this by hand , Instead you would use an optimizer instance from keras\n",
        "from tensorflow.keras import optimizers\n",
        "optimizer = optimizers.SGD(learning_rate=1e-3)\n",
        "\n",
        "def update_weights(gradients , weights):\n",
        "  optimizer.apply_gradient(zip(gradient, weight))"
      ],
      "metadata": {
        "id": "TGaCLtfbglS5"
      },
      "execution_count": null,
      "outputs": []
    },
    {
      "cell_type": "markdown",
      "source": [
        "The full training Loop\n",
        "\n",
        "An epoch of training simply consists of repeating the training step for each batch in the training data ,and the full training loop is simply te reptition of one epoch"
      ],
      "metadata": {
        "id": "AgzyblYU2cLO"
      }
    },
    {
      "cell_type": "code",
      "source": [
        "def fit(model , images , labels , epoches , batch_size = 128):\n",
        "  for epoch_counter in range(epoches):\n",
        "    print(f\"Epoch {epoch_counter}\")\n",
        "    batch_generator = BatchGenerator(images , labels)\n",
        "    for batch_counter in range(batch_generator.num_batches):\n",
        "      images_batch , labels_batch = batch_generator.next()\n",
        "      loss = one_training_step(model , images_batch , labels_batch)\n",
        "      if batch_counter % 100 ==0:\n",
        "        print(f\"loss at batch {batch_counter} : {loss: 2f}\")"
      ],
      "metadata": {
        "id": "GU-OTYO4zHNM"
      },
      "execution_count": null,
      "outputs": []
    },
    {
      "cell_type": "markdown",
      "source": [
        "Evaluating the model \n",
        "\n",
        "we can evaluate the model by taking the argmax of its prediction  over the test images and comparing it to the expected labels"
      ],
      "metadata": {
        "id": "BAx-4Kq87IQ1"
      }
    },
    {
      "cell_type": "code",
      "source": [
        "from tensorflow.keras.datasets import mnist\n",
        "(train_images , train_labels) , (test_images , test_labels) = mnist.load_data()\n",
        "\n",
        "train_images = train_images.reshape((60000, 28*28))\n",
        "train_images = train_images.astype(\"float32\")/ 255\n",
        "test_images = test_images.reshape((10000, 28*28)) \n",
        "test_images = test_images.astype(\"float32\")/ 255\n",
        "\n",
        "fit(model , train_images. train_labels , epoches = 10 , batch_size = 128)"
      ],
      "metadata": {
        "id": "sZxJDtjM-vX2"
      },
      "execution_count": null,
      "outputs": []
    },
    {
      "cell_type": "code",
      "source": [
        "predictions = model(test_images)\n",
        "predictions = predictions.numpy() # calling .numpy() on a TensorFlow  tesnor convrt it into a numpy tensor\n",
        "prediction_labels = np.argmax(predictions , axis = 1)\n",
        "matches = prediction_labels == test_labels\n",
        "print(f\"accuracy :{matches.mean(): 2f}\")"
      ],
      "metadata": {
        "id": "8cZraqg35BZU"
      },
      "execution_count": null,
      "outputs": []
    }
  ]
}