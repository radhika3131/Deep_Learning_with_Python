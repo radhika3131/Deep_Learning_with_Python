{
  "nbformat": 4,
  "nbformat_minor": 0,
  "metadata": {
    "colab": {
      "provenance": [],
      "authorship_tag": "ABX9TyPaHb/xmcQiP/YYYN/jSpvn",
      "include_colab_link": true
    },
    "kernelspec": {
      "name": "python3",
      "display_name": "Python 3"
    },
    "language_info": {
      "name": "python"
    }
  },
  "cells": [
    {
      "cell_type": "markdown",
      "metadata": {
        "id": "view-in-github",
        "colab_type": "text"
      },
      "source": [
        "<a href=\"https://colab.research.google.com/github/radhika3131/Deep_Learning_with_Python/blob/main/ch_06_working_with_keras.ipynb\" target=\"_parent\"><img src=\"https://colab.research.google.com/assets/colab-badge.svg\" alt=\"Open In Colab\"/></a>"
      ]
    },
    {
      "cell_type": "markdown",
      "source": [
        "# Different ways to build keras models\n",
        "1. the sequential model - a python list , its limited to simple stack of layers\n",
        "2. Fuctional API - focuses on graph like model architecture.\n",
        "3. Model subclassing - you write everything yourself from scratch , you wo'nt have access to built in features of keras."
      ],
      "metadata": {
        "id": "WcpFdvLy_PK1"
      }
    },
    {
      "cell_type": "markdown",
      "source": [
        "#The Sequential model\n",
        "simplest way to build keras model is to use sequential model \n",
        "\n",
        "**The Sequential class**"
      ],
      "metadata": {
        "id": "N6FqYXkJ0OpD"
      }
    },
    {
      "cell_type": "code",
      "execution_count": null,
      "metadata": {
        "id": "uoxRm1Pqz0zc"
      },
      "outputs": [],
      "source": [
        "from tensorflow import keras\n",
        "from tensorflow.keras import layers\n",
        "\n",
        "model = keras.Sequential([\n",
        "    layers.Dense(64, activation=\"relu\"),\n",
        "    layers.Dense(10, activation=\"softmax\")\n",
        "]) \n",
        "# now its possible to build the same model incrementally via add method"
      ]
    },
    {
      "cell_type": "code",
      "source": [
        "model = keras.Sequential()\n",
        "model.add(layers.Dense(64, activation=\"relu\"))\n",
        "model.add(layers.Dense(10, activation=\"softmax\"))"
      ],
      "metadata": {
        "id": "b9uqPRQ30ZXs"
      },
      "execution_count": null,
      "outputs": []
    },
    {
      "cell_type": "markdown",
      "source": [
        "the shape of the layers weight depends on the shape of their input: until input shape is known , they can'nt be created\n",
        "\n",
        "as tgis sequential model does'nt have any weights so call its **build()** metod with input shape"
      ],
      "metadata": {
        "id": "JQ2Xyvi4Avgr"
      }
    },
    {
      "cell_type": "code",
      "source": [
        "model.build(input_shape=(None, 3))# now we can retrieve model weight ,None in te input signals that the batch size could be anything\n",
        "model.weights"
      ],
      "metadata": {
        "colab": {
          "base_uri": "https://localhost:8080/"
        },
        "id": "aZO9uMIs0cGh",
        "outputId": "ae530c82-47a6-4f3c-96e9-47592e29aa9e"
      },
      "execution_count": null,
      "outputs": [
        {
          "output_type": "execute_result",
          "data": {
            "text/plain": [
              "[<tf.Variable 'dense_2/kernel:0' shape=(3, 64) dtype=float32, numpy=\n",
              " array([[-0.00409457,  0.11164269,  0.24815696,  0.08273077, -0.08135398,\n",
              "          0.16152352,  0.14274672, -0.06863266,  0.19109452, -0.03168097,\n",
              "         -0.18362902,  0.11070481, -0.02002424, -0.00351009,  0.00319657,\n",
              "          0.03018296, -0.03976983, -0.05349095,  0.21716237,  0.28269577,\n",
              "         -0.20015316, -0.1291666 , -0.24089503, -0.09254918, -0.23666742,\n",
              "          0.13860616,  0.2869382 ,  0.24039191, -0.28179973,  0.01017949,\n",
              "          0.0200935 , -0.06379594, -0.13339037,  0.23317981,  0.11533356,\n",
              "         -0.14659421, -0.26835915,  0.02669963, -0.20979711, -0.25120294,\n",
              "          0.1940282 , -0.28855297,  0.05284083,  0.1582717 , -0.21630135,\n",
              "          0.0225853 , -0.17076436,  0.07137755, -0.2665869 , -0.2079973 ,\n",
              "          0.12470803,  0.0456804 ,  0.25186408, -0.27344394, -0.15120268,\n",
              "          0.17864275, -0.25859398,  0.04176635, -0.04380125, -0.02274185,\n",
              "         -0.09146555,  0.0024243 ,  0.01606396,  0.22036397],\n",
              "        [ 0.04766428, -0.25442737,  0.19159788,  0.08497706,  0.23814559,\n",
              "          0.14496586, -0.08934297,  0.27190304, -0.22885215, -0.2894887 ,\n",
              "         -0.18764645,  0.25354302,  0.03504848, -0.2507646 ,  0.01091737,\n",
              "          0.28628206,  0.11150092,  0.23178834, -0.03422502, -0.12913106,\n",
              "          0.12277237, -0.12566437,  0.28363883, -0.29444757, -0.07640268,\n",
              "          0.20080477, -0.09721251,  0.01463678, -0.00356522,  0.23210812,\n",
              "         -0.09592755,  0.05913475, -0.15977521,  0.05759001,  0.15818688,\n",
              "         -0.17296101,  0.00937805, -0.28027096, -0.05577542,  0.02578032,\n",
              "          0.14822349, -0.07692708, -0.14543717,  0.2945565 ,  0.01886755,\n",
              "          0.28820956, -0.11874703, -0.22257602, -0.11497873,  0.24780738,\n",
              "         -0.00713509,  0.0698196 , -0.06769501, -0.24727271, -0.03564867,\n",
              "         -0.04824969, -0.298328  ,  0.02791169, -0.05545564, -0.02329978,\n",
              "          0.2744854 ,  0.13490584, -0.1994347 ,  0.18972966],\n",
              "        [-0.22029239, -0.23507223,  0.08073655,  0.27493048,  0.09098011,\n",
              "          0.18722   , -0.13312025, -0.18108085,  0.16347107, -0.28496006,\n",
              "         -0.19045511,  0.18747878, -0.00538617,  0.15258062,  0.2568255 ,\n",
              "          0.05189028,  0.25618672,  0.12633431, -0.16720776, -0.00825918,\n",
              "          0.24406558,  0.28832716, -0.22476196, -0.10638352,  0.00792849,\n",
              "          0.09721693, -0.05180009, -0.00680739, -0.17574449, -0.23970938,\n",
              "          0.2776085 , -0.13527058, -0.14423639,  0.2329182 , -0.11688486,\n",
              "          0.06354731,  0.20257318, -0.2508482 , -0.01535225, -0.16395989,\n",
              "         -0.05702244, -0.17248926, -0.04703814,  0.11694095,  0.1643326 ,\n",
              "          0.25052238,  0.13903865,  0.1446639 , -0.24021688, -0.24498945,\n",
              "         -0.2110335 ,  0.23658681,  0.18215597,  0.16102552,  0.00958061,\n",
              "         -0.1931659 ,  0.12960774, -0.23850946,  0.19991934,  0.11994216,\n",
              "          0.13289922, -0.26550427,  0.0440529 , -0.02660725]],\n",
              "       dtype=float32)>,\n",
              " <tf.Variable 'dense_2/bias:0' shape=(64,) dtype=float32, numpy=\n",
              " array([0., 0., 0., 0., 0., 0., 0., 0., 0., 0., 0., 0., 0., 0., 0., 0., 0.,\n",
              "        0., 0., 0., 0., 0., 0., 0., 0., 0., 0., 0., 0., 0., 0., 0., 0., 0.,\n",
              "        0., 0., 0., 0., 0., 0., 0., 0., 0., 0., 0., 0., 0., 0., 0., 0., 0.,\n",
              "        0., 0., 0., 0., 0., 0., 0., 0., 0., 0., 0., 0., 0.], dtype=float32)>,\n",
              " <tf.Variable 'dense_3/kernel:0' shape=(64, 10) dtype=float32, numpy=\n",
              " array([[ 1.64069355e-01, -3.91313285e-02, -9.79876220e-02,\n",
              "         -2.51943201e-01, -1.63239673e-01,  1.71162456e-01,\n",
              "         -2.68976361e-01,  1.26284540e-01, -6.92769885e-02,\n",
              "         -1.11682132e-01],\n",
              "        [-2.74222076e-01,  6.66019022e-02,  2.10879058e-01,\n",
              "          3.31196785e-02,  2.22883016e-01, -1.12926066e-01,\n",
              "          2.06679910e-01,  4.50786054e-02,  2.56918222e-01,\n",
              "         -1.61896348e-01],\n",
              "        [ 2.50093132e-01, -2.11088434e-01,  1.97045207e-02,\n",
              "          6.50343299e-03, -5.78556061e-02, -4.86667603e-02,\n",
              "          1.16717547e-01, -2.13085860e-01,  4.40081954e-02,\n",
              "         -2.00384855e-02],\n",
              "        [ 1.26186013e-02,  2.49138445e-01,  1.94248080e-01,\n",
              "         -1.66942894e-01,  1.44580305e-01,  1.85487002e-01,\n",
              "          7.63267279e-04, -1.36746779e-01, -9.96143073e-02,\n",
              "          2.00483084e-01],\n",
              "        [-2.18843877e-01, -2.51326203e-01,  2.54435986e-01,\n",
              "          1.70432866e-01,  2.17525512e-01, -1.00565836e-01,\n",
              "         -4.45065796e-02, -1.11419261e-01, -1.70750380e-01,\n",
              "          1.48134828e-01],\n",
              "        [ 2.71708935e-01, -7.00213909e-02,  9.24050212e-02,\n",
              "         -2.32611984e-01, -1.35046765e-01,  1.80317104e-01,\n",
              "         -2.37114727e-01,  3.40012312e-02, -4.05033678e-02,\n",
              "          2.66306132e-01],\n",
              "        [-1.64297223e-03, -1.93224907e-01,  1.76584482e-01,\n",
              "          8.94126892e-02, -6.91388398e-02, -9.76418555e-02,\n",
              "          1.62992477e-01,  1.40121609e-01, -1.31285787e-02,\n",
              "         -2.68964678e-01],\n",
              "        [-1.38950661e-01,  2.96968520e-02,  2.29389518e-01,\n",
              "          2.29598612e-01, -2.60434151e-02,  2.30220407e-01,\n",
              "          2.59586781e-01,  1.01490617e-02, -2.80132234e-01,\n",
              "          1.51956677e-02],\n",
              "        [ 8.65445733e-02, -1.05086297e-01,  4.26191390e-02,\n",
              "          2.82666296e-01,  8.78336430e-02,  2.70019561e-01,\n",
              "         -2.27687716e-01,  7.50153065e-02, -2.05565989e-02,\n",
              "          2.02735305e-01],\n",
              "        [ 7.47764707e-02, -1.90067202e-01,  2.26081640e-01,\n",
              "         -1.92969322e-01,  2.25977212e-01, -2.36285329e-02,\n",
              "         -2.26668626e-01,  6.96122646e-04, -2.76161790e-01,\n",
              "          1.30745649e-01],\n",
              "        [ 2.09093928e-01, -1.34226263e-01,  2.33753532e-01,\n",
              "          6.18913472e-02, -1.47444949e-01, -2.81660736e-01,\n",
              "          9.86510515e-03,  2.41242856e-01, -2.58255124e-01,\n",
              "         -4.20515090e-02],\n",
              "        [-2.32311711e-01, -1.16280735e-01, -2.67871797e-01,\n",
              "          2.45106846e-01, -1.95338517e-01,  2.32805043e-01,\n",
              "          2.38221258e-01, -2.84282625e-01, -2.73300618e-01,\n",
              "         -1.85693771e-01],\n",
              "        [-2.78321952e-01,  1.29064173e-01,  1.53603077e-01,\n",
              "          7.54892826e-03, -2.13264614e-01,  1.75182998e-01,\n",
              "         -2.76786447e-01,  3.57448757e-02,  6.94627464e-02,\n",
              "          9.84039009e-02],\n",
              "        [ 9.09503698e-02,  1.46614581e-01, -2.26527765e-01,\n",
              "          2.11530656e-01, -2.64031798e-01, -2.13830680e-01,\n",
              "         -4.77833152e-02, -9.27216709e-02, -2.38005564e-01,\n",
              "          7.02286065e-02],\n",
              "        [ 7.64295757e-02,  1.18342936e-01,  1.72479749e-02,\n",
              "          8.82487297e-02, -1.55599639e-01,  3.72231603e-02,\n",
              "          1.63983405e-01, -1.70491099e-01,  1.69125646e-01,\n",
              "         -1.92265719e-01],\n",
              "        [-8.48241299e-02, -2.77695417e-01, -1.71307743e-01,\n",
              "          1.62599832e-01,  2.30181605e-01, -2.56988704e-02,\n",
              "         -6.37249500e-02, -2.36369371e-01,  9.02426839e-02,\n",
              "          2.70395279e-02],\n",
              "        [ 4.51027155e-02,  1.62168980e-01, -2.57346630e-01,\n",
              "          2.42539555e-01, -1.02776647e-01, -1.17778778e-04,\n",
              "         -2.71634877e-01,  8.48453045e-02,  3.05137038e-02,\n",
              "          2.37219959e-01],\n",
              "        [ 2.02652454e-01, -2.79504448e-01, -2.01388851e-01,\n",
              "          1.86987817e-01,  2.05987126e-01, -1.15874484e-01,\n",
              "          8.08637440e-02, -2.74386108e-01, -7.38580823e-02,\n",
              "          6.42495453e-02],\n",
              "        [-2.80412942e-01, -2.16175437e-01,  3.55972946e-02,\n",
              "          1.60864919e-01, -2.59852111e-02, -1.17905930e-01,\n",
              "          1.13042086e-01,  9.16544497e-02,  2.08003879e-01,\n",
              "          2.13846087e-01],\n",
              "        [-2.01084912e-01, -1.04313657e-01,  2.51480073e-01,\n",
              "         -2.39928454e-01,  2.63209730e-01,  2.52576798e-01,\n",
              "         -2.58066446e-01, -1.58280447e-01, -4.75332141e-02,\n",
              "         -2.64924526e-01],\n",
              "        [-2.69010663e-03,  7.07266927e-02,  2.42465645e-01,\n",
              "         -2.49573052e-01,  1.32603377e-01,  2.53965467e-01,\n",
              "          2.22448796e-01, -4.15052772e-02, -2.44500995e-01,\n",
              "         -9.42890942e-02],\n",
              "        [ 1.53722495e-01, -1.52619317e-01,  4.67959344e-02,\n",
              "         -1.05199680e-01, -8.12974274e-02, -2.70656198e-01,\n",
              "          2.29795188e-01, -1.42061949e-01,  5.56644797e-02,\n",
              "         -1.62627697e-02],\n",
              "        [-1.96729481e-01,  7.31494427e-02,  1.54885054e-01,\n",
              "          2.60249168e-01,  1.14479363e-01,  1.28216445e-01,\n",
              "          7.87103176e-02, -1.96919978e-01, -1.52601585e-01,\n",
              "          2.30565578e-01],\n",
              "        [ 7.46138096e-02, -2.26479560e-01,  2.73013264e-01,\n",
              "          2.47195065e-02, -5.53055555e-02,  9.72856581e-02,\n",
              "         -1.64839745e-01, -1.57958448e-01, -1.68303311e-01,\n",
              "          2.14384705e-01],\n",
              "        [-2.82204479e-01, -7.45804906e-02, -4.24925834e-02,\n",
              "          9.32145417e-02,  2.49419302e-01, -4.58951890e-02,\n",
              "         -2.54300088e-01,  2.67698020e-01,  2.24924296e-01,\n",
              "         -2.54181325e-02],\n",
              "        [-1.90320626e-01,  2.12194890e-01,  2.34310657e-01,\n",
              "         -2.52762944e-01,  3.57329249e-02,  2.74421006e-01,\n",
              "         -3.86176109e-02, -2.03323752e-01,  2.42721140e-02,\n",
              "          7.98300207e-02],\n",
              "        [ 6.05148971e-02, -1.92488730e-01,  1.66353136e-01,\n",
              "         -8.11765194e-02,  9.73165333e-02, -8.00907612e-03,\n",
              "         -1.54363111e-01,  4.93383706e-02,  4.50783372e-02,\n",
              "         -2.53677011e-01],\n",
              "        [ 1.62200779e-01, -7.50891119e-02, -1.01302907e-01,\n",
              "         -2.64914483e-01,  1.99531823e-01,  3.50293517e-03,\n",
              "         -9.56418514e-02, -1.43426657e-02,  1.67416543e-01,\n",
              "          1.17834657e-01],\n",
              "        [-2.40439251e-01,  2.07527280e-02,  4.00987267e-03,\n",
              "          7.45199919e-02, -5.75247854e-02, -1.09675065e-01,\n",
              "         -1.99632645e-02,  2.25101113e-02, -9.83347297e-02,\n",
              "          1.64116949e-01],\n",
              "        [-4.11335081e-02,  1.12492323e-01, -4.77765203e-02,\n",
              "          2.18757659e-01,  1.58444047e-01,  1.80713832e-02,\n",
              "         -8.51035565e-02,  2.62618452e-01,  6.77787364e-02,\n",
              "          4.47442532e-02],\n",
              "        [-1.88524336e-01, -6.34348392e-03, -8.65334272e-03,\n",
              "         -1.45794690e-01,  1.84507817e-01,  1.92855746e-01,\n",
              "          1.46159530e-01, -1.24426946e-01, -1.83878094e-01,\n",
              "          4.37917709e-02],\n",
              "        [-4.66089696e-02, -1.75187811e-01, -6.63140416e-03,\n",
              "          2.55569428e-01, -2.30227306e-01, -4.78094816e-03,\n",
              "          1.69350564e-01, -1.31296813e-02, -8.44517648e-02,\n",
              "         -6.88920617e-02],\n",
              "        [ 8.03232789e-02,  4.59304750e-02, -2.64289021e-01,\n",
              "         -2.34701335e-02, -7.34475553e-02,  2.34554023e-01,\n",
              "          2.32899576e-01, -2.37917453e-01,  1.53654009e-01,\n",
              "          5.13680577e-02],\n",
              "        [ 1.64609253e-02,  4.45302725e-02, -1.49124384e-01,\n",
              "          1.49698108e-01,  2.39038169e-02,  2.27017909e-01,\n",
              "          9.26755667e-02,  2.83943087e-01,  1.17749929e-01,\n",
              "         -1.79882884e-01],\n",
              "        [-5.39039224e-02,  2.50033766e-01, -1.44234881e-01,\n",
              "         -2.55478799e-01, -1.82764560e-01,  9.00586545e-02,\n",
              "         -2.18200088e-01, -1.44340232e-01, -1.92587972e-01,\n",
              "          2.62891799e-01],\n",
              "        [-2.17739314e-01,  1.38119280e-01, -2.36388788e-01,\n",
              "          2.33907193e-01,  1.93997085e-01, -2.08242595e-01,\n",
              "          3.40042710e-02,  2.50221819e-01, -2.75062799e-01,\n",
              "         -2.46381044e-01],\n",
              "        [-1.83119774e-01,  2.58124858e-01,  9.20909643e-02,\n",
              "         -2.05273464e-01, -8.19360018e-02, -2.82625735e-01,\n",
              "          2.47808486e-01,  1.82048082e-01,  3.02296877e-03,\n",
              "         -1.86718702e-02],\n",
              "        [ 2.60817975e-01, -1.64824486e-01, -1.54568478e-01,\n",
              "          7.65568018e-02, -1.05722293e-01,  2.63946205e-01,\n",
              "         -2.46444523e-01, -9.75190550e-02,  4.10817266e-02,\n",
              "          2.61652261e-01],\n",
              "        [-1.61015213e-01, -1.42755643e-01, -8.16531032e-02,\n",
              "         -1.52476877e-01, -1.38279796e-02,  2.21968740e-01,\n",
              "         -8.61319453e-02,  7.58993626e-02, -2.38697141e-01,\n",
              "         -2.53879398e-01],\n",
              "        [ 8.15819502e-02,  1.77127808e-01, -5.91382384e-03,\n",
              "         -2.65487731e-01, -2.31564179e-01,  2.07106858e-01,\n",
              "          6.80482090e-02, -1.69327214e-01,  1.56127959e-01,\n",
              "         -2.76439071e-01],\n",
              "        [ 1.42960787e-01, -2.10448980e-01,  1.54316396e-01,\n",
              "          2.43472457e-02, -1.61960125e-02, -3.10538709e-02,\n",
              "          1.86331391e-01,  7.16150999e-02,  9.55658853e-02,\n",
              "          4.66000736e-02],\n",
              "        [ 1.82756364e-01, -2.25471541e-01,  2.66045421e-01,\n",
              "         -8.93241614e-02, -3.30973566e-02,  1.36157304e-01,\n",
              "          3.67571712e-02,  2.69036144e-01, -2.52579242e-01,\n",
              "          5.78743517e-02],\n",
              "        [-1.26492605e-01, -1.05425715e-03,  7.46222436e-02,\n",
              "         -2.03900754e-01, -1.94068432e-01,  2.45076686e-01,\n",
              "          1.19376600e-01, -3.89720649e-02,  2.30682522e-01,\n",
              "         -1.94266811e-01],\n",
              "        [-6.25226349e-02, -5.65890670e-02,  2.16149390e-02,\n",
              "          2.20786899e-01,  1.07545853e-01,  3.80266309e-02,\n",
              "         -1.44813970e-01,  1.26225352e-02,  8.89822841e-02,\n",
              "         -2.71119773e-02],\n",
              "        [ 2.30881780e-01, -2.82483906e-01,  2.35328585e-01,\n",
              "          1.66992247e-02,  1.12071812e-01,  2.51331300e-01,\n",
              "          9.41118896e-02, -2.37565503e-01,  2.54999399e-02,\n",
              "          1.46199435e-01],\n",
              "        [ 7.63483047e-02,  9.27816033e-02, -2.50197649e-02,\n",
              "         -2.76576817e-01, -1.81581736e-01,  2.59115964e-01,\n",
              "          9.35688615e-02,  2.80267745e-01, -1.44781113e-01,\n",
              "          1.79960340e-01],\n",
              "        [-2.67880350e-01, -1.75252378e-01, -4.31400537e-03,\n",
              "         -1.48290768e-01,  2.26469785e-01, -2.55750418e-01,\n",
              "         -1.82429060e-01, -2.26392806e-01,  8.13577175e-02,\n",
              "         -1.26700073e-01],\n",
              "        [ 2.23846465e-01, -6.49565309e-02, -1.94455057e-01,\n",
              "          2.09959239e-01,  9.54517722e-02, -2.43429095e-01,\n",
              "         -1.71637625e-01, -1.40778378e-01,  1.63690746e-02,\n",
              "         -1.31103233e-01],\n",
              "        [ 1.67673111e-01,  4.68820035e-02,  6.63044155e-02,\n",
              "          2.31566042e-01,  2.62564689e-01,  2.03702360e-01,\n",
              "          1.04789555e-01, -6.23096675e-02,  2.50912160e-01,\n",
              "         -6.00664765e-02],\n",
              "        [ 1.13100529e-01, -1.47283226e-01,  3.94233167e-02,\n",
              "          1.04268730e-01,  2.04938293e-01,  2.59730816e-02,\n",
              "          1.86439186e-01, -2.24896595e-01, -2.17038840e-01,\n",
              "          1.81471676e-01],\n",
              "        [-6.29791319e-02,  1.30192697e-01,  5.71258068e-02,\n",
              "          2.70284265e-01,  1.04086101e-01, -1.36413917e-01,\n",
              "         -2.08215982e-01, -1.14887580e-01,  5.87008893e-02,\n",
              "          6.08102083e-02],\n",
              "        [ 1.35609806e-02, -1.83288276e-01, -2.66236693e-01,\n",
              "          1.22053623e-02, -2.47941881e-01,  4.67473269e-02,\n",
              "         -2.65458137e-01, -2.38534212e-02, -4.00149077e-02,\n",
              "          1.56099170e-01],\n",
              "        [ 6.70078695e-02, -1.18371248e-02,  1.07766151e-01,\n",
              "          2.53744036e-01,  6.50284886e-02,  2.22092360e-01,\n",
              "         -1.86751425e-01,  2.61118442e-01, -1.94045305e-02,\n",
              "         -2.81433463e-01],\n",
              "        [ 1.09882802e-01, -5.21559864e-02,  2.67276466e-02,\n",
              "          8.55901837e-02, -1.06419712e-01, -2.46737868e-01,\n",
              "          1.75535053e-01,  2.51395196e-01,  1.78451568e-01,\n",
              "         -2.64582574e-01],\n",
              "        [ 4.34735119e-02, -2.07714483e-01,  5.91305494e-02,\n",
              "         -1.46366924e-01, -9.79607999e-02, -2.22384021e-01,\n",
              "          1.84656352e-01, -2.34704942e-01, -4.54186648e-02,\n",
              "          1.93718255e-01],\n",
              "        [ 2.32197613e-01,  2.17331737e-01, -6.79822117e-02,\n",
              "          1.87241852e-01, -1.68869436e-01, -1.83766887e-01,\n",
              "          7.51504898e-02, -1.05522558e-01,  1.06402934e-01,\n",
              "         -2.54934579e-01],\n",
              "        [-2.50332862e-01,  1.91518992e-01, -4.21792269e-04,\n",
              "         -7.58137554e-02, -2.07615644e-01, -2.70140171e-01,\n",
              "          1.69660211e-01, -2.30442792e-01,  1.68487221e-01,\n",
              "          2.71401256e-01],\n",
              "        [ 2.21334100e-02, -2.32515514e-01,  2.40417272e-01,\n",
              "          6.68086112e-02, -1.62637904e-01, -1.92217588e-01,\n",
              "         -1.17018968e-01, -2.39130214e-01,  1.35436058e-01,\n",
              "          1.10455453e-02],\n",
              "        [ 3.81496549e-02,  1.38246864e-01,  2.37704724e-01,\n",
              "          2.16054708e-01, -2.17548281e-01,  2.57734388e-01,\n",
              "          2.71432728e-01,  6.78769052e-02, -1.48561984e-01,\n",
              "         -9.90117937e-02],\n",
              "        [ 1.47177935e-01, -1.30499765e-01,  1.35748416e-01,\n",
              "          2.48907477e-01,  1.23426616e-01,  2.35117525e-01,\n",
              "          9.76185799e-02, -2.80616760e-01,  8.56928527e-02,\n",
              "         -2.20284879e-01],\n",
              "        [-4.41542417e-02, -1.78107783e-01, -2.42676467e-01,\n",
              "         -1.82321116e-01, -2.44941786e-01, -3.63215953e-02,\n",
              "         -2.12887153e-01, -7.13147521e-02,  1.53639019e-02,\n",
              "         -1.81517184e-01],\n",
              "        [ 9.54416394e-02,  3.27804983e-02,  1.13095045e-02,\n",
              "          2.28316277e-01,  1.85395002e-01,  6.61152005e-02,\n",
              "          1.99141800e-01, -4.71693277e-03, -2.48563468e-01,\n",
              "          8.60409141e-02],\n",
              "        [-3.15568745e-02,  2.22226232e-01, -2.70460069e-01,\n",
              "          2.79097259e-02,  2.74450094e-01, -1.47736803e-01,\n",
              "          3.74784172e-02, -2.14437604e-01, -4.65919226e-02,\n",
              "          1.64640576e-01],\n",
              "        [-1.92680314e-01,  8.29419196e-02,  2.75463969e-01,\n",
              "          1.28340751e-01,  2.31632203e-01,  2.36770838e-01,\n",
              "         -1.38066277e-01,  2.55242854e-01,  1.82163626e-01,\n",
              "          7.67081976e-02]], dtype=float32)>,\n",
              " <tf.Variable 'dense_3/bias:0' shape=(10,) dtype=float32, numpy=array([0., 0., 0., 0., 0., 0., 0., 0., 0., 0.], dtype=float32)>]"
            ]
          },
          "metadata": {},
          "execution_count": 4
        }
      ]
    },
    {
      "cell_type": "code",
      "source": [
        "model.summary() # for displaying models content"
      ],
      "metadata": {
        "colab": {
          "base_uri": "https://localhost:8080/"
        },
        "id": "qxjp4Cpt0cvC",
        "outputId": "4a2e3d41-3718-4f91-cbd7-1ccb142804e4"
      },
      "execution_count": null,
      "outputs": [
        {
          "output_type": "stream",
          "name": "stdout",
          "text": [
            "Model: \"sequential_1\"\n",
            "_________________________________________________________________\n",
            " Layer (type)                Output Shape              Param #   \n",
            "=================================================================\n",
            " dense_2 (Dense)             (None, 64)                256       \n",
            "                                                                 \n",
            " dense_3 (Dense)             (None, 10)                650       \n",
            "                                                                 \n",
            "=================================================================\n",
            "Total params: 906\n",
            "Trainable params: 906\n",
            "Non-trainable params: 0\n",
            "_________________________________________________________________\n"
          ]
        }
      ]
    },
    {
      "cell_type": "markdown",
      "source": [
        "**Naming models and layers with the name argument**\n",
        "\n",
        "we can give names to everything in Keras - every model , every layer."
      ],
      "metadata": {
        "id": "xzeoM6gDBzbs"
      }
    },
    {
      "cell_type": "code",
      "source": [
        "model = keras.Sequential(name=\"my_example_model\")\n",
        "model.add(layers.Dense(64, activation=\"relu\", name=\"my_first_layer\"))\n",
        "model.add(layers.Dense(10, activation=\"softmax\", name=\"my_last_layer\"))\n",
        "model.build((None, 3))\n",
        "model.summary()"
      ],
      "metadata": {
        "colab": {
          "base_uri": "https://localhost:8080/"
        },
        "id": "KORAKdJB0f_P",
        "outputId": "251d1704-47de-4f68-c81a-f81f43ee1d1f"
      },
      "execution_count": null,
      "outputs": [
        {
          "output_type": "stream",
          "name": "stdout",
          "text": [
            "Model: \"my_example_model\"\n",
            "_________________________________________________________________\n",
            " Layer (type)                Output Shape              Param #   \n",
            "=================================================================\n",
            " my_first_layer (Dense)      (None, 64)                256       \n",
            "                                                                 \n",
            " my_last_layer (Dense)       (None, 10)                650       \n",
            "                                                                 \n",
            "=================================================================\n",
            "Total params: 906\n",
            "Trainable params: 906\n",
            "Non-trainable params: 0\n",
            "_________________________________________________________________\n"
          ]
        }
      ]
    },
    {
      "cell_type": "code",
      "source": [
        "model = keras.Sequential()\n",
        "model.add(keras.Input(shape=(3,)))\n",
        "model.add(layers.Dense(64, activation=\"relu\"))"
      ],
      "metadata": {
        "id": "dWkDIKuj0i5Y"
      },
      "execution_count": null,
      "outputs": []
    },
    {
      "cell_type": "code",
      "source": [
        "model.summary()\n",
        "model.add(layers.Dense(10, activation=\"softmax\"))\n",
        "model.summary()"
      ],
      "metadata": {
        "colab": {
          "base_uri": "https://localhost:8080/"
        },
        "id": "aaa4aczz0lyW",
        "outputId": "f13a3813-27b1-4199-c583-53250b5bb907"
      },
      "execution_count": null,
      "outputs": [
        {
          "output_type": "stream",
          "name": "stdout",
          "text": [
            "Model: \"sequential_2\"\n",
            "_________________________________________________________________\n",
            " Layer (type)                Output Shape              Param #   \n",
            "=================================================================\n",
            " dense_4 (Dense)             (None, 64)                256       \n",
            "                                                                 \n",
            "=================================================================\n",
            "Total params: 256\n",
            "Trainable params: 256\n",
            "Non-trainable params: 0\n",
            "_________________________________________________________________\n",
            "Model: \"sequential_2\"\n",
            "_________________________________________________________________\n",
            " Layer (type)                Output Shape              Param #   \n",
            "=================================================================\n",
            " dense_4 (Dense)             (None, 64)                256       \n",
            "                                                                 \n",
            " dense_5 (Dense)             (None, 10)                650       \n",
            "                                                                 \n",
            "=================================================================\n",
            "Total params: 906\n",
            "Trainable params: 906\n",
            "Non-trainable params: 0\n",
            "_________________________________________________________________\n"
          ]
        }
      ]
    },
    {
      "cell_type": "markdown",
      "source": [
        "#The Functional API\n",
        "A simple example\n",
        "\n",
        "**A simple Functional model with two Dense layers**"
      ],
      "metadata": {
        "id": "QWhJxVltsUY8"
      }
    },
    {
      "cell_type": "code",
      "source": [
        "inputs = keras.Input(shape=(3,), name=\"my_input\")\n",
        "features = layers.Dense(64, activation=\"relu\")(inputs)\n",
        "outputs = layers.Dense(10, activation=\"softmax\")(features)\n",
        "model = keras.Model(inputs=inputs, outputs=outputs)"
      ],
      "metadata": {
        "id": "w8wCvtCD01b7"
      },
      "execution_count": null,
      "outputs": []
    },
    {
      "cell_type": "code",
      "source": [
        "inputs = keras.Input(shape=(3,), name=\"my_input\")\n",
        "inputs.shape\n",
        "inputs.dtype\n",
        "features = layers.Dense(64, activation=\"relu\")(inputs)\n",
        "features.shape\n",
        "outputs = layers.Dense(10, activation=\"softmax\")(features)\n",
        "model = keras.Model(inputs=inputs, outputs=outputs)"
      ],
      "metadata": {
        "id": "dGtHZQ_HsMgo"
      },
      "execution_count": null,
      "outputs": []
    },
    {
      "cell_type": "code",
      "source": [
        "model.summary()"
      ],
      "metadata": {
        "colab": {
          "base_uri": "https://localhost:8080/"
        },
        "id": "tVNJ_6lpsQuv",
        "outputId": "a3375be6-c556-4772-8310-7204470085fd"
      },
      "execution_count": null,
      "outputs": [
        {
          "output_type": "stream",
          "name": "stdout",
          "text": [
            "Model: \"model_1\"\n",
            "_________________________________________________________________\n",
            " Layer (type)                Output Shape              Param #   \n",
            "=================================================================\n",
            " my_input (InputLayer)       [(None, 3)]               0         \n",
            "                                                                 \n",
            " dense_8 (Dense)             (None, 64)                256       \n",
            "                                                                 \n",
            " dense_9 (Dense)             (None, 10)                650       \n",
            "                                                                 \n",
            "=================================================================\n",
            "Total params: 906\n",
            "Trainable params: 906\n",
            "Non-trainable params: 0\n",
            "_________________________________________________________________\n"
          ]
        }
      ]
    },
    {
      "cell_type": "markdown",
      "source": [
        "#Multi-input, multi-output models\n",
        "**A multi-input, multi-output Functional model**"
      ],
      "metadata": {
        "id": "j_-VSoq4s9cu"
      }
    },
    {
      "cell_type": "code",
      "source": [
        "vocabulary_size = 10000\n",
        "num_tags = 100\n",
        "num_departments = 4\n",
        "\n",
        "title = keras.Input(shape=(vocabulary_size,), name=\"title\")\n",
        "text_body = keras.Input(shape=(vocabulary_size,), name=\"text_body\")\n",
        "tags = keras.Input(shape=(num_tags,), name=\"tags\")\n",
        "\n",
        "features = layers.Concatenate()([title, text_body, tags])\n",
        "features = layers.Dense(64, activation=\"relu\")(features)\n",
        "\n",
        "priority = layers.Dense(1, activation=\"sigmoid\", name=\"priority\")(features)\n",
        "department = layers.Dense(\n",
        "    num_departments, activation=\"softmax\", name=\"department\")(features)\n",
        "\n",
        "model = keras.Model(inputs=[title, text_body, tags], outputs=[priority, department])"
      ],
      "metadata": {
        "id": "CMS3WmNtszps"
      },
      "execution_count": null,
      "outputs": []
    },
    {
      "cell_type": "markdown",
      "source": [
        "#Training a multi-input, multi-output model\n",
        "\n",
        "Training a model by providing lists of input & target arrays"
      ],
      "metadata": {
        "id": "16_OAhWYPqLU"
      }
    },
    {
      "cell_type": "code",
      "source": [
        "import numpy as np\n",
        "\n",
        "num_samples = 1280\n",
        "\n",
        "title_data = np.random.randint(0, 2, size=(num_samples, vocabulary_size))\n",
        "text_body_data = np.random.randint(0, 2, size=(num_samples, vocabulary_size))\n",
        "tags_data = np.random.randint(0, 2, size=(num_samples, num_tags))\n",
        "\n",
        "priority_data = np.random.random(size=(num_samples, 1))\n",
        "department_data = np.random.randint(0, 2, size=(num_samples, num_departments))\n",
        "\n",
        "model.compile(optimizer=\"rmsprop\",\n",
        "              loss=[\"mean_squared_error\", \"categorical_crossentropy\"],\n",
        "              metrics=[[\"mean_absolute_error\"], [\"accuracy\"]])\n",
        "model.fit([title_data, text_body_data, tags_data],\n",
        "          [priority_data, department_data],\n",
        "          epochs=1)\n",
        "model.evaluate([title_data, text_body_data, tags_data],\n",
        "               [priority_data, department_data])\n",
        "priority_preds, department_preds = model.predict([title_data, text_body_data, tags_data])"
      ],
      "metadata": {
        "id": "aTprxN_MtBbm"
      },
      "execution_count": null,
      "outputs": []
    },
    {
      "cell_type": "markdown",
      "source": [
        "**The power of the Functional API: Access to layer connectivity**"
      ],
      "metadata": {
        "id": "ewV6tp84bkuo"
      }
    },
    {
      "cell_type": "code",
      "source": [
        "keras.utils.plot_model(model, \"ticket_classifier.png\")\n",
        "keras.utils.plot_model(model, \"ticket_classifier_with_shape_info.png\", show_shapes=True)"
      ],
      "metadata": {
        "id": "C-g7zHtobj7d"
      },
      "execution_count": null,
      "outputs": []
    },
    {
      "cell_type": "markdown",
      "source": [
        "**Retrieving the inputs or outputs of a layer in a Functional model**"
      ],
      "metadata": {
        "id": "Rf0y2FOwGhAr"
      }
    },
    {
      "cell_type": "code",
      "source": [
        "model.layers\n",
        "model.layers[3].input\n",
        "model.layers[3].output"
      ],
      "metadata": {
        "id": "wtoZT020baNB"
      },
      "execution_count": null,
      "outputs": []
    },
    {
      "cell_type": "code",
      "source": [
        "features = model.layers[4].output\n",
        "difficulty = layers.Dense(3, activation=\"softmax\", name=\"difficulty\")(features)\n",
        "\n",
        "new_model = keras.Model(\n",
        "    inputs=[title, text_body, tags],\n",
        "    outputs=[priority, department, difficulty])\n",
        "keras.utils.plot_model(new_model, \"updated_ticket_classifier.png\", show_shapes=True)"
      ],
      "metadata": {
        "id": "7bGWgLLE8mNJ"
      },
      "execution_count": null,
      "outputs": []
    },
    {
      "cell_type": "code",
      "source": [
        "class CustomerTicketModel(keras.Model):\n",
        "\n",
        "    def __init__(self, num_departments):\n",
        "        super().__init__()\n",
        "        self.concat_layer = layers.Concatenate()\n",
        "        self.mixing_layer = layers.Dense(64, activation=\"relu\")\n",
        "        self.priority_scorer = layers.Dense(1, activation=\"sigmoid\")\n",
        "        self.department_classifier = layers.Dense(\n",
        "            num_departments, activation=\"softmax\")\n",
        "\n",
        "    def call(self, inputs):\n",
        "        title = inputs[\"title\"]\n",
        "        text_body = inputs[\"text_body\"]\n",
        "        tags = inputs[\"tags\"]\n",
        "\n",
        "        features = self.concat_layer([title, text_body, tags])\n",
        "        features = self.mixing_layer(features)\n",
        "        priority = self.priority_scorer(features)\n",
        "        department = self.department_classifier(features)\n",
        "        return priority, department"
      ],
      "metadata": {
        "id": "5uhGGd8qKXlv"
      },
      "execution_count": null,
      "outputs": []
    },
    {
      "cell_type": "code",
      "source": [
        "model = CustomerTicketModel(num_departments=4)\n",
        "\n",
        "priority, department = model(\n",
        "    {\"title\": title_data, \"text_body\": text_body_data, \"tags\": tags_data})"
      ],
      "metadata": {
        "id": "9IH2JaE4ObPZ"
      },
      "execution_count": null,
      "outputs": []
    }
  ]
}