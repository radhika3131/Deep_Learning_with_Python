{
  "nbformat": 4,
  "nbformat_minor": 0,
  "metadata": {
    "colab": {
      "provenance": [],
      "authorship_tag": "ABX9TyPLRTqlZbLyHkAZ6qMEP+FZ",
      "include_colab_link": true
    },
    "kernelspec": {
      "name": "python3",
      "display_name": "Python 3"
    },
    "language_info": {
      "name": "python"
    }
  },
  "cells": [
    {
      "cell_type": "markdown",
      "metadata": {
        "id": "view-in-github",
        "colab_type": "text"
      },
      "source": [
        "<a href=\"https://colab.research.google.com/github/radhika3131/Deep_Learning_with_Python/blob/main/ch_06_working_with_keras.ipynb\" target=\"_parent\"><img src=\"https://colab.research.google.com/assets/colab-badge.svg\" alt=\"Open In Colab\"/></a>"
      ]
    },
    {
      "cell_type": "markdown",
      "source": [
        "# Different ways to build keras models\n",
        "1. the sequential model - a python list , its limited to simple stack of layers\n",
        "2. Fuctional API - focuses on graph like model architecture.\n",
        "3. Model subclassing - you write everything yourself from scratch , you wo'nt have access to built in features of keras."
      ],
      "metadata": {
        "id": "WcpFdvLy_PK1"
      }
    },
    {
      "cell_type": "markdown",
      "source": [
        ".\n",
        "#The Sequential model\n",
        "simplest way to build keras model is to use sequential model \n",
        "Can only express model which has single input and single output\n",
        "\n",
        "**The Sequential class**"
      ],
      "metadata": {
        "id": "N6FqYXkJ0OpD"
      }
    },
    {
      "cell_type": "code",
      "execution_count": 2,
      "metadata": {
        "id": "uoxRm1Pqz0zc"
      },
      "outputs": [],
      "source": [
        "from tensorflow import keras\n",
        "from tensorflow.keras import layers\n",
        "\n",
        "model = keras.Sequential([\n",
        "    layers.Dense(64, activation=\"relu\"),\n",
        "    layers.Dense(10, activation=\"softmax\")\n",
        "]) \n",
        "# now its possible to build the same model incrementally via add method"
      ]
    },
    {
      "cell_type": "code",
      "source": [
        "model = keras.Sequential()\n",
        "model.add(layers.Dense(64, activation=\"relu\"))\n",
        "model.add(layers.Dense(10, activation=\"softmax\"))"
      ],
      "metadata": {
        "id": "b9uqPRQ30ZXs"
      },
      "execution_count": 3,
      "outputs": []
    },
    {
      "cell_type": "markdown",
      "source": [
        "the shape of the layers weight depends on the shape of their input: until input shape is known , they can'nt be created\n",
        "\n",
        "as tgis sequential model does'nt have any weights so call its **build()** metod with input shape"
      ],
      "metadata": {
        "id": "JQ2Xyvi4Avgr"
      }
    },
    {
      "cell_type": "code",
      "source": [
        "model.build(input_shape=(None, 3))# now we can retrieve model weight ,None in te input signals that the batch size could be anything\n",
        "model.weights"
      ],
      "metadata": {
        "colab": {
          "base_uri": "https://localhost:8080/"
        },
        "id": "aZO9uMIs0cGh",
        "outputId": "43e04bd9-862c-492d-e56b-3250c7b77efb"
      },
      "execution_count": 4,
      "outputs": [
        {
          "output_type": "execute_result",
          "data": {
            "text/plain": [
              "[<tf.Variable 'dense_2/kernel:0' shape=(3, 64) dtype=float32, numpy=\n",
              " array([[ 0.23451692,  0.29499352,  0.01883072,  0.04165083,  0.29276478,\n",
              "         -0.10065481,  0.13216534,  0.28997606,  0.137606  ,  0.13968328,\n",
              "         -0.19770858,  0.01153409, -0.01569915,  0.11905873,  0.28038454,\n",
              "         -0.14941771, -0.13278198, -0.1881598 , -0.01248637,  0.15127823,\n",
              "         -0.07627539,  0.26316434,  0.0975365 , -0.2386361 ,  0.1072481 ,\n",
              "          0.05478105, -0.2495786 , -0.01555431,  0.24314839, -0.16593179,\n",
              "         -0.10864194,  0.05606616,  0.15309939,  0.20309776,  0.201684  ,\n",
              "         -0.17891344, -0.09757182,  0.13417625, -0.2355845 ,  0.2817074 ,\n",
              "          0.11279622, -0.09169814, -0.06183688, -0.21881837, -0.14073287,\n",
              "         -0.01433191,  0.19601807, -0.15597518, -0.12495625, -0.00677231,\n",
              "         -0.08310199,  0.1505953 ,  0.27650195, -0.01983765, -0.14311609,\n",
              "         -0.10496776,  0.05430681,  0.19718239,  0.25810248,  0.01203117,\n",
              "          0.2935322 , -0.09698705,  0.12682968, -0.28263286],\n",
              "        [-0.26165748, -0.07497066,  0.01625594,  0.19671822, -0.12241271,\n",
              "         -0.27337545,  0.18445942, -0.02799195,  0.16649437, -0.1497888 ,\n",
              "         -0.00397298,  0.03470168, -0.06820287, -0.08936308, -0.14353412,\n",
              "         -0.17990953,  0.15112469, -0.23648262,  0.15245041,  0.11245391,\n",
              "          0.17235854, -0.00912398,  0.26638877, -0.1093739 ,  0.29822236,\n",
              "          0.16241801, -0.2182881 ,  0.21766037, -0.12937051,  0.18989104,\n",
              "         -0.08954017, -0.04209441, -0.05486782,  0.16034207,  0.14739323,\n",
              "          0.2850613 , -0.15782237,  0.17373583, -0.10772114, -0.10262443,\n",
              "         -0.23193994, -0.06885234, -0.1147774 , -0.19322482, -0.22844961,\n",
              "          0.10268608,  0.12060592,  0.16892147,  0.19108126, -0.08229277,\n",
              "         -0.0345746 , -0.15042992,  0.24026752,  0.12480393,  0.06061199,\n",
              "         -0.07517336, -0.0793671 ,  0.2795031 , -0.08996733,  0.14917243,\n",
              "          0.25157422,  0.12773979,  0.14965916,  0.19420356],\n",
              "        [ 0.04280469, -0.20018056, -0.2701723 , -0.11313291, -0.24584512,\n",
              "          0.12043238, -0.29629788, -0.1310516 ,  0.25085086,  0.16222236,\n",
              "          0.25728106,  0.0735268 , -0.10649896,  0.02014515, -0.12009349,\n",
              "          0.08121413, -0.13011095, -0.04654828, -0.11680944, -0.13474047,\n",
              "          0.06151226, -0.16923575, -0.02302217,  0.05371183,  0.04584801,\n",
              "         -0.17313452,  0.27308542,  0.0968253 ,  0.29210722,  0.27352786,\n",
              "          0.18752807, -0.2642938 ,  0.08569461, -0.08789568,  0.11938131,\n",
              "         -0.10753185, -0.25494635, -0.11499336, -0.15050447, -0.15292643,\n",
              "         -0.28075212, -0.02877441, -0.24800673, -0.09202385, -0.1389651 ,\n",
              "          0.10254082,  0.08768576, -0.10094513,  0.13597342,  0.20338005,\n",
              "         -0.11592859, -0.25377575,  0.08636948,  0.12121093, -0.03322023,\n",
              "          0.09548518,  0.1629247 , -0.20524386,  0.0891571 , -0.04181194,\n",
              "         -0.01237029, -0.04787335,  0.03439894,  0.07055098]],\n",
              "       dtype=float32)>,\n",
              " <tf.Variable 'dense_2/bias:0' shape=(64,) dtype=float32, numpy=\n",
              " array([0., 0., 0., 0., 0., 0., 0., 0., 0., 0., 0., 0., 0., 0., 0., 0., 0.,\n",
              "        0., 0., 0., 0., 0., 0., 0., 0., 0., 0., 0., 0., 0., 0., 0., 0., 0.,\n",
              "        0., 0., 0., 0., 0., 0., 0., 0., 0., 0., 0., 0., 0., 0., 0., 0., 0.,\n",
              "        0., 0., 0., 0., 0., 0., 0., 0., 0., 0., 0., 0., 0.], dtype=float32)>,\n",
              " <tf.Variable 'dense_3/kernel:0' shape=(64, 10) dtype=float32, numpy=\n",
              " array([[ 0.16209778,  0.13568893, -0.08504653,  0.20821849, -0.08920413,\n",
              "         -0.13417643, -0.08238101,  0.01196906, -0.22545382, -0.05928481],\n",
              "        [ 0.1399335 , -0.1127757 , -0.19379336, -0.17008913,  0.04630306,\n",
              "         -0.28326306,  0.15622848, -0.14088245,  0.05179468, -0.22014904],\n",
              "        [ 0.2319611 , -0.05234098,  0.01381183,  0.10847697,  0.2076574 ,\n",
              "          0.16747609,  0.00774229,  0.25143012,  0.1972973 ,  0.14257967],\n",
              "        [-0.19532046, -0.261619  , -0.02101839,  0.15858853, -0.17611042,\n",
              "          0.22010145,  0.09598896,  0.25372896, -0.22300717, -0.27254826],\n",
              "        [-0.05286175,  0.24636015, -0.10536261, -0.194359  , -0.28250575,\n",
              "         -0.04004396,  0.2291446 ,  0.15548381,  0.09918696,  0.14203736],\n",
              "        [-0.09474748,  0.03416702, -0.0645289 , -0.18504366,  0.1418187 ,\n",
              "          0.1190826 , -0.1473317 ,  0.2743974 , -0.05667584, -0.08346045],\n",
              "        [-0.11621964, -0.10488448, -0.07141332, -0.20072605, -0.07590371,\n",
              "         -0.04473245, -0.0707971 ,  0.19587374,  0.2557349 , -0.00990319],\n",
              "        [ 0.25429448, -0.25022215, -0.19992048, -0.14237309,  0.16604838,\n",
              "          0.11106786,  0.21486735, -0.15685043,  0.10819325, -0.09436499],\n",
              "        [ 0.09194189, -0.06160343,  0.22938386, -0.28057256, -0.03445172,\n",
              "          0.02268562, -0.03551692,  0.09195167,  0.1187396 , -0.04703145],\n",
              "        [ 0.11066306, -0.10690294, -0.13404357, -0.07106614,  0.2619814 ,\n",
              "          0.13158435,  0.05125794,  0.0537543 , -0.12921761,  0.16541442],\n",
              "        [ 0.03300202,  0.21284568, -0.26102206, -0.08593717, -0.2209111 ,\n",
              "          0.08869708,  0.28260133,  0.21394596, -0.05969778,  0.24963322],\n",
              "        [ 0.1552012 , -0.2683431 , -0.14274648,  0.12295884,  0.06268984,\n",
              "          0.19664368, -0.22979704,  0.02776989, -0.24652198,  0.07846326],\n",
              "        [ 0.04909331,  0.24057356, -0.21841563,  0.10321134,  0.19113556,\n",
              "          0.17763907,  0.21184716,  0.02065736,  0.18675855,  0.18045661],\n",
              "        [ 0.15713114,  0.1336824 ,  0.05102888, -0.24230918, -0.14983062,\n",
              "          0.06531423, -0.09657051, -0.20451406, -0.28356123,  0.1838857 ],\n",
              "        [ 0.1382533 ,  0.08762273,  0.02256265, -0.2265364 ,  0.1247175 ,\n",
              "          0.07112771,  0.10860533, -0.269991  ,  0.09487131,  0.12707794],\n",
              "        [ 0.0144783 , -0.09209302,  0.25803825,  0.21680668,  0.03826675,\n",
              "         -0.11100636, -0.10731816, -0.06572123,  0.27285776, -0.09610011],\n",
              "        [ 0.05497602, -0.08561552, -0.25973666, -0.03772168, -0.24150315,\n",
              "         -0.24717262, -0.09823222,  0.08812252,  0.1768944 ,  0.19483668],\n",
              "        [ 0.00151467, -0.02293885, -0.02932563, -0.02125239,  0.19256896,\n",
              "          0.15834352, -0.12792106,  0.17020008, -0.12260894, -0.24062201],\n",
              "        [ 0.08487579,  0.25934032, -0.28347   , -0.27350354,  0.2018809 ,\n",
              "          0.22718945,  0.15946653,  0.22519931,  0.01195484,  0.25739637],\n",
              "        [-0.26873386, -0.04873694, -0.17303261, -0.17871988, -0.2657664 ,\n",
              "          0.17675579,  0.16180736, -0.08381991, -0.14405586, -0.10981946],\n",
              "        [-0.17279017,  0.2766768 ,  0.10186076,  0.01151106, -0.15984821,\n",
              "         -0.08931839, -0.12558126,  0.04379496, -0.09367803,  0.26136872],\n",
              "        [ 0.24623325, -0.07702199,  0.22274187,  0.18154034, -0.18571869,\n",
              "         -0.13084288,  0.2449545 ,  0.04451105, -0.28074682,  0.2309312 ],\n",
              "        [-0.241092  ,  0.06232521,  0.21521196,  0.00271815,  0.09996063,\n",
              "         -0.22476156, -0.11866052, -0.03592622, -0.16634968, -0.01252022],\n",
              "        [ 0.1021114 , -0.12816308,  0.27628502, -0.26037672,  0.21537313,\n",
              "         -0.12091811,  0.06895208, -0.23042372, -0.12890464, -0.05143085],\n",
              "        [ 0.22663388,  0.09035566,  0.20532322,  0.21704319, -0.10152851,\n",
              "          0.26414558,  0.22019622, -0.13470665, -0.07450275,  0.20249537],\n",
              "        [ 0.16304761, -0.22302856, -0.28392416,  0.28126237, -0.23280391,\n",
              "         -0.09609602, -0.17340836,  0.2327703 ,  0.05328041, -0.00425258],\n",
              "        [ 0.20146367, -0.14760292,  0.19457123,  0.01106855,  0.00105718,\n",
              "         -0.04364222,  0.04492742,  0.02663708,  0.27022567, -0.16706896],\n",
              "        [-0.28445852,  0.17023158,  0.0314714 ,  0.05941018, -0.01439744,\n",
              "         -0.0227218 , -0.18152335,  0.07511932,  0.20697606, -0.25506026],\n",
              "        [ 0.21204424, -0.03174642,  0.07794392,  0.0153248 , -0.11193916,\n",
              "         -0.12681101, -0.1782606 , -0.07278427, -0.1470748 , -0.25827506],\n",
              "        [ 0.00733283, -0.05732241,  0.25046572, -0.22235218, -0.21933186,\n",
              "          0.28026035, -0.14638886,  0.05127689,  0.14763007, -0.1627546 ],\n",
              "        [ 0.13182929, -0.25783765, -0.07438795,  0.17371583, -0.12431847,\n",
              "          0.0547668 ,  0.00744683, -0.01594776,  0.10359755, -0.10181901],\n",
              "        [ 0.15436149,  0.2014226 , -0.2320299 ,  0.23332796,  0.0151003 ,\n",
              "          0.13389143, -0.21826077, -0.05676225, -0.23293038,  0.15545267],\n",
              "        [-0.11963636,  0.24020454,  0.11965841,  0.11305302, -0.13382436,\n",
              "         -0.21826246,  0.15405408, -0.26711842, -0.21101001,  0.19047594],\n",
              "        [-0.19312248, -0.2464822 , -0.13859051,  0.15418944,  0.09356362,\n",
              "         -0.09084027,  0.05189168, -0.18310326,  0.048998  , -0.00439841],\n",
              "        [-0.17757913,  0.14502394,  0.11861557,  0.02732834, -0.16599746,\n",
              "          0.13901713,  0.25073048,  0.04749864, -0.0905776 ,  0.2654446 ],\n",
              "        [ 0.24820063,  0.08765036, -0.15600488, -0.25347498, -0.21081266,\n",
              "         -0.1612865 ,  0.09329858,  0.25442955,  0.09893543, -0.17081344],\n",
              "        [-0.13289271, -0.206992  , -0.11044337,  0.16283852,  0.26331344,\n",
              "          0.24978277, -0.03577578, -0.04834157,  0.06681827, -0.00331339],\n",
              "        [-0.23580304, -0.14289264, -0.003539  ,  0.19495812,  0.27082524,\n",
              "          0.2820188 , -0.05485213, -0.2336629 , -0.03872739,  0.09899014],\n",
              "        [ 0.1912266 ,  0.25785366,  0.27810463,  0.2274901 , -0.04487054,\n",
              "         -0.1679875 ,  0.2063899 , -0.09348448, -0.07265916,  0.07032323],\n",
              "        [ 0.2614483 ,  0.23806307, -0.2348033 , -0.22055577,  0.16745016,\n",
              "         -0.27164745,  0.21077994, -0.00333911, -0.03643315, -0.20946643],\n",
              "        [-0.09316315, -0.11151575, -0.2392844 , -0.06095026, -0.15973164,\n",
              "          0.08342317,  0.27187797, -0.03938048,  0.1915839 , -0.125607  ],\n",
              "        [-0.16123667, -0.1806097 , -0.10071059, -0.12582873,  0.240607  ,\n",
              "         -0.20935306, -0.24440071, -0.11082612, -0.14849879, -0.02624422],\n",
              "        [-0.26296452, -0.04957558,  0.26964614, -0.13056771,  0.08042899,\n",
              "          0.24544075, -0.10492358, -0.1053195 ,  0.23685047,  0.19822174],\n",
              "        [ 0.11099428, -0.05576245,  0.08471701,  0.24749646, -0.16556853,\n",
              "          0.23905823, -0.09039918,  0.13267818, -0.20987892, -0.13169156],\n",
              "        [ 0.00456479,  0.19154853,  0.23612544,  0.2447066 , -0.13337235,\n",
              "         -0.10592765,  0.26192877,  0.09795702,  0.12915245,  0.17621714],\n",
              "        [ 0.04514977, -0.10391909, -0.01121765, -0.04145163,  0.24650571,\n",
              "         -0.22382727,  0.20731711, -0.28176096,  0.08316562, -0.25529656],\n",
              "        [ 0.0449281 , -0.2488909 , -0.09857561, -0.02852502, -0.0174109 ,\n",
              "          0.1577892 ,  0.20556194,  0.19905564, -0.14408994,  0.21216393],\n",
              "        [ 0.18896428, -0.15948215, -0.05861406,  0.14356834,  0.04245755,\n",
              "          0.0413526 , -0.26119852, -0.05867977, -0.08114053,  0.01368508],\n",
              "        [ 0.26319793,  0.04968286,  0.03529212, -0.06863707, -0.2013289 ,\n",
              "          0.01286635, -0.12312205,  0.12086439, -0.09760445, -0.2031672 ],\n",
              "        [ 0.20638305,  0.01451352, -0.04085381,  0.19594762,  0.02574998,\n",
              "         -0.011112  , -0.1940296 , -0.17624702, -0.2776016 , -0.17674309],\n",
              "        [ 0.05532259, -0.14599939, -0.19808279,  0.0029265 ,  0.09591097,\n",
              "         -0.1403963 , -0.15775573,  0.26146796,  0.24747434, -0.06246303],\n",
              "        [ 0.0103116 ,  0.24319163,  0.26755658, -0.00245738, -0.24775484,\n",
              "         -0.14736097,  0.10065594,  0.07920876, -0.04081796, -0.1310889 ],\n",
              "        [-0.21894103, -0.20747958, -0.1010285 , -0.13780089,  0.16575211,\n",
              "         -0.10947084,  0.20388609, -0.22300956,  0.19917798,  0.06642374],\n",
              "        [-0.28385907,  0.22810182, -0.28032422,  0.06845757, -0.27985978,\n",
              "         -0.1328496 , -0.18264224, -0.00517905,  0.27883568, -0.18563065],\n",
              "        [ 0.02777961,  0.0482899 ,  0.03309274,  0.12485743,  0.00490987,\n",
              "          0.1548976 , -0.2778927 , -0.05592009,  0.20587882,  0.15712401],\n",
              "        [-0.11702256, -0.18311107, -0.07545279,  0.03990364, -0.19962034,\n",
              "          0.1748153 ,  0.06059927, -0.2101959 , -0.2824574 , -0.17765442],\n",
              "        [-0.09082539, -0.08952124,  0.03495929,  0.05410257, -0.10578562,\n",
              "          0.2103295 , -0.24543223,  0.12262225,  0.0817728 , -0.08529779],\n",
              "        [ 0.13430697,  0.01080048, -0.2743159 , -0.01503369,  0.20584202,\n",
              "          0.08729178,  0.16031027,  0.23579016,  0.1961259 ,  0.18171296],\n",
              "        [-0.26941633, -0.13835575,  0.0478144 , -0.0269227 , -0.06334884,\n",
              "          0.24344441,  0.13820693, -0.05998875,  0.0572347 , -0.03486824],\n",
              "        [-0.2250247 ,  0.01150748, -0.06697032,  0.02591625, -0.00088927,\n",
              "         -0.22036615,  0.02803174,  0.21066827, -0.17328434,  0.20589444],\n",
              "        [ 0.04372633,  0.18908131,  0.05799845,  0.08002967,  0.09568366,\n",
              "          0.01696017, -0.19269952,  0.25470737,  0.21472988, -0.26297462],\n",
              "        [ 0.15257445, -0.19344169, -0.17666677,  0.11277908,  0.06325862,\n",
              "         -0.06821236, -0.11048186, -0.2039761 ,  0.12009862, -0.23265576],\n",
              "        [-0.08248752, -0.23902994,  0.26795962, -0.28052232,  0.08931839,\n",
              "          0.26768592, -0.14783354, -0.03382587,  0.0196932 , -0.28169468],\n",
              "        [ 0.16485694, -0.06954148,  0.1004757 , -0.1771289 , -0.04012278,\n",
              "          0.22791108, -0.02107024,  0.24799755, -0.24560092, -0.11742243]],\n",
              "       dtype=float32)>,\n",
              " <tf.Variable 'dense_3/bias:0' shape=(10,) dtype=float32, numpy=array([0., 0., 0., 0., 0., 0., 0., 0., 0., 0.], dtype=float32)>]"
            ]
          },
          "metadata": {},
          "execution_count": 4
        }
      ]
    },
    {
      "cell_type": "code",
      "source": [
        "model.summary() # for displaying models content"
      ],
      "metadata": {
        "colab": {
          "base_uri": "https://localhost:8080/"
        },
        "id": "qxjp4Cpt0cvC",
        "outputId": "31750c4a-0ed6-4eae-ca25-cd23b296a9ac"
      },
      "execution_count": 5,
      "outputs": [
        {
          "output_type": "stream",
          "name": "stdout",
          "text": [
            "Model: \"sequential_1\"\n",
            "_________________________________________________________________\n",
            " Layer (type)                Output Shape              Param #   \n",
            "=================================================================\n",
            " dense_2 (Dense)             (None, 64)                256       \n",
            "                                                                 \n",
            " dense_3 (Dense)             (None, 10)                650       \n",
            "                                                                 \n",
            "=================================================================\n",
            "Total params: 906\n",
            "Trainable params: 906\n",
            "Non-trainable params: 0\n",
            "_________________________________________________________________\n"
          ]
        }
      ]
    },
    {
      "cell_type": "markdown",
      "source": [
        "**Naming models and layers with the name argument**\n",
        "\n",
        "we can give names to everything in Keras - every model , every layer."
      ],
      "metadata": {
        "id": "xzeoM6gDBzbs"
      }
    },
    {
      "cell_type": "code",
      "source": [
        "model = keras.Sequential(name=\"my_example_model\")\n",
        "model.add(layers.Dense(64, activation=\"relu\", name=\"my_first_layer\"))\n",
        "model.add(layers.Dense(10, activation=\"softmax\", name=\"my_last_layer\"))\n",
        "model.build((None, 3))\n",
        "model.summary()"
      ],
      "metadata": {
        "colab": {
          "base_uri": "https://localhost:8080/"
        },
        "id": "KORAKdJB0f_P",
        "outputId": "8b8cbd13-b2e8-469d-a02e-8fd983053d1e"
      },
      "execution_count": 6,
      "outputs": [
        {
          "output_type": "stream",
          "name": "stdout",
          "text": [
            "Model: \"my_example_model\"\n",
            "_________________________________________________________________\n",
            " Layer (type)                Output Shape              Param #   \n",
            "=================================================================\n",
            " my_first_layer (Dense)      (None, 64)                256       \n",
            "                                                                 \n",
            " my_last_layer (Dense)       (None, 10)                650       \n",
            "                                                                 \n",
            "=================================================================\n",
            "Total params: 906\n",
            "Trainable params: 906\n",
            "Non-trainable params: 0\n",
            "_________________________________________________________________\n"
          ]
        }
      ]
    },
    {
      "cell_type": "markdown",
      "source": [
        "When building a Sequential model incrementally , it is useful to be able to print a sumary of what current model looks like after you add each layer . But you you can'nt print a summary until the  model is built. There is a actually a  way to have your sequential built on fly: just declare the shape of the models input in advance"
      ],
      "metadata": {
        "id": "lUVYAKJ4COnL"
      }
    },
    {
      "cell_type": "code",
      "source": [
        "model = keras.Sequential()\n",
        "model.add(keras.Input(shape=(3,)))\n",
        "model.add(layers.Dense(64, activation=\"relu\"))"
      ],
      "metadata": {
        "id": "dWkDIKuj0i5Y"
      },
      "execution_count": 7,
      "outputs": []
    },
    {
      "cell_type": "code",
      "source": [
        "model.summary()\n"
      ],
      "metadata": {
        "colab": {
          "base_uri": "https://localhost:8080/"
        },
        "id": "aaa4aczz0lyW",
        "outputId": "1a6a08a0-0884-4202-cec1-76951c41ed3f"
      },
      "execution_count": 8,
      "outputs": [
        {
          "output_type": "stream",
          "name": "stdout",
          "text": [
            "Model: \"sequential_2\"\n",
            "_________________________________________________________________\n",
            " Layer (type)                Output Shape              Param #   \n",
            "=================================================================\n",
            " dense_4 (Dense)             (None, 64)                256       \n",
            "                                                                 \n",
            "=================================================================\n",
            "Total params: 256\n",
            "Trainable params: 256\n",
            "Non-trainable params: 0\n",
            "_________________________________________________________________\n"
          ]
        }
      ]
    },
    {
      "cell_type": "code",
      "source": [
        "model.add(layers.Dense(10, activation=\"softmax\"))\n",
        "model.summary()"
      ],
      "metadata": {
        "colab": {
          "base_uri": "https://localhost:8080/"
        },
        "id": "fWf1uaZHDw9i",
        "outputId": "8c18a7a8-93b6-4e76-e0d3-ce3f8337ca53"
      },
      "execution_count": null,
      "outputs": [
        {
          "output_type": "stream",
          "name": "stdout",
          "text": [
            "Model: \"sequential_2\"\n",
            "_________________________________________________________________\n",
            " Layer (type)                Output Shape              Param #   \n",
            "=================================================================\n",
            " dense_4 (Dense)             (None, 64)                256       \n",
            "                                                                 \n",
            " dense_5 (Dense)             (None, 10)                650       \n",
            "                                                                 \n",
            "=================================================================\n",
            "Total params: 906\n",
            "Trainable params: 906\n",
            "Non-trainable params: 0\n",
            "_________________________________________________________________\n"
          ]
        }
      ]
    },
    {
      "cell_type": "markdown",
      "source": [
        "#The Functional API\n",
        "A simple example\n",
        "\n",
        "**A simple Functional model with two Dense layers**"
      ],
      "metadata": {
        "id": "QWhJxVltsUY8"
      }
    },
    {
      "cell_type": "code",
      "source": [
        "inputs = keras.Input(shape=(3,), name=\"my_input\") # this object holds information about the shape and the type of data model will process called as symbolic tensor\n",
        "features = layers.Dense(64, activation=\"relu\")(inputs) # recreated a layer and called it on the inputs\n",
        "outputs = layers.Dense(10, activation=\"softmax\")(features)\n",
        "model = keras.Model(inputs=inputs, outputs=outputs)"
      ],
      "metadata": {
        "id": "w8wCvtCD01b7"
      },
      "execution_count": 9,
      "outputs": []
    },
    {
      "cell_type": "code",
      "source": [
        "model.summary()"
      ],
      "metadata": {
        "colab": {
          "base_uri": "https://localhost:8080/"
        },
        "id": "eX5lCr6GHNVo",
        "outputId": "440bf16d-ff06-4839-df43-c9cd5355245c"
      },
      "execution_count": 10,
      "outputs": [
        {
          "output_type": "stream",
          "name": "stdout",
          "text": [
            "Model: \"model\"\n",
            "_________________________________________________________________\n",
            " Layer (type)                Output Shape              Param #   \n",
            "=================================================================\n",
            " my_input (InputLayer)       [(None, 3)]               0         \n",
            "                                                                 \n",
            " dense_5 (Dense)             (None, 64)                256       \n",
            "                                                                 \n",
            " dense_6 (Dense)             (None, 10)                650       \n",
            "                                                                 \n",
            "=================================================================\n",
            "Total params: 906\n",
            "Trainable params: 906\n",
            "Non-trainable params: 0\n",
            "_________________________________________________________________\n"
          ]
        }
      ]
    },
    {
      "cell_type": "code",
      "source": [
        "inputs = keras.Input(shape=(3,), name=\"my_input\")\n",
        "inputs.shape\n",
        "inputs.dtype\n",
        "features = layers.Dense(64, activation=\"relu\")(inputs)\n",
        "features.shape\n",
        "outputs = layers.Dense(10, activation=\"softmax\")(features)\n",
        "model = keras.Model(inputs=inputs, outputs=outputs)"
      ],
      "metadata": {
        "id": "dGtHZQ_HsMgo"
      },
      "execution_count": 11,
      "outputs": []
    },
    {
      "cell_type": "code",
      "source": [
        "model.summary()"
      ],
      "metadata": {
        "colab": {
          "base_uri": "https://localhost:8080/"
        },
        "id": "tVNJ_6lpsQuv",
        "outputId": "7cec7da8-ef60-461b-9a53-6de03192d8bf"
      },
      "execution_count": 12,
      "outputs": [
        {
          "output_type": "stream",
          "name": "stdout",
          "text": [
            "Model: \"model_1\"\n",
            "_________________________________________________________________\n",
            " Layer (type)                Output Shape              Param #   \n",
            "=================================================================\n",
            " my_input (InputLayer)       [(None, 3)]               0         \n",
            "                                                                 \n",
            " dense_7 (Dense)             (None, 64)                256       \n",
            "                                                                 \n",
            " dense_8 (Dense)             (None, 10)                650       \n",
            "                                                                 \n",
            "=================================================================\n",
            "Total params: 906\n",
            "Trainable params: 906\n",
            "Non-trainable params: 0\n",
            "_________________________________________________________________\n"
          ]
        }
      ]
    },
    {
      "cell_type": "markdown",
      "source": [
        "#Multi-input, multi-output models\n",
        "**A multi-input, multi-output Functional model**"
      ],
      "metadata": {
        "id": "j_-VSoq4s9cu"
      }
    },
    {
      "cell_type": "code",
      "source": [
        "vocabulary_size = 10000\n",
        "num_tags = 100\n",
        "num_departments = 4\n",
        "\n",
        "title = keras.Input(shape=(vocabulary_size,), name=\"title\")\n",
        "text_body = keras.Input(shape=(vocabulary_size,), name=\"text_body\") # define model input\n",
        "tags = keras.Input(shape=(num_tags,), name=\"tags\")\n",
        "\n",
        "features = layers.Concatenate()([title, text_body, tags]) # combine input features into a single tensor , features by concatenating them\n",
        "features = layers.Dense(64, activation=\"relu\")(features) # apply an intermediate layer to recombne input features into richer representations\n",
        "\n",
        "priority = layers.Dense(1, activation=\"sigmoid\", name=\"priority\")(features)\n",
        "department = layers.Dense(                           # define model output\n",
        "    num_departments, activation=\"softmax\", name=\"department\")(features)\n",
        "\n",
        "model = keras.Model(inputs=[title, text_body, tags], outputs=[priority, department])"
      ],
      "metadata": {
        "id": "CMS3WmNtszps"
      },
      "execution_count": 13,
      "outputs": []
    },
    {
      "cell_type": "markdown",
      "source": [
        "#Training a multi-input, multi-output model\n",
        "\n",
        "You can train your mdle in much the same way as you would train a Sequential model , by calling fit() with list of input and output data .\n",
        "\n",
        "These lists pf data should be in the same order as the inputs  you passedto the model constructor\n",
        "\n",
        "**Training a model by providing lists of input & target arrays**"
      ],
      "metadata": {
        "id": "16_OAhWYPqLU"
      }
    },
    {
      "cell_type": "code",
      "source": [
        "import numpy as np\n",
        "\n",
        "num_samples = 1280\n",
        "\n",
        "title_data = np.random.randint(0, 2, size=(num_samples, vocabulary_size))\n",
        "text_body_data = np.random.randint(0, 2, size=(num_samples, vocabulary_size))\n",
        "tags_data = np.random.randint(0, 2, size=(num_samples, num_tags))\n",
        "\n",
        "priority_data = np.random.random(size=(num_samples, 1))\n",
        "department_data = np.random.randint(0, 2, size=(num_samples, num_departments))\n",
        "\n",
        "model.compile(optimizer=\"rmsprop\",\n",
        "              loss=[\"mean_squared_error\", \"categorical_crossentropy\"],\n",
        "              metrics=[[\"mean_absolute_error\"], [\"accuracy\"]])\n",
        "model.fit([title_data, text_body_data, tags_data],\n",
        "          [priority_data, department_data],\n",
        "          epochs=1)\n",
        "model.evaluate([title_data, text_body_data, tags_data],\n",
        "               [priority_data, department_data])\n",
        "priority_preds, department_preds = model.predict([title_data, text_body_data, tags_data])"
      ],
      "metadata": {
        "id": "aTprxN_MtBbm",
        "colab": {
          "base_uri": "https://localhost:8080/"
        },
        "outputId": "f26226e3-37bd-4730-a7ae-156e22e78e2d"
      },
      "execution_count": 14,
      "outputs": [
        {
          "output_type": "stream",
          "name": "stdout",
          "text": [
            "40/40 [==============================] - 2s 23ms/step - loss: 67.8294 - priority_loss: 0.3238 - department_loss: 67.5056 - priority_mean_absolute_error: 0.4886 - department_accuracy: 0.3242\n",
            "40/40 [==============================] - 1s 9ms/step - loss: 60.7338 - priority_loss: 0.3399 - department_loss: 60.3939 - priority_mean_absolute_error: 0.5037 - department_accuracy: 0.5531\n",
            "40/40 [==============================] - 1s 15ms/step\n"
          ]
        }
      ]
    },
    {
      "cell_type": "markdown",
      "source": [
        "If you don't want to rely on input order (becz have to many inputs and outputs )\n",
        ", you can also leverage the names you gave to the Input object and the output layers . and pass the data via dictionaries"
      ],
      "metadata": {
        "id": "2m0UubmTNGR_"
      }
    },
    {
      "cell_type": "markdown",
      "source": [
        "**training a model by providing dicts of inputs and target arrays**"
      ],
      "metadata": {
        "id": "mpQWuTOgNik7"
      }
    },
    {
      "cell_type": "code",
      "source": [
        "model.compile(optimizer = \"rmsprop\",\n",
        "              loss = { \"priority\" : \"mean_squared_error\" , \"department\" : \"categorical_crossentropy\"},\n",
        "              metrics = {\"priority\" : [\"mean_absolute_error\"] , \"department\" : [\"accuracy\"]}\n",
        "              )\n",
        "\n",
        "model.fit({\"title\" : title_data , \"text_body\" : text_body_data,\n",
        "           \"tags\" : tags_data},\n",
        "          {\"priority\" : priority_data , \"department\" : department_data  },epochs = 1)\n",
        "\n",
        "model.evaluate( {\"title\" : title_data , \"text_body\" : text_body_data,\n",
        "           \"tags\" : tags_data},\n",
        "          {\"priority\" : priority_data , \"department\" : department_data   })\n",
        "\n",
        "priority_preds , department_preds = model.predict(\n",
        "              {\"title\":  title_data , \"text_body\" : text_body_data ,\"tags\" : tags_data }        )\n",
        "    "
      ],
      "metadata": {
        "colab": {
          "base_uri": "https://localhost:8080/"
        },
        "id": "D4jEufiGNwZb",
        "outputId": "b6d42c09-0fdb-45c4-ddca-0a06e0d1b4ec"
      },
      "execution_count": 15,
      "outputs": [
        {
          "output_type": "stream",
          "name": "stdout",
          "text": [
            "40/40 [==============================] - 2s 30ms/step - loss: 72.6353 - priority_loss: 0.3399 - department_loss: 72.2954 - priority_mean_absolute_error: 0.5037 - department_accuracy: 0.3313\n",
            "40/40 [==============================] - 1s 9ms/step - loss: 35.9167 - priority_loss: 0.3399 - department_loss: 35.5768 - priority_mean_absolute_error: 0.5037 - department_accuracy: 0.5695\n",
            "40/40 [==============================] - 0s 9ms/step\n"
          ]
        }
      ]
    },
    {
      "cell_type": "markdown",
      "source": [
        "**The power of the Functional API: Access to layer connectivity**\n",
        "\n",
        "A functional model is an explicit graph data structure. Ths makes t possible to inspect how layers are connected and reuse previous graph nodes .This enables us two important use cases: \n",
        "1. model visalization\n",
        "2. feature extraction\n",
        "\n",
        "*You can plot functionLmodel as graph with the plot_model() utility"
      ],
      "metadata": {
        "id": "ewV6tp84bkuo"
      }
    },
    {
      "cell_type": "code",
      "source": [
        "keras.utils.plot_model(model, \"ticket_classifier.png\")\n"
      ],
      "metadata": {
        "id": "C-g7zHtobj7d",
        "colab": {
          "base_uri": "https://localhost:8080/",
          "height": 369
        },
        "outputId": "008662b7-1018-4ff2-c453-bbbe95aca934"
      },
      "execution_count": 16,
      "outputs": [
        {
          "output_type": "execute_result",
          "data": {
            "image/png": "[encoded data removed]",
            "text/plain": [
              "<IPython.core.display.Image object>"
            ]
          },
          "metadata": {},
          "execution_count": 16
        }
      ]
    },
    {
      "cell_type": "markdown",
      "source": [
        " you can add to this plot the input and output shapes of eah layer"
      ],
      "metadata": {
        "id": "e6c7mut5i0vL"
      }
    },
    {
      "cell_type": "code",
      "source": [
        "keras.utils.plot_model(model, \"ticket_classifier_with_shape_info.png\", show_shapes=True)"
      ],
      "metadata": {
        "colab": {
          "base_uri": "https://localhost:8080/",
          "height": 422
        },
        "id": "Z5B-AFmNemeR",
        "outputId": "e1856d4e-4805-4267-cbdd-3a7a1d3991fd"
      },
      "execution_count": 17,
      "outputs": [
        {
          "output_type": "execute_result",
          "data": {
            "image/png": "[encoded data removed]",
            "text/plain": [
              "<IPython.core.display.Image object>"
            ]
          },
          "metadata": {},
          "execution_count": 17
        }
      ]
    },
    {
      "cell_type": "markdown",
      "source": [
        "**Retrieving the inputs or outputs of a layer in a Functional model**\n",
        "\n",
        "Access to layer connectivity also means that youcan inspect and reuse individual nodes in the graph . The **model.layers** model property provides the list of layers that make up the model , and for each layer you can query layer.input and layer.output"
      ],
      "metadata": {
        "id": "Rf0y2FOwGhAr"
      }
    },
    {
      "cell_type": "code",
      "source": [
        "model.layers\n"
      ],
      "metadata": {
        "id": "wtoZT020baNB",
        "colab": {
          "base_uri": "https://localhost:8080/"
        },
        "outputId": "e88fc278-1a00-49ee-91e2-472d362857a8"
      },
      "execution_count": 19,
      "outputs": [
        {
          "output_type": "execute_result",
          "data": {
            "text/plain": [
              "[<keras.engine.input_layer.InputLayer at 0x7f222d26d570>,\n",
              " <keras.engine.input_layer.InputLayer at 0x7f22303d9d80>,\n",
              " <keras.engine.input_layer.InputLayer at 0x7f22303da590>,\n",
              " <keras.layers.merging.concatenate.Concatenate at 0x7f222d27e7a0>,\n",
              " <keras.layers.core.dense.Dense at 0x7f222d26eda0>,\n",
              " <keras.layers.core.dense.Dense at 0x7f222d26c3d0>,\n",
              " <keras.layers.core.dense.Dense at 0x7f222d26d600>]"
            ]
          },
          "metadata": {},
          "execution_count": 19
        }
      ]
    },
    {
      "cell_type": "code",
      "source": [
        "model.layers[3].input\n",
        "model.layers[3].output"
      ],
      "metadata": {
        "colab": {
          "base_uri": "https://localhost:8080/"
        },
        "id": "u5JpxOX6kE58",
        "outputId": "29115bd1-e3ab-4846-dd6d-b9035c1bfd16"
      },
      "execution_count": 20,
      "outputs": [
        {
          "output_type": "execute_result",
          "data": {
            "text/plain": [
              "<KerasTensor: shape=(None, 20100) dtype=float32 (created by layer 'concatenate')>"
            ]
          },
          "metadata": {},
          "execution_count": 20
        }
      ]
    },
    {
      "cell_type": "markdown",
      "source": [
        "This enables us to do **feature extraction** creating model that reuse the intermediate features from another model "
      ],
      "metadata": {
        "id": "vYUHHyfZlAws"
      }
    },
    {
      "cell_type": "markdown",
      "source": [
        "Lets say you want to add another output to the previous model , you want to estimate how long a given issue ticket will take to resolve . You don'y neend to recreate or retrain a model from scratch . You can start from intermediate features from previous model"
      ],
      "metadata": {
        "id": "e6NtQALtlgES"
      }
    },
    {
      "cell_type": "markdown",
      "source": [
        "**Creating a new model by reusing intermediate layers output**"
      ],
      "metadata": {
        "id": "zhcZTtmIlRvP"
      }
    },
    {
      "cell_type": "code",
      "source": [
        "features = model.layers[4].output # layer[4] is our intermediate dense layer\n",
        "difficulty = layers.Dense(3, activation=\"softmax\", name=\"difficulty\")(features)\n",
        "\n",
        "new_model = keras.Model(\n",
        "    inputs=[title, text_body, tags],\n",
        "    outputs=[priority, department, difficulty])\n",
        "keras.utils.plot_model(new_model, \"updated_ticket_classifier.png\", show_shapes=True)"
      ],
      "metadata": {
        "id": "7bGWgLLE8mNJ",
        "colab": {
          "base_uri": "https://localhost:8080/",
          "height": 422
        },
        "outputId": "1bf39b6f-a54b-493c-e58c-25c1b0743aee"
      },
      "execution_count": 21,
      "outputs": [
        {
          "output_type": "execute_result",
          "data": {
            "image/png": "[encoded data removed]",
            "text/plain": [
              "<IPython.core.display.Image object>"
            ]
          },
          "metadata": {},
          "execution_count": 21
        }
      ]
    },
    {
      "cell_type": "code",
      "source": [
        "class CustomerTicketModel(keras.Model):\n",
        "\n",
        "    def __init__(self, num_departments):\n",
        "        super().__init__()\n",
        "        self.concat_layer = layers.Concatenate()\n",
        "        self.mixing_layer = layers.Dense(64, activation=\"relu\")\n",
        "        self.priority_scorer = layers.Dense(1, activation=\"sigmoid\")\n",
        "        self.department_classifier = layers.Dense(\n",
        "            num_departments, activation=\"softmax\")\n",
        "\n",
        "    def call(self, inputs):\n",
        "        title = inputs[\"title\"]\n",
        "        text_body = inputs[\"text_body\"]\n",
        "        tags = inputs[\"tags\"]\n",
        "\n",
        "        features = self.concat_layer([title, text_body, tags])\n",
        "        features = self.mixing_layer(features)\n",
        "        priority = self.priority_scorer(features)\n",
        "        department = self.department_classifier(features)\n",
        "        return priority, department"
      ],
      "metadata": {
        "id": "5uhGGd8qKXlv"
      },
      "execution_count": null,
      "outputs": []
    },
    {
      "cell_type": "code",
      "source": [
        "model = CustomerTicketModel(num_departments=4)\n",
        "\n",
        "priority, department = model(\n",
        "    {\"title\": title_data, \"text_body\": text_body_data, \"tags\": tags_data})"
      ],
      "metadata": {
        "id": "9IH2JaE4ObPZ"
      },
      "execution_count": null,
      "outputs": []
    }
  ]
}