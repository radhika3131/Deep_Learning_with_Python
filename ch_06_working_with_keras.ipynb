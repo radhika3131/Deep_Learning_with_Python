{
  "nbformat": 4,
  "nbformat_minor": 0,
  "metadata": {
    "colab": {
      "provenance": [],
      "authorship_tag": "ABX9TyNq+z/EdEm6vXUL3ULvfzzs",
      "include_colab_link": true
    },
    "kernelspec": {
      "name": "python3",
      "display_name": "Python 3"
    },
    "language_info": {
      "name": "python"
    }
  },
  "cells": [
    {
      "cell_type": "markdown",
      "metadata": {
        "id": "view-in-github",
        "colab_type": "text"
      },
      "source": [
        "<a href=\"https://colab.research.google.com/github/radhika3131/Deep_Learning_with_Python/blob/main/ch_06_working_with_keras.ipynb\" target=\"_parent\"><img src=\"https://colab.research.google.com/assets/colab-badge.svg\" alt=\"Open In Colab\"/></a>"
      ]
    },
    {
      "cell_type": "markdown",
      "source": [
        "# Different ways to build keras models\n",
        "1. the sequential model - a python list , its limited to simple stack of layers\n",
        "2. Fuctional API - focuses on graph like model architecture.\n",
        "3. Model subclassing - you write everything yourself from scratch , you wo'nt have access to built in features of keras."
      ],
      "metadata": {
        "id": "WcpFdvLy_PK1"
      }
    },
    {
      "cell_type": "markdown",
      "source": [
        ".\n",
        "#The Sequential model\n",
        "simplest way to build keras model is to use sequential model \n",
        "Can only express model which has single input and single output\n",
        "\n",
        "**The Sequential class**"
      ],
      "metadata": {
        "id": "N6FqYXkJ0OpD"
      }
    },
    {
      "cell_type": "code",
      "execution_count": 1,
      "metadata": {
        "id": "uoxRm1Pqz0zc"
      },
      "outputs": [],
      "source": [
        "from tensorflow import keras\n",
        "from tensorflow.keras import layers\n",
        "\n",
        "model = keras.Sequential([\n",
        "    layers.Dense(64, activation=\"relu\"),\n",
        "    layers.Dense(10, activation=\"softmax\")\n",
        "]) \n",
        "# now its possible to build the same model incrementally via add method"
      ]
    },
    {
      "cell_type": "code",
      "source": [
        "model = keras.Sequential()\n",
        "model.add(layers.Dense(64, activation=\"relu\"))\n",
        "model.add(layers.Dense(10, activation=\"softmax\"))"
      ],
      "metadata": {
        "id": "b9uqPRQ30ZXs"
      },
      "execution_count": 2,
      "outputs": []
    },
    {
      "cell_type": "markdown",
      "source": [
        "the shape of the layers weight depends on the shape of their input: until input shape is known , they can'nt be created\n",
        "\n",
        "as tgis sequential model does'nt have any weights so call its **build()** metod with input shape"
      ],
      "metadata": {
        "id": "JQ2Xyvi4Avgr"
      }
    },
    {
      "cell_type": "code",
      "source": [
        "model.build(input_shape=(None, 3))# now we can retrieve model weight ,None in te input signals that the batch size could be anything\n",
        "model.weights"
      ],
      "metadata": {
        "colab": {
          "base_uri": "https://localhost:8080/"
        },
        "id": "aZO9uMIs0cGh",
        "outputId": "0c99d0f9-cbca-46a5-ef9e-2daa5153690f"
      },
      "execution_count": 3,
      "outputs": [
        {
          "output_type": "execute_result",
          "data": {
            "text/plain": [
              "[<tf.Variable 'dense_2/kernel:0' shape=(3, 64) dtype=float32, numpy=\n",
              " array([[ 0.18049365, -0.0539358 ,  0.15385866,  0.24164826, -0.02987152,\n",
              "          0.18331859, -0.2193155 ,  0.21368617,  0.08705977,  0.0101212 ,\n",
              "          0.2065242 , -0.06710461, -0.24642624,  0.05058184,  0.14816943,\n",
              "          0.04874635,  0.15955505, -0.290048  ,  0.08801526, -0.21377431,\n",
              "          0.15505844,  0.0009447 ,  0.2659732 , -0.13585629,  0.11225063,\n",
              "          0.05016917,  0.12765011,  0.09858203,  0.20265353, -0.2287089 ,\n",
              "          0.19071925, -0.02444807, -0.09390143, -0.03041348, -0.11146994,\n",
              "          0.26454055,  0.11889243, -0.21004255, -0.21022035, -0.10719886,\n",
              "         -0.1278033 ,  0.0839541 ,  0.19014019, -0.2293723 , -0.15533341,\n",
              "         -0.04736349,  0.11727956,  0.02577996, -0.22044793,  0.15052468,\n",
              "         -0.1374915 ,  0.2904895 , -0.00842044, -0.1428795 ,  0.19857767,\n",
              "         -0.1989966 , -0.2675381 ,  0.15923768, -0.18105766,  0.164612  ,\n",
              "         -0.19365847, -0.03103599, -0.14576794, -0.10263564],\n",
              "        [ 0.0611456 , -0.24045132, -0.21352458, -0.17311798, -0.27445343,\n",
              "          0.23041356,  0.07038781, -0.10469879,  0.22262537,  0.06213626,\n",
              "          0.2911864 ,  0.2593891 ,  0.2514531 ,  0.16668314, -0.19451314,\n",
              "          0.17276025, -0.24154437,  0.00545344,  0.13894054, -0.17730471,\n",
              "          0.1059241 , -0.19003202,  0.20089698,  0.19058639, -0.2110666 ,\n",
              "         -0.11163533, -0.16418128,  0.04501566, -0.18773821, -0.25519985,\n",
              "          0.0137552 ,  0.13117531,  0.08346921, -0.21115914,  0.14834344,\n",
              "         -0.05932753,  0.21108204,  0.21369028,  0.11242741,  0.13403413,\n",
              "         -0.12981942, -0.07465638,  0.158831  , -0.13611148,  0.06900936,\n",
              "         -0.22244188,  0.27630776, -0.01521093, -0.23911086,  0.163926  ,\n",
              "          0.18372491, -0.04248041,  0.21650767, -0.2044091 ,  0.18309492,\n",
              "         -0.13029939,  0.2206744 ,  0.04595345,  0.25726318, -0.18700461,\n",
              "         -0.24245326,  0.17562076, -0.236393  , -0.23959501],\n",
              "        [ 0.1876013 ,  0.03408101,  0.08237466, -0.1218413 , -0.03768736,\n",
              "          0.29556817, -0.21943045,  0.06263354,  0.0996488 ,  0.0079869 ,\n",
              "          0.20987743, -0.2753385 ,  0.12608424,  0.03549248,  0.12947053,\n",
              "          0.1049903 ,  0.04264963,  0.08525118,  0.21674144, -0.20219782,\n",
              "          0.07337868,  0.00558686, -0.1063619 ,  0.0663183 , -0.115814  ,\n",
              "          0.22538996, -0.1074889 ,  0.27526486, -0.28706053, -0.19776851,\n",
              "         -0.14086223, -0.01836762, -0.01386318, -0.24609834,  0.25911754,\n",
              "          0.25304985, -0.27494118, -0.0768058 , -0.14086509,  0.15847313,\n",
              "         -0.02121323,  0.04087338,  0.1760427 ,  0.16888157,  0.20574379,\n",
              "         -0.14377043, -0.25452888,  0.23753005, -0.18874034,  0.22058314,\n",
              "         -0.08544526,  0.10556623, -0.22958326,  0.25414646, -0.15608726,\n",
              "          0.05914924, -0.2860827 , -0.2664109 ,  0.05930242, -0.29866105,\n",
              "          0.15384847, -0.12720855,  0.07450613,  0.20018825]],\n",
              "       dtype=float32)>,\n",
              " <tf.Variable 'dense_2/bias:0' shape=(64,) dtype=float32, numpy=\n",
              " array([0., 0., 0., 0., 0., 0., 0., 0., 0., 0., 0., 0., 0., 0., 0., 0., 0.,\n",
              "        0., 0., 0., 0., 0., 0., 0., 0., 0., 0., 0., 0., 0., 0., 0., 0., 0.,\n",
              "        0., 0., 0., 0., 0., 0., 0., 0., 0., 0., 0., 0., 0., 0., 0., 0., 0.,\n",
              "        0., 0., 0., 0., 0., 0., 0., 0., 0., 0., 0., 0., 0.], dtype=float32)>,\n",
              " <tf.Variable 'dense_3/kernel:0' shape=(64, 10) dtype=float32, numpy=\n",
              " array([[ 0.08319861,  0.10767519,  0.15899464,  0.11558706,  0.22247395,\n",
              "         -0.03350583, -0.08973204,  0.12126258, -0.23391783,  0.27456698],\n",
              "        [ 0.17038295,  0.06336412,  0.1803393 , -0.09776358,  0.20050067,\n",
              "         -0.22018522, -0.15304573,  0.15408435, -0.28438005, -0.24128814],\n",
              "        [ 0.20833778,  0.1754612 , -0.21052971, -0.06968446,  0.1962058 ,\n",
              "         -0.23154688, -0.21503565,  0.10404733, -0.21648574, -0.10113597],\n",
              "        [-0.14500181,  0.23356095, -0.02187976,  0.02088994,  0.23958805,\n",
              "         -0.06539319, -0.27661178, -0.016817  ,  0.14538968,  0.12791944],\n",
              "        [-0.18265302,  0.07121468, -0.2503273 , -0.21319585, -0.19925332,\n",
              "         -0.15159725, -0.11800729,  0.26126686, -0.09202519, -0.2189229 ],\n",
              "        [ 0.02752244,  0.2797617 ,  0.06959608, -0.1947897 , -0.10123461,\n",
              "          0.16890413,  0.25078383,  0.13392416,  0.02026972, -0.06731263],\n",
              "        [ 0.14005664, -0.16366324,  0.2273024 , -0.2018708 , -0.25017154,\n",
              "         -0.17884025,  0.00783724, -0.18152797, -0.00460744, -0.10444951],\n",
              "        [ 0.09813753, -0.1854451 , -0.02764925, -0.02655303,  0.14544854,\n",
              "          0.19474733,  0.24933091,  0.26295498,  0.07512304, -0.06974231],\n",
              "        [ 0.18768394,  0.07244137, -0.26896617, -0.1366901 , -0.23869002,\n",
              "          0.05920327, -0.18799664,  0.26813754,  0.00220531, -0.09674715],\n",
              "        [ 0.12703696, -0.17413437, -0.2746246 , -0.18290238,  0.26487944,\n",
              "         -0.2711247 , -0.01994139, -0.23775044, -0.15782878,  0.23536494],\n",
              "        [ 0.15647826, -0.11563511,  0.13468874, -0.0578347 , -0.25322717,\n",
              "          0.04005143, -0.2284901 , -0.19341454,  0.08603528, -0.24285114],\n",
              "        [ 0.26437238, -0.08300878, -0.2066364 ,  0.23786095, -0.24620439,\n",
              "         -0.20030275, -0.01255506,  0.14010859,  0.08017501,  0.05580488],\n",
              "        [-0.11720294, -0.19421706, -0.14768554, -0.13071388, -0.0042119 ,\n",
              "          0.2083796 ,  0.25952902,  0.27494028,  0.00287265,  0.18175179],\n",
              "        [-0.12320189, -0.03575154, -0.2039201 ,  0.23069486, -0.16079274,\n",
              "          0.07646698, -0.10998517,  0.02341631,  0.18684661, -0.26234522],\n",
              "        [-0.03928488,  0.19557062,  0.19220108, -0.06848568, -0.08948757,\n",
              "          0.07765654, -0.07166982,  0.02592725,  0.02836412,  0.22270057],\n",
              "        [ 0.14263833, -0.27876848,  0.05334187,  0.02276728,  0.2058383 ,\n",
              "         -0.258359  , -0.20040303,  0.27404055, -0.18726324,  0.04932061],\n",
              "        [-0.24956253,  0.03507787, -0.18452609,  0.09842774, -0.01403511,\n",
              "          0.12613416,  0.21673706,  0.24970809, -0.14296223, -0.28169605],\n",
              "        [-0.17916597,  0.13358688,  0.1964184 , -0.0326122 , -0.15225318,\n",
              "          0.02572745, -0.05966064, -0.01705393, -0.0240964 ,  0.11727768],\n",
              "        [-0.06022201,  0.1896739 ,  0.22661039, -0.03853296, -0.03337148,\n",
              "         -0.00538638, -0.10230014,  0.07759491,  0.14021823,  0.07267621],\n",
              "        [ 0.18929285, -0.15332407, -0.17712027,  0.25103918,  0.14299229,\n",
              "          0.11717036, -0.12232755, -0.00715151,  0.053527  ,  0.18418887],\n",
              "        [-0.1660333 ,  0.18120313,  0.13464934,  0.15608689, -0.16920468,\n",
              "         -0.19468541,  0.26420727,  0.17788002, -0.27414978, -0.20222518],\n",
              "        [-0.14336278, -0.15609816,  0.28462586, -0.21759689,  0.15292475,\n",
              "         -0.1159104 , -0.13772763, -0.19209042,  0.10846597,  0.23203436],\n",
              "        [-0.26260966,  0.22924301,  0.13222006,  0.25529823, -0.03319198,\n",
              "         -0.19487068,  0.26054004,  0.09245235, -0.22157396, -0.22470644],\n",
              "        [ 0.0329361 , -0.2753022 , -0.1592503 , -0.25320262,  0.10885823,\n",
              "          0.10209003, -0.08593141, -0.27721924,  0.25085786, -0.27503648],\n",
              "        [-0.04848868,  0.19479918,  0.1759781 ,  0.10637417, -0.06163512,\n",
              "         -0.09951946, -0.27871382, -0.02516511, -0.0823863 ,  0.16274923],\n",
              "        [-0.08474477,  0.00143659, -0.26300904,  0.10817289,  0.16066477,\n",
              "          0.05072963, -0.18267626,  0.13759369, -0.21040982, -0.20635411],\n",
              "        [-0.25328577, -0.06513502,  0.10128471, -0.26099762,  0.12388867,\n",
              "          0.01211494,  0.16114402,  0.17033896, -0.13535567, -0.02349111],\n",
              "        [-0.18446566, -0.24363011,  0.16785273, -0.1322018 , -0.16323194,\n",
              "         -0.18304937,  0.13469496,  0.23556158,  0.27411565, -0.28272268],\n",
              "        [ 0.07859972,  0.01771837,  0.04987139,  0.05610272, -0.05597854,\n",
              "         -0.19726126,  0.17305875, -0.1799987 ,  0.09498793,  0.15036511],\n",
              "        [-0.24935505,  0.11813173, -0.22677311,  0.04035503, -0.060554  ,\n",
              "          0.00905058,  0.09766006, -0.01795483, -0.00090259, -0.15242155],\n",
              "        [-0.07839456, -0.21183854, -0.10985659,  0.18681747, -0.14640169,\n",
              "         -0.2506924 ,  0.06330153,  0.24405858,  0.03863642,  0.00996488],\n",
              "        [ 0.23879477, -0.023947  , -0.04081355,  0.15897372,  0.10849407,\n",
              "         -0.12081274, -0.00985947, -0.07277538,  0.0799444 ,  0.13438159],\n",
              "        [-0.09423818,  0.15984577, -0.20021749,  0.18517742, -0.00829545,\n",
              "          0.03920043, -0.02834803,  0.0860295 ,  0.09015423, -0.09648129],\n",
              "        [ 0.08041969,  0.17648605,  0.1695055 , -0.21373346,  0.20603111,\n",
              "          0.06394023, -0.26504645,  0.05666694, -0.0541456 , -0.11631821],\n",
              "        [ 0.17292365, -0.03352091, -0.26691166,  0.01658979,  0.16339126,\n",
              "          0.26323703, -0.00371197,  0.21216705,  0.16912696, -0.26262566],\n",
              "        [ 0.14124253,  0.02904212,  0.27726337, -0.10033998, -0.07550798,\n",
              "          0.12294507, -0.16188195, -0.09143545, -0.00800765,  0.13699478],\n",
              "        [-0.09105465,  0.24037924,  0.17364645,  0.15643167, -0.01165885,\n",
              "         -0.13046779,  0.10888985, -0.22420487, -0.14099643,  0.12634379],\n",
              "        [-0.0367804 ,  0.02778068, -0.27648774, -0.1705296 ,  0.16543072,\n",
              "          0.2019099 , -0.15869002,  0.24348518, -0.22084829,  0.1236617 ],\n",
              "        [ 0.00076082, -0.19619642, -0.23176506,  0.23837051,  0.02084431,\n",
              "         -0.16529134, -0.03445703,  0.18317375, -0.2284271 ,  0.01625937],\n",
              "        [-0.03019127,  0.13834956,  0.10639229,  0.17971209, -0.2790299 ,\n",
              "         -0.11243556, -0.24236153,  0.12608108,  0.06517243, -0.1825197 ],\n",
              "        [ 0.09403905,  0.27187517, -0.20637713, -0.01850426,  0.09401795,\n",
              "          0.0477013 ,  0.01395318,  0.17652711, -0.21903518, -0.04644644],\n",
              "        [ 0.1749028 , -0.07466243, -0.23468837,  0.13166189, -0.18812828,\n",
              "         -0.25538638,  0.06405294, -0.23484431, -0.2649396 ,  0.16465232],\n",
              "        [-0.11064303, -0.08984636,  0.13002712,  0.04477277, -0.06331383,\n",
              "         -0.23860537,  0.20657694,  0.0522086 , -0.12302423, -0.19267535],\n",
              "        [ 0.23278692,  0.12883988, -0.17068167,  0.18866882, -0.11839643,\n",
              "         -0.09627736,  0.13726899,  0.01107535, -0.0124459 ,  0.0331755 ],\n",
              "        [ 0.08225942, -0.1334452 , -0.0585064 , -0.14298089, -0.17259465,\n",
              "          0.08150801,  0.2610058 , -0.004417  , -0.23112746,  0.0425365 ],\n",
              "        [-0.0253197 , -0.18617341, -0.19162524, -0.24947143, -0.12050214,\n",
              "         -0.0720565 ,  0.20925143,  0.12715346, -0.11948225, -0.05809696],\n",
              "        [-0.08856651, -0.02714789,  0.20403245, -0.21575186,  0.19086632,\n",
              "          0.00080189, -0.12098043,  0.27034506, -0.24610806,  0.08461171],\n",
              "        [ 0.06152046, -0.006998  ,  0.2534249 , -0.10992862, -0.14560318,\n",
              "         -0.1699588 ,  0.02524802,  0.15395352,  0.15202135, -0.14050443],\n",
              "        [-0.08734106,  0.1920093 ,  0.09706658, -0.1374495 ,  0.08985642,\n",
              "         -0.04264472,  0.24772885, -0.19044058, -0.18979116,  0.12843594],\n",
              "        [ 0.1764301 ,  0.27587464,  0.25167277,  0.08302528,  0.28073886,\n",
              "          0.02654505,  0.23263457, -0.17845905,  0.07014209,  0.1680342 ],\n",
              "        [-0.07928778, -0.01527858,  0.2778863 ,  0.05099982,  0.06491125,\n",
              "          0.1412589 ,  0.05286121,  0.01208222, -0.20990586, -0.10681027],\n",
              "        [-0.22634996, -0.19425356,  0.11429036,  0.16945857,  0.11751178,\n",
              "         -0.18081059, -0.25506344,  0.0787442 , -0.26871857,  0.2819349 ],\n",
              "        [ 0.2743548 , -0.05891611, -0.0846796 ,  0.10839787,  0.07503793,\n",
              "          0.2106322 ,  0.22897062, -0.20635948,  0.1265372 , -0.04658419],\n",
              "        [ 0.26482698, -0.11840539,  0.25489727,  0.1559346 ,  0.06885296,\n",
              "          0.227474  , -0.12479864, -0.22285375,  0.12020275,  0.01279151],\n",
              "        [-0.05119854,  0.02634871, -0.24566433,  0.01934975,  0.00346729,\n",
              "         -0.2519423 , -0.2634952 , -0.0952242 ,  0.06439149,  0.20294508],\n",
              "        [-0.21638337, -0.1764221 , -0.09599113,  0.27509978,  0.10255337,\n",
              "         -0.02448615, -0.14167953,  0.23812845, -0.28044423,  0.1935294 ],\n",
              "        [ 0.10035199,  0.0337829 ,  0.168868  ,  0.24300995, -0.1807763 ,\n",
              "          0.12069786, -0.24585585, -0.15423833, -0.18708679,  0.2018657 ],\n",
              "        [ 0.01146355, -0.03128749,  0.10179245, -0.07512054,  0.13859153,\n",
              "          0.19389132,  0.07277918, -0.09090646, -0.25830126,  0.03247651],\n",
              "        [-0.18678766,  0.01168847, -0.00964132,  0.23981282,  0.02615881,\n",
              "         -0.2700437 , -0.1903196 ,  0.11997575, -0.09376736, -0.2813934 ],\n",
              "        [ 0.04126319, -0.24286391, -0.04238831, -0.16038114,  0.09514225,\n",
              "         -0.2519859 , -0.15048224,  0.27103803, -0.06928535, -0.22918005],\n",
              "        [ 0.2283434 ,  0.09625924, -0.04295042,  0.01691768,  0.15066335,\n",
              "          0.21257696, -0.26521325, -0.06695709,  0.25381806,  0.02150407],\n",
              "        [ 0.04901734,  0.24989119, -0.10977995, -0.03382757,  0.06981027,\n",
              "          0.1803571 ,  0.03028497,  0.21491364, -0.04134905, -0.05235225],\n",
              "        [ 0.15890583,  0.03562343, -0.21109304,  0.07821491, -0.11920926,\n",
              "          0.04203093, -0.23157538,  0.26179972,  0.27374163, -0.11726227],\n",
              "        [-0.10988986,  0.17659697,  0.15784621, -0.27936074,  0.12908062,\n",
              "         -0.26853257,  0.04247311, -0.26229084,  0.22205147,  0.12869507]],\n",
              "       dtype=float32)>,\n",
              " <tf.Variable 'dense_3/bias:0' shape=(10,) dtype=float32, numpy=array([0., 0., 0., 0., 0., 0., 0., 0., 0., 0.], dtype=float32)>]"
            ]
          },
          "metadata": {},
          "execution_count": 3
        }
      ]
    },
    {
      "cell_type": "code",
      "source": [
        "model.summary() # for displaying models content"
      ],
      "metadata": {
        "colab": {
          "base_uri": "https://localhost:8080/"
        },
        "id": "qxjp4Cpt0cvC",
        "outputId": "d4464aea-0a35-4061-c4a3-ba93e6f0c997"
      },
      "execution_count": 4,
      "outputs": [
        {
          "output_type": "stream",
          "name": "stdout",
          "text": [
            "Model: \"sequential_1\"\n",
            "_________________________________________________________________\n",
            " Layer (type)                Output Shape              Param #   \n",
            "=================================================================\n",
            " dense_2 (Dense)             (None, 64)                256       \n",
            "                                                                 \n",
            " dense_3 (Dense)             (None, 10)                650       \n",
            "                                                                 \n",
            "=================================================================\n",
            "Total params: 906\n",
            "Trainable params: 906\n",
            "Non-trainable params: 0\n",
            "_________________________________________________________________\n"
          ]
        }
      ]
    },
    {
      "cell_type": "markdown",
      "source": [
        "**Naming models and layers with the name argument**\n",
        "\n",
        "we can give names to everything in Keras - every model , every layer."
      ],
      "metadata": {
        "id": "xzeoM6gDBzbs"
      }
    },
    {
      "cell_type": "code",
      "source": [
        "model = keras.Sequential(name=\"my_example_model\")\n",
        "model.add(layers.Dense(64, activation=\"relu\", name=\"my_first_layer\"))\n",
        "model.add(layers.Dense(10, activation=\"softmax\", name=\"my_last_layer\"))\n",
        "model.build((None, 3))\n",
        "model.summary()"
      ],
      "metadata": {
        "colab": {
          "base_uri": "https://localhost:8080/"
        },
        "id": "KORAKdJB0f_P",
        "outputId": "3cf19c77-45b6-4fce-a331-fe97e9a61f3f"
      },
      "execution_count": 5,
      "outputs": [
        {
          "output_type": "stream",
          "name": "stdout",
          "text": [
            "Model: \"my_example_model\"\n",
            "_________________________________________________________________\n",
            " Layer (type)                Output Shape              Param #   \n",
            "=================================================================\n",
            " my_first_layer (Dense)      (None, 64)                256       \n",
            "                                                                 \n",
            " my_last_layer (Dense)       (None, 10)                650       \n",
            "                                                                 \n",
            "=================================================================\n",
            "Total params: 906\n",
            "Trainable params: 906\n",
            "Non-trainable params: 0\n",
            "_________________________________________________________________\n"
          ]
        }
      ]
    },
    {
      "cell_type": "markdown",
      "source": [
        "When building a Sequential model incrementally , it is useful to be able to print a sumary of what current model looks like after you add each layer . But you you can'nt print a summary until the  model is built. There is a actually a  way to have your sequential built on fly: just declare the shape of the models input in advance"
      ],
      "metadata": {
        "id": "lUVYAKJ4COnL"
      }
    },
    {
      "cell_type": "code",
      "source": [
        "model = keras.Sequential()\n",
        "model.add(keras.Input(shape=(3,)))\n",
        "model.add(layers.Dense(64, activation=\"relu\"))"
      ],
      "metadata": {
        "id": "dWkDIKuj0i5Y"
      },
      "execution_count": 6,
      "outputs": []
    },
    {
      "cell_type": "code",
      "source": [
        "model.summary()\n"
      ],
      "metadata": {
        "colab": {
          "base_uri": "https://localhost:8080/"
        },
        "id": "aaa4aczz0lyW",
        "outputId": "998047c2-9d61-4cf3-ab03-a057d63fdf0d"
      },
      "execution_count": 7,
      "outputs": [
        {
          "output_type": "stream",
          "name": "stdout",
          "text": [
            "Model: \"sequential_2\"\n",
            "_________________________________________________________________\n",
            " Layer (type)                Output Shape              Param #   \n",
            "=================================================================\n",
            " dense_4 (Dense)             (None, 64)                256       \n",
            "                                                                 \n",
            "=================================================================\n",
            "Total params: 256\n",
            "Trainable params: 256\n",
            "Non-trainable params: 0\n",
            "_________________________________________________________________\n"
          ]
        }
      ]
    },
    {
      "cell_type": "code",
      "source": [
        "model.add(layers.Dense(10, activation=\"softmax\"))\n",
        "model.summary()"
      ],
      "metadata": {
        "colab": {
          "base_uri": "https://localhost:8080/"
        },
        "id": "fWf1uaZHDw9i",
        "outputId": "8c18a7a8-93b6-4e76-e0d3-ce3f8337ca53"
      },
      "execution_count": 8,
      "outputs": [
        {
          "output_type": "stream",
          "name": "stdout",
          "text": [
            "Model: \"sequential_2\"\n",
            "_________________________________________________________________\n",
            " Layer (type)                Output Shape              Param #   \n",
            "=================================================================\n",
            " dense_4 (Dense)             (None, 64)                256       \n",
            "                                                                 \n",
            " dense_5 (Dense)             (None, 10)                650       \n",
            "                                                                 \n",
            "=================================================================\n",
            "Total params: 906\n",
            "Trainable params: 906\n",
            "Non-trainable params: 0\n",
            "_________________________________________________________________\n"
          ]
        }
      ]
    },
    {
      "cell_type": "markdown",
      "source": [
        "#The Functional API\n",
        "A simple example\n",
        "\n",
        "**A simple Functional model with two Dense layers**"
      ],
      "metadata": {
        "id": "QWhJxVltsUY8"
      }
    },
    {
      "cell_type": "code",
      "source": [
        "inputs = keras.Input(shape=(3,), name=\"my_input\") # this object holds information about the shape and the type of data model will process called as symbolic tensor\n",
        "features = layers.Dense(64, activation=\"relu\")(inputs) # recreated a layer and called it on the inputs\n",
        "outputs = layers.Dense(10, activation=\"softmax\")(features)\n",
        "model = keras.Model(inputs=inputs, outputs=outputs)"
      ],
      "metadata": {
        "id": "w8wCvtCD01b7"
      },
      "execution_count": 9,
      "outputs": []
    },
    {
      "cell_type": "code",
      "source": [
        "model.summary()"
      ],
      "metadata": {
        "colab": {
          "base_uri": "https://localhost:8080/"
        },
        "id": "eX5lCr6GHNVo",
        "outputId": "c304be30-63ac-407b-e4b5-41ab39bc36f5"
      },
      "execution_count": 10,
      "outputs": [
        {
          "output_type": "stream",
          "name": "stdout",
          "text": [
            "Model: \"model\"\n",
            "_________________________________________________________________\n",
            " Layer (type)                Output Shape              Param #   \n",
            "=================================================================\n",
            " my_input (InputLayer)       [(None, 3)]               0         \n",
            "                                                                 \n",
            " dense_6 (Dense)             (None, 64)                256       \n",
            "                                                                 \n",
            " dense_7 (Dense)             (None, 10)                650       \n",
            "                                                                 \n",
            "=================================================================\n",
            "Total params: 906\n",
            "Trainable params: 906\n",
            "Non-trainable params: 0\n",
            "_________________________________________________________________\n"
          ]
        }
      ]
    },
    {
      "cell_type": "code",
      "source": [
        "inputs = keras.Input(shape=(3,), name=\"my_input\")\n",
        "inputs.shape\n",
        "inputs.dtype\n",
        "features = layers.Dense(64, activation=\"relu\")(inputs)\n",
        "features.shape\n",
        "outputs = layers.Dense(10, activation=\"softmax\")(features)\n",
        "model = keras.Model(inputs=inputs, outputs=outputs)"
      ],
      "metadata": {
        "id": "dGtHZQ_HsMgo"
      },
      "execution_count": null,
      "outputs": []
    },
    {
      "cell_type": "code",
      "source": [
        "model.summary()"
      ],
      "metadata": {
        "colab": {
          "base_uri": "https://localhost:8080/"
        },
        "id": "tVNJ_6lpsQuv",
        "outputId": "a3375be6-c556-4772-8310-7204470085fd"
      },
      "execution_count": null,
      "outputs": [
        {
          "output_type": "stream",
          "name": "stdout",
          "text": [
            "Model: \"model_1\"\n",
            "_________________________________________________________________\n",
            " Layer (type)                Output Shape              Param #   \n",
            "=================================================================\n",
            " my_input (InputLayer)       [(None, 3)]               0         \n",
            "                                                                 \n",
            " dense_8 (Dense)             (None, 64)                256       \n",
            "                                                                 \n",
            " dense_9 (Dense)             (None, 10)                650       \n",
            "                                                                 \n",
            "=================================================================\n",
            "Total params: 906\n",
            "Trainable params: 906\n",
            "Non-trainable params: 0\n",
            "_________________________________________________________________\n"
          ]
        }
      ]
    },
    {
      "cell_type": "markdown",
      "source": [
        "#Multi-input, multi-output models\n",
        "**A multi-input, multi-output Functional model**"
      ],
      "metadata": {
        "id": "j_-VSoq4s9cu"
      }
    },
    {
      "cell_type": "code",
      "source": [
        "vocabulary_size = 10000\n",
        "num_tags = 100\n",
        "num_departments = 4\n",
        "\n",
        "title = keras.Input(shape=(vocabulary_size,), name=\"title\")\n",
        "text_body = keras.Input(shape=(vocabulary_size,), name=\"text_body\") # define model input\n",
        "tags = keras.Input(shape=(num_tags,), name=\"tags\")\n",
        "\n",
        "features = layers.Concatenate()([title, text_body, tags]) # combine input features into a single tensor , features by concatenating them\n",
        "features = layers.Dense(64, activation=\"relu\")(features) # apply an intermediate layer to recombne input features into richer representations\n",
        "\n",
        "priority = layers.Dense(1, activation=\"sigmoid\", name=\"priority\")(features)\n",
        "department = layers.Dense(                           # define model output\n",
        "    num_departments, activation=\"softmax\", name=\"department\")(features)\n",
        "\n",
        "model = keras.Model(inputs=[title, text_body, tags], outputs=[priority, department])"
      ],
      "metadata": {
        "id": "CMS3WmNtszps"
      },
      "execution_count": 11,
      "outputs": []
    },
    {
      "cell_type": "markdown",
      "source": [
        "#Training a multi-input, multi-output model\n",
        "\n",
        "You can train your mdle in much the same way as you would train a Sequential model , by calling fit() with list of input and output data .\n",
        "\n",
        "These lists pf data should be in the same order as the inputs  you passedto the model constructor\n",
        "\n",
        "**Training a model by providing lists of input & target arrays**"
      ],
      "metadata": {
        "id": "16_OAhWYPqLU"
      }
    },
    {
      "cell_type": "code",
      "source": [
        "import numpy as np\n",
        "\n",
        "num_samples = 1280\n",
        "\n",
        "title_data = np.random.randint(0, 2, size=(num_samples, vocabulary_size))\n",
        "text_body_data = np.random.randint(0, 2, size=(num_samples, vocabulary_size))\n",
        "tags_data = np.random.randint(0, 2, size=(num_samples, num_tags))\n",
        "\n",
        "priority_data = np.random.random(size=(num_samples, 1))\n",
        "department_data = np.random.randint(0, 2, size=(num_samples, num_departments))\n",
        "\n",
        "model.compile(optimizer=\"rmsprop\",\n",
        "              loss=[\"mean_squared_error\", \"categorical_crossentropy\"],\n",
        "              metrics=[[\"mean_absolute_error\"], [\"accuracy\"]])\n",
        "model.fit([title_data, text_body_data, tags_data],\n",
        "          [priority_data, department_data],\n",
        "          epochs=1)\n",
        "model.evaluate([title_data, text_body_data, tags_data],\n",
        "               [priority_data, department_data])\n",
        "priority_preds, department_preds = model.predict([title_data, text_body_data, tags_data])"
      ],
      "metadata": {
        "id": "aTprxN_MtBbm",
        "colab": {
          "base_uri": "https://localhost:8080/"
        },
        "outputId": "416caf02-198d-4ae2-8473-54d775ffd551"
      },
      "execution_count": 12,
      "outputs": [
        {
          "output_type": "stream",
          "name": "stdout",
          "text": [
            "40/40 [==============================] - 2s 21ms/step - loss: 15.8589 - priority_loss: 0.3264 - department_loss: 15.5326 - priority_mean_absolute_error: 0.4933 - department_accuracy: 0.2211\n",
            "40/40 [==============================] - 1s 13ms/step - loss: 11.5107 - priority_loss: 0.3343 - department_loss: 11.1764 - priority_mean_absolute_error: 0.5000 - department_accuracy: 0.2586\n",
            "40/40 [==============================] - 0s 9ms/step\n"
          ]
        }
      ]
    },
    {
      "cell_type": "markdown",
      "source": [
        "If you don't want to rely on input order (becz have to many inputs and outputs )\n",
        ", you can also leverage the names you gave to the Input object and the output layers . and pass the data via dictionaries"
      ],
      "metadata": {
        "id": "2m0UubmTNGR_"
      }
    },
    {
      "cell_type": "markdown",
      "source": [
        "**training a model by providing dicts of inputs and target arrays**"
      ],
      "metadata": {
        "id": "mpQWuTOgNik7"
      }
    },
    {
      "cell_type": "code",
      "source": [
        "model.compile(optimizer = \"rmsprop\",\n",
        "              loss = { \"priority\" : \"mean_squared_error\" , \"department\" : \"categorical_crossentropy\"},\n",
        "              metrics = {\"priority\" : [\"mean_absolute_error\"] , \"department\" : [\"accuracy\"]}\n",
        "              )\n",
        "\n",
        "model.fit({\"title\" : title_data , \"text_body\" : text_body_data,\n",
        "           \"tags\" : tags_data},\n",
        "          {\"priority\" : priority_data , \"department\" : department_data  },epochs = 1)\n",
        "\n",
        "model.evaluate( {\"title\" : title_data , \"text_body\" : text_body_data,\n",
        "           \"tags\" : tags_data},\n",
        "          {\"priority\" : priority_data , \"department\" : department_data   })\n",
        "\n",
        "priority_preds , department_preds = model.predict(\n",
        "              {\"title\":  title_data , \"text_body\" : text_body_data ,\"tags\" : tags_data }        )\n",
        "    "
      ],
      "metadata": {
        "colab": {
          "base_uri": "https://localhost:8080/"
        },
        "id": "D4jEufiGNwZb",
        "outputId": "1f6f8e4a-be99-484a-c77e-25652ff732a7"
      },
      "execution_count": 15,
      "outputs": [
        {
          "output_type": "stream",
          "name": "stdout",
          "text": [
            "40/40 [==============================] - 1s 19ms/step - loss: 32.2936 - priority_loss: 0.3343 - department_loss: 31.9594 - priority_mean_absolute_error: 0.5000 - department_accuracy: 0.2539\n",
            "40/40 [==============================] - 0s 7ms/step - loss: 11.8714 - priority_loss: 0.3343 - department_loss: 11.5371 - priority_mean_absolute_error: 0.5000 - department_accuracy: 0.0797\n",
            "40/40 [==============================] - 0s 7ms/step\n"
          ]
        }
      ]
    },
    {
      "cell_type": "markdown",
      "source": [
        "**The power of the Functional API: Access to layer connectivity**"
      ],
      "metadata": {
        "id": "ewV6tp84bkuo"
      }
    },
    {
      "cell_type": "code",
      "source": [
        "keras.utils.plot_model(model, \"ticket_classifier.png\")\n",
        "keras.utils.plot_model(model, \"ticket_classifier_with_shape_info.png\", show_shapes=True)"
      ],
      "metadata": {
        "id": "C-g7zHtobj7d"
      },
      "execution_count": null,
      "outputs": []
    },
    {
      "cell_type": "markdown",
      "source": [
        "**Retrieving the inputs or outputs of a layer in a Functional model**"
      ],
      "metadata": {
        "id": "Rf0y2FOwGhAr"
      }
    },
    {
      "cell_type": "code",
      "source": [
        "model.layers\n",
        "model.layers[3].input\n",
        "model.layers[3].output"
      ],
      "metadata": {
        "id": "wtoZT020baNB"
      },
      "execution_count": null,
      "outputs": []
    },
    {
      "cell_type": "code",
      "source": [
        "features = model.layers[4].output\n",
        "difficulty = layers.Dense(3, activation=\"softmax\", name=\"difficulty\")(features)\n",
        "\n",
        "new_model = keras.Model(\n",
        "    inputs=[title, text_body, tags],\n",
        "    outputs=[priority, department, difficulty])\n",
        "keras.utils.plot_model(new_model, \"updated_ticket_classifier.png\", show_shapes=True)"
      ],
      "metadata": {
        "id": "7bGWgLLE8mNJ"
      },
      "execution_count": null,
      "outputs": []
    },
    {
      "cell_type": "code",
      "source": [
        "class CustomerTicketModel(keras.Model):\n",
        "\n",
        "    def __init__(self, num_departments):\n",
        "        super().__init__()\n",
        "        self.concat_layer = layers.Concatenate()\n",
        "        self.mixing_layer = layers.Dense(64, activation=\"relu\")\n",
        "        self.priority_scorer = layers.Dense(1, activation=\"sigmoid\")\n",
        "        self.department_classifier = layers.Dense(\n",
        "            num_departments, activation=\"softmax\")\n",
        "\n",
        "    def call(self, inputs):\n",
        "        title = inputs[\"title\"]\n",
        "        text_body = inputs[\"text_body\"]\n",
        "        tags = inputs[\"tags\"]\n",
        "\n",
        "        features = self.concat_layer([title, text_body, tags])\n",
        "        features = self.mixing_layer(features)\n",
        "        priority = self.priority_scorer(features)\n",
        "        department = self.department_classifier(features)\n",
        "        return priority, department"
      ],
      "metadata": {
        "id": "5uhGGd8qKXlv"
      },
      "execution_count": null,
      "outputs": []
    },
    {
      "cell_type": "code",
      "source": [
        "model = CustomerTicketModel(num_departments=4)\n",
        "\n",
        "priority, department = model(\n",
        "    {\"title\": title_data, \"text_body\": text_body_data, \"tags\": tags_data})"
      ],
      "metadata": {
        "id": "9IH2JaE4ObPZ"
      },
      "execution_count": null,
      "outputs": []
    }
  ]
}