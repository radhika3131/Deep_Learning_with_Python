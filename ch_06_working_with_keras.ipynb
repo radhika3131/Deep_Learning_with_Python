{
  "nbformat": 4,
  "nbformat_minor": 0,
  "metadata": {
    "colab": {
      "provenance": [],
      "authorship_tag": "ABX9TyPXVvLFDYQ1F61nJAJjoykz",
      "include_colab_link": true
    },
    "kernelspec": {
      "name": "python3",
      "display_name": "Python 3"
    },
    "language_info": {
      "name": "python"
    }
  },
  "cells": [
    {
      "cell_type": "markdown",
      "metadata": {
        "id": "view-in-github",
        "colab_type": "text"
      },
      "source": [
        "<a href=\"https://colab.research.google.com/github/radhika3131/Deep_Learning_with_Python/blob/main/ch_06_working_with_keras.ipynb\" target=\"_parent\"><img src=\"https://colab.research.google.com/assets/colab-badge.svg\" alt=\"Open In Colab\"/></a>"
      ]
    },
    {
      "cell_type": "markdown",
      "source": [
        "# Different ways to build keras models\n",
        "1. the sequential model - a python list , its limited to simple stack of layers\n",
        "2. Fuctional API - focuses on graph like model architecture.\n",
        "3. Model subclassing - you write everything yourself from scratch , you wo'nt have access to built in features of keras."
      ],
      "metadata": {
        "id": "WcpFdvLy_PK1"
      }
    },
    {
      "cell_type": "markdown",
      "source": [
        ".\n",
        "#The Sequential model\n",
        "simplest way to build keras model is to use sequential model \n",
        "Can only express model which has single input and single output\n",
        "\n",
        "**The Sequential class**"
      ],
      "metadata": {
        "id": "N6FqYXkJ0OpD"
      }
    },
    {
      "cell_type": "code",
      "execution_count": 30,
      "metadata": {
        "id": "uoxRm1Pqz0zc"
      },
      "outputs": [],
      "source": [
        "from tensorflow import keras\n",
        "from tensorflow.keras import layers\n",
        "\n",
        "model = keras.Sequential([\n",
        "    layers.Dense(64, activation=\"relu\"),\n",
        "    layers.Dense(10, activation=\"softmax\")\n",
        "]) \n",
        "# now its possible to build the same model incrementally via add method"
      ]
    },
    {
      "cell_type": "code",
      "source": [
        "model = keras.Sequential()\n",
        "model.add(layers.Dense(64, activation=\"relu\"))\n",
        "model.add(layers.Dense(10, activation=\"softmax\"))"
      ],
      "metadata": {
        "id": "b9uqPRQ30ZXs"
      },
      "execution_count": 31,
      "outputs": []
    },
    {
      "cell_type": "markdown",
      "source": [
        "the shape of the layers weight depends on the shape of their input: until input shape is known , they can'nt be created\n",
        "\n",
        "as tgis sequential model does'nt have any weights so call its **build()** metod with input shape"
      ],
      "metadata": {
        "id": "JQ2Xyvi4Avgr"
      }
    },
    {
      "cell_type": "code",
      "source": [
        "model.build(input_shape=(None, 3))# now we can retrieve model weight ,None in te input signals that the batch size could be anything\n",
        "model.weights"
      ],
      "metadata": {
        "colab": {
          "base_uri": "https://localhost:8080/"
        },
        "id": "aZO9uMIs0cGh",
        "outputId": "1fee8e22-2e31-44d6-f9a9-771e6abeb9fc"
      },
      "execution_count": 3,
      "outputs": [
        {
          "output_type": "execute_result",
          "data": {
            "text/plain": [
              "[<tf.Variable 'dense_2/kernel:0' shape=(3, 64) dtype=float32, numpy=\n",
              " array([[ 0.22053999,  0.02452761,  0.01042542,  0.03700283,  0.10137913,\n",
              "          0.23360002, -0.08297856, -0.16342628, -0.2155478 , -0.26989663,\n",
              "          0.09005886, -0.02632141, -0.16111541,  0.09038141, -0.14482673,\n",
              "         -0.24654989,  0.15123308, -0.0354462 ,  0.2584774 ,  0.19279832,\n",
              "         -0.22547293, -0.23219436, -0.21453437, -0.05823635, -0.2308837 ,\n",
              "         -0.2891267 , -0.02600956, -0.02313641,  0.24754828, -0.0126527 ,\n",
              "          0.28059912, -0.13480291, -0.07915512,  0.10674253,  0.03662312,\n",
              "         -0.29008517,  0.09969077, -0.25425848, -0.28900874,  0.19634286,\n",
              "         -0.07022263, -0.11085607,  0.06558269,  0.1064572 ,  0.22135168,\n",
              "         -0.26023012,  0.21777171, -0.0152204 , -0.04443446, -0.17832598,\n",
              "          0.27663434,  0.16008452, -0.29345232, -0.03273442, -0.29424307,\n",
              "          0.01219884, -0.15314369,  0.24241674, -0.17769991,  0.28639984,\n",
              "         -0.29497525,  0.11367443, -0.08973937,  0.18702087],\n",
              "        [-0.21611208,  0.01368502,  0.01031557,  0.00979978,  0.25091594,\n",
              "         -0.25542215,  0.2267927 ,  0.282032  , -0.2303147 ,  0.16763848,\n",
              "         -0.14236338, -0.20528111,  0.20325321, -0.29225448, -0.18227984,\n",
              "         -0.19461432, -0.11997584, -0.1476752 ,  0.06276891,  0.13382572,\n",
              "          0.10718253, -0.18025756,  0.22618526,  0.23611027, -0.23048252,\n",
              "          0.23263437,  0.2156024 ,  0.21753979,  0.18514866, -0.07747339,\n",
              "          0.12573513,  0.2771644 , -0.10626593,  0.27164334,  0.05252054,\n",
              "         -0.23040147,  0.09043387,  0.28761286, -0.00556761,  0.07634851,\n",
              "         -0.28488216, -0.09570344,  0.2903437 ,  0.09413636,  0.03393492,\n",
              "         -0.22496636,  0.08006102,  0.13202158,  0.10811147, -0.23764795,\n",
              "          0.08394781, -0.25012577,  0.02137661,  0.08919212, -0.09489322,\n",
              "          0.26083106, -0.26771095,  0.14280573, -0.23659429, -0.28190348,\n",
              "          0.03000796,  0.03189471, -0.10030964, -0.22896211],\n",
              "        [ 0.22441131, -0.16518877,  0.2033652 , -0.16243163, -0.27428058,\n",
              "          0.19576252, -0.1189702 ,  0.02060464, -0.01478884,  0.20178258,\n",
              "          0.27497113, -0.01095647, -0.17076036,  0.21331477,  0.23262036,\n",
              "          0.26286763,  0.25738668,  0.16002366,  0.26072222, -0.08393925,\n",
              "          0.118947  ,  0.22406262, -0.042824  ,  0.01875925, -0.06629689,\n",
              "         -0.08873515, -0.09608936, -0.08576724,  0.23178661,  0.29337412,\n",
              "          0.00513309,  0.13519326, -0.03711423,  0.12372023, -0.01792988,\n",
              "          0.25747538,  0.2091611 , -0.19884636,  0.07962173, -0.25696278,\n",
              "          0.2375164 ,  0.2242496 , -0.07547274, -0.2555117 , -0.20103237,\n",
              "          0.24966204, -0.07514696,  0.02403679, -0.07098541,  0.14356852,\n",
              "         -0.11065322,  0.22733039, -0.21379007,  0.21255642, -0.24669245,\n",
              "          0.29511446, -0.15664057,  0.22024351,  0.10414428,  0.08646846,\n",
              "         -0.1565394 ,  0.25570196,  0.05736548,  0.2211268 ]],\n",
              "       dtype=float32)>,\n",
              " <tf.Variable 'dense_2/bias:0' shape=(64,) dtype=float32, numpy=\n",
              " array([0., 0., 0., 0., 0., 0., 0., 0., 0., 0., 0., 0., 0., 0., 0., 0., 0.,\n",
              "        0., 0., 0., 0., 0., 0., 0., 0., 0., 0., 0., 0., 0., 0., 0., 0., 0.,\n",
              "        0., 0., 0., 0., 0., 0., 0., 0., 0., 0., 0., 0., 0., 0., 0., 0., 0.,\n",
              "        0., 0., 0., 0., 0., 0., 0., 0., 0., 0., 0., 0., 0.], dtype=float32)>,\n",
              " <tf.Variable 'dense_3/kernel:0' shape=(64, 10) dtype=float32, numpy=\n",
              " array([[-0.11587435,  0.12534365,  0.14263079,  0.09003428, -0.00233802,\n",
              "          0.09022531,  0.2164056 ,  0.0883522 ,  0.16333038, -0.25127944],\n",
              "        [ 0.2812641 ,  0.14902908, -0.06945845,  0.03308663, -0.14642192,\n",
              "         -0.05339706, -0.20722507,  0.27507672, -0.2814583 , -0.1039474 ],\n",
              "        [ 0.23994377,  0.24648479, -0.07240783,  0.09972021, -0.20345145,\n",
              "         -0.10142966, -0.18696344, -0.2304259 , -0.27001682,  0.1543268 ],\n",
              "        [ 0.20432642,  0.04556605,  0.12853539, -0.18907738,  0.2707391 ,\n",
              "         -0.28028288, -0.04562797,  0.18716168, -0.02590489,  0.12988156],\n",
              "        [ 0.16460982, -0.24778703, -0.22073364,  0.07182765, -0.22546116,\n",
              "         -0.0774262 , -0.07654139,  0.14966404, -0.20957206, -0.06088665],\n",
              "        [-0.0216634 ,  0.15017205,  0.20909798, -0.12396462,  0.23810527,\n",
              "          0.03303957,  0.02005762, -0.04470217, -0.08122295,  0.07264009],\n",
              "        [-0.00242954, -0.2156522 ,  0.09169185, -0.09304862,  0.255847  ,\n",
              "          0.28154102, -0.11069639, -0.25524014,  0.04643911, -0.03337625],\n",
              "        [-0.10080881, -0.15282081,  0.08378318,  0.09667757,  0.15601078,\n",
              "          0.07093003, -0.21645465,  0.20392218,  0.20485473, -0.2739717 ],\n",
              "        [ 0.23263809, -0.16371055,  0.06753793,  0.20548594,  0.2725713 ,\n",
              "          0.20768258, -0.01642475, -0.1554923 , -0.15051848,  0.04187718],\n",
              "        [ 0.03005984,  0.23286578,  0.00497586, -0.14884175,  0.2747005 ,\n",
              "         -0.10617939, -0.13901868, -0.2721347 ,  0.04067403,  0.24469146],\n",
              "        [-0.05448484, -0.22267072,  0.06490567,  0.0376969 , -0.09021005,\n",
              "          0.11121649,  0.24848035, -0.10946576,  0.18208012, -0.05356625],\n",
              "        [-0.25675204, -0.25338915,  0.27940026, -0.04798657,  0.15948534,\n",
              "         -0.08043653,  0.12278789, -0.10979801, -0.06979126,  0.00283906],\n",
              "        [-0.05022202, -0.06138788,  0.20821062,  0.18958035, -0.15561613,\n",
              "          0.27542916, -0.10004289,  0.13200581,  0.25064334, -0.08498272],\n",
              "        [ 0.14601967,  0.01066688, -0.07337268, -0.05893973, -0.07915615,\n",
              "          0.24538204, -0.04210229, -0.28279904,  0.13572368,  0.25841573],\n",
              "        [ 0.27976164,  0.03347006,  0.26998475,  0.14892146,  0.10171148,\n",
              "          0.27923045, -0.2629888 , -0.03079441, -0.19975632, -0.04342647],\n",
              "        [ 0.2759367 , -0.19605915,  0.14428893, -0.08167361,  0.21279529,\n",
              "          0.00633705, -0.14546822, -0.0768065 ,  0.27863058, -0.25649428],\n",
              "        [-0.04050764, -0.1788997 ,  0.12149042, -0.27172783, -0.25358352,\n",
              "          0.20019162, -0.09050971, -0.19511257, -0.10976671,  0.0859462 ],\n",
              "        [ 0.275785  ,  0.0289931 , -0.25432998, -0.12984422,  0.00469536,\n",
              "         -0.2758754 ,  0.12111035, -0.13435885, -0.11573395,  0.03828415],\n",
              "        [ 0.26985475, -0.16940387,  0.2730522 ,  0.24171296, -0.2741271 ,\n",
              "          0.2314811 , -0.19777077,  0.10723853, -0.08905375,  0.21166623],\n",
              "        [-0.01653031,  0.04059726,  0.10208058, -0.11360122,  0.20829603,\n",
              "          0.05210623,  0.00763059, -0.06460255, -0.0860631 ,  0.00427029],\n",
              "        [ 0.22134951, -0.00456983, -0.26416153,  0.17515373, -0.23347953,\n",
              "          0.08871233, -0.03685935,  0.17879489,  0.0719825 ,  0.09147155],\n",
              "        [ 0.06140852, -0.23501024, -0.17961234, -0.21288702, -0.16066253,\n",
              "          0.03221717,  0.20435745, -0.23219413, -0.05709322,  0.11634225],\n",
              "        [ 0.2189388 , -0.1094344 , -0.23367804,  0.04163203, -0.07760787,\n",
              "          0.06113011,  0.21352518, -0.09417585, -0.18862095, -0.19815847],\n",
              "        [ 0.15239805, -0.13876288,  0.14455253, -0.27936786, -0.27864438,\n",
              "         -0.04615507,  0.05971229,  0.0275529 , -0.06846313, -0.18978497],\n",
              "        [ 0.11960784, -0.27038798, -0.2520189 ,  0.14959174, -0.1210403 ,\n",
              "         -0.20564774,  0.1722588 , -0.21770781, -0.06249955,  0.08216369],\n",
              "        [ 0.26949647,  0.26792583,  0.22544864,  0.17344856, -0.10749705,\n",
              "          0.1210399 ,  0.07548171, -0.00790128, -0.09848715,  0.06971237],\n",
              "        [ 0.1659137 ,  0.00591919,  0.20451644,  0.20645052,  0.17561015,\n",
              "         -0.01161692, -0.25234225,  0.08251786, -0.12911211,  0.01902333],\n",
              "        [-0.15665355, -0.07825769,  0.18616846,  0.09193546,  0.02165979,\n",
              "          0.24831817, -0.21064097,  0.09077963, -0.0519405 , -0.12102014],\n",
              "        [-0.00925294,  0.07651743,  0.04355368,  0.17404523,  0.2680572 ,\n",
              "         -0.16665402, -0.13173515,  0.09193057,  0.01192132,  0.08023381],\n",
              "        [-0.19960126, -0.05776721,  0.09967276,  0.2275795 ,  0.24351016,\n",
              "          0.0805341 , -0.16244985,  0.01504999,  0.10425636,  0.06673354],\n",
              "        [ 0.23828688, -0.19603533,  0.15837201,  0.13506407,  0.13403344,\n",
              "          0.08020231, -0.1757504 ,  0.19993785,  0.10172111,  0.08547565],\n",
              "        [ 0.10800296, -0.28467175, -0.27030548,  0.14265862, -0.13459034,\n",
              "         -0.21322781, -0.16542047, -0.26451632, -0.07995343, -0.22681324],\n",
              "        [ 0.06801975, -0.14865649,  0.17702746,  0.10654157, -0.18558115,\n",
              "          0.21899572,  0.17366764,  0.02004594,  0.16712081, -0.12990417],\n",
              "        [-0.02248695,  0.1688306 ,  0.18240625,  0.26164815,  0.06371143,\n",
              "          0.17615333,  0.01509154,  0.19318798,  0.01714727,  0.10868505],\n",
              "        [-0.2794978 , -0.10307699, -0.24973537, -0.02874756,  0.12310767,\n",
              "         -0.1080963 , -0.26256   , -0.08909415,  0.12741482, -0.14247146],\n",
              "        [-0.22256602, -0.05227241, -0.11545263,  0.05013838,  0.00767994,\n",
              "         -0.1251425 ,  0.10507095, -0.14318769, -0.22792913, -0.0419475 ],\n",
              "        [ 0.06491926, -0.09115404,  0.27430096, -0.20884824,  0.14550486,\n",
              "         -0.1344    ,  0.24700299,  0.23801848,  0.01776025, -0.09790236],\n",
              "        [ 0.14380106,  0.22313169, -0.25844154, -0.27541822, -0.08565482,\n",
              "         -0.20227778, -0.04082584,  0.04442993, -0.2240336 ,  0.2776403 ],\n",
              "        [ 0.04807523,  0.18205446, -0.0152643 , -0.0894133 , -0.19304936,\n",
              "          0.06293684,  0.2599791 ,  0.0638932 , -0.21942997,  0.01228595],\n",
              "        [ 0.0924041 ,  0.01360708,  0.27423587, -0.12402967,  0.07173234,\n",
              "          0.10793161,  0.09600043,  0.09563982,  0.12554175,  0.03617692],\n",
              "        [ 0.12257263,  0.27131405, -0.05480108,  0.01133239, -0.00455204,\n",
              "         -0.12258525,  0.07360426, -0.00155744, -0.14748724, -0.22323549],\n",
              "        [-0.12500319,  0.16085094,  0.27619234, -0.21912208, -0.05191688,\n",
              "          0.24621907, -0.00474274, -0.15881059, -0.17631063,  0.24946496],\n",
              "        [ 0.22004578,  0.2699432 ,  0.22314915, -0.0380692 ,  0.02652413,\n",
              "          0.11783722,  0.13256991, -0.22864889, -0.28239742,  0.21951327],\n",
              "        [ 0.23800215,  0.28018335, -0.25356743,  0.12154627,  0.26918164,\n",
              "         -0.20605907,  0.27420405, -0.08241461,  0.19059035,  0.0614754 ],\n",
              "        [-0.27430034,  0.10546416,  0.10361561,  0.22969899,  0.23824325,\n",
              "         -0.05640455, -0.18863434, -0.24517642, -0.10114555,  0.09967533],\n",
              "        [-0.02254957, -0.28059298, -0.12452498,  0.24675837, -0.1621986 ,\n",
              "          0.14140701, -0.19630572, -0.09112458, -0.07567093,  0.1711793 ],\n",
              "        [-0.18011934,  0.23069909, -0.10029653,  0.08803204, -0.04305315,\n",
              "         -0.0937694 , -0.03483015,  0.05554637,  0.05446392, -0.20224628],\n",
              "        [ 0.14534065,  0.21062544, -0.21776268, -0.16530839, -0.08304204,\n",
              "         -0.26804438,  0.13849473,  0.02489811, -0.24475028, -0.09838647],\n",
              "        [ 0.02023914,  0.215749  , -0.06381661, -0.09271698, -0.16851574,\n",
              "         -0.15305841, -0.08559331, -0.21550006, -0.00883636,  0.2258909 ],\n",
              "        [-0.1936979 ,  0.21790686, -0.08904479, -0.18656832,  0.14269224,\n",
              "          0.2522402 , -0.06045026, -0.23754223,  0.02745155,  0.01241672],\n",
              "        [-0.22471038,  0.02294514,  0.20181146,  0.20883593,  0.12390548,\n",
              "          0.18899319, -0.08412188,  0.22151342,  0.16365638, -0.23694304],\n",
              "        [ 0.14098531,  0.157363  , -0.00315446,  0.07107204,  0.27678475,\n",
              "          0.05223379,  0.14467216, -0.02782053,  0.11461812, -0.00954798],\n",
              "        [-0.12078491,  0.10681218, -0.07382916, -0.2580614 ,  0.06563407,\n",
              "         -0.01568353,  0.19693893, -0.02279404, -0.08043326,  0.11667857],\n",
              "        [ 0.00259253,  0.25398937,  0.0265525 ,  0.15728587,  0.08051908,\n",
              "          0.18653023, -0.13043499,  0.11217934,  0.17628124,  0.26227674],\n",
              "        [ 0.28439978, -0.2845639 , -0.2657436 ,  0.07486236,  0.08479515,\n",
              "         -0.1573078 ,  0.01970562, -0.0804994 , -0.20430611, -0.20713452],\n",
              "        [-0.09216994, -0.23138665, -0.03035763, -0.26943386,  0.15899768,\n",
              "          0.10488915,  0.17314896,  0.19141772,  0.02742705,  0.28438577],\n",
              "        [ 0.16704294,  0.28053483, -0.08549467, -0.18140069,  0.01602182,\n",
              "         -0.19600056,  0.15423682,  0.1768792 , -0.23030892,  0.08412194],\n",
              "        [-0.02004865,  0.26376972,  0.00893977,  0.13598827, -0.2680428 ,\n",
              "         -0.02480409,  0.16253993, -0.15470873,  0.14750034,  0.03837252],\n",
              "        [-0.09412418,  0.14726701, -0.00061086, -0.14692959,  0.12464556,\n",
              "         -0.18495962, -0.11009917,  0.25080046,  0.130066  ,  0.04840437],\n",
              "        [ 0.24337575,  0.14377731,  0.07768697,  0.07102501,  0.2551513 ,\n",
              "         -0.00300199, -0.25985432, -0.06997856, -0.21409497,  0.19368461],\n",
              "        [ 0.21997395, -0.04528303, -0.15984142, -0.20346232,  0.25706974,\n",
              "         -0.02575174, -0.24415454, -0.15046689,  0.19854906,  0.00668809],\n",
              "        [ 0.00436032,  0.02991593,  0.0165863 , -0.27069396,  0.22135654,\n",
              "          0.06535444, -0.02265233,  0.11616132,  0.26748487, -0.27772638],\n",
              "        [-0.05277906, -0.2444001 ,  0.09021515,  0.19475493,  0.0513508 ,\n",
              "         -0.07694975,  0.06652349, -0.0006195 , -0.27604082, -0.19562961],\n",
              "        [ 0.046958  , -0.26371115, -0.01798204,  0.15573013, -0.13153079,\n",
              "          0.01134059,  0.19395384,  0.04627576,  0.09416336,  0.20010003]],\n",
              "       dtype=float32)>,\n",
              " <tf.Variable 'dense_3/bias:0' shape=(10,) dtype=float32, numpy=array([0., 0., 0., 0., 0., 0., 0., 0., 0., 0.], dtype=float32)>]"
            ]
          },
          "metadata": {},
          "execution_count": 3
        }
      ]
    },
    {
      "cell_type": "code",
      "source": [
        "model.summary() # for displaying models content"
      ],
      "metadata": {
        "colab": {
          "base_uri": "https://localhost:8080/"
        },
        "id": "qxjp4Cpt0cvC",
        "outputId": "77452d84-2e7b-42ef-b9d6-2fc7043813c3"
      },
      "execution_count": 4,
      "outputs": [
        {
          "output_type": "stream",
          "name": "stdout",
          "text": [
            "Model: \"sequential_1\"\n",
            "_________________________________________________________________\n",
            " Layer (type)                Output Shape              Param #   \n",
            "=================================================================\n",
            " dense_2 (Dense)             (None, 64)                256       \n",
            "                                                                 \n",
            " dense_3 (Dense)             (None, 10)                650       \n",
            "                                                                 \n",
            "=================================================================\n",
            "Total params: 906\n",
            "Trainable params: 906\n",
            "Non-trainable params: 0\n",
            "_________________________________________________________________\n"
          ]
        }
      ]
    },
    {
      "cell_type": "markdown",
      "source": [
        "**Naming models and layers with the name argument**\n",
        "\n",
        "we can give names to everything in Keras - every model , every layer."
      ],
      "metadata": {
        "id": "xzeoM6gDBzbs"
      }
    },
    {
      "cell_type": "code",
      "source": [
        "model = keras.Sequential(name=\"my_example_model\")\n",
        "model.add(layers.Dense(64, activation=\"relu\", name=\"my_first_layer\"))\n",
        "model.add(layers.Dense(10, activation=\"softmax\", name=\"my_last_layer\"))\n",
        "model.build((None, 3))\n",
        "model.summary()"
      ],
      "metadata": {
        "colab": {
          "base_uri": "https://localhost:8080/"
        },
        "id": "KORAKdJB0f_P",
        "outputId": "783c8cb1-774a-4a42-90f9-bf8a42442134"
      },
      "execution_count": 5,
      "outputs": [
        {
          "output_type": "stream",
          "name": "stdout",
          "text": [
            "Model: \"my_example_model\"\n",
            "_________________________________________________________________\n",
            " Layer (type)                Output Shape              Param #   \n",
            "=================================================================\n",
            " my_first_layer (Dense)      (None, 64)                256       \n",
            "                                                                 \n",
            " my_last_layer (Dense)       (None, 10)                650       \n",
            "                                                                 \n",
            "=================================================================\n",
            "Total params: 906\n",
            "Trainable params: 906\n",
            "Non-trainable params: 0\n",
            "_________________________________________________________________\n"
          ]
        }
      ]
    },
    {
      "cell_type": "markdown",
      "source": [
        "When building a Sequential model incrementally , it is useful to be able to print a sumary of what current model looks like after you add each layer . But you you can'nt print a summary until the  model is built. There is a actually a  way to have your sequential built on fly: just declare the shape of the models input in advance"
      ],
      "metadata": {
        "id": "lUVYAKJ4COnL"
      }
    },
    {
      "cell_type": "code",
      "source": [
        "model = keras.Sequential()\n",
        "model.add(keras.Input(shape=(3,)))\n",
        "model.add(layers.Dense(64, activation=\"relu\"))"
      ],
      "metadata": {
        "id": "dWkDIKuj0i5Y"
      },
      "execution_count": 6,
      "outputs": []
    },
    {
      "cell_type": "code",
      "source": [
        "model.summary()\n"
      ],
      "metadata": {
        "colab": {
          "base_uri": "https://localhost:8080/"
        },
        "id": "aaa4aczz0lyW",
        "outputId": "19e23364-c5e9-4785-f9b8-3f7a7c8c406e"
      },
      "execution_count": 7,
      "outputs": [
        {
          "output_type": "stream",
          "name": "stdout",
          "text": [
            "Model: \"sequential_2\"\n",
            "_________________________________________________________________\n",
            " Layer (type)                Output Shape              Param #   \n",
            "=================================================================\n",
            " dense_4 (Dense)             (None, 64)                256       \n",
            "                                                                 \n",
            "=================================================================\n",
            "Total params: 256\n",
            "Trainable params: 256\n",
            "Non-trainable params: 0\n",
            "_________________________________________________________________\n"
          ]
        }
      ]
    },
    {
      "cell_type": "code",
      "source": [
        "model.add(layers.Dense(10, activation=\"softmax\"))\n",
        "model.summary()"
      ],
      "metadata": {
        "colab": {
          "base_uri": "https://localhost:8080/"
        },
        "id": "fWf1uaZHDw9i",
        "outputId": "d1e0b082-f72c-4c27-9775-0bd5687e227f"
      },
      "execution_count": 8,
      "outputs": [
        {
          "output_type": "stream",
          "name": "stdout",
          "text": [
            "Model: \"sequential_2\"\n",
            "_________________________________________________________________\n",
            " Layer (type)                Output Shape              Param #   \n",
            "=================================================================\n",
            " dense_4 (Dense)             (None, 64)                256       \n",
            "                                                                 \n",
            " dense_5 (Dense)             (None, 10)                650       \n",
            "                                                                 \n",
            "=================================================================\n",
            "Total params: 906\n",
            "Trainable params: 906\n",
            "Non-trainable params: 0\n",
            "_________________________________________________________________\n"
          ]
        }
      ]
    },
    {
      "cell_type": "markdown",
      "source": [
        "#The Functional API\n",
        "A simple example\n",
        "\n",
        "**A simple Functional model with two Dense layers**"
      ],
      "metadata": {
        "id": "QWhJxVltsUY8"
      }
    },
    {
      "cell_type": "code",
      "source": [
        "inputs = keras.Input(shape=(3,), name=\"my_input\") # this object holds information about the shape and the type of data model will process called as symbolic tensor\n",
        "features = layers.Dense(64, activation=\"relu\")(inputs) # recreated a layer and called it on the inputs\n",
        "outputs = layers.Dense(10, activation=\"softmax\")(features)\n",
        "model = keras.Model(inputs=inputs, outputs=outputs)"
      ],
      "metadata": {
        "id": "w8wCvtCD01b7"
      },
      "execution_count": 9,
      "outputs": []
    },
    {
      "cell_type": "code",
      "source": [
        "model.summary()"
      ],
      "metadata": {
        "colab": {
          "base_uri": "https://localhost:8080/"
        },
        "id": "eX5lCr6GHNVo",
        "outputId": "2449b77c-14b6-42b0-9de1-db6adc2d2a57"
      },
      "execution_count": 10,
      "outputs": [
        {
          "output_type": "stream",
          "name": "stdout",
          "text": [
            "Model: \"model\"\n",
            "_________________________________________________________________\n",
            " Layer (type)                Output Shape              Param #   \n",
            "=================================================================\n",
            " my_input (InputLayer)       [(None, 3)]               0         \n",
            "                                                                 \n",
            " dense_6 (Dense)             (None, 64)                256       \n",
            "                                                                 \n",
            " dense_7 (Dense)             (None, 10)                650       \n",
            "                                                                 \n",
            "=================================================================\n",
            "Total params: 906\n",
            "Trainable params: 906\n",
            "Non-trainable params: 0\n",
            "_________________________________________________________________\n"
          ]
        }
      ]
    },
    {
      "cell_type": "code",
      "source": [
        "inputs = keras.Input(shape=(3,), name=\"my_input\")\n",
        "inputs.shape\n",
        "inputs.dtype\n",
        "features = layers.Dense(64, activation=\"relu\")(inputs)\n",
        "features.shape\n",
        "outputs = layers.Dense(10, activation=\"softmax\")(features)\n",
        "model = keras.Model(inputs=inputs, outputs=outputs)"
      ],
      "metadata": {
        "id": "dGtHZQ_HsMgo"
      },
      "execution_count": 11,
      "outputs": []
    },
    {
      "cell_type": "code",
      "source": [
        "model.summary()"
      ],
      "metadata": {
        "colab": {
          "base_uri": "https://localhost:8080/"
        },
        "id": "tVNJ_6lpsQuv",
        "outputId": "92fa6f02-0808-42ed-a75a-62e753832364"
      },
      "execution_count": 12,
      "outputs": [
        {
          "output_type": "stream",
          "name": "stdout",
          "text": [
            "Model: \"model_1\"\n",
            "_________________________________________________________________\n",
            " Layer (type)                Output Shape              Param #   \n",
            "=================================================================\n",
            " my_input (InputLayer)       [(None, 3)]               0         \n",
            "                                                                 \n",
            " dense_8 (Dense)             (None, 64)                256       \n",
            "                                                                 \n",
            " dense_9 (Dense)             (None, 10)                650       \n",
            "                                                                 \n",
            "=================================================================\n",
            "Total params: 906\n",
            "Trainable params: 906\n",
            "Non-trainable params: 0\n",
            "_________________________________________________________________\n"
          ]
        }
      ]
    },
    {
      "cell_type": "markdown",
      "source": [
        "#Multi-input, multi-output models\n",
        "**A multi-input, multi-output Functional model**"
      ],
      "metadata": {
        "id": "j_-VSoq4s9cu"
      }
    },
    {
      "cell_type": "code",
      "source": [
        "vocabulary_size = 10000\n",
        "num_tags = 100\n",
        "num_departments = 4\n",
        "\n",
        "title = keras.Input(shape=(vocabulary_size,), name=\"title\")\n",
        "text_body = keras.Input(shape=(vocabulary_size,), name=\"text_body\") # define model input\n",
        "tags = keras.Input(shape=(num_tags,), name=\"tags\")\n",
        "\n",
        "features = layers.Concatenate()([title, text_body, tags]) # combine input features into a single tensor , features by concatenating them\n",
        "features = layers.Dense(64, activation=\"relu\")(features) # apply an intermediate layer to recombne input features into richer representations\n",
        "\n",
        "priority = layers.Dense(1, activation=\"sigmoid\", name=\"priority\")(features)\n",
        "department = layers.Dense(                           # define model output\n",
        "    num_departments, activation=\"softmax\", name=\"department\")(features)\n",
        "\n",
        "model = keras.Model(inputs=[title, text_body, tags], outputs=[priority, department])"
      ],
      "metadata": {
        "id": "CMS3WmNtszps"
      },
      "execution_count": 13,
      "outputs": []
    },
    {
      "cell_type": "markdown",
      "source": [
        "#Training a multi-input, multi-output model\n",
        "\n",
        "You can train your mdle in much the same way as you would train a Sequential model , by calling fit() with list of input and output data .\n",
        "\n",
        "These lists pf data should be in the same order as the inputs  you passedto the model constructor\n",
        "\n",
        "**Training a model by providing lists of input & target arrays**"
      ],
      "metadata": {
        "id": "16_OAhWYPqLU"
      }
    },
    {
      "cell_type": "code",
      "source": [
        "import numpy as np\n",
        "\n",
        "num_samples = 1280\n",
        "\n",
        "title_data = np.random.randint(0, 2, size=(num_samples, vocabulary_size))\n",
        "text_body_data = np.random.randint(0, 2, size=(num_samples, vocabulary_size))\n",
        "tags_data = np.random.randint(0, 2, size=(num_samples, num_tags))\n",
        "\n",
        "priority_data = np.random.random(size=(num_samples, 1))\n",
        "department_data = np.random.randint(0, 2, size=(num_samples, num_departments))\n",
        "\n",
        "model.compile(optimizer=\"rmsprop\",\n",
        "              loss=[\"mean_squared_error\", \"categorical_crossentropy\"],\n",
        "              metrics=[[\"mean_absolute_error\"], [\"accuracy\"]])\n",
        "model.fit([title_data, text_body_data, tags_data],\n",
        "          [priority_data, department_data],\n",
        "          epochs=1)\n",
        "model.evaluate([title_data, text_body_data, tags_data],\n",
        "               [priority_data, department_data])\n",
        "priority_preds, department_preds = model.predict([title_data, text_body_data, tags_data])"
      ],
      "metadata": {
        "id": "aTprxN_MtBbm",
        "colab": {
          "base_uri": "https://localhost:8080/"
        },
        "outputId": "d38f1f81-dcbd-45ab-8453-e0bf9ceb0727"
      },
      "execution_count": 14,
      "outputs": [
        {
          "output_type": "stream",
          "name": "stdout",
          "text": [
            "40/40 [==============================] - 2s 19ms/step - loss: 40.7980 - priority_loss: 0.3272 - department_loss: 40.4708 - priority_mean_absolute_error: 0.4973 - department_accuracy: 0.2281\n",
            "40/40 [==============================] - 1s 11ms/step - loss: 34.9638 - priority_loss: 0.3346 - department_loss: 34.6293 - priority_mean_absolute_error: 0.5045 - department_accuracy: 0.2578\n",
            "40/40 [==============================] - 1s 10ms/step\n"
          ]
        }
      ]
    },
    {
      "cell_type": "markdown",
      "source": [
        "If you don't want to rely on input order (becz have to many inputs and outputs )\n",
        ", you can also leverage the names you gave to the Input object and the output layers . and pass the data via dictionaries"
      ],
      "metadata": {
        "id": "2m0UubmTNGR_"
      }
    },
    {
      "cell_type": "markdown",
      "source": [
        "**training a model by providing dicts of inputs and target arrays**"
      ],
      "metadata": {
        "id": "mpQWuTOgNik7"
      }
    },
    {
      "cell_type": "code",
      "source": [
        "model.compile(optimizer = \"rmsprop\",\n",
        "              loss = { \"priority\" : \"mean_squared_error\" , \"department\" : \"categorical_crossentropy\"},\n",
        "              metrics = {\"priority\" : [\"mean_absolute_error\"] , \"department\" : [\"accuracy\"]}\n",
        "              )\n",
        "\n",
        "model.fit({\"title\" : title_data , \"text_body\" : text_body_data,\n",
        "           \"tags\" : tags_data},\n",
        "          {\"priority\" : priority_data , \"department\" : department_data  },epochs = 1)\n",
        "\n",
        "model.evaluate( {\"title\" : title_data , \"text_body\" : text_body_data,\n",
        "           \"tags\" : tags_data},\n",
        "          {\"priority\" : priority_data , \"department\" : department_data   })\n",
        "\n",
        "priority_preds , department_preds = model.predict(\n",
        "              {\"title\":  title_data , \"text_body\" : text_body_data ,\"tags\" : tags_data }        )\n",
        "    "
      ],
      "metadata": {
        "colab": {
          "base_uri": "https://localhost:8080/"
        },
        "id": "D4jEufiGNwZb",
        "outputId": "bf621c93-4556-462d-c2af-cd7e7c924228"
      },
      "execution_count": 15,
      "outputs": [
        {
          "output_type": "stream",
          "name": "stdout",
          "text": [
            "40/40 [==============================] - 2s 22ms/step - loss: 25.0477 - priority_loss: 0.3346 - department_loss: 24.7131 - priority_mean_absolute_error: 0.5045 - department_accuracy: 0.2305\n",
            "40/40 [==============================] - 1s 11ms/step - loss: 20.1805 - priority_loss: 0.3346 - department_loss: 19.8459 - priority_mean_absolute_error: 0.5045 - department_accuracy: 0.2570\n",
            "40/40 [==============================] - 0s 10ms/step\n"
          ]
        }
      ]
    },
    {
      "cell_type": "markdown",
      "source": [
        "**The power of the Functional API: Access to layer connectivity**\n",
        "\n",
        "A functional model is an explicit graph data structure. Ths makes t possible to inspect how layers are connected and reuse previous graph nodes .This enables us two important use cases: \n",
        "1. model visalization\n",
        "2. feature extraction\n",
        "\n",
        "*You can plot functionLmodel as graph with the plot_model() utility"
      ],
      "metadata": {
        "id": "ewV6tp84bkuo"
      }
    },
    {
      "cell_type": "code",
      "source": [
        "keras.utils.plot_model(model, \"ticket_classifier.png\")\n"
      ],
      "metadata": {
        "id": "C-g7zHtobj7d",
        "colab": {
          "base_uri": "https://localhost:8080/",
          "height": 369
        },
        "outputId": "d48d63d6-b45b-4a7e-9c6b-d3fe4090ea46"
      },
      "execution_count": 16,
      "outputs": [
        {
          "output_type": "execute_result",
          "data": {
            "image/png": "[encoded data removed]",
            "text/plain": [
              "<IPython.core.display.Image object>"
            ]
          },
          "metadata": {},
          "execution_count": 16
        }
      ]
    },
    {
      "cell_type": "markdown",
      "source": [
        " you can add to this plot the input and output shapes of eah layer"
      ],
      "metadata": {
        "id": "e6c7mut5i0vL"
      }
    },
    {
      "cell_type": "code",
      "source": [
        "keras.utils.plot_model(model, \"ticket_classifier_with_shape_info.png\", show_shapes=True)"
      ],
      "metadata": {
        "colab": {
          "base_uri": "https://localhost:8080/",
          "height": 422
        },
        "id": "Z5B-AFmNemeR",
        "outputId": "96852e92-fb6c-432c-dd3a-1cf19326107e"
      },
      "execution_count": 17,
      "outputs": [
        {
          "output_type": "execute_result",
          "data": {
            "image/png": "[encoded data removed]",
            "text/plain": [
              "<IPython.core.display.Image object>"
            ]
          },
          "metadata": {},
          "execution_count": 17
        }
      ]
    },
    {
      "cell_type": "markdown",
      "source": [
        "**Retrieving the inputs or outputs of a layer in a Functional model**\n",
        "\n",
        "Access to layer connectivity also means that youcan inspect and reuse individual nodes in the graph . The **model.layers** model property provides the list of layers that make up the model , and for each layer you can query layer.input and layer.output"
      ],
      "metadata": {
        "id": "Rf0y2FOwGhAr"
      }
    },
    {
      "cell_type": "code",
      "source": [
        "model.layers\n"
      ],
      "metadata": {
        "id": "wtoZT020baNB",
        "colab": {
          "base_uri": "https://localhost:8080/"
        },
        "outputId": "1b334412-1192-4f61-cb42-65889b2d326d"
      },
      "execution_count": 18,
      "outputs": [
        {
          "output_type": "execute_result",
          "data": {
            "text/plain": [
              "[<keras.engine.input_layer.InputLayer at 0x7fc44c9f22f0>,\n",
              " <keras.engine.input_layer.InputLayer at 0x7fc44c9f0e20>,\n",
              " <keras.engine.input_layer.InputLayer at 0x7fc44c9f0c40>,\n",
              " <keras.layers.merging.concatenate.Concatenate at 0x7fc44c9f3580>,\n",
              " <keras.layers.core.dense.Dense at 0x7fc44c9f2710>,\n",
              " <keras.layers.core.dense.Dense at 0x7fc44c9f3b50>,\n",
              " <keras.layers.core.dense.Dense at 0x7fc44c9f3b80>]"
            ]
          },
          "metadata": {},
          "execution_count": 18
        }
      ]
    },
    {
      "cell_type": "code",
      "source": [
        "model.layers[3].input\n",
        "model.layers[3].output"
      ],
      "metadata": {
        "colab": {
          "base_uri": "https://localhost:8080/"
        },
        "id": "u5JpxOX6kE58",
        "outputId": "4f649de5-a81f-4143-c5af-b42b16bc131d"
      },
      "execution_count": 19,
      "outputs": [
        {
          "output_type": "execute_result",
          "data": {
            "text/plain": [
              "<KerasTensor: shape=(None, 20100) dtype=float32 (created by layer 'concatenate')>"
            ]
          },
          "metadata": {},
          "execution_count": 19
        }
      ]
    },
    {
      "cell_type": "markdown",
      "source": [
        "This enables us to do **feature extraction** creating model that reuse the intermediate features from another model "
      ],
      "metadata": {
        "id": "vYUHHyfZlAws"
      }
    },
    {
      "cell_type": "markdown",
      "source": [
        "Lets say you want to add another output to the previous model , you want to estimate how long a given issue ticket will take to resolve . You don'y neend to recreate or retrain a model from scratch . You can start from intermediate features from previous model"
      ],
      "metadata": {
        "id": "e6NtQALtlgES"
      }
    },
    {
      "cell_type": "markdown",
      "source": [
        "**Creating a new model by reusing intermediate layers output**"
      ],
      "metadata": {
        "id": "zhcZTtmIlRvP"
      }
    },
    {
      "cell_type": "code",
      "source": [
        "features = model.layers[4].output # layer[4] is our intermediate dense layer\n",
        "difficulty = layers.Dense(3, activation=\"softmax\", name=\"difficulty\")(features)\n",
        "\n",
        "new_model = keras.Model(\n",
        "    inputs=[title, text_body, tags],\n",
        "    outputs=[priority, department, difficulty])\n",
        "keras.utils.plot_model(new_model, \"updated_ticket_classifier.png\", show_shapes=True)"
      ],
      "metadata": {
        "id": "7bGWgLLE8mNJ",
        "colab": {
          "base_uri": "https://localhost:8080/",
          "height": 422
        },
        "outputId": "9082f8ea-051c-42e0-88fd-4262daf119a0"
      },
      "execution_count": 20,
      "outputs": [
        {
          "output_type": "execute_result",
          "data": {
            "image/png": "[encoded data removed]",
            "text/plain": [
              "<IPython.core.display.Image object>"
            ]
          },
          "metadata": {},
          "execution_count": 20
        }
      ]
    },
    {
      "cell_type": "markdown",
      "source": [
        "# Subclassing the Model class\n",
        "\n",
        "In the init() method, define the layers the model will use \n",
        "\n",
        "In the call () method, define the forward pass of the model, reusing the laves\n",
        "\n",
        "previously created.\n",
        "\n",
        " Instantiate your subclass, and call it on data to create its weights."
      ],
      "metadata": {
        "id": "JX0KqDbnlqML"
      }
    },
    {
      "cell_type": "markdown",
      "source": [
        "**a simple subclassed model**"
      ],
      "metadata": {
        "id": "S1hEzXGRl7Rd"
      }
    },
    {
      "cell_type": "code",
      "source": [
        "class CustomerTicketModel(keras.Model):\n",
        "\n",
        "    def __init__(self, num_departments):\n",
        "        super().__init__() # do'nt forget to call the super constructor\n",
        "        self.concat_layer = layers.Concatenate()\n",
        "        self.mixing_layer = layers.Dense(64, activation=\"relu\")    # define sublayers in the constructor\n",
        "        self.priority_scorer = layers.Dense(1, activation=\"sigmoid\")\n",
        "        self.department_classifier = layers.Dense(num_departments, activation=\"softmax\")\n",
        "\n",
        "    def call(self, inputs):  # define the forward pass in the call()\n",
        "        title = inputs[\"title\"]\n",
        "        text_body = inputs[\"text_body\"]\n",
        "        tags = inputs[\"tags\"]\n",
        "\n",
        "        features = self.concat_layer([title, text_body, tags])\n",
        "        features = self.mixing_layer(features)\n",
        "        priority = self.priority_scorer(features)\n",
        "        department = self.department_classifier(features)\n",
        "        return priority, department"
      ],
      "metadata": {
        "id": "5uhGGd8qKXlv"
      },
      "execution_count": 24,
      "outputs": []
    },
    {
      "cell_type": "markdown",
      "source": [
        "Once yu have created the model now you can instantiate it . Note that it will only create its weight the first time you call it on some data"
      ],
      "metadata": {
        "id": "CCxxPoAzpM-S"
      }
    },
    {
      "cell_type": "code",
      "source": [
        "model = CustomerTicketModel(num_departments=4)"
      ],
      "metadata": {
        "id": "9IH2JaE4ObPZ"
      },
      "execution_count": 26,
      "outputs": []
    },
    {
      "cell_type": "code",
      "source": [
        "priority, department = model(\n",
        "    {\"title\": title_data, \"text_body\": text_body_data, \"tags\": tags_data})"
      ],
      "metadata": {
        "id": "AEr4jX0-pW5U"
      },
      "execution_count": 27,
      "outputs": []
    },
    {
      "cell_type": "markdown",
      "source": [
        "the difference between a Layer subclass and a Model sub- class? It's simple: a \"layer\" is a building block you use to create models, and a \"model\" is the top-level object that you will actually train, export for inference, etc. In short, a Model has fit (), evaluate(), and predict() methods. Layers don't. Other than that, the two classes are virtually identical. (Another difference is that you can save a model to a file on disk."
      ],
      "metadata": {
        "id": "VauRAEOUqCMi"
      }
    },
    {
      "cell_type": "markdown",
      "source": [
        "You can compile and train a model subclass just like a sequnetial or functional API"
      ],
      "metadata": {
        "id": "CLdr0judqKLl"
      }
    },
    {
      "cell_type": "code",
      "source": [
        "model.compile(optimizer = \"rmsprop\",\n",
        "              loss = [ \"mean_squared_error\" ,  \"categorical_crossentropy\"],  # the structure of what you pass as loss and metrics arguments  must match exactly what is returned by the call() method , here a list of two elements\n",
        "              metrics = [[\"mean_absolute_error\"] ,  [\"accuracy\"]]\n",
        "              )\n",
        "\n",
        "model.fit({\"title\" : title_data ,   # the structure of the input data must match exactly what is returned by the call() method , here a dict with keys title , text_body , and tags\n",
        "           \"text_body\" : text_body_data,\n",
        "           \"tags\" : tags_data},\n",
        "          [priority_data ,  department_data  ],epochs = 1)  # the structure of the target data must match exactly what is returned by the call() method , here a list of two elements\n",
        "\n",
        "model.evaluate( {\"title\" : title_data , \n",
        "                 \"text_body\" : text_body_data,\n",
        "                 \"tags\" : tags_data},\n",
        "          [priority_data , department_data   ])\n",
        "\n",
        "priority_preds , department_preds = model.predict(\n",
        "              {\"title\":  title_data , \n",
        "               \"text_body\" : text_body_data ,\n",
        "               \"tags\" : tags_data }   )"
      ],
      "metadata": {
        "colab": {
          "base_uri": "https://localhost:8080/"
        },
        "id": "6UDSorV6qGhS",
        "outputId": "6d668d33-5ea6-452a-ae5a-14fc418545d4"
      },
      "execution_count": 29,
      "outputs": [
        {
          "output_type": "stream",
          "name": "stdout",
          "text": [
            "40/40 [==============================] - 2s 24ms/step - loss: 31.0892 - output_1_loss: 0.3191 - output_2_loss: 30.7701 - output_1_mean_absolute_error: 0.4894 - output_2_accuracy: 0.2820\n",
            "40/40 [==============================] - 1s 12ms/step - loss: 55.2898 - output_1_loss: 0.3255 - output_2_loss: 54.9642 - output_1_mean_absolute_error: 0.4955 - output_2_accuracy: 0.5680\n",
            "40/40 [==============================] - 1s 14ms/step\n"
          ]
        }
      ]
    },
    {
      "cell_type": "markdown",
      "source": [
        "A Functional model is an explicit data structure-a graph of layers, which you can view, inspect,and modify .a subclassed model is a piece of bytecode --a python class with call() method that contains raw code. This is the source of the subclassing workflow's flexibil- ity you can code up whatever functionality you like-but it introduces new limitations.\n",
        "For instance, because the way layers are connected to each other is hidden inside the body of the call() method, you cannot access that information. Calling sum- mary() will not display layer connectivity, and you cannot plot the model topology via plot_model"
      ],
      "metadata": {
        "id": "Z_D5X5BtwsC4"
      }
    },
    {
      "cell_type": "markdown",
      "source": [
        "#Mixing matching different components"
      ],
      "metadata": {
        "id": "4oTlCay0xDBF"
      }
    },
    {
      "cell_type": "markdown",
      "source": [
        "**creating a Functional model that includes a subclassed model**"
      ],
      "metadata": {
        "id": "28P8gYz8xOYX"
      }
    },
    {
      "cell_type": "code",
      "source": [
        "class Classifier(keras.Model):\n",
        "\n",
        "  def __init___(self , num_classes = 2):\n",
        "    super().__init__()\n",
        "    if num_classes == 2 :\n",
        "      num_units = 1\n",
        "      activation = \"sigmoid\"\n",
        "    else:\n",
        "      num_units = num_classes\n",
        "      activation = \"softmax\"\n",
        "    self.dense = layers.Dense(num_units , activation = activation)\n",
        "\n",
        "def call(self , inputs):\n",
        "  return self.dense(inputs)\n",
        "\n",
        "  inputs = keras.input(shape = (3,))\n",
        "  features = layers.Dense(64 , activation = \"relu\")(inputs)\n",
        "  outputs = Classifier(num_classes = 10 )(features)\n",
        "  model = keras.model(input = inputs , output = outputs)\n"
      ],
      "metadata": {
        "id": "_5D_5ttjxAsP"
      },
      "execution_count": 34,
      "outputs": []
    },
    {
      "cell_type": "code",
      "source": [],
      "metadata": {
        "id": "vy_KTO9L0HU4"
      },
      "execution_count": null,
      "outputs": []
    }
  ]
}