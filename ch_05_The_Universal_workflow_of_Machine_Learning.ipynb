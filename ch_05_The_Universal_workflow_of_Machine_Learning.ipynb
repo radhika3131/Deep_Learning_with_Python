{
  "nbformat": 4,
  "nbformat_minor": 0,
  "metadata": {
    "colab": {
      "provenance": [],
      "authorship_tag": "ABX9TyORDty6u9TpfDKBI0gMZhjd",
      "include_colab_link": true
    },
    "kernelspec": {
      "name": "python3",
      "display_name": "Python 3"
    },
    "language_info": {
      "name": "python"
    }
  },
  "cells": [
    {
      "cell_type": "markdown",
      "metadata": {
        "id": "view-in-github",
        "colab_type": "text"
      },
      "source": [
        "<a href=\"https://colab.research.google.com/github/radhika3131/Deep_Learning_with_Python/blob/main/ch_05_The_Universal_workflow_of_Machine_Learning.ipynb\" target=\"_parent\"><img src=\"https://colab.research.google.com/assets/colab-badge.svg\" alt=\"Open In Colab\"/></a>"
      ]
    },
    {
      "cell_type": "markdown",
      "source": [
        "# The universal workflow of machine learning is broadly structured in three parts:\n",
        "\n",
        "**Define the task**-Understand the problem domain and the business logic under- lying what the customer asked for. Collect a dataset, understand what the data represents, and choose how you will measure success on the task.\n",
        "\n",
        "**Develop a model**-Prepare your data so that it can be processed by a machine learning model, select a model evaluation protocol and a simple baseline to beat, train a first model that has generalization power and that can overfit, and then regularize and tune your model until you achieve the best possible gener alization performance,\n",
        "\n",
        "**Deploy the model**-Present your work to stakeholders, ship the model to a web server, a mobile app, a web page, or an embedded device, monitor the model's\n",
        "performance in the wild , and start collecting the data you will neend to build the next generation model"
      ],
      "metadata": {
        "id": "0Asawk9CEZ99"
      }
    },
    {
      "cell_type": "code",
      "source": [],
      "metadata": {
        "id": "5hNXiXW2E0Ho"
      },
      "execution_count": null,
      "outputs": []
    }
  ]
}