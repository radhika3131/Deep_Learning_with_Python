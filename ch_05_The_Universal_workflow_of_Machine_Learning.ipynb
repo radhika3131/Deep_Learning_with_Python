{
  "nbformat": 4,
  "nbformat_minor": 0,
  "metadata": {
    "colab": {
      "provenance": [],
      "authorship_tag": "ABX9TyPT2aSz7VxBGIMrstAfsoR9",
      "include_colab_link": true
    },
    "kernelspec": {
      "name": "python3",
      "display_name": "Python 3"
    },
    "language_info": {
      "name": "python"
    }
  },
  "cells": [
    {
      "cell_type": "markdown",
      "metadata": {
        "id": "view-in-github",
        "colab_type": "text"
      },
      "source": [
        "<a href=\"https://colab.research.google.com/github/radhika3131/Deep_Learning_with_Python/blob/main/ch_05_The_Universal_workflow_of_Machine_Learning.ipynb\" target=\"_parent\"><img src=\"https://colab.research.google.com/assets/colab-badge.svg\" alt=\"Open In Colab\"/></a>"
      ]
    },
    {
      "cell_type": "markdown",
      "source": [
        "# The universal workflow of machine learning is broadly structured in three parts:\n",
        "\n",
        "**Define the task**-Understand the problem domain and the business logic under- lying what the customer asked for. Collect a dataset, understand what the data represents, and choose how you will measure success on the task.\n",
        "\n",
        "**Develop a model**-Prepare your data so that it can be processed by a machine learning model, select a model evaluation protocol and a simple baseline to beat, train a first model that has generalization power and that can overfit, and then regularize and tune your model until you achieve the best possible gener alization performance,\n",
        "\n",
        "**Deploy the model**-Present your work to stakeholders, ship the model to a web server, a mobile app, a web page, or an embedded device, monitor the model's\n",
        "performance in the wild , and start collecting the data you will neend to build the next generation model"
      ],
      "metadata": {
        "id": "0Asawk9CEZ99"
      }
    },
    {
      "cell_type": "markdown",
      "source": [
        "**Define the task**\n",
        "\n",
        "You can't do good work without a deep understanding of the context of what you're doing. Why is your customer trying to solve this particular problem? What value will they derive from the solution-how will your model be used, and how will it fit into your customer's business processes? What kind of data is available, or could be col- lected? What kind of machine learning task can be mapped to the business problem\n",
        "\n",
        "**Frame the problem**\n",
        "\n",
        "Framing a machine learning problem usually involves many detailed discussions with stakeholders. Here are the questions that should be on the top of y your mind:\n",
        "\n",
        "What will your input data be? What are you trying to predict? You can only learn to predict something if you have training data available: for example, you can only learn to classify the sentiment of movie reviews if you have both movie reviews and sentiment annotations available. As such, data availability is usually the limiting factor at this stage. In many cases, you will have to resort to collecting and annotating new datasets yourself (which we'll cover\n",
        "\n",
        "in the next section). What type of machine learning task are you facing? Is it binary classification? Multiclass classification? Scalar regression? Vector regression? Multiclass, multi- label classification? Image segmentation? Ranking? Something else, like cluster- ing, generation, or reinforcement learning? In some cases, it may be that machine learning isn't even the best way to make sense of the data, and you should use something else, such as plain old-school statistical analysis.\n",
        "\n",
        "The photo search engine project is a multiclass, multilabel classification task. detection project is a binary classification task. If you set \"offensive\n",
        "\n",
        "The\n",
        "\n",
        "spam content\" as a separate class, it's a three-way classification task. - The music recommendation engine turns out to be better handled not via deep learning, but via matrix factorization (collaborative filtering).\n",
        "\n",
        "The credit card fraud detection project is a binary classification task.\n",
        "\n",
        "Once you've done your research, you should know what your inputs will be, what your targets will be, and what broad type of machine learning task the problem maps to aware of the hypotheses you're making at this stage:\n",
        "\n",
        "You hypothesize that your targets can be predicted given your inputs. You hypothesize that the data that's available (or that you will soon collect) is\n",
        "sufficiently informative to learn the relationship between inputs and targets."
      ],
      "metadata": {
        "id": "G0tMzUCXGbp-"
      }
    },
    {
      "cell_type": "code",
      "source": [],
      "metadata": {
        "id": "5hNXiXW2E0Ho"
      },
      "execution_count": null,
      "outputs": []
    }
  ]
}